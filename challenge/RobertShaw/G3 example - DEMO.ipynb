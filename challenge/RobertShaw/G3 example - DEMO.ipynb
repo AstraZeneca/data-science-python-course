{
 "cells": [
  {
   "cell_type": "code",
   "execution_count": 38,
   "metadata": {},
   "outputs": [],
   "source": [
    "import sys\n",
    "import os\n",
    "import math\n",
    "import random\n",
    "\n",
    "import pandas as pd\n",
    "import numpy as np\n",
    "#import plotnine as p9"
   ]
  },
  {
   "cell_type": "markdown",
   "metadata": {},
   "source": [
    "Specify path and file name of file containing list of file names with metadata:"
   ]
  },
  {
   "cell_type": "code",
   "execution_count": 41,
   "metadata": {},
   "outputs": [],
   "source": [
    "filenames_path = r\"C:\\Users\\m229246\\OneDrive - AZCollaboration\\Documents\\!Other Data\\!2015 - Pharm Dev\\!Work Items\\Brilinta Particle Size\\Data\\!TEXT FILES - RAW DATA/\"\n",
    "#file_path = r\"C:\\Users\\m229246\\OneDrive - AZCollaboration\\Documents\\!Other Data\\!2015 - Pharm Dev\\!Work Items\\Brilinta Particle Size\\Data\\!TEXT FILES - RAW DATA/\"\n",
    "                                         \n",
    "filenames_name = \"Raw data & meta data.xlsx\"\n",
    "df_names = pd.read_excel(filenames_path + filenames_name,sheet_name='Data for Python DEMO')\n",
    "#print(df_names)\n"
   ]
  },
  {
   "cell_type": "code",
   "execution_count": 42,
   "metadata": {},
   "outputs": [],
   "source": [
    "#print(df_names)"
   ]
  },
  {
   "cell_type": "markdown",
   "metadata": {},
   "source": [
    "# Create one stacked file combining all individual files"
   ]
  },
  {
   "cell_type": "code",
   "execution_count": 43,
   "metadata": {},
   "outputs": [
    {
     "name": "stdout",
     "output_type": "stream",
     "text": [
      "C:\\Users\\m229246\\OneDrive - AZCollaboration\\Documents\\!Other Data\\!2015 - Pharm Dev\\!Work Items\\Brilinta Particle Size\\Data\\!TEXT FILES - RAW DATA\\Bril04.txt\n",
      "C:\\Users\\m229246\\OneDrive - AZCollaboration\\Documents\\!Other Data\\!2015 - Pharm Dev\\!Work Items\\Brilinta Particle Size\\Data\\!TEXT FILES - RAW DATA\\Bril06.txt\n",
      "C:\\Users\\m229246\\OneDrive - AZCollaboration\\Documents\\!Other Data\\!2015 - Pharm Dev\\!Work Items\\Brilinta Particle Size\\Data\\!TEXT FILES - RAW DATA\\Bril07.txt\n"
     ]
    }
   ],
   "source": [
    "# See list of the file names:\n",
    "for i, j in df_names.iterrows():\n",
    "    file_name = j['Filename']\n",
    "    #print(j)\n",
    "    print(file_name)"
   ]
  },
  {
   "cell_type": "code",
   "execution_count": 44,
   "metadata": {},
   "outputs": [],
   "source": [
    "# Loop through the rows of file \"df_names\":\n",
    "for i, j in df_names.iterrows():\n",
    "    file_name = j['Filename']\n",
    "    \n",
    "    # Create a list \"Skip\" specifying random rows to omit leaving a sample size of 5000:\n",
    "    n = sum(1 for line in open(file_name)) - 1     #number of records in file (excludes header)\n",
    "    s = 5000 #desired sample size\n",
    "    skip = sorted(random.sample(range(1,n+1),n-s)) #the 0-indexed header will not be included in the skip list\n",
    "    \n",
    "    # Read each file skipping the random rows and creating a new variable \"Batch\":\n",
    "    df = pd.read_csv(file_name,sep='\\t', encoding='latin1', skiprows=skip)\n",
    "    df['Batch'] = j['Batch']\n",
    "\n",
    "    # Stack the current file to the last created ones:\n",
    "    if (i==0):\n",
    "        appended_data = pd.concat([df], ignore_index=True)\n",
    "    else:\n",
    "        appended_data = pd.concat([appended_data,df], ignore_index=True)"
   ]
  },
  {
   "cell_type": "code",
   "execution_count": 45,
   "metadata": {},
   "outputs": [],
   "source": [
    "df = appended_data"
   ]
  },
  {
   "cell_type": "code",
   "execution_count": 46,
   "metadata": {},
   "outputs": [
    {
     "name": "stdout",
     "output_type": "stream",
     "text": [
      "           Id  Magnification  ^CE Diameter (µm)  Length (µm)  Width (µm)  \\\n",
      "0       32184            5.0             150.79      1154.51      169.54   \n",
      "1       55809            5.0              63.93       150.16       36.30   \n",
      "2       49322            5.0              54.86       138.11       91.87   \n",
      "3       12455            5.0              54.06       178.40       50.11   \n",
      "4       71749            5.0              53.34       126.59       56.01   \n",
      "...       ...            ...                ...          ...         ...   \n",
      "14995   17301            5.0               2.17         3.44        1.79   \n",
      "14996  130434            5.0               2.17         2.92        1.92   \n",
      "14997   34101            5.0               2.17         3.44        1.79   \n",
      "14998   77092            5.0               2.17         3.23        2.00   \n",
      "14999   31586            5.0               2.17         3.13        1.96   \n",
      "\n",
      "       Max. Distance (µm)  Perimeter (µm)  Major Axis (°)  Area (µm²)  \\\n",
      "0                 1154.63         2701.63           99.40    17857.85   \n",
      "1                  150.18          358.99           69.24     3209.69   \n",
      "2                  141.38          512.99           64.97     2363.62   \n",
      "3                  178.71          484.41          108.09     2295.49   \n",
      "4                  126.83          411.51          164.96     2234.42   \n",
      "...                   ...             ...             ...         ...   \n",
      "14995                3.50            6.02            7.31        3.68   \n",
      "14996                2.98            5.29           99.99        3.68   \n",
      "14997                3.50            6.07           82.69        3.68   \n",
      "14998                3.23            5.76          121.72        3.68   \n",
      "14999                3.13            5.29           45.00        3.68   \n",
      "\n",
      "       SE Volume (µm³)  ...  Frame Column  Frame Index  \\\n",
      "0           1795178.38  ...             6          533   \n",
      "1            136791.50  ...            11          928   \n",
      "2             86442.87  ...            10          831   \n",
      "3             82732.53  ...             2          205   \n",
      "4             79453.02  ...            15         1216   \n",
      "...                ...  ...           ...          ...   \n",
      "14995             5.31  ...             2          159   \n",
      "14996             5.31  ...            14         1120   \n",
      "14997             5.31  ...             3          292   \n",
      "14998             5.31  ...             8          675   \n",
      "14999             5.31  ...             3          273   \n",
      "\n",
      "       Edge stitched particle  Scaling Factor  Fiber Total Length (µm)  \\\n",
      "0                           1               1                     -1.0   \n",
      "1                           0               1                     -1.0   \n",
      "2                           0               1                     -1.0   \n",
      "3                           0               1                     -1.0   \n",
      "4                           0               1                     -1.0   \n",
      "...                       ...             ...                      ...   \n",
      "14995                       0               1                     -1.0   \n",
      "14996                       0               1                     -1.0   \n",
      "14997                       0               1                     -1.0   \n",
      "14998                       0               1                     -1.0   \n",
      "14999                       0               1                     -1.0   \n",
      "\n",
      "       Fiber Width (µm)  Fiber Elongation  Fiber Straightness  \\\n",
      "0                  -1.0              -1.0                -1.0   \n",
      "1                  -1.0              -1.0                -1.0   \n",
      "2                  -1.0              -1.0                -1.0   \n",
      "3                  -1.0              -1.0                -1.0   \n",
      "4                  -1.0              -1.0                -1.0   \n",
      "...                 ...               ...                 ...   \n",
      "14995              -1.0              -1.0                -1.0   \n",
      "14996              -1.0              -1.0                -1.0   \n",
      "14997              -1.0              -1.0                -1.0   \n",
      "14998              -1.0              -1.0                -1.0   \n",
      "14999              -1.0              -1.0                -1.0   \n",
      "\n",
      "       Scan Area Correction  Batch  \n",
      "0                       1.0    B04  \n",
      "1                       1.0    B04  \n",
      "2                       1.0    B04  \n",
      "3                       1.0    B04  \n",
      "4                       1.0    B04  \n",
      "...                     ...    ...  \n",
      "14995                   1.0    B07  \n",
      "14996                   1.0    B07  \n",
      "14997                   1.0    B07  \n",
      "14998                   1.0    B07  \n",
      "14999                   1.0    B07  \n",
      "\n",
      "[15000 rows x 32 columns]\n"
     ]
    }
   ],
   "source": [
    "print(df)"
   ]
  },
  {
   "cell_type": "code",
   "execution_count": 31,
   "metadata": {},
   "outputs": [],
   "source": [
    "#df.to_excel(filenames_path + 'df_test_all.xlsx')"
   ]
  },
  {
   "cell_type": "markdown",
   "metadata": {},
   "source": [
    "# Summarise the data by binning"
   ]
  },
  {
   "cell_type": "code",
   "execution_count": 32,
   "metadata": {},
   "outputs": [],
   "source": [
    "# Create a new variable which is log cylinder volume:\n",
    "df[\"cyl_vol\"]=math.pi*df[\"Length (µm)\"]*(df[\"Width (µm)\"]/2)**2\n",
    "df[\"log_cyl_vol\"]=np.log10(df[\"cyl_vol\"])\n",
    "\n",
    "# Create new variable \"bin centres\":\n",
    "df[\"bins\"] = pd.cut(df['log_cyl_vol'], bins=np.linspace(0, 10, 41))\n",
    "df[\"bin_centres\"] = df[\"bins\"].apply(lambda x: x.mid)\n",
    "\n",
    "# Create a df with medians by bin:\n",
    "df_summ = df.groupby(['Batch','bin_centres'])[[\"Circularity\",\"HS Circularity\",\"Convexity\",\"Solidity\",\"Aspect Ratio\",\"Elongation\",\"Intensity Mean\",\"Intensity SD\"]].median()\n",
    "df_summ = df_summ.reset_index()\n",
    "df_summ = df_summ.dropna(subset=['Circularity'])\n",
    "\n",
    "# Create a df with particle counts by bin:\n",
    "df_summ2 = df.groupby(['Batch','bin_centres'])[[\"Id\"]].count()\n",
    "df_summ2 = df_summ2.reset_index()\n",
    "df_summ2 = df_summ2.dropna(subset=['Id'])\n",
    "\n",
    "# Create a df with sum of cylinder volume by bin:\n",
    "df_summ3 = df.groupby(['Batch','bin_centres'])[[\"cyl_vol\"]].sum()\n",
    "df_summ3 = df_summ3.reset_index()\n",
    "df_summ3 = df_summ3.dropna(subset=['cyl_vol'])\n",
    "\n",
    "# Merge together: df_summ, df_summ2 and df_summ3:\n",
    "df_comb = df_summ2.merge(df_summ, how='outer', on=['Batch','bin_centres'])\n",
    "df_comb2 = df_comb.merge(df_summ3, how='outer', on=['Batch','bin_centres'] )\n",
    "df_comb2 = df_comb2.rename(columns = {'Id':'Count'})\n",
    "df_comb2 = df_comb2.rename(columns = {'cyl_vol':'Sum of cylinder volume'})"
   ]
  },
  {
   "cell_type": "code",
   "execution_count": 33,
   "metadata": {},
   "outputs": [
    {
     "name": "stdout",
     "output_type": "stream",
     "text": [
      "   Batch bin_centres  Count  Circularity  HS Circularity  Convexity  Solidity  \\\n",
      "0    B04       0.625    1.0       0.9010          0.8120     1.0000    1.0000   \n",
      "1    B04       0.875   44.0       0.8435          0.7115     1.0000    1.0000   \n",
      "2    B04       1.125  167.0       0.8520          0.7260     1.0000    1.0000   \n",
      "3    B04       1.375  220.0       0.8495          0.7215     1.0000    1.0000   \n",
      "4    B04       1.625  249.0       0.8390          0.7040     1.0000    1.0000   \n",
      "..   ...         ...    ...          ...             ...        ...       ...   \n",
      "65   B07       4.875   32.0       0.3495          0.1220     0.7565    0.4145   \n",
      "66   B07       5.125   11.0       0.3090          0.0960     0.6960    0.3200   \n",
      "67   B07       5.375    7.0       0.3260          0.1070     0.7160    0.3940   \n",
      "68   B07       5.625    1.0       0.3580          0.1280     0.9560    0.4950   \n",
      "69   B07       6.375    1.0       0.2390          0.0570     0.8320    0.2700   \n",
      "\n",
      "    Aspect Ratio  Elongation  Intensity Mean  Intensity SD  \\\n",
      "0         0.7500      0.2500         96.5000        5.4860   \n",
      "1         0.6000      0.4000         99.1785        3.6680   \n",
      "2         0.5880      0.4120         97.6150        5.0000   \n",
      "3         0.5815      0.4185         95.5400        6.1785   \n",
      "4         0.5760      0.4240         92.1710        7.6180   \n",
      "..           ...         ...             ...           ...   \n",
      "65        0.5510      0.4490         75.0070       17.5665   \n",
      "66        0.5030      0.4970         77.5880       16.4610   \n",
      "67        0.5670      0.4330         71.7950       18.9240   \n",
      "68        0.1730      0.8270         67.1680       16.4440   \n",
      "69        0.1510      0.8490         66.0110       14.6310   \n",
      "\n",
      "    Sum of cylinder volume  \n",
      "0             4.804620e+00  \n",
      "1             3.527296e+02  \n",
      "2             2.297122e+03  \n",
      "3             5.275810e+03  \n",
      "4             1.074439e+04  \n",
      "..                     ...  \n",
      "65            2.386319e+06  \n",
      "66            1.519014e+06  \n",
      "67            1.524201e+06  \n",
      "68            5.360416e+05  \n",
      "69            2.563622e+06  \n",
      "\n",
      "[70 rows x 12 columns]\n"
     ]
    }
   ],
   "source": [
    "print(df_comb2)"
   ]
  },
  {
   "cell_type": "code",
   "execution_count": 34,
   "metadata": {},
   "outputs": [],
   "source": [
    "#df_comb2['cum_sum_cyl_vol'] = df_comb2.groupby('Batch')['Sum of cylinder volume'].transform('cumsum')\n",
    "#df_comb2['cum_perc_cyl_vol_1'] = 100*df_comb2['cum_sum_cyl_vol'] / df_comb2.groupby('Batch')['Sum of cylinder volume'].transform('sum')"
   ]
  },
  {
   "cell_type": "markdown",
   "metadata": {},
   "source": [
    "# Create 1st Excel file for Spotfire - binned data"
   ]
  },
  {
   "cell_type": "markdown",
   "metadata": {},
   "source": [
    "Calculate % cylinder volume and cumulative % per batch\n",
    "Similarly for count of particles"
   ]
  },
  {
   "cell_type": "code",
   "execution_count": 35,
   "metadata": {},
   "outputs": [],
   "source": [
    "df_comb2['perc_cyl_vol'] = 100*df_comb2['Sum of cylinder volume'] / df_comb2.groupby('Batch')['Sum of cylinder volume'].transform('sum')\n",
    "df_comb2['cum_perc_cyl_vol'] = df_comb2.groupby('Batch')['perc_cyl_vol'].transform('cumsum')"
   ]
  },
  {
   "cell_type": "code",
   "execution_count": 36,
   "metadata": {},
   "outputs": [],
   "source": [
    "df_comb2['perc_N'] = 100*df_comb2['Count'] / df_comb2.groupby('Batch')['Count'].transform('sum')\n",
    "df_comb2['cum_perc_N'] = df_comb2.groupby('Batch')['perc_N'].transform('cumsum')"
   ]
  },
  {
   "cell_type": "code",
   "execution_count": 37,
   "metadata": {},
   "outputs": [
    {
     "name": "stdout",
     "output_type": "stream",
     "text": [
      "   Batch bin_centres  Count  Circularity  HS Circularity  Convexity  Solidity  \\\n",
      "0    B04       0.625    1.0       0.9010          0.8120     1.0000    1.0000   \n",
      "1    B04       0.875   44.0       0.8435          0.7115     1.0000    1.0000   \n",
      "2    B04       1.125  167.0       0.8520          0.7260     1.0000    1.0000   \n",
      "3    B04       1.375  220.0       0.8495          0.7215     1.0000    1.0000   \n",
      "4    B04       1.625  249.0       0.8390          0.7040     1.0000    1.0000   \n",
      "..   ...         ...    ...          ...             ...        ...       ...   \n",
      "65   B07       4.875   32.0       0.3495          0.1220     0.7565    0.4145   \n",
      "66   B07       5.125   11.0       0.3090          0.0960     0.6960    0.3200   \n",
      "67   B07       5.375    7.0       0.3260          0.1070     0.7160    0.3940   \n",
      "68   B07       5.625    1.0       0.3580          0.1280     0.9560    0.4950   \n",
      "69   B07       6.375    1.0       0.2390          0.0570     0.8320    0.2700   \n",
      "\n",
      "    Aspect Ratio  Elongation  Intensity Mean  Intensity SD  \\\n",
      "0         0.7500      0.2500         96.5000        5.4860   \n",
      "1         0.6000      0.4000         99.1785        3.6680   \n",
      "2         0.5880      0.4120         97.6150        5.0000   \n",
      "3         0.5815      0.4185         95.5400        6.1785   \n",
      "4         0.5760      0.4240         92.1710        7.6180   \n",
      "..           ...         ...             ...           ...   \n",
      "65        0.5510      0.4490         75.0070       17.5665   \n",
      "66        0.5030      0.4970         77.5880       16.4610   \n",
      "67        0.5670      0.4330         71.7950       18.9240   \n",
      "68        0.1730      0.8270         67.1680       16.4440   \n",
      "69        0.1510      0.8490         66.0110       14.6310   \n",
      "\n",
      "    Sum of cylinder volume  perc_cyl_vol  cum_perc_cyl_vol  perc_N  cum_perc_N  \n",
      "0             4.804620e+00      0.000005          0.000005    0.02        0.02  \n",
      "1             3.527296e+02      0.000396          0.000401    0.88        0.90  \n",
      "2             2.297122e+03      0.002577          0.002978    3.34        4.24  \n",
      "3             5.275810e+03      0.005919          0.008897    4.40        8.64  \n",
      "4             1.074439e+04      0.012054          0.020951    4.98       13.62  \n",
      "..                     ...           ...               ...     ...         ...  \n",
      "65            2.386319e+06     10.368246         73.309985    0.64       99.60  \n",
      "66            1.519014e+06      6.599919         79.909904    0.22       99.82  \n",
      "67            1.524201e+06      6.622456         86.532360    0.14       99.96  \n",
      "68            5.360416e+05      2.329031         88.861392    0.02       99.98  \n",
      "69            2.563622e+06     11.138608        100.000000    0.02      100.00  \n",
      "\n",
      "[70 rows x 16 columns]\n"
     ]
    }
   ],
   "source": [
    "print(df_comb2)"
   ]
  },
  {
   "cell_type": "markdown",
   "metadata": {},
   "source": [
    "Merge with df_names to join with meta data:"
   ]
  },
  {
   "cell_type": "code",
   "execution_count": 20,
   "metadata": {},
   "outputs": [],
   "source": [
    "df_comb2 = df_comb2.merge(df_names, how='outer', on=['Batch'])\n",
    "df_comb2 = df_comb2.drop(['Filename'], axis=1)"
   ]
  },
  {
   "cell_type": "markdown",
   "metadata": {},
   "source": [
    "Output to Excel file"
   ]
  },
  {
   "cell_type": "code",
   "execution_count": 23,
   "metadata": {},
   "outputs": [],
   "source": [
    "df_comb2.to_excel(filenames_path + 'df_comb2b DEMO.xlsx')"
   ]
  },
  {
   "cell_type": "markdown",
   "metadata": {},
   "source": [
    "# Create 2nd Excel file for Modde - pivot of binned data"
   ]
  },
  {
   "cell_type": "markdown",
   "metadata": {},
   "source": [
    "Count data:"
   ]
  },
  {
   "cell_type": "code",
   "execution_count": 72,
   "metadata": {},
   "outputs": [],
   "source": [
    "df_count = pd.pivot_table(df_comb2, values='Count', index=['Batch'],columns='bin_centres')\n",
    "df_count = df_count.add_prefix('Count_')"
   ]
  },
  {
   "cell_type": "markdown",
   "metadata": {},
   "source": [
    "Shape data:"
   ]
  },
  {
   "cell_type": "code",
   "execution_count": 73,
   "metadata": {},
   "outputs": [],
   "source": [
    "df_shape1 = pd.pivot_table(df_comb2, values='Circularity', index=['Batch'],columns='bin_centres')\n",
    "df_shape1 = df_shape1.add_prefix('Circularity_')\n",
    "df_shape2 = pd.pivot_table(df_comb2, values='HS Circularity', index=['Batch'],columns='bin_centres')\n",
    "df_shape2 = df_shape2.add_prefix('HS_Circularity_')\n",
    "df_shape3 = pd.pivot_table(df_comb2, values='Convexity', index=['Batch'],columns='bin_centres')\n",
    "df_shape3 = df_shape3.add_prefix('Convexity_')\n",
    "df_shape4 = pd.pivot_table(df_comb2, values='Solidity', index=['Batch'],columns='bin_centres')\n",
    "df_shape4 = df_shape4.add_prefix('Solidity_')\n",
    "df_shape5 = pd.pivot_table(df_comb2, values='Aspect Ratio', index=['Batch'],columns='bin_centres')\n",
    "df_shape5 = df_shape5.add_prefix('Aspect_Ratio_')\n",
    "df_shape6 = pd.pivot_table(df_comb2, values='Elongation', index=['Batch'],columns='bin_centres')\n",
    "df_shape6 = df_shape6.add_prefix('Elongation_')\n",
    "df_shape7 = pd.pivot_table(df_comb2, values='Intensity Mean', index=['Batch'],columns='bin_centres')\n",
    "df_shape7 = df_shape7.add_prefix('Intensity_Mean_')\n",
    "df_shape8 = pd.pivot_table(df_comb2, values='Intensity SD', index=['Batch'],columns='bin_centres')\n",
    "df_shape8 = df_shape8.add_prefix('Intensity_SD_')\n"
   ]
  },
  {
   "cell_type": "code",
   "execution_count": 74,
   "metadata": {},
   "outputs": [],
   "source": [
    "from functools import partial, reduce"
   ]
  },
  {
   "cell_type": "code",
   "execution_count": 75,
   "metadata": {},
   "outputs": [],
   "source": [
    "dfshapes = [df_shape1, df_shape2, df_shape3, df_shape4, df_shape5, df_shape6, df_shape7, df_shape8]\n",
    "merge = partial(pd.merge, on=['Batch'], how='outer')\n",
    "dfshapes = reduce(merge, dfshapes)"
   ]
  },
  {
   "cell_type": "code",
   "execution_count": 76,
   "metadata": {},
   "outputs": [],
   "source": [
    "dfshapes = dfshapes.merge(df_names, how='outer', on=['Batch'])\n",
    "dfshapes = dfshapes.drop(['Filename'], axis=1)"
   ]
  },
  {
   "cell_type": "markdown",
   "metadata": {},
   "source": [
    "Export pivoted data to Excel:"
   ]
  },
  {
   "cell_type": "code",
   "execution_count": 77,
   "metadata": {},
   "outputs": [],
   "source": [
    "dfshapes.to_excel(filenames_path + 'df_shape DEMO.xlsx')"
   ]
  },
  {
   "cell_type": "code",
   "execution_count": null,
   "metadata": {},
   "outputs": [],
   "source": []
  }
 ],
 "metadata": {
  "kernelspec": {
   "display_name": "Python 3",
   "language": "python",
   "name": "python3"
  },
  "language_info": {
   "codemirror_mode": {
    "name": "ipython",
    "version": 3
   },
   "file_extension": ".py",
   "mimetype": "text/x-python",
   "name": "python",
   "nbconvert_exporter": "python",
   "pygments_lexer": "ipython3",
   "version": "3.8.5"
  }
 },
 "nbformat": 4,
 "nbformat_minor": 4
}
