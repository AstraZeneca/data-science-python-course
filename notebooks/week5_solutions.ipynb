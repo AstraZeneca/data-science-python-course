{
  "nbformat": 4,
  "nbformat_minor": 0,
  "metadata": {
    "colab": {
      "name": "Week 5 - An introduction to machine learning (PART1) - Solutions.ipynb",
      "provenance": [],
      "collapsed_sections": []
    },
    "kernelspec": {
      "name": "python3",
      "display_name": "Python 3"
    },
    "language_info": {
      "name": "python"
    }
  },
  "cells": [
    {
      "cell_type": "markdown",
      "metadata": {
        "id": "zMpGRu9kwiC3"
      },
      "source": [
        "# Week 6 - An introduction to machine learning (PART1) - Solutions"
      ]
    },
    {
      "cell_type": "markdown",
      "metadata": {
        "id": "kzVexm-twrWH"
      },
      "source": [
        "We will work with the built-in `sklearn.datasets` diabetes dataset.\n",
        "This dataset comprises 442 diabetes patients, each with ten baseline predictors: age, sex, body mass index, average blood pressure, and six blood serum measurements. The response variable is measure of disease progression one year after baseline. (Note that it is not neccessary to transform any of these variables prior to training the model - everything is all ready to go straight into `sklearn`.)"
      ]
    },
    {
      "cell_type": "markdown",
      "metadata": {
        "id": "yikR55udOcqG"
      },
      "source": [
        "Details:\n",
        "\n",
        "https://scikit-learn.org/stable/datasets/toy_dataset.html#diabetes-dataset\n",
        "\n",
        "https://scikit-learn.org/stable/modules/generated/sklearn.datasets.load_diabetes.html"
      ]
    },
    {
      "cell_type": "code",
      "metadata": {
        "id": "8SA91PY0wgJi"
      },
      "source": [
        "import pandas as pd\n",
        "import plotnine as p9\n",
        "from sklearn import datasets\n",
        "import sklearn.linear_model as linear"
      ],
      "execution_count": 108,
      "outputs": []
    },
    {
      "cell_type": "code",
      "metadata": {
        "colab": {
          "base_uri": "https://localhost:8080/",
          "height": 205
        },
        "id": "SVdY9Cs9w4QW",
        "outputId": "51bc94e4-927c-475a-c7c9-593bec8f180c"
      },
      "source": [
        "diabetes_dataset = datasets.load_diabetes()\n",
        "predictors = pd.DataFrame(data=diabetes_dataset.data, columns=diabetes_dataset.feature_names)\n",
        "response = diabetes_dataset.target\n",
        "\n",
        "predictors.head()"
      ],
      "execution_count": 36,
      "outputs": [
        {
          "output_type": "execute_result",
          "data": {
            "text/html": [
              "<div>\n",
              "<style scoped>\n",
              "    .dataframe tbody tr th:only-of-type {\n",
              "        vertical-align: middle;\n",
              "    }\n",
              "\n",
              "    .dataframe tbody tr th {\n",
              "        vertical-align: top;\n",
              "    }\n",
              "\n",
              "    .dataframe thead th {\n",
              "        text-align: right;\n",
              "    }\n",
              "</style>\n",
              "<table border=\"1\" class=\"dataframe\">\n",
              "  <thead>\n",
              "    <tr style=\"text-align: right;\">\n",
              "      <th></th>\n",
              "      <th>age</th>\n",
              "      <th>sex</th>\n",
              "      <th>bmi</th>\n",
              "      <th>bp</th>\n",
              "      <th>s1</th>\n",
              "      <th>s2</th>\n",
              "      <th>s3</th>\n",
              "      <th>s4</th>\n",
              "      <th>s5</th>\n",
              "      <th>s6</th>\n",
              "    </tr>\n",
              "  </thead>\n",
              "  <tbody>\n",
              "    <tr>\n",
              "      <th>0</th>\n",
              "      <td>0.038076</td>\n",
              "      <td>0.050680</td>\n",
              "      <td>0.061696</td>\n",
              "      <td>0.021872</td>\n",
              "      <td>-0.044223</td>\n",
              "      <td>-0.034821</td>\n",
              "      <td>-0.043401</td>\n",
              "      <td>-0.002592</td>\n",
              "      <td>0.019908</td>\n",
              "      <td>-0.017646</td>\n",
              "    </tr>\n",
              "    <tr>\n",
              "      <th>1</th>\n",
              "      <td>-0.001882</td>\n",
              "      <td>-0.044642</td>\n",
              "      <td>-0.051474</td>\n",
              "      <td>-0.026328</td>\n",
              "      <td>-0.008449</td>\n",
              "      <td>-0.019163</td>\n",
              "      <td>0.074412</td>\n",
              "      <td>-0.039493</td>\n",
              "      <td>-0.068330</td>\n",
              "      <td>-0.092204</td>\n",
              "    </tr>\n",
              "    <tr>\n",
              "      <th>2</th>\n",
              "      <td>0.085299</td>\n",
              "      <td>0.050680</td>\n",
              "      <td>0.044451</td>\n",
              "      <td>-0.005671</td>\n",
              "      <td>-0.045599</td>\n",
              "      <td>-0.034194</td>\n",
              "      <td>-0.032356</td>\n",
              "      <td>-0.002592</td>\n",
              "      <td>0.002864</td>\n",
              "      <td>-0.025930</td>\n",
              "    </tr>\n",
              "    <tr>\n",
              "      <th>3</th>\n",
              "      <td>-0.089063</td>\n",
              "      <td>-0.044642</td>\n",
              "      <td>-0.011595</td>\n",
              "      <td>-0.036656</td>\n",
              "      <td>0.012191</td>\n",
              "      <td>0.024991</td>\n",
              "      <td>-0.036038</td>\n",
              "      <td>0.034309</td>\n",
              "      <td>0.022692</td>\n",
              "      <td>-0.009362</td>\n",
              "    </tr>\n",
              "    <tr>\n",
              "      <th>4</th>\n",
              "      <td>0.005383</td>\n",
              "      <td>-0.044642</td>\n",
              "      <td>-0.036385</td>\n",
              "      <td>0.021872</td>\n",
              "      <td>0.003935</td>\n",
              "      <td>0.015596</td>\n",
              "      <td>0.008142</td>\n",
              "      <td>-0.002592</td>\n",
              "      <td>-0.031991</td>\n",
              "      <td>-0.046641</td>\n",
              "    </tr>\n",
              "  </tbody>\n",
              "</table>\n",
              "</div>"
            ],
            "text/plain": [
              "        age       sex       bmi  ...        s4        s5        s6\n",
              "0  0.038076  0.050680  0.061696  ... -0.002592  0.019908 -0.017646\n",
              "1 -0.001882 -0.044642 -0.051474  ... -0.039493 -0.068330 -0.092204\n",
              "2  0.085299  0.050680  0.044451  ... -0.002592  0.002864 -0.025930\n",
              "3 -0.089063 -0.044642 -0.011595  ...  0.034309  0.022692 -0.009362\n",
              "4  0.005383 -0.044642 -0.036385  ... -0.002592 -0.031991 -0.046641\n",
              "\n",
              "[5 rows x 10 columns]"
            ]
          },
          "metadata": {},
          "execution_count": 36
        }
      ]
    },
    {
      "cell_type": "code",
      "metadata": {
        "colab": {
          "base_uri": "https://localhost:8080/",
          "height": 299
        },
        "id": "j_pDx6BDP2M2",
        "outputId": "be1f50a2-2976-4ee2-8a1c-2c6abf180b93"
      },
      "source": [
        "response_dataframe = pd.DataFrame({\"response\": response})\n",
        "\n",
        "response_dataframe.describe()"
      ],
      "execution_count": 37,
      "outputs": [
        {
          "output_type": "execute_result",
          "data": {
            "text/html": [
              "<div>\n",
              "<style scoped>\n",
              "    .dataframe tbody tr th:only-of-type {\n",
              "        vertical-align: middle;\n",
              "    }\n",
              "\n",
              "    .dataframe tbody tr th {\n",
              "        vertical-align: top;\n",
              "    }\n",
              "\n",
              "    .dataframe thead th {\n",
              "        text-align: right;\n",
              "    }\n",
              "</style>\n",
              "<table border=\"1\" class=\"dataframe\">\n",
              "  <thead>\n",
              "    <tr style=\"text-align: right;\">\n",
              "      <th></th>\n",
              "      <th>response</th>\n",
              "    </tr>\n",
              "  </thead>\n",
              "  <tbody>\n",
              "    <tr>\n",
              "      <th>count</th>\n",
              "      <td>442.000000</td>\n",
              "    </tr>\n",
              "    <tr>\n",
              "      <th>mean</th>\n",
              "      <td>152.133484</td>\n",
              "    </tr>\n",
              "    <tr>\n",
              "      <th>std</th>\n",
              "      <td>77.093005</td>\n",
              "    </tr>\n",
              "    <tr>\n",
              "      <th>min</th>\n",
              "      <td>25.000000</td>\n",
              "    </tr>\n",
              "    <tr>\n",
              "      <th>25%</th>\n",
              "      <td>87.000000</td>\n",
              "    </tr>\n",
              "    <tr>\n",
              "      <th>50%</th>\n",
              "      <td>140.500000</td>\n",
              "    </tr>\n",
              "    <tr>\n",
              "      <th>75%</th>\n",
              "      <td>211.500000</td>\n",
              "    </tr>\n",
              "    <tr>\n",
              "      <th>max</th>\n",
              "      <td>346.000000</td>\n",
              "    </tr>\n",
              "  </tbody>\n",
              "</table>\n",
              "</div>"
            ],
            "text/plain": [
              "         response\n",
              "count  442.000000\n",
              "mean   152.133484\n",
              "std     77.093005\n",
              "min     25.000000\n",
              "25%     87.000000\n",
              "50%    140.500000\n",
              "75%    211.500000\n",
              "max    346.000000"
            ]
          },
          "metadata": {},
          "execution_count": 37
        }
      ]
    },
    {
      "cell_type": "code",
      "metadata": {
        "colab": {
          "base_uri": "https://localhost:8080/",
          "height": 299
        },
        "id": "Z5soZEct602m",
        "outputId": "86c6f314-ab74-496e-b0e0-22b0f7caa623"
      },
      "source": [
        "predictors.describe()"
      ],
      "execution_count": 38,
      "outputs": [
        {
          "output_type": "execute_result",
          "data": {
            "text/html": [
              "<div>\n",
              "<style scoped>\n",
              "    .dataframe tbody tr th:only-of-type {\n",
              "        vertical-align: middle;\n",
              "    }\n",
              "\n",
              "    .dataframe tbody tr th {\n",
              "        vertical-align: top;\n",
              "    }\n",
              "\n",
              "    .dataframe thead th {\n",
              "        text-align: right;\n",
              "    }\n",
              "</style>\n",
              "<table border=\"1\" class=\"dataframe\">\n",
              "  <thead>\n",
              "    <tr style=\"text-align: right;\">\n",
              "      <th></th>\n",
              "      <th>age</th>\n",
              "      <th>sex</th>\n",
              "      <th>bmi</th>\n",
              "      <th>bp</th>\n",
              "      <th>s1</th>\n",
              "      <th>s2</th>\n",
              "      <th>s3</th>\n",
              "      <th>s4</th>\n",
              "      <th>s5</th>\n",
              "      <th>s6</th>\n",
              "    </tr>\n",
              "  </thead>\n",
              "  <tbody>\n",
              "    <tr>\n",
              "      <th>count</th>\n",
              "      <td>4.420000e+02</td>\n",
              "      <td>4.420000e+02</td>\n",
              "      <td>4.420000e+02</td>\n",
              "      <td>4.420000e+02</td>\n",
              "      <td>4.420000e+02</td>\n",
              "      <td>4.420000e+02</td>\n",
              "      <td>4.420000e+02</td>\n",
              "      <td>4.420000e+02</td>\n",
              "      <td>4.420000e+02</td>\n",
              "      <td>4.420000e+02</td>\n",
              "    </tr>\n",
              "    <tr>\n",
              "      <th>mean</th>\n",
              "      <td>-3.634285e-16</td>\n",
              "      <td>1.308343e-16</td>\n",
              "      <td>-8.045349e-16</td>\n",
              "      <td>1.281655e-16</td>\n",
              "      <td>-8.835316e-17</td>\n",
              "      <td>1.327024e-16</td>\n",
              "      <td>-4.574646e-16</td>\n",
              "      <td>3.777301e-16</td>\n",
              "      <td>-3.830854e-16</td>\n",
              "      <td>-3.412882e-16</td>\n",
              "    </tr>\n",
              "    <tr>\n",
              "      <th>std</th>\n",
              "      <td>4.761905e-02</td>\n",
              "      <td>4.761905e-02</td>\n",
              "      <td>4.761905e-02</td>\n",
              "      <td>4.761905e-02</td>\n",
              "      <td>4.761905e-02</td>\n",
              "      <td>4.761905e-02</td>\n",
              "      <td>4.761905e-02</td>\n",
              "      <td>4.761905e-02</td>\n",
              "      <td>4.761905e-02</td>\n",
              "      <td>4.761905e-02</td>\n",
              "    </tr>\n",
              "    <tr>\n",
              "      <th>min</th>\n",
              "      <td>-1.072256e-01</td>\n",
              "      <td>-4.464164e-02</td>\n",
              "      <td>-9.027530e-02</td>\n",
              "      <td>-1.123996e-01</td>\n",
              "      <td>-1.267807e-01</td>\n",
              "      <td>-1.156131e-01</td>\n",
              "      <td>-1.023071e-01</td>\n",
              "      <td>-7.639450e-02</td>\n",
              "      <td>-1.260974e-01</td>\n",
              "      <td>-1.377672e-01</td>\n",
              "    </tr>\n",
              "    <tr>\n",
              "      <th>25%</th>\n",
              "      <td>-3.729927e-02</td>\n",
              "      <td>-4.464164e-02</td>\n",
              "      <td>-3.422907e-02</td>\n",
              "      <td>-3.665645e-02</td>\n",
              "      <td>-3.424784e-02</td>\n",
              "      <td>-3.035840e-02</td>\n",
              "      <td>-3.511716e-02</td>\n",
              "      <td>-3.949338e-02</td>\n",
              "      <td>-3.324879e-02</td>\n",
              "      <td>-3.317903e-02</td>\n",
              "    </tr>\n",
              "    <tr>\n",
              "      <th>50%</th>\n",
              "      <td>5.383060e-03</td>\n",
              "      <td>-4.464164e-02</td>\n",
              "      <td>-7.283766e-03</td>\n",
              "      <td>-5.670611e-03</td>\n",
              "      <td>-4.320866e-03</td>\n",
              "      <td>-3.819065e-03</td>\n",
              "      <td>-6.584468e-03</td>\n",
              "      <td>-2.592262e-03</td>\n",
              "      <td>-1.947634e-03</td>\n",
              "      <td>-1.077698e-03</td>\n",
              "    </tr>\n",
              "    <tr>\n",
              "      <th>75%</th>\n",
              "      <td>3.807591e-02</td>\n",
              "      <td>5.068012e-02</td>\n",
              "      <td>3.124802e-02</td>\n",
              "      <td>3.564384e-02</td>\n",
              "      <td>2.835801e-02</td>\n",
              "      <td>2.984439e-02</td>\n",
              "      <td>2.931150e-02</td>\n",
              "      <td>3.430886e-02</td>\n",
              "      <td>3.243323e-02</td>\n",
              "      <td>2.791705e-02</td>\n",
              "    </tr>\n",
              "    <tr>\n",
              "      <th>max</th>\n",
              "      <td>1.107267e-01</td>\n",
              "      <td>5.068012e-02</td>\n",
              "      <td>1.705552e-01</td>\n",
              "      <td>1.320442e-01</td>\n",
              "      <td>1.539137e-01</td>\n",
              "      <td>1.987880e-01</td>\n",
              "      <td>1.811791e-01</td>\n",
              "      <td>1.852344e-01</td>\n",
              "      <td>1.335990e-01</td>\n",
              "      <td>1.356118e-01</td>\n",
              "    </tr>\n",
              "  </tbody>\n",
              "</table>\n",
              "</div>"
            ],
            "text/plain": [
              "                age           sex  ...            s5            s6\n",
              "count  4.420000e+02  4.420000e+02  ...  4.420000e+02  4.420000e+02\n",
              "mean  -3.634285e-16  1.308343e-16  ... -3.830854e-16 -3.412882e-16\n",
              "std    4.761905e-02  4.761905e-02  ...  4.761905e-02  4.761905e-02\n",
              "min   -1.072256e-01 -4.464164e-02  ... -1.260974e-01 -1.377672e-01\n",
              "25%   -3.729927e-02 -4.464164e-02  ... -3.324879e-02 -3.317903e-02\n",
              "50%    5.383060e-03 -4.464164e-02  ... -1.947634e-03 -1.077698e-03\n",
              "75%    3.807591e-02  5.068012e-02  ...  3.243323e-02  2.791705e-02\n",
              "max    1.107267e-01  5.068012e-02  ...  1.335990e-01  1.356118e-01\n",
              "\n",
              "[8 rows x 10 columns]"
            ]
          },
          "metadata": {},
          "execution_count": 38
        }
      ]
    },
    {
      "cell_type": "code",
      "metadata": {
        "colab": {
          "base_uri": "https://localhost:8080/"
        },
        "id": "cMCeCcPLxCGm",
        "outputId": "d4371bb6-847f-4dc8-98fc-78f5ac90973e"
      },
      "source": [
        "print(diabetes_dataset.DESCR)"
      ],
      "execution_count": 39,
      "outputs": [
        {
          "output_type": "stream",
          "name": "stdout",
          "text": [
            ".. _diabetes_dataset:\n",
            "\n",
            "Diabetes dataset\n",
            "----------------\n",
            "\n",
            "Ten baseline variables, age, sex, body mass index, average blood\n",
            "pressure, and six blood serum measurements were obtained for each of n =\n",
            "442 diabetes patients, as well as the response of interest, a\n",
            "quantitative measure of disease progression one year after baseline.\n",
            "\n",
            "**Data Set Characteristics:**\n",
            "\n",
            "  :Number of Instances: 442\n",
            "\n",
            "  :Number of Attributes: First 10 columns are numeric predictive values\n",
            "\n",
            "  :Target: Column 11 is a quantitative measure of disease progression one year after baseline\n",
            "\n",
            "  :Attribute Information:\n",
            "      - Age\n",
            "      - Sex\n",
            "      - Body mass index\n",
            "      - Average blood pressure\n",
            "      - S1\n",
            "      - S2\n",
            "      - S3\n",
            "      - S4\n",
            "      - S5\n",
            "      - S6\n",
            "\n",
            "Note: Each of these 10 feature variables have been mean centered and scaled by the standard deviation times `n_samples` (i.e. the sum of squares of each column totals 1).\n",
            "\n",
            "Source URL:\n",
            "https://www4.stat.ncsu.edu/~boos/var.select/diabetes.html\n",
            "\n",
            "For more information see:\n",
            "Bradley Efron, Trevor Hastie, Iain Johnstone and Robert Tibshirani (2004) \"Least Angle Regression,\" Annals of Statistics (with discussion), 407-499.\n",
            "(https://web.stanford.edu/~hastie/Papers/LARS/LeastAngle_2002.pdf)\n"
          ]
        }
      ]
    },
    {
      "cell_type": "code",
      "metadata": {
        "colab": {
          "base_uri": "https://localhost:8080/",
          "height": 491
        },
        "id": "nMQbjes8xFU1",
        "outputId": "edbd2298-2054-47ae-f386-a38d8bf7c56c"
      },
      "source": [
        "p9.ggplot(response_dataframe, p9.aes('response')) + p9.geom_histogram(bins=20) + p9.ggtitle(\"Residuals\")"
      ],
      "execution_count": 109,
      "outputs": [
        {
          "output_type": "display_data",
          "data": {
            "image/png": "[encoded data removed]",
            "text/plain": [
              "<Figure size 640x480 with 1 Axes>"
            ]
          },
          "metadata": {}
        },
        {
          "output_type": "execute_result",
          "data": {
            "text/plain": [
              "<ggplot: (8774178532785)>"
            ]
          },
          "metadata": {},
          "execution_count": 109
        }
      ]
    },
    {
      "cell_type": "code",
      "metadata": {
        "colab": {
          "base_uri": "https://localhost:8080/",
          "height": 542
        },
        "id": "iwvwjxb5xc-n",
        "outputId": "2628974e-509a-49a6-b546-6ad4b273ac75"
      },
      "source": [
        "import plotly.express as px\n",
        "fig = px.histogram(response_dataframe, \n",
        "                   x=\"response\", \n",
        "                   nbins=20,\n",
        "                   title=\"Residuals\")\n",
        "fig.show()"
      ],
      "execution_count": 110,
      "outputs": [
        {
          "output_type": "display_data",
          "data": {
            "text/html": [
              "<html>\n",
              "<head><meta charset=\"utf-8\" /></head>\n",
              "<body>\n",
              "    <div>\n",
              "            <script src=\"https://cdnjs.cloudflare.com/ajax/libs/mathjax/2.7.5/MathJax.js?config=TeX-AMS-MML_SVG\"></script><script type=\"text/javascript\">if (window.MathJax) {MathJax.Hub.Config({SVG: {font: \"STIX-Web\"}});}</script>\n",
              "                <script type=\"text/javascript\">window.PlotlyConfig = {MathJaxConfig: 'local'};</script>\n",
              "        <script src=\"https://cdn.plot.ly/plotly-latest.min.js\"></script>    \n",
              "            <div id=\"749ff94c-f5b2-4068-a018-259911012e53\" class=\"plotly-graph-div\" style=\"height:525px; width:100%;\"></div>\n",
              "            <script type=\"text/javascript\">\n",
              "                \n",
              "                    window.PLOTLYENV=window.PLOTLYENV || {};\n",
              "                    \n",
              "                if (document.getElementById(\"749ff94c-f5b2-4068-a018-259911012e53\")) {\n",
              "                    Plotly.newPlot(\n",
              "                        '749ff94c-f5b2-4068-a018-259911012e53',\n",
              "                        [{\"alignmentgroup\": \"True\", \"bingroup\": \"x\", \"hoverlabel\": {\"namelength\": 0}, \"hovertemplate\": \"response=%{x}<br>count=%{y}\", \"legendgroup\": \"\", \"marker\": {\"color\": \"#636efa\"}, \"name\": \"\", \"nbinsx\": 20, \"offsetgroup\": \"\", \"orientation\": \"v\", \"showlegend\": false, \"type\": \"histogram\", \"x\": [151.0, 75.0, 141.0, 206.0, 135.0, 97.0, 138.0, 63.0, 110.0, 310.0, 101.0, 69.0, 179.0, 185.0, 118.0, 171.0, 166.0, 144.0, 97.0, 168.0, 68.0, 49.0, 68.0, 245.0, 184.0, 202.0, 137.0, 85.0, 131.0, 283.0, 129.0, 59.0, 341.0, 87.0, 65.0, 102.0, 265.0, 276.0, 252.0, 90.0, 100.0, 55.0, 61.0, 92.0, 259.0, 53.0, 190.0, 142.0, 75.0, 142.0, 155.0, 225.0, 59.0, 104.0, 182.0, 128.0, 52.0, 37.0, 170.0, 170.0, 61.0, 144.0, 52.0, 128.0, 71.0, 163.0, 150.0, 97.0, 160.0, 178.0, 48.0, 270.0, 202.0, 111.0, 85.0, 42.0, 170.0, 200.0, 252.0, 113.0, 143.0, 51.0, 52.0, 210.0, 65.0, 141.0, 55.0, 134.0, 42.0, 111.0, 98.0, 164.0, 48.0, 96.0, 90.0, 162.0, 150.0, 279.0, 92.0, 83.0, 128.0, 102.0, 302.0, 198.0, 95.0, 53.0, 134.0, 144.0, 232.0, 81.0, 104.0, 59.0, 246.0, 297.0, 258.0, 229.0, 275.0, 281.0, 179.0, 200.0, 200.0, 173.0, 180.0, 84.0, 121.0, 161.0, 99.0, 109.0, 115.0, 268.0, 274.0, 158.0, 107.0, 83.0, 103.0, 272.0, 85.0, 280.0, 336.0, 281.0, 118.0, 317.0, 235.0, 60.0, 174.0, 259.0, 178.0, 128.0, 96.0, 126.0, 288.0, 88.0, 292.0, 71.0, 197.0, 186.0, 25.0, 84.0, 96.0, 195.0, 53.0, 217.0, 172.0, 131.0, 214.0, 59.0, 70.0, 220.0, 268.0, 152.0, 47.0, 74.0, 295.0, 101.0, 151.0, 127.0, 237.0, 225.0, 81.0, 151.0, 107.0, 64.0, 138.0, 185.0, 265.0, 101.0, 137.0, 143.0, 141.0, 79.0, 292.0, 178.0, 91.0, 116.0, 86.0, 122.0, 72.0, 129.0, 142.0, 90.0, 158.0, 39.0, 196.0, 222.0, 277.0, 99.0, 196.0, 202.0, 155.0, 77.0, 191.0, 70.0, 73.0, 49.0, 65.0, 263.0, 248.0, 296.0, 214.0, 185.0, 78.0, 93.0, 252.0, 150.0, 77.0, 208.0, 77.0, 108.0, 160.0, 53.0, 220.0, 154.0, 259.0, 90.0, 246.0, 124.0, 67.0, 72.0, 257.0, 262.0, 275.0, 177.0, 71.0, 47.0, 187.0, 125.0, 78.0, 51.0, 258.0, 215.0, 303.0, 243.0, 91.0, 150.0, 310.0, 153.0, 346.0, 63.0, 89.0, 50.0, 39.0, 103.0, 308.0, 116.0, 145.0, 74.0, 45.0, 115.0, 264.0, 87.0, 202.0, 127.0, 182.0, 241.0, 66.0, 94.0, 283.0, 64.0, 102.0, 200.0, 265.0, 94.0, 230.0, 181.0, 156.0, 233.0, 60.0, 219.0, 80.0, 68.0, 332.0, 248.0, 84.0, 200.0, 55.0, 85.0, 89.0, 31.0, 129.0, 83.0, 275.0, 65.0, 198.0, 236.0, 253.0, 124.0, 44.0, 172.0, 114.0, 142.0, 109.0, 180.0, 144.0, 163.0, 147.0, 97.0, 220.0, 190.0, 109.0, 191.0, 122.0, 230.0, 242.0, 248.0, 249.0, 192.0, 131.0, 237.0, 78.0, 135.0, 244.0, 199.0, 270.0, 164.0, 72.0, 96.0, 306.0, 91.0, 214.0, 95.0, 216.0, 263.0, 178.0, 113.0, 200.0, 139.0, 139.0, 88.0, 148.0, 88.0, 243.0, 71.0, 77.0, 109.0, 272.0, 60.0, 54.0, 221.0, 90.0, 311.0, 281.0, 182.0, 321.0, 58.0, 262.0, 206.0, 233.0, 242.0, 123.0, 167.0, 63.0, 197.0, 71.0, 168.0, 140.0, 217.0, 121.0, 235.0, 245.0, 40.0, 52.0, 104.0, 132.0, 88.0, 69.0, 219.0, 72.0, 201.0, 110.0, 51.0, 277.0, 63.0, 118.0, 69.0, 273.0, 258.0, 43.0, 198.0, 242.0, 232.0, 175.0, 93.0, 168.0, 275.0, 293.0, 281.0, 72.0, 140.0, 189.0, 181.0, 209.0, 136.0, 261.0, 113.0, 131.0, 174.0, 257.0, 55.0, 84.0, 42.0, 146.0, 212.0, 233.0, 91.0, 111.0, 152.0, 120.0, 67.0, 310.0, 94.0, 183.0, 66.0, 173.0, 72.0, 49.0, 64.0, 48.0, 178.0, 104.0, 132.0, 220.0, 57.0], \"xaxis\": \"x\", \"yaxis\": \"y\"}],\n",
              "                        {\"barmode\": \"relative\", \"legend\": {\"tracegroupgap\": 0}, \"template\": {\"data\": {\"bar\": [{\"error_x\": {\"color\": \"#2a3f5f\"}, \"error_y\": {\"color\": \"#2a3f5f\"}, \"marker\": {\"line\": {\"color\": \"#E5ECF6\", \"width\": 0.5}}, \"type\": \"bar\"}], \"barpolar\": [{\"marker\": {\"line\": {\"color\": \"#E5ECF6\", \"width\": 0.5}}, \"type\": \"barpolar\"}], \"carpet\": [{\"aaxis\": {\"endlinecolor\": \"#2a3f5f\", \"gridcolor\": \"white\", \"linecolor\": \"white\", \"minorgridcolor\": \"white\", \"startlinecolor\": \"#2a3f5f\"}, \"baxis\": {\"endlinecolor\": \"#2a3f5f\", \"gridcolor\": \"white\", \"linecolor\": \"white\", \"minorgridcolor\": \"white\", \"startlinecolor\": \"#2a3f5f\"}, \"type\": \"carpet\"}], \"choropleth\": [{\"colorbar\": {\"outlinewidth\": 0, \"ticks\": \"\"}, \"type\": \"choropleth\"}], \"contour\": [{\"colorbar\": {\"outlinewidth\": 0, \"ticks\": \"\"}, \"colorscale\": [[0.0, \"#0d0887\"], [0.1111111111111111, \"#46039f\"], [0.2222222222222222, \"#7201a8\"], [0.3333333333333333, \"#9c179e\"], [0.4444444444444444, \"#bd3786\"], [0.5555555555555556, \"#d8576b\"], [0.6666666666666666, \"#ed7953\"], [0.7777777777777778, \"#fb9f3a\"], [0.8888888888888888, \"#fdca26\"], [1.0, \"#f0f921\"]], \"type\": \"contour\"}], \"contourcarpet\": [{\"colorbar\": {\"outlinewidth\": 0, \"ticks\": \"\"}, \"type\": \"contourcarpet\"}], \"heatmap\": [{\"colorbar\": {\"outlinewidth\": 0, \"ticks\": \"\"}, \"colorscale\": [[0.0, \"#0d0887\"], [0.1111111111111111, \"#46039f\"], [0.2222222222222222, \"#7201a8\"], [0.3333333333333333, \"#9c179e\"], [0.4444444444444444, \"#bd3786\"], [0.5555555555555556, \"#d8576b\"], [0.6666666666666666, \"#ed7953\"], [0.7777777777777778, \"#fb9f3a\"], [0.8888888888888888, \"#fdca26\"], [1.0, \"#f0f921\"]], \"type\": \"heatmap\"}], \"heatmapgl\": [{\"colorbar\": {\"outlinewidth\": 0, \"ticks\": \"\"}, \"colorscale\": [[0.0, \"#0d0887\"], [0.1111111111111111, \"#46039f\"], [0.2222222222222222, \"#7201a8\"], [0.3333333333333333, \"#9c179e\"], [0.4444444444444444, \"#bd3786\"], [0.5555555555555556, \"#d8576b\"], [0.6666666666666666, \"#ed7953\"], [0.7777777777777778, \"#fb9f3a\"], [0.8888888888888888, \"#fdca26\"], [1.0, \"#f0f921\"]], \"type\": \"heatmapgl\"}], \"histogram\": [{\"marker\": {\"colorbar\": {\"outlinewidth\": 0, \"ticks\": \"\"}}, \"type\": \"histogram\"}], \"histogram2d\": [{\"colorbar\": {\"outlinewidth\": 0, \"ticks\": \"\"}, \"colorscale\": [[0.0, \"#0d0887\"], [0.1111111111111111, \"#46039f\"], [0.2222222222222222, \"#7201a8\"], [0.3333333333333333, \"#9c179e\"], [0.4444444444444444, \"#bd3786\"], [0.5555555555555556, \"#d8576b\"], [0.6666666666666666, \"#ed7953\"], [0.7777777777777778, \"#fb9f3a\"], [0.8888888888888888, \"#fdca26\"], [1.0, \"#f0f921\"]], \"type\": \"histogram2d\"}], \"histogram2dcontour\": [{\"colorbar\": {\"outlinewidth\": 0, \"ticks\": \"\"}, \"colorscale\": [[0.0, \"#0d0887\"], [0.1111111111111111, \"#46039f\"], [0.2222222222222222, \"#7201a8\"], [0.3333333333333333, \"#9c179e\"], [0.4444444444444444, \"#bd3786\"], [0.5555555555555556, \"#d8576b\"], [0.6666666666666666, \"#ed7953\"], [0.7777777777777778, \"#fb9f3a\"], [0.8888888888888888, \"#fdca26\"], [1.0, \"#f0f921\"]], \"type\": \"histogram2dcontour\"}], \"mesh3d\": [{\"colorbar\": {\"outlinewidth\": 0, \"ticks\": \"\"}, \"type\": \"mesh3d\"}], \"parcoords\": [{\"line\": {\"colorbar\": {\"outlinewidth\": 0, \"ticks\": \"\"}}, \"type\": \"parcoords\"}], \"pie\": [{\"automargin\": true, \"type\": \"pie\"}], \"scatter\": [{\"marker\": {\"colorbar\": {\"outlinewidth\": 0, \"ticks\": \"\"}}, \"type\": \"scatter\"}], \"scatter3d\": [{\"line\": {\"colorbar\": {\"outlinewidth\": 0, \"ticks\": \"\"}}, \"marker\": {\"colorbar\": {\"outlinewidth\": 0, \"ticks\": \"\"}}, \"type\": \"scatter3d\"}], \"scattercarpet\": [{\"marker\": {\"colorbar\": {\"outlinewidth\": 0, \"ticks\": \"\"}}, \"type\": \"scattercarpet\"}], \"scattergeo\": [{\"marker\": {\"colorbar\": {\"outlinewidth\": 0, \"ticks\": \"\"}}, \"type\": \"scattergeo\"}], \"scattergl\": [{\"marker\": {\"colorbar\": {\"outlinewidth\": 0, \"ticks\": \"\"}}, \"type\": \"scattergl\"}], \"scattermapbox\": [{\"marker\": {\"colorbar\": {\"outlinewidth\": 0, \"ticks\": \"\"}}, \"type\": \"scattermapbox\"}], \"scatterpolar\": [{\"marker\": {\"colorbar\": {\"outlinewidth\": 0, \"ticks\": \"\"}}, \"type\": \"scatterpolar\"}], \"scatterpolargl\": [{\"marker\": {\"colorbar\": {\"outlinewidth\": 0, \"ticks\": \"\"}}, \"type\": \"scatterpolargl\"}], \"scatterternary\": [{\"marker\": {\"colorbar\": {\"outlinewidth\": 0, \"ticks\": \"\"}}, \"type\": \"scatterternary\"}], \"surface\": [{\"colorbar\": {\"outlinewidth\": 0, \"ticks\": \"\"}, \"colorscale\": [[0.0, \"#0d0887\"], [0.1111111111111111, \"#46039f\"], [0.2222222222222222, \"#7201a8\"], [0.3333333333333333, \"#9c179e\"], [0.4444444444444444, \"#bd3786\"], [0.5555555555555556, \"#d8576b\"], [0.6666666666666666, \"#ed7953\"], [0.7777777777777778, \"#fb9f3a\"], [0.8888888888888888, \"#fdca26\"], [1.0, \"#f0f921\"]], \"type\": \"surface\"}], \"table\": [{\"cells\": {\"fill\": {\"color\": \"#EBF0F8\"}, \"line\": {\"color\": \"white\"}}, \"header\": {\"fill\": {\"color\": \"#C8D4E3\"}, \"line\": {\"color\": \"white\"}}, \"type\": \"table\"}]}, \"layout\": {\"annotationdefaults\": {\"arrowcolor\": \"#2a3f5f\", \"arrowhead\": 0, \"arrowwidth\": 1}, \"coloraxis\": {\"colorbar\": {\"outlinewidth\": 0, \"ticks\": \"\"}}, \"colorscale\": {\"diverging\": [[0, \"#8e0152\"], [0.1, \"#c51b7d\"], [0.2, \"#de77ae\"], [0.3, \"#f1b6da\"], [0.4, \"#fde0ef\"], [0.5, \"#f7f7f7\"], [0.6, \"#e6f5d0\"], [0.7, \"#b8e186\"], [0.8, \"#7fbc41\"], [0.9, \"#4d9221\"], [1, \"#276419\"]], \"sequential\": [[0.0, \"#0d0887\"], [0.1111111111111111, \"#46039f\"], [0.2222222222222222, \"#7201a8\"], [0.3333333333333333, \"#9c179e\"], [0.4444444444444444, \"#bd3786\"], [0.5555555555555556, \"#d8576b\"], [0.6666666666666666, \"#ed7953\"], [0.7777777777777778, \"#fb9f3a\"], [0.8888888888888888, \"#fdca26\"], [1.0, \"#f0f921\"]], \"sequentialminus\": [[0.0, \"#0d0887\"], [0.1111111111111111, \"#46039f\"], [0.2222222222222222, \"#7201a8\"], [0.3333333333333333, \"#9c179e\"], [0.4444444444444444, \"#bd3786\"], [0.5555555555555556, \"#d8576b\"], [0.6666666666666666, \"#ed7953\"], [0.7777777777777778, \"#fb9f3a\"], [0.8888888888888888, \"#fdca26\"], [1.0, \"#f0f921\"]]}, \"colorway\": [\"#636efa\", \"#EF553B\", \"#00cc96\", \"#ab63fa\", \"#FFA15A\", \"#19d3f3\", \"#FF6692\", \"#B6E880\", \"#FF97FF\", \"#FECB52\"], \"font\": {\"color\": \"#2a3f5f\"}, \"geo\": {\"bgcolor\": \"white\", \"lakecolor\": \"white\", \"landcolor\": \"#E5ECF6\", \"showlakes\": true, \"showland\": true, \"subunitcolor\": \"white\"}, \"hoverlabel\": {\"align\": \"left\"}, \"hovermode\": \"closest\", \"mapbox\": {\"style\": \"light\"}, \"paper_bgcolor\": \"white\", \"plot_bgcolor\": \"#E5ECF6\", \"polar\": {\"angularaxis\": {\"gridcolor\": \"white\", \"linecolor\": \"white\", \"ticks\": \"\"}, \"bgcolor\": \"#E5ECF6\", \"radialaxis\": {\"gridcolor\": \"white\", \"linecolor\": \"white\", \"ticks\": \"\"}}, \"scene\": {\"xaxis\": {\"backgroundcolor\": \"#E5ECF6\", \"gridcolor\": \"white\", \"gridwidth\": 2, \"linecolor\": \"white\", \"showbackground\": true, \"ticks\": \"\", \"zerolinecolor\": \"white\"}, \"yaxis\": {\"backgroundcolor\": \"#E5ECF6\", \"gridcolor\": \"white\", \"gridwidth\": 2, \"linecolor\": \"white\", \"showbackground\": true, \"ticks\": \"\", \"zerolinecolor\": \"white\"}, \"zaxis\": {\"backgroundcolor\": \"#E5ECF6\", \"gridcolor\": \"white\", \"gridwidth\": 2, \"linecolor\": \"white\", \"showbackground\": true, \"ticks\": \"\", \"zerolinecolor\": \"white\"}}, \"shapedefaults\": {\"line\": {\"color\": \"#2a3f5f\"}}, \"ternary\": {\"aaxis\": {\"gridcolor\": \"white\", \"linecolor\": \"white\", \"ticks\": \"\"}, \"baxis\": {\"gridcolor\": \"white\", \"linecolor\": \"white\", \"ticks\": \"\"}, \"bgcolor\": \"#E5ECF6\", \"caxis\": {\"gridcolor\": \"white\", \"linecolor\": \"white\", \"ticks\": \"\"}}, \"title\": {\"x\": 0.05}, \"xaxis\": {\"automargin\": true, \"gridcolor\": \"white\", \"linecolor\": \"white\", \"ticks\": \"\", \"title\": {\"standoff\": 15}, \"zerolinecolor\": \"white\", \"zerolinewidth\": 2}, \"yaxis\": {\"automargin\": true, \"gridcolor\": \"white\", \"linecolor\": \"white\", \"ticks\": \"\", \"title\": {\"standoff\": 15}, \"zerolinecolor\": \"white\", \"zerolinewidth\": 2}}}, \"title\": {\"text\": \"Residuals\"}, \"xaxis\": {\"anchor\": \"y\", \"domain\": [0.0, 1.0], \"title\": {\"text\": \"response\"}}, \"yaxis\": {\"anchor\": \"x\", \"domain\": [0.0, 1.0], \"title\": {\"text\": \"count\"}}},\n",
              "                        {\"responsive\": true}\n",
              "                    ).then(function(){\n",
              "                            \n",
              "var gd = document.getElementById('749ff94c-f5b2-4068-a018-259911012e53');\n",
              "var x = new MutationObserver(function (mutations, observer) {{\n",
              "        var display = window.getComputedStyle(gd).display;\n",
              "        if (!display || display === 'none') {{\n",
              "            console.log([gd, 'removed!']);\n",
              "            Plotly.purge(gd);\n",
              "            observer.disconnect();\n",
              "        }}\n",
              "}});\n",
              "\n",
              "// Listen for the removal of the full notebook cells\n",
              "var notebookContainer = gd.closest('#notebook-container');\n",
              "if (notebookContainer) {{\n",
              "    x.observe(notebookContainer, {childList: true});\n",
              "}}\n",
              "\n",
              "// Listen for the clearing of the current output cell\n",
              "var outputEl = gd.closest('.output');\n",
              "if (outputEl) {{\n",
              "    x.observe(outputEl, {childList: true});\n",
              "}}\n",
              "\n",
              "                        })\n",
              "                };\n",
              "                \n",
              "            </script>\n",
              "        </div>\n",
              "</body>\n",
              "</html>"
            ]
          },
          "metadata": {}
        }
      ]
    },
    {
      "cell_type": "markdown",
      "metadata": {
        "id": "d6Si9f3LyDAO"
      },
      "source": [
        "## Exercise 1"
      ]
    },
    {
      "cell_type": "markdown",
      "metadata": {
        "id": "88xHPwu0yFyL"
      },
      "source": [
        "Using `sklearn`, fit a multivariate linear regression using all 442 samples to predict the response variable. Use all 10 predictors, and also score your model using predictions on all 442 samples."
      ]
    },
    {
      "cell_type": "code",
      "metadata": {
        "colab": {
          "base_uri": "https://localhost:8080/"
        },
        "id": "1qJkOPjjyKBh",
        "outputId": "ba97503b-8c04-455d-9b54-5b72b54d9ad8"
      },
      "source": [
        "# Instantiate the model\n",
        "model = linear.LinearRegression()\n",
        "# Fit the pipeline\n",
        "model.fit(X=predictors, y=response)\n",
        "\n",
        "# Inspect the fit regression coefficients and intercept\n",
        "model.intercept_, model.coef_"
      ],
      "execution_count": 111,
      "outputs": [
        {
          "output_type": "execute_result",
          "data": {
            "text/plain": [
              "(152.1334841628965,\n",
              " array([ -10.01219782, -239.81908937,  519.83978679,  324.39042769,\n",
              "        -792.18416163,  476.74583782,  101.04457032,  177.06417623,\n",
              "         751.27932109,   67.62538639]))"
            ]
          },
          "metadata": {},
          "execution_count": 111
        }
      ]
    },
    {
      "cell_type": "markdown",
      "metadata": {
        "id": "qgTUr_dlyOBe"
      },
      "source": [
        "Now score our model using the same dataset we used to fit the model."
      ]
    },
    {
      "cell_type": "code",
      "metadata": {
        "colab": {
          "base_uri": "https://localhost:8080/"
        },
        "id": "FC9TDK-OyQZt",
        "outputId": "9f4984a0-26df-43fc-93c1-e7ccce806a02"
      },
      "source": [
        "model.score(X=predictors, y=response)"
      ],
      "execution_count": 112,
      "outputs": [
        {
          "output_type": "execute_result",
          "data": {
            "text/plain": [
              "0.5177494254132934"
            ]
          },
          "metadata": {},
          "execution_count": 112
        }
      ]
    },
    {
      "cell_type": "code",
      "metadata": {
        "colab": {
          "base_uri": "https://localhost:8080/",
          "height": 465
        },
        "id": "VT5bhS6Byja1",
        "outputId": "ae215a29-c572-4ad5-b1f3-ee16d7ec32ad"
      },
      "source": [
        "import numpy as np\n",
        "response_predicted = model.predict(X=predictors)\n",
        "residuals = pd.DataFrame({'residuals': np.abs(response - response_predicted)})\n",
        "\n",
        "# the aes object contains only the variable that will be plotted on the x axis i.e. the one for which we want to generate a distribution\n",
        "p9.ggplot(residuals, p9.aes('residuals')) + p9.geom_histogram(bins=20)"
      ],
      "execution_count": 113,
      "outputs": [
        {
          "output_type": "display_data",
          "data": {
            "image/png": "[encoded data removed]",
            "text/plain": [
              "<Figure size 640x480 with 1 Axes>"
            ]
          },
          "metadata": {}
        },
        {
          "output_type": "execute_result",
          "data": {
            "text/plain": [
              "<ggplot: (8774178706189)>"
            ]
          },
          "metadata": {},
          "execution_count": 113
        }
      ]
    },
    {
      "cell_type": "code",
      "metadata": {
        "colab": {
          "base_uri": "https://localhost:8080/",
          "height": 491
        },
        "id": "EHo-AhM2RVds",
        "outputId": "86a959ed-2c2d-4c43-c310-4f5c927cd35a"
      },
      "source": [
        "p9.ggplot(response_dataframe, p9.aes('response')) + p9.geom_histogram(bins=20) + p9.ggtitle(\"Residuals\")"
      ],
      "execution_count": 114,
      "outputs": [
        {
          "output_type": "display_data",
          "data": {
            "image/png": "[encoded data removed]",
            "text/plain": [
              "<Figure size 640x480 with 1 Axes>"
            ]
          },
          "metadata": {}
        },
        {
          "output_type": "execute_result",
          "data": {
            "text/plain": [
              "<ggplot: (8774178455441)>"
            ]
          },
          "metadata": {},
          "execution_count": 114
        }
      ]
    },
    {
      "cell_type": "markdown",
      "metadata": {
        "id": "yVafaMoxysUX"
      },
      "source": [
        "## Exercise 2"
      ]
    },
    {
      "cell_type": "markdown",
      "metadata": {
        "id": "H-M7ZbGNyudv"
      },
      "source": [
        "Do a test-train split, and run Exercise 1 again, this time fitting your model with the training set, and scoring it both with the test set and with the training set."
      ]
    },
    {
      "cell_type": "markdown",
      "metadata": {
        "id": "gbYQflyKcDyi"
      },
      "source": [
        ""
      ]
    },
    {
      "cell_type": "code",
      "metadata": {
        "id": "dbIi6CHjyyEf"
      },
      "source": [
        "from sklearn.model_selection import train_test_split\n",
        "\n",
        "predictors_train, predictors_test, response_train, response_test = train_test_split(predictors, \n",
        "                                                                                    response,\n",
        "                                                                                    test_size=0.3, \n",
        "                                                                                    random_state=42, \n",
        "                                                                                    shuffle=True)"
      ],
      "execution_count": 115,
      "outputs": []
    },
    {
      "cell_type": "code",
      "metadata": {
        "colab": {
          "base_uri": "https://localhost:8080/"
        },
        "id": "I18YYsDtzVHO",
        "outputId": "a99bdc16-9198-448b-998f-9687f753ff5b"
      },
      "source": [
        "# Instantiate the model\n",
        "model = linear.LinearRegression()\n",
        "# Fit the pipeline\n",
        "model.fit(X=predictors_train, y=response_train)\n",
        "# Inspect the fit regression coefficients and intercept\n",
        "model.intercept_, model.coef_"
      ],
      "execution_count": 116,
      "outputs": [
        {
          "output_type": "execute_result",
          "data": {
            "text/plain": [
              "(151.00818273080338,\n",
              " array([  29.25034582, -261.70768053,  546.29737263,  388.40077257,\n",
              "        -901.95338706,  506.761149  ,  121.14845948,  288.02932495,\n",
              "         659.27133846,   41.37536901]))"
            ]
          },
          "metadata": {},
          "execution_count": 116
        }
      ]
    },
    {
      "cell_type": "code",
      "metadata": {
        "colab": {
          "base_uri": "https://localhost:8080/"
        },
        "id": "tdnVexiSzjEz",
        "outputId": "6f2bdc12-f94a-49cb-a302-97320dca0ed8"
      },
      "source": [
        "model.score(X=predictors_test, y=response_test)"
      ],
      "execution_count": 117,
      "outputs": [
        {
          "output_type": "execute_result",
          "data": {
            "text/plain": [
              "0.4772920174157329"
            ]
          },
          "metadata": {},
          "execution_count": 117
        }
      ]
    },
    {
      "cell_type": "code",
      "metadata": {
        "colab": {
          "base_uri": "https://localhost:8080/",
          "height": 465
        },
        "id": "q9nl7RP1zqXZ",
        "outputId": "d630cae7-ad09-44fb-843d-7b4828300959"
      },
      "source": [
        "response_predicted = model.predict(X=predictors_test)\n",
        "residuals = pd.DataFrame({'residuals': np.abs(response_test - response_predicted)})\n",
        "p9.ggplot(residuals, p9.aes('residuals')) + p9.geom_histogram(bins=20)"
      ],
      "execution_count": 118,
      "outputs": [
        {
          "output_type": "display_data",
          "data": {
            "image/png": "[encoded data removed]",
            "text/plain": [
              "<Figure size 640x480 with 1 Axes>"
            ]
          },
          "metadata": {}
        },
        {
          "output_type": "execute_result",
          "data": {
            "text/plain": [
              "<ggplot: (8774178297921)>"
            ]
          },
          "metadata": {},
          "execution_count": 118
        }
      ]
    },
    {
      "cell_type": "code",
      "metadata": {
        "colab": {
          "base_uri": "https://localhost:8080/",
          "height": 465
        },
        "id": "Cu57STm4z37w",
        "outputId": "602a35e1-d204-4cdd-c8be-28e320a65149"
      },
      "source": [
        "# Display the results as a scatter plot\n",
        "predictions = pd.DataFrame({'y': response_test, 'y_hat': response_predicted}) # plotnine works with pd.DataFrame\n",
        "\n",
        "(\n",
        "p9.ggplot(predictions, p9.aes('y', 'y_hat'))\n",
        "    + p9.geom_point()\n",
        "    + p9.scales.xlim(0, 400)\n",
        "    + p9.scales.ylim(0, 400)\n",
        ") # plotnine will emit a `PlotnineWarning` indicating that we have cropped some points from our plot"
      ],
      "execution_count": 119,
      "outputs": [
        {
          "output_type": "display_data",
          "data": {
            "image/png": "[encoded data removed]",
            "text/plain": [
              "<Figure size 640x480 with 1 Axes>"
            ]
          },
          "metadata": {}
        },
        {
          "output_type": "execute_result",
          "data": {
            "text/plain": [
              "<ggplot: (8774178628313)>"
            ]
          },
          "metadata": {},
          "execution_count": 119
        }
      ]
    },
    {
      "cell_type": "markdown",
      "metadata": {
        "id": "0_QxVfX20A0B"
      },
      "source": [
        "## Exercise 3"
      ]
    },
    {
      "cell_type": "markdown",
      "metadata": {
        "id": "IHGRPN3w0DyW"
      },
      "source": [
        "As with Exercise 2, but this time try using the default RandomForestRegressor instead. How do your results compare? Try just using one or two predictors."
      ]
    },
    {
      "cell_type": "code",
      "metadata": {
        "colab": {
          "base_uri": "https://localhost:8080/"
        },
        "id": "4fvTIt810Hfw",
        "outputId": "9d22138c-f1d3-4a8a-fb5f-fbbddad0dfdd"
      },
      "source": [
        "from sklearn import ensemble\n",
        "model = ensemble.RandomForestRegressor(n_estimators=100, max_depth=3)\n",
        "model.fit(X=predictors_train, y=response_train)"
      ],
      "execution_count": 120,
      "outputs": [
        {
          "output_type": "execute_result",
          "data": {
            "text/plain": [
              "RandomForestRegressor(bootstrap=True, ccp_alpha=0.0, criterion='mse',\n",
              "                      max_depth=3, max_features='auto', max_leaf_nodes=None,\n",
              "                      max_samples=None, min_impurity_decrease=0.0,\n",
              "                      min_impurity_split=None, min_samples_leaf=1,\n",
              "                      min_samples_split=2, min_weight_fraction_leaf=0.0,\n",
              "                      n_estimators=100, n_jobs=None, oob_score=False,\n",
              "                      random_state=None, verbose=0, warm_start=False)"
            ]
          },
          "metadata": {},
          "execution_count": 120
        }
      ]
    },
    {
      "cell_type": "code",
      "metadata": {
        "colab": {
          "base_uri": "https://localhost:8080/",
          "height": 465
        },
        "id": "zu5kTHpf0Pml",
        "outputId": "e8946925-43b9-4ef4-b8b9-d2a834aed5bf"
      },
      "source": [
        "response_predicted = model.predict(X=predictors_test)\n",
        "residuals = pd.DataFrame({'residuals': np.abs(response_test - response_predicted)})\n",
        "p9.ggplot(residuals, p9.aes('residuals')) + p9.geom_histogram(bins=20)"
      ],
      "execution_count": 121,
      "outputs": [
        {
          "output_type": "display_data",
          "data": {
            "image/png": "[encoded data removed]",
            "text/plain": [
              "<Figure size 640x480 with 1 Axes>"
            ]
          },
          "metadata": {}
        },
        {
          "output_type": "execute_result",
          "data": {
            "text/plain": [
              "<ggplot: (8774178456861)>"
            ]
          },
          "metadata": {},
          "execution_count": 121
        }
      ]
    },
    {
      "cell_type": "code",
      "metadata": {
        "colab": {
          "base_uri": "https://localhost:8080/",
          "height": 491
        },
        "id": "aUSR1XYbSV1j",
        "outputId": "9060397a-9079-4ea7-dde9-e01f4d9d02af"
      },
      "source": [
        "p9.ggplot(response_dataframe, p9.aes('response')) + p9.geom_histogram(bins=20) + p9.ggtitle(\"Residuals\")"
      ],
      "execution_count": 122,
      "outputs": [
        {
          "output_type": "display_data",
          "data": {
            "image/png": "[encoded data removed]",
            "text/plain": [
              "<Figure size 640x480 with 1 Axes>"
            ]
          },
          "metadata": {}
        },
        {
          "output_type": "execute_result",
          "data": {
            "text/plain": [
              "<ggplot: (8774178614149)>"
            ]
          },
          "metadata": {},
          "execution_count": 122
        }
      ]
    },
    {
      "cell_type": "markdown",
      "metadata": {
        "id": "lVC3ZBT30Xn-"
      },
      "source": [
        "A little bit of experimentation with C and gamma means we now beat the linear model - just!"
      ]
    },
    {
      "cell_type": "code",
      "metadata": {
        "colab": {
          "base_uri": "https://localhost:8080/"
        },
        "id": "fU9Kev_O0ZTL",
        "outputId": "9076b394-6965-4bff-f8dd-e1d7fb3cecbc"
      },
      "source": [
        "model.score(X=predictors_test, y=response_test)"
      ],
      "execution_count": 123,
      "outputs": [
        {
          "output_type": "execute_result",
          "data": {
            "text/plain": [
              "0.48374522204294873"
            ]
          },
          "metadata": {},
          "execution_count": 123
        }
      ]
    },
    {
      "cell_type": "code",
      "metadata": {
        "colab": {
          "base_uri": "https://localhost:8080/",
          "height": 538
        },
        "id": "YFFhAGQ90foa",
        "outputId": "613379e5-7b32-4eb4-9080-87f322139aae"
      },
      "source": [
        "predictions = pd.DataFrame({'y': response_test, 'y_hat': response_predicted}) # plotnine works with pd.DataFrame\n",
        "\n",
        "(\n",
        "p9.ggplot(predictions, p9.aes('y', 'y_hat'))\n",
        "    + p9.geom_point()\n",
        "    + p9.scales.xlim(0, 300)\n",
        "    + p9.scales.ylim(0, 300)\n",
        ")"
      ],
      "execution_count": 124,
      "outputs": [
        {
          "output_type": "stream",
          "name": "stderr",
          "text": [
            "/usr/local/lib/python3.7/dist-packages/plotnine/layer.py:452: PlotnineWarning:\n",
            "\n",
            "geom_point : Removed 1 rows containing missing values.\n",
            "\n"
          ]
        },
        {
          "output_type": "display_data",
          "data": {
            "image/png": "[encoded data removed]",
            "text/plain": [
              "<Figure size 640x480 with 1 Axes>"
            ]
          },
          "metadata": {}
        },
        {
          "output_type": "execute_result",
          "data": {
            "text/plain": [
              "<ggplot: (8774178306541)>"
            ]
          },
          "metadata": {},
          "execution_count": 124
        }
      ]
    },
    {
      "cell_type": "markdown",
      "metadata": {
        "id": "hrEQeHmZ1OUY"
      },
      "source": [
        "## Exercise 4"
      ]
    },
    {
      "cell_type": "markdown",
      "metadata": {
        "id": "wJvPTjHW1QMv"
      },
      "source": [
        "Dive into the documentation of RandomForestRegressor and try tweaking some of the hyperparameters to see how this affects your model score on the training and test datasets ('n_estimators' and 'max_depth' are good places to start). If you want do delve deeper this blog post is a nice introduction to the concepts of cross-validation and hyperparameter tuning (more on this next week though!)."
      ]
    },
    {
      "cell_type": "code",
      "metadata": {
        "id": "MhjCkcZG1RUe"
      },
      "source": [
        "n_estimators_min, n_estimators_max = 2, 100\n",
        "max_depth_min, max_depth_max = 2, 10"
      ],
      "execution_count": 125,
      "outputs": []
    },
    {
      "cell_type": "code",
      "metadata": {
        "id": "FQD-YmOQ1U6l"
      },
      "source": [
        "grid_parameters = np.mgrid[n_estimators_min - 1:n_estimators_max + 1:20j,  max_depth_min - 1:max_depth_max + 1:9j]\n",
        "parameters = grid_parameters.reshape((2, -1)).T"
      ],
      "execution_count": 126,
      "outputs": []
    },
    {
      "cell_type": "code",
      "metadata": {
        "id": "2e8ySx411WoS",
        "colab": {
          "base_uri": "https://localhost:8080/"
        },
        "outputId": "7db57de1-b230-41b9-d980-4f8d1cea896a"
      },
      "source": [
        "scores = np.empty(parameters.shape[0])\n",
        "for i, (n_estimators, max_depth) in enumerate(parameters):\n",
        "    print(\"i: \", i)\n",
        "    print(\"n_estimators: \", int(n_estimators))\n",
        "    print(\"max_depth: \", int(max_depth))\n",
        "    model = ensemble.RandomForestRegressor(n_estimators=int(n_estimators), max_depth=int(max_depth), random_state = np.random.seed(1234))\n",
        "    model.fit(X=predictors_train, y=response_train)\n",
        "    score = model.score(X=predictors_test, y=response_test)\n",
        "    print(\"score: \", score)\n",
        "    scores[i] = score"
      ],
      "execution_count": 127,
      "outputs": [
        {
          "output_type": "stream",
          "name": "stdout",
          "text": [
            "i:  0\n",
            "n_estimators:  1\n",
            "max_depth:  1\n",
            "score:  0.39866465124442146\n",
            "i:  1\n",
            "n_estimators:  1\n",
            "max_depth:  2\n",
            "score:  0.306769087559461\n",
            "i:  2\n",
            "n_estimators:  1\n",
            "max_depth:  3\n",
            "score:  0.23537940596017193\n",
            "i:  3\n",
            "n_estimators:  1\n",
            "max_depth:  4\n",
            "score:  0.2551777542118129\n",
            "i:  4\n",
            "n_estimators:  1\n",
            "max_depth:  6\n",
            "score:  0.04294079199629808\n",
            "i:  5\n",
            "n_estimators:  1\n",
            "max_depth:  7\n",
            "score:  -0.058883156084337474\n",
            "i:  6\n",
            "n_estimators:  1\n",
            "max_depth:  8\n",
            "score:  -0.019560471309697514\n",
            "i:  7\n",
            "n_estimators:  1\n",
            "max_depth:  9\n",
            "score:  0.11860145113733146\n",
            "i:  8\n",
            "n_estimators:  1\n",
            "max_depth:  11\n",
            "score:  -0.08161897157565323\n",
            "i:  9\n",
            "n_estimators:  6\n",
            "max_depth:  1\n",
            "score:  0.3780196737636643\n",
            "i:  10\n",
            "n_estimators:  6\n",
            "max_depth:  2\n",
            "score:  0.44998274844942493\n",
            "i:  11\n",
            "n_estimators:  6\n",
            "max_depth:  3\n",
            "score:  0.4879548973404236\n",
            "i:  12\n",
            "n_estimators:  6\n",
            "max_depth:  4\n",
            "score:  0.51327702639602\n",
            "i:  13\n",
            "n_estimators:  6\n",
            "max_depth:  6\n",
            "score:  0.42190409090172387\n",
            "i:  14\n",
            "n_estimators:  6\n",
            "max_depth:  7\n",
            "score:  0.3819892642997613\n",
            "i:  15\n",
            "n_estimators:  6\n",
            "max_depth:  8\n",
            "score:  0.39211979339640607\n",
            "i:  16\n",
            "n_estimators:  6\n",
            "max_depth:  9\n",
            "score:  0.3640659759806115\n",
            "i:  17\n",
            "n_estimators:  6\n",
            "max_depth:  11\n",
            "score:  0.3572782412013584\n",
            "i:  18\n",
            "n_estimators:  11\n",
            "max_depth:  1\n",
            "score:  0.36984532171112483\n",
            "i:  19\n",
            "n_estimators:  11\n",
            "max_depth:  2\n",
            "score:  0.45076507505578123\n",
            "i:  20\n",
            "n_estimators:  11\n",
            "max_depth:  3\n",
            "score:  0.48365181150801756\n",
            "i:  21\n",
            "n_estimators:  11\n",
            "max_depth:  4\n",
            "score:  0.4863042325763615\n",
            "i:  22\n",
            "n_estimators:  11\n",
            "max_depth:  6\n",
            "score:  0.4301385579045668\n",
            "i:  23\n",
            "n_estimators:  11\n",
            "max_depth:  7\n",
            "score:  0.4107187698418814\n",
            "i:  24\n",
            "n_estimators:  11\n",
            "max_depth:  8\n",
            "score:  0.43352614165181724\n",
            "i:  25\n",
            "n_estimators:  11\n",
            "max_depth:  9\n",
            "score:  0.4036445148800875\n",
            "i:  26\n",
            "n_estimators:  11\n",
            "max_depth:  11\n",
            "score:  0.38814951028256467\n",
            "i:  27\n",
            "n_estimators:  16\n",
            "max_depth:  1\n",
            "score:  0.3553509209864816\n",
            "i:  28\n",
            "n_estimators:  16\n",
            "max_depth:  2\n",
            "score:  0.459641187457852\n",
            "i:  29\n",
            "n_estimators:  16\n",
            "max_depth:  3\n",
            "score:  0.4899720159660349\n",
            "i:  30\n",
            "n_estimators:  16\n",
            "max_depth:  4\n",
            "score:  0.47389304739278126\n",
            "i:  31\n",
            "n_estimators:  16\n",
            "max_depth:  6\n",
            "score:  0.442059439714538\n",
            "i:  32\n",
            "n_estimators:  16\n",
            "max_depth:  7\n",
            "score:  0.43364774756853436\n",
            "i:  33\n",
            "n_estimators:  16\n",
            "max_depth:  8\n",
            "score:  0.4407572133978949\n",
            "i:  34\n",
            "n_estimators:  16\n",
            "max_depth:  9\n",
            "score:  0.41579974432170963\n",
            "i:  35\n",
            "n_estimators:  16\n",
            "max_depth:  11\n",
            "score:  0.42272315925577775\n",
            "i:  36\n",
            "n_estimators:  22\n",
            "max_depth:  1\n",
            "score:  0.36088736381484277\n",
            "i:  37\n",
            "n_estimators:  22\n",
            "max_depth:  2\n",
            "score:  0.454309835415832\n",
            "i:  38\n",
            "n_estimators:  22\n",
            "max_depth:  3\n",
            "score:  0.4973073182822041\n",
            "i:  39\n",
            "n_estimators:  22\n",
            "max_depth:  4\n",
            "score:  0.47955023524324186\n",
            "i:  40\n",
            "n_estimators:  22\n",
            "max_depth:  6\n",
            "score:  0.4478773541393674\n",
            "i:  41\n",
            "n_estimators:  22\n",
            "max_depth:  7\n",
            "score:  0.44400255072919365\n",
            "i:  42\n",
            "n_estimators:  22\n",
            "max_depth:  8\n",
            "score:  0.44888583201637805\n",
            "i:  43\n",
            "n_estimators:  22\n",
            "max_depth:  9\n",
            "score:  0.4278521871154358\n",
            "i:  44\n",
            "n_estimators:  22\n",
            "max_depth:  11\n",
            "score:  0.42381029906654555\n",
            "i:  45\n",
            "n_estimators:  27\n",
            "max_depth:  1\n",
            "score:  0.3697333733150714\n",
            "i:  46\n",
            "n_estimators:  27\n",
            "max_depth:  2\n",
            "score:  0.4516110052148889\n",
            "i:  47\n",
            "n_estimators:  27\n",
            "max_depth:  3\n",
            "score:  0.49099906652302244\n",
            "i:  48\n",
            "n_estimators:  27\n",
            "max_depth:  4\n",
            "score:  0.47719431420346176\n",
            "i:  49\n",
            "n_estimators:  27\n",
            "max_depth:  6\n",
            "score:  0.44317470362130085\n",
            "i:  50\n",
            "n_estimators:  27\n",
            "max_depth:  7\n",
            "score:  0.43375324761219536\n",
            "i:  51\n",
            "n_estimators:  27\n",
            "max_depth:  8\n",
            "score:  0.4387848037542389\n",
            "i:  52\n",
            "n_estimators:  27\n",
            "max_depth:  9\n",
            "score:  0.4203286451458963\n",
            "i:  53\n",
            "n_estimators:  27\n",
            "max_depth:  11\n",
            "score:  0.41937248100677976\n",
            "i:  54\n",
            "n_estimators:  32\n",
            "max_depth:  1\n",
            "score:  0.37835466673608614\n",
            "i:  55\n",
            "n_estimators:  32\n",
            "max_depth:  2\n",
            "score:  0.46024726455937987\n",
            "i:  56\n",
            "n_estimators:  32\n",
            "max_depth:  3\n",
            "score:  0.4904854008421249\n",
            "i:  57\n",
            "n_estimators:  32\n",
            "max_depth:  4\n",
            "score:  0.4772007689972837\n",
            "i:  58\n",
            "n_estimators:  32\n",
            "max_depth:  6\n",
            "score:  0.4461003337668487\n",
            "i:  59\n",
            "n_estimators:  32\n",
            "max_depth:  7\n",
            "score:  0.4408892543015806\n",
            "i:  60\n",
            "n_estimators:  32\n",
            "max_depth:  8\n",
            "score:  0.4434423178295383\n",
            "i:  61\n",
            "n_estimators:  32\n",
            "max_depth:  9\n",
            "score:  0.4216032937208203\n",
            "i:  62\n",
            "n_estimators:  32\n",
            "max_depth:  11\n",
            "score:  0.4339338785531122\n",
            "i:  63\n",
            "n_estimators:  37\n",
            "max_depth:  1\n",
            "score:  0.3704470253302158\n",
            "i:  64\n",
            "n_estimators:  37\n",
            "max_depth:  2\n",
            "score:  0.46568257104950694\n",
            "i:  65\n",
            "n_estimators:  37\n",
            "max_depth:  3\n",
            "score:  0.49410494660481247\n",
            "i:  66\n",
            "n_estimators:  37\n",
            "max_depth:  4\n",
            "score:  0.481766402806162\n",
            "i:  67\n",
            "n_estimators:  37\n",
            "max_depth:  6\n",
            "score:  0.4504319341862699\n",
            "i:  68\n",
            "n_estimators:  37\n",
            "max_depth:  7\n",
            "score:  0.44709183450442636\n",
            "i:  69\n",
            "n_estimators:  37\n",
            "max_depth:  8\n",
            "score:  0.4505235143797127\n",
            "i:  70\n",
            "n_estimators:  37\n",
            "max_depth:  9\n",
            "score:  0.4290579938506274\n",
            "i:  71\n",
            "n_estimators:  37\n",
            "max_depth:  11\n",
            "score:  0.4421912093686601\n",
            "i:  72\n",
            "n_estimators:  43\n",
            "max_depth:  1\n",
            "score:  0.36336611425317533\n",
            "i:  73\n",
            "n_estimators:  43\n",
            "max_depth:  2\n",
            "score:  0.46182287043599657\n",
            "i:  74\n",
            "n_estimators:  43\n",
            "max_depth:  3\n",
            "score:  0.49126952356506987\n",
            "i:  75\n",
            "n_estimators:  43\n",
            "max_depth:  4\n",
            "score:  0.4817768438126981\n",
            "i:  76\n",
            "n_estimators:  43\n",
            "max_depth:  6\n",
            "score:  0.4502225463610848\n",
            "i:  77\n",
            "n_estimators:  43\n",
            "max_depth:  7\n",
            "score:  0.4476048907431434\n",
            "i:  78\n",
            "n_estimators:  43\n",
            "max_depth:  8\n",
            "score:  0.45870332062495156\n",
            "i:  79\n",
            "n_estimators:  43\n",
            "max_depth:  9\n",
            "score:  0.435989003163685\n",
            "i:  80\n",
            "n_estimators:  43\n",
            "max_depth:  11\n",
            "score:  0.44506649025547584\n",
            "i:  81\n",
            "n_estimators:  48\n",
            "max_depth:  1\n",
            "score:  0.3676061287951833\n",
            "i:  82\n",
            "n_estimators:  48\n",
            "max_depth:  2\n",
            "score:  0.46292409592096095\n",
            "i:  83\n",
            "n_estimators:  48\n",
            "max_depth:  3\n",
            "score:  0.4926656968806209\n",
            "i:  84\n",
            "n_estimators:  48\n",
            "max_depth:  4\n",
            "score:  0.48339787301404696\n",
            "i:  85\n",
            "n_estimators:  48\n",
            "max_depth:  6\n",
            "score:  0.45018229117843933\n",
            "i:  86\n",
            "n_estimators:  48\n",
            "max_depth:  7\n",
            "score:  0.4470335872888837\n",
            "i:  87\n",
            "n_estimators:  48\n",
            "max_depth:  8\n",
            "score:  0.4579477922654058\n",
            "i:  88\n",
            "n_estimators:  48\n",
            "max_depth:  9\n",
            "score:  0.4386013974570853\n",
            "i:  89\n",
            "n_estimators:  48\n",
            "max_depth:  11\n",
            "score:  0.4443718456335763\n",
            "i:  90\n",
            "n_estimators:  53\n",
            "max_depth:  1\n",
            "score:  0.357453277245141\n",
            "i:  91\n",
            "n_estimators:  53\n",
            "max_depth:  2\n",
            "score:  0.4606173500466777\n",
            "i:  92\n",
            "n_estimators:  53\n",
            "max_depth:  3\n",
            "score:  0.490201618079575\n",
            "i:  93\n",
            "n_estimators:  53\n",
            "max_depth:  4\n",
            "score:  0.4819000390085507\n",
            "i:  94\n",
            "n_estimators:  53\n",
            "max_depth:  6\n",
            "score:  0.4495386335622937\n",
            "i:  95\n",
            "n_estimators:  53\n",
            "max_depth:  7\n",
            "score:  0.4454651573975436\n",
            "i:  96\n",
            "n_estimators:  53\n",
            "max_depth:  8\n",
            "score:  0.4553205316033258\n",
            "i:  97\n",
            "n_estimators:  53\n",
            "max_depth:  9\n",
            "score:  0.4394801298476542\n",
            "i:  98\n",
            "n_estimators:  53\n",
            "max_depth:  11\n",
            "score:  0.4457274869646778\n",
            "i:  99\n",
            "n_estimators:  58\n",
            "max_depth:  1\n",
            "score:  0.35434530136425757\n",
            "i:  100\n",
            "n_estimators:  58\n",
            "max_depth:  2\n",
            "score:  0.4564795580977993\n",
            "i:  101\n",
            "n_estimators:  58\n",
            "max_depth:  3\n",
            "score:  0.4878843239181612\n",
            "i:  102\n",
            "n_estimators:  58\n",
            "max_depth:  4\n",
            "score:  0.4833780021339482\n",
            "i:  103\n",
            "n_estimators:  58\n",
            "max_depth:  6\n",
            "score:  0.45657363239191623\n",
            "i:  104\n",
            "n_estimators:  58\n",
            "max_depth:  7\n",
            "score:  0.45202722656298217\n",
            "i:  105\n",
            "n_estimators:  58\n",
            "max_depth:  8\n",
            "score:  0.4622280916400436\n",
            "i:  106\n",
            "n_estimators:  58\n",
            "max_depth:  9\n",
            "score:  0.44550456698070195\n",
            "i:  107\n",
            "n_estimators:  58\n",
            "max_depth:  11\n",
            "score:  0.4488414555964607\n",
            "i:  108\n",
            "n_estimators:  64\n",
            "max_depth:  1\n",
            "score:  0.34533879033416526\n",
            "i:  109\n",
            "n_estimators:  64\n",
            "max_depth:  2\n",
            "score:  0.4546528513370413\n",
            "i:  110\n",
            "n_estimators:  64\n",
            "max_depth:  3\n",
            "score:  0.4879607859735964\n",
            "i:  111\n",
            "n_estimators:  64\n",
            "max_depth:  4\n",
            "score:  0.4817812767692919\n",
            "i:  112\n",
            "n_estimators:  64\n",
            "max_depth:  6\n",
            "score:  0.45954288111324376\n",
            "i:  113\n",
            "n_estimators:  64\n",
            "max_depth:  7\n",
            "score:  0.4566875313251756\n",
            "i:  114\n",
            "n_estimators:  64\n",
            "max_depth:  8\n",
            "score:  0.4631279516984359\n",
            "i:  115\n",
            "n_estimators:  64\n",
            "max_depth:  9\n",
            "score:  0.45024271384240455\n",
            "i:  116\n",
            "n_estimators:  64\n",
            "max_depth:  11\n",
            "score:  0.45254393817018335\n",
            "i:  117\n",
            "n_estimators:  69\n",
            "max_depth:  1\n",
            "score:  0.3432749677935766\n",
            "i:  118\n",
            "n_estimators:  69\n",
            "max_depth:  2\n",
            "score:  0.4557019217890939\n",
            "i:  119\n",
            "n_estimators:  69\n",
            "max_depth:  3\n",
            "score:  0.4894122110783089\n",
            "i:  120\n",
            "n_estimators:  69\n",
            "max_depth:  4\n",
            "score:  0.4854409184985056\n",
            "i:  121\n",
            "n_estimators:  69\n",
            "max_depth:  6\n",
            "score:  0.46314464999879834\n",
            "i:  122\n",
            "n_estimators:  69\n",
            "max_depth:  7\n",
            "score:  0.4600981044925765\n",
            "i:  123\n",
            "n_estimators:  69\n",
            "max_depth:  8\n",
            "score:  0.4663533411733295\n",
            "i:  124\n",
            "n_estimators:  69\n",
            "max_depth:  9\n",
            "score:  0.45576383435498996\n",
            "i:  125\n",
            "n_estimators:  69\n",
            "max_depth:  11\n",
            "score:  0.45565125335263945\n",
            "i:  126\n",
            "n_estimators:  74\n",
            "max_depth:  1\n",
            "score:  0.3359303987327086\n",
            "i:  127\n",
            "n_estimators:  74\n",
            "max_depth:  2\n",
            "score:  0.45406329232398374\n",
            "i:  128\n",
            "n_estimators:  74\n",
            "max_depth:  3\n",
            "score:  0.48854588776650487\n",
            "i:  129\n",
            "n_estimators:  74\n",
            "max_depth:  4\n",
            "score:  0.485748529268879\n",
            "i:  130\n",
            "n_estimators:  74\n",
            "max_depth:  6\n",
            "score:  0.46411412689626297\n",
            "i:  131\n",
            "n_estimators:  74\n",
            "max_depth:  7\n",
            "score:  0.45992822203679734\n",
            "i:  132\n",
            "n_estimators:  74\n",
            "max_depth:  8\n",
            "score:  0.4677948258313755\n",
            "i:  133\n",
            "n_estimators:  74\n",
            "max_depth:  9\n",
            "score:  0.45934708549787445\n",
            "i:  134\n",
            "n_estimators:  74\n",
            "max_depth:  11\n",
            "score:  0.4586575612867\n",
            "i:  135\n",
            "n_estimators:  79\n",
            "max_depth:  1\n",
            "score:  0.33602376031413483\n",
            "i:  136\n",
            "n_estimators:  79\n",
            "max_depth:  2\n",
            "score:  0.45520074223004103\n",
            "i:  137\n",
            "n_estimators:  79\n",
            "max_depth:  3\n",
            "score:  0.4874398530305569\n",
            "i:  138\n",
            "n_estimators:  79\n",
            "max_depth:  4\n",
            "score:  0.48571336623465394\n",
            "i:  139\n",
            "n_estimators:  79\n",
            "max_depth:  6\n",
            "score:  0.46560079377502106\n",
            "i:  140\n",
            "n_estimators:  79\n",
            "max_depth:  7\n",
            "score:  0.4618081382623014\n",
            "i:  141\n",
            "n_estimators:  79\n",
            "max_depth:  8\n",
            "score:  0.46703050248877487\n",
            "i:  142\n",
            "n_estimators:  79\n",
            "max_depth:  9\n",
            "score:  0.4624315280612192\n",
            "i:  143\n",
            "n_estimators:  79\n",
            "max_depth:  11\n",
            "score:  0.45959261010225455\n",
            "i:  144\n",
            "n_estimators:  85\n",
            "max_depth:  1\n",
            "score:  0.3292239996195545\n",
            "i:  145\n",
            "n_estimators:  85\n",
            "max_depth:  2\n",
            "score:  0.455418535196766\n",
            "i:  146\n",
            "n_estimators:  85\n",
            "max_depth:  3\n",
            "score:  0.48891609584982165\n",
            "i:  147\n",
            "n_estimators:  85\n",
            "max_depth:  4\n",
            "score:  0.48794846786212215\n",
            "i:  148\n",
            "n_estimators:  85\n",
            "max_depth:  6\n",
            "score:  0.4687901576906246\n",
            "i:  149\n",
            "n_estimators:  85\n",
            "max_depth:  7\n",
            "score:  0.4603867897930324\n",
            "i:  150\n",
            "n_estimators:  85\n",
            "max_depth:  8\n",
            "score:  0.46606314481445776\n",
            "i:  151\n",
            "n_estimators:  85\n",
            "max_depth:  9\n",
            "score:  0.46160721571596236\n",
            "i:  152\n",
            "n_estimators:  85\n",
            "max_depth:  11\n",
            "score:  0.4613462845228423\n",
            "i:  153\n",
            "n_estimators:  90\n",
            "max_depth:  1\n",
            "score:  0.33304343472338727\n",
            "i:  154\n",
            "n_estimators:  90\n",
            "max_depth:  2\n",
            "score:  0.45374495473999055\n",
            "i:  155\n",
            "n_estimators:  90\n",
            "max_depth:  3\n",
            "score:  0.4868934926282202\n",
            "i:  156\n",
            "n_estimators:  90\n",
            "max_depth:  4\n",
            "score:  0.4860933933135499\n",
            "i:  157\n",
            "n_estimators:  90\n",
            "max_depth:  6\n",
            "score:  0.46636287926398\n",
            "i:  158\n",
            "n_estimators:  90\n",
            "max_depth:  7\n",
            "score:  0.45639136558667914\n",
            "i:  159\n",
            "n_estimators:  90\n",
            "max_depth:  8\n",
            "score:  0.4629846596728272\n",
            "i:  160\n",
            "n_estimators:  90\n",
            "max_depth:  9\n",
            "score:  0.45820420585596977\n",
            "i:  161\n",
            "n_estimators:  90\n",
            "max_depth:  11\n",
            "score:  0.4573177428213588\n",
            "i:  162\n",
            "n_estimators:  95\n",
            "max_depth:  1\n",
            "score:  0.33234132555916907\n",
            "i:  163\n",
            "n_estimators:  95\n",
            "max_depth:  2\n",
            "score:  0.4539648442507722\n",
            "i:  164\n",
            "n_estimators:  95\n",
            "max_depth:  3\n",
            "score:  0.4858605786307656\n",
            "i:  165\n",
            "n_estimators:  95\n",
            "max_depth:  4\n",
            "score:  0.48598074035077016\n",
            "i:  166\n",
            "n_estimators:  95\n",
            "max_depth:  6\n",
            "score:  0.46555706923315743\n",
            "i:  167\n",
            "n_estimators:  95\n",
            "max_depth:  7\n",
            "score:  0.45686073502816277\n",
            "i:  168\n",
            "n_estimators:  95\n",
            "max_depth:  8\n",
            "score:  0.46265549835428155\n",
            "i:  169\n",
            "n_estimators:  95\n",
            "max_depth:  9\n",
            "score:  0.4584366344820383\n",
            "i:  170\n",
            "n_estimators:  95\n",
            "max_depth:  11\n",
            "score:  0.4559414511135862\n",
            "i:  171\n",
            "n_estimators:  101\n",
            "max_depth:  1\n",
            "score:  0.3317501676378305\n",
            "i:  172\n",
            "n_estimators:  101\n",
            "max_depth:  2\n",
            "score:  0.4551637184761236\n",
            "i:  173\n",
            "n_estimators:  101\n",
            "max_depth:  3\n",
            "score:  0.48594862542932993\n",
            "i:  174\n",
            "n_estimators:  101\n",
            "max_depth:  4\n",
            "score:  0.4857952558252941\n",
            "i:  175\n",
            "n_estimators:  101\n",
            "max_depth:  6\n",
            "score:  0.4631861077827467\n",
            "i:  176\n",
            "n_estimators:  101\n",
            "max_depth:  7\n",
            "score:  0.4564377541092188\n",
            "i:  177\n",
            "n_estimators:  101\n",
            "max_depth:  8\n",
            "score:  0.4612055970394475\n",
            "i:  178\n",
            "n_estimators:  101\n",
            "max_depth:  9\n",
            "score:  0.45635418423968593\n",
            "i:  179\n",
            "n_estimators:  101\n",
            "max_depth:  11\n",
            "score:  0.45392129681712595\n"
          ]
        }
      ]
    },
    {
      "cell_type": "code",
      "metadata": {
        "colab": {
          "base_uri": "https://localhost:8080/"
        },
        "id": "6b_UGMv8Tntu",
        "outputId": "83cfabda-4a2f-49e1-afd6-e2c3ac273417"
      },
      "source": [
        "scores.max()"
      ],
      "execution_count": 128,
      "outputs": [
        {
          "output_type": "execute_result",
          "data": {
            "text/plain": [
              "0.51327702639602"
            ]
          },
          "metadata": {},
          "execution_count": 128
        }
      ]
    },
    {
      "cell_type": "code",
      "metadata": {
        "colab": {
          "base_uri": "https://localhost:8080/"
        },
        "id": "BmiQH-cPV-uM",
        "outputId": "2b6f6826-118b-46d3-bebe-15e49f1abf96"
      },
      "source": [
        "scores"
      ],
      "execution_count": 129,
      "outputs": [
        {
          "output_type": "execute_result",
          "data": {
            "text/plain": [
              "array([ 0.39866465,  0.30676909,  0.23537941,  0.25517775,  0.04294079,\n",
              "       -0.05888316, -0.01956047,  0.11860145, -0.08161897,  0.37801967,\n",
              "        0.44998275,  0.4879549 ,  0.51327703,  0.42190409,  0.38198926,\n",
              "        0.39211979,  0.36406598,  0.35727824,  0.36984532,  0.45076508,\n",
              "        0.48365181,  0.48630423,  0.43013856,  0.41071877,  0.43352614,\n",
              "        0.40364451,  0.38814951,  0.35535092,  0.45964119,  0.48997202,\n",
              "        0.47389305,  0.44205944,  0.43364775,  0.44075721,  0.41579974,\n",
              "        0.42272316,  0.36088736,  0.45430984,  0.49730732,  0.47955024,\n",
              "        0.44787735,  0.44400255,  0.44888583,  0.42785219,  0.4238103 ,\n",
              "        0.36973337,  0.45161101,  0.49099907,  0.47719431,  0.4431747 ,\n",
              "        0.43375325,  0.4387848 ,  0.42032865,  0.41937248,  0.37835467,\n",
              "        0.46024726,  0.4904854 ,  0.47720077,  0.44610033,  0.44088925,\n",
              "        0.44344232,  0.42160329,  0.43393388,  0.37044703,  0.46568257,\n",
              "        0.49410495,  0.4817664 ,  0.45043193,  0.44709183,  0.45052351,\n",
              "        0.42905799,  0.44219121,  0.36336611,  0.46182287,  0.49126952,\n",
              "        0.48177684,  0.45022255,  0.44760489,  0.45870332,  0.435989  ,\n",
              "        0.44506649,  0.36760613,  0.4629241 ,  0.4926657 ,  0.48339787,\n",
              "        0.45018229,  0.44703359,  0.45794779,  0.4386014 ,  0.44437185,\n",
              "        0.35745328,  0.46061735,  0.49020162,  0.48190004,  0.44953863,\n",
              "        0.44546516,  0.45532053,  0.43948013,  0.44572749,  0.3543453 ,\n",
              "        0.45647956,  0.48788432,  0.483378  ,  0.45657363,  0.45202723,\n",
              "        0.46222809,  0.44550457,  0.44884146,  0.34533879,  0.45465285,\n",
              "        0.48796079,  0.48178128,  0.45954288,  0.45668753,  0.46312795,\n",
              "        0.45024271,  0.45254394,  0.34327497,  0.45570192,  0.48941221,\n",
              "        0.48544092,  0.46314465,  0.4600981 ,  0.46635334,  0.45576383,\n",
              "        0.45565125,  0.3359304 ,  0.45406329,  0.48854589,  0.48574853,\n",
              "        0.46411413,  0.45992822,  0.46779483,  0.45934709,  0.45865756,\n",
              "        0.33602376,  0.45520074,  0.48743985,  0.48571337,  0.46560079,\n",
              "        0.46180814,  0.4670305 ,  0.46243153,  0.45959261,  0.329224  ,\n",
              "        0.45541854,  0.4889161 ,  0.48794847,  0.46879016,  0.46038679,\n",
              "        0.46606314,  0.46160722,  0.46134628,  0.33304343,  0.45374495,\n",
              "        0.48689349,  0.48609339,  0.46636288,  0.45639137,  0.46298466,\n",
              "        0.45820421,  0.45731774,  0.33234133,  0.45396484,  0.48586058,\n",
              "        0.48598074,  0.46555707,  0.45686074,  0.4626555 ,  0.45843663,\n",
              "        0.45594145,  0.33175017,  0.45516372,  0.48594863,  0.48579526,\n",
              "        0.46318611,  0.45643775,  0.4612056 ,  0.45635418,  0.4539213 ])"
            ]
          },
          "metadata": {},
          "execution_count": 129
        }
      ]
    },
    {
      "cell_type": "code",
      "metadata": {
        "colab": {
          "base_uri": "https://localhost:8080/"
        },
        "id": "pR27CucITzYL",
        "outputId": "4dd20cd1-7ebe-4204-ed77-db69a54e32ae"
      },
      "source": [
        "np.where(scores == scores.max())"
      ],
      "execution_count": 130,
      "outputs": [
        {
          "output_type": "execute_result",
          "data": {
            "text/plain": [
              "(array([12]),)"
            ]
          },
          "metadata": {},
          "execution_count": 130
        }
      ]
    },
    {
      "cell_type": "code",
      "metadata": {
        "id": "gYEfBMtf1YXF"
      },
      "source": [
        "scores = np.reshape(scores, (20, 9))"
      ],
      "execution_count": 131,
      "outputs": []
    },
    {
      "cell_type": "code",
      "metadata": {
        "colab": {
          "base_uri": "https://localhost:8080/",
          "height": 329
        },
        "id": "zyVsPTgN1aKS",
        "outputId": "853661ed-4182-4174-ff8f-e54f95dc5757"
      },
      "source": [
        "import matplotlib.pyplot as plt\n",
        "\n",
        "fig = plt.figure(figsize=(6, 4.5))\n",
        "ax = fig.add_subplot()\n",
        "ax.set_ylabel('max_depth')\n",
        "ax.set_xlabel('n_estimators')\n",
        "score_min, score_max = scores.min(), scores.max()\n",
        "plot = ax.imshow(\n",
        "    np.rot90(scores),\n",
        "    vmin=score_min,\n",
        "    vmax=score_max,\n",
        "    aspect='auto',\n",
        "    extent=(n_estimators_min - 1, n_estimators_max, max_depth_min - 1, max_depth_max),\n",
        "    cmap=plt.cm.viridis)\n",
        "\n",
        "fig.colorbar(plot, ax=ax)"
      ],
      "execution_count": 132,
      "outputs": [
        {
          "output_type": "execute_result",
          "data": {
            "text/plain": [
              "<matplotlib.colorbar.Colorbar at 0x7fae5c8c9e90>"
            ]
          },
          "metadata": {},
          "execution_count": 132
        },
        {
          "output_type": "display_data",
          "data": {
            "image/png": "[encoded data removed]",
            "text/plain": [
              "<Figure size 432x324 with 2 Axes>"
            ]
          },
          "metadata": {
            "needs_background": "light"
          }
        }
      ]
    },
    {
      "cell_type": "code",
      "metadata": {
        "colab": {
          "base_uri": "https://localhost:8080/"
        },
        "id": "m3n28zkb1wQb",
        "outputId": "d3038f71-cc56-4b25-8cf2-babe45ebfaaf"
      },
      "source": [
        "model = ensemble.RandomForestRegressor(n_estimators=6, max_depth=4, random_state = np.random.seed(1234))\n",
        "model.fit(X=predictors_train, y=response_train)"
      ],
      "execution_count": 133,
      "outputs": [
        {
          "output_type": "execute_result",
          "data": {
            "text/plain": [
              "RandomForestRegressor(bootstrap=True, ccp_alpha=0.0, criterion='mse',\n",
              "                      max_depth=4, max_features='auto', max_leaf_nodes=None,\n",
              "                      max_samples=None, min_impurity_decrease=0.0,\n",
              "                      min_impurity_split=None, min_samples_leaf=1,\n",
              "                      min_samples_split=2, min_weight_fraction_leaf=0.0,\n",
              "                      n_estimators=6, n_jobs=None, oob_score=False,\n",
              "                      random_state=None, verbose=0, warm_start=False)"
            ]
          },
          "metadata": {},
          "execution_count": 133
        }
      ]
    },
    {
      "cell_type": "code",
      "metadata": {
        "colab": {
          "base_uri": "https://localhost:8080/"
        },
        "id": "MDxEO8lY11nX",
        "outputId": "1b258dc9-c738-4ee3-d1c6-53839a6eb2a6"
      },
      "source": [
        "model.score(X=predictors_test, y=response_test)"
      ],
      "execution_count": 134,
      "outputs": [
        {
          "output_type": "execute_result",
          "data": {
            "text/plain": [
              "0.51327702639602"
            ]
          },
          "metadata": {},
          "execution_count": 134
        }
      ]
    },
    {
      "cell_type": "code",
      "metadata": {
        "colab": {
          "base_uri": "https://localhost:8080/"
        },
        "id": "3iOF-QDZ31Tz",
        "outputId": "093a9201-880b-4f22-a40d-7a96eb1e9958"
      },
      "source": [
        "from scipy import stats\n",
        "\n",
        "df = predictors_train\n",
        "z_scores = stats.zscore(df)\n",
        "abs_z_scores = np.abs(z_scores)\n",
        "filtered_entries = (abs_z_scores < 3).all(axis=1)\n",
        "new_predictors_train = df[filtered_entries]\n",
        "\n",
        "new_response_train = response_train[filtered_entries]\n",
        "\n",
        "new_predictors_train.shape"
      ],
      "execution_count": 135,
      "outputs": [
        {
          "output_type": "execute_result",
          "data": {
            "text/plain": [
              "(300, 10)"
            ]
          },
          "metadata": {},
          "execution_count": 135
        }
      ]
    },
    {
      "cell_type": "code",
      "metadata": {
        "colab": {
          "base_uri": "https://localhost:8080/"
        },
        "id": "hX1UQv1Q4gco",
        "outputId": "bd7e317c-d478-4e6c-8aee-293888d57d91"
      },
      "source": [
        "predictors_train.shape"
      ],
      "execution_count": 136,
      "outputs": [
        {
          "output_type": "execute_result",
          "data": {
            "text/plain": [
              "(309, 10)"
            ]
          },
          "metadata": {},
          "execution_count": 136
        }
      ]
    },
    {
      "cell_type": "code",
      "metadata": {
        "colab": {
          "base_uri": "https://localhost:8080/"
        },
        "id": "aN1TE0404sKB",
        "outputId": "9de4e32e-3362-46aa-a3fc-6b9ab38f01ca"
      },
      "source": [
        "model = ensemble.RandomForestRegressor(n_estimators=5, max_depth=3)\n",
        "model.fit(X=new_predictors_train, y=new_response_train)\n",
        "model.score(X=predictors_test, y=response_test)"
      ],
      "execution_count": 137,
      "outputs": [
        {
          "output_type": "execute_result",
          "data": {
            "text/plain": [
              "0.49035009812322566"
            ]
          },
          "metadata": {},
          "execution_count": 137
        }
      ]
    }
  ]
}
