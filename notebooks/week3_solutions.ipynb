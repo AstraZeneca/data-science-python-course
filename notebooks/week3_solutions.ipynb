{
 "cells": [
  {
   "cell_type": "markdown",
   "metadata": {},
   "source": [
    "# Week 3 Solutions\n",
    "## Exercise 1\n",
    "Plot the distribution of survival time for all patients, and use the *bins* parameter to change the granularity of the distribution"
   ]
  },
  {
   "cell_type": "code",
   "execution_count": null,
   "metadata": {},
   "outputs": [],
   "source": [
    "import numpy as np\n",
    "import pandas as pd\n",
    "import plotnine as p9"
   ]
  },
  {
   "cell_type": "code",
   "execution_count": null,
   "metadata": {},
   "outputs": [],
   "source": [
    "# read in data\n",
    "metabric = pd.read_csv(\"../data/metabric_clinical_and_expression_data.csv\").dropna()\n",
    "metabric.dtypes"
   ]
  },
  {
   "cell_type": "code",
   "execution_count": null,
   "metadata": {},
   "outputs": [],
   "source": [
    "# plot histogram\n",
    "(\n",
    "p9.ggplot(metabric, p9.aes(\"Survival_time\"))\n",
    "    + p9.geom_histogram(bins=30)\n",
    ")\n",
    "\n",
    "# bins=1000"
   ]
  },
  {
   "cell_type": "markdown",
   "metadata": {},
   "source": [
    "## Exercise 2\n",
    "Amend your code from exercise 1 to create interleaved distributions of survival time for ER positive and ER negative tumours."
   ]
  },
  {
   "cell_type": "code",
   "execution_count": null,
   "metadata": {},
   "outputs": [],
   "source": [
    "# interleaved histograms of survival time for ER- and ER+\n",
    "(\n",
    "p9.ggplot(metabric, p9.aes(\"Survival_time\", fill=\"ER_status\"))\n",
    "    + p9.geom_histogram(position=\"dodge\", bins=50)\n",
    ")"
   ]
  },
  {
   "cell_type": "markdown",
   "metadata": {},
   "source": [
    "## Exercise 3\n",
    "Generate a boxplot to compare survival time between different cancer types, incorporating the following features:\n",
    "1. Add points behind the boxes to show the raw data points\n",
    "2. Colour the boxes by Cancer type\n",
    "3. Separate the plot into individual facets for ER+ and ER-\n",
    "4. Rename the x axis to \"Type of cancer\"\n",
    "5. Rename the y axis to \"Survival time (months)\"\n",
    "6. Use a theme that removes the background colour and gridlines\n",
    "7. Remove the legend title\n",
    "8. Remove the X axis labels"
   ]
  },
  {
   "cell_type": "code",
   "execution_count": null,
   "metadata": {},
   "outputs": [],
   "source": [
    "# change the ER status values to give more informative facet titles in the plot\n",
    "metabric[\"ER_status\"] = metabric[\"ER_status\"].replace(\"Positive\", \"ER+\").replace(\"Negative\", \"ER-\")\n",
    "\n",
    "# generate the boxplot\n",
    "(\n",
    "# colouring by cancer type by passing Cancer_type to fill\n",
    "p9.ggplot(metabric, p9.aes(\"Cancer_type\", \"Survival_time\", fill=\"Cancer_type\"))\n",
    "    # plot the points, using geom_jitter to minimise overlaps\n",
    "    + p9.geom_jitter(alpha=0.9)\n",
    "    + p9.geom_boxplot(alpha=0.5)\n",
    "    # plot the boxes\n",
    "    # separate the plot into facets\n",
    "    + p9.facet_wrap(\"~ER_status\", nrow=2)\n",
    "    # rename the x axis\n",
    "    + p9.xlab(\"Type of cancer\")\n",
    "    # rename the y axis\n",
    "    + p9.ylab(\"Survival time (months)\")\n",
    "    # specify theme to remove background colour and gridlines\n",
    "    + p9.theme_classic()\n",
    "    + p9.theme(\n",
    "        # remove the legend title\n",
    "        legend_title = p9.element_blank(),\n",
    "        # suppress the x axis labels\n",
    "        axis_text_x = p9.element_blank(),\n",
    "        # remove the background from the facet titles\n",
    "        strip_background = p9.element_blank(),\n",
    "        #axis_text_x= p9.element_text(angle=45)\n",
    "        #axis_text_x  = p9.element_text(angle = 30, hjust = 1)\n",
    "    )\n",
    ")"
   ]
  }
 ],
 "metadata": {
  "kernelspec": {
   "display_name": "Python 3",
   "language": "python",
   "name": "python3"
  },
  "language_info": {
   "codemirror_mode": {
    "name": "ipython",
    "version": 3
   },
   "file_extension": ".py",
   "mimetype": "text/x-python",
   "name": "python",
   "nbconvert_exporter": "python",
   "pygments_lexer": "ipython3",
   "version": "3.8.2"
  }
 },
 "nbformat": 4,
 "nbformat_minor": 2
}
