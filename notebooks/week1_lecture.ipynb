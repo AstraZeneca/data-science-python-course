{
 "cells": [
  {
   "cell_type": "markdown",
   "id": "290083b0-00d6-4e22-863f-4594fc6e1b51",
   "metadata": {},
   "source": [
    "# Week 1 - Data Handling"
   ]
  },
  {
   "cell_type": "markdown",
   "id": "675459f7-9aec-4999-8d21-a208328af68d",
   "metadata": {},
   "source": [
    "This week we will be focusing on manipulating and performing basic operations on data within Python. The package we shall be using to do this is `pandas`, which provides data structures and operations for manipulating many different types of data."
   ]
  },
  {
   "cell_type": "markdown",
   "id": "607383ec-f9c3-4b27-8073-0b167d6c5d7f",
   "metadata": {},
   "source": [
    "Another popular package for these sort of tasks is `numpy`, which is particularly useful when performing more computationally involved operations on your data. We shall not be covering `numpy` today, but feel free to study it in your own time, e.g. by following [this tutorial](https://numpy.org/devdocs/user/quickstart.html)."
   ]
  },
  {
   "cell_type": "markdown",
   "id": "89eb5d76-32b2-4ec9-b9f2-9221dd37b7c7",
   "metadata": {},
   "source": [
    "## Useful References"
   ]
  },
  {
   "cell_type": "markdown",
   "id": "b0b7abf3-8106-49e4-8ba8-2992430efff5",
   "metadata": {},
   "source": [
    "There are many resources that you may find useful for using `pandas`, here are a few:\n",
    "\n",
    "- The `pandas` [documentation](https://pandas.pydata.org/docs/reference/index.html) - Contains reference information for all pandas objects, functions and methods.\n",
    "- The [Python Data Science Handbook](https://jakevdp.github.io/PythonDataScienceHandbook/03.00-introduction-to-pandas.html) - I find this very helpful as a reference when I want to look up how to perform a particular kind of task, rather than wanting to look up a specific function. It is only introductory so does not by any stretch cover everything, but what it does cover it covers well. It also contains material on `numpy`, `matplotlib` & `seaborn` (two packages commonly used together for data visualisation, and which we will cover next week), and `scikit-learn` (an accessible package for doing basic Machine Learning in Python, which will be covered later on in the course). "
   ]
  },
  {
   "cell_type": "markdown",
   "id": "eaa4673d-8902-44f7-aac6-5c46ac02c9a8",
   "metadata": {},
   "source": [
    "## Course Homepage"
   ]
  },
  {
   "cell_type": "markdown",
   "id": "58e1b95f-9555-4a10-8da3-2f8b7a437db5",
   "metadata": {},
   "source": [
    "Another source of resources for the whole course is the [course GitHub page](https://github.com/AstraZeneca/data-science-python-course). Here you can find all the notebooks used in class, as well as solutions to the exercises. "
   ]
  },
  {
   "cell_type": "markdown",
   "id": "8e1a7df3-8260-4cb4-8afa-9d4c8151d838",
   "metadata": {},
   "source": [
    "## Installing Pandas"
   ]
  },
  {
   "cell_type": "markdown",
   "id": "b4fc687b-8512-4510-ae77-7c3283f2932a",
   "metadata": {},
   "source": [
    "The module `pandas` does not come as part of the default Python or Jupyter installations. In order to install it in your system, launch the Command prompt just like we saw in week 0 and run the following command: `pip install pandas --user`. Once the command finishes execution, pandas will be installed in your system.\n",
    "\n",
    "**Note**: Depending on where you are installing the packages from, you may have to use a proxy, i.e. you may have to enter `pip install pandas --proxy \"http://azpzen.astrazeneca.net:9480\"` instead of `pip install pandas --user`.\n",
    "\n",
    "**Note**: If you have any issues installing pandas, please get in touch with one of the trainers or use the teams page.\n",
    "\n",
    "**Note**: You can use the same approach to install `numpy`, and other packages."
   ]
  },
  {
   "cell_type": "markdown",
   "id": "2945a040-8c67-44e2-912a-21420b836a9b",
   "metadata": {},
   "source": [
    "## Learning Objectives"
   ]
  },
  {
   "cell_type": "markdown",
   "id": "c028a610-8f66-4b6e-bc0a-b292bccc837a",
   "metadata": {},
   "source": [
    "After this week, you should be comfortable with performing the following tasks using `pandas`:\n",
    "\n",
    "- Reading in data as a `DataFrame`.\n",
    "- Selecting a subset of your data.\n",
    "- Creating new columns and modifying existing ones.\n",
    "- Summarising data sets via summary values, including seperating out the summaries by groups within the data.\n",
    "- Handling missing data.\n",
    "- Handling data spread across multiple datasets.\n",
    "\n",
    "**Note**: Any of these topics could be covered in almost endless depth. It is sufficient for this session to understand the basics of these topics, and how to go about learning them in more depth. "
   ]
  },
  {
   "cell_type": "markdown",
   "id": "7d350657-18a3-47e8-958a-3330f6e8a523",
   "metadata": {
    "tags": []
   },
   "source": [
    "## Loading pandas"
   ]
  },
  {
   "cell_type": "markdown",
   "id": "5d5cd835-b06d-493d-b66f-d444573e4749",
   "metadata": {},
   "source": [
    "Pandas is typically imported with the alias `pd`."
   ]
  },
  {
   "cell_type": "code",
   "execution_count": 2,
   "id": "b89f2c7a-6ab9-4c00-9290-9d0338225f85",
   "metadata": {},
   "outputs": [],
   "source": [
    "import pandas as pd"
   ]
  },
  {
   "cell_type": "markdown",
   "id": "930ea7fa-ea7c-46fe-9e70-3cb7d0eabbd4",
   "metadata": {
    "tags": []
   },
   "source": [
    "## Reading in Data "
   ]
  },
  {
   "cell_type": "markdown",
   "id": "5740a41f-07d6-4f6a-934f-3ff04a2ff319",
   "metadata": {},
   "source": [
    "The first step in any data analysis is to read in your data. We shall be using the METABRIC dataset `metabric_clinical_and_expression_data.csv`, which contains various types of information about patients with breast cancer."
   ]
  },
  {
   "cell_type": "markdown",
   "id": "5c487033-7298-4df1-8b30-887a685eae7d",
   "metadata": {},
   "source": [
    "Pandas contains different functions for reading in data from different formats. The function for reading in a csv file is `read_csv()`."
   ]
  },
  {
   "cell_type": "code",
   "execution_count": 3,
   "id": "abc8e277-4017-4a43-a2ec-667669bfadbf",
   "metadata": {},
   "outputs": [],
   "source": [
    "metabric = pd.read_csv('metabric_clinical_and_expression_data.csv')"
   ]
  },
  {
   "cell_type": "markdown",
   "id": "9f58dea3-6204-4bf4-9b15-afe126441281",
   "metadata": {},
   "source": [
    "**Note**: You will need to replace `'metabric_clinical_and_expression_data.csv'` with a file path for wherever you have the csv stored. Be aware that the copy path functionality in windows pastes in file paths with `\\` back slashes, but pandas requires `/` forward slashes. Alternatively, you can put an `r` in front of the string, e.g. `pd.read_csv(r\"C:\\Documents\\metabric_clinical_and_expression_data.csv\")`."
   ]
  },
  {
   "cell_type": "markdown",
   "id": "8da44311-bd3e-4ce1-965c-aff1762a6a57",
   "metadata": {},
   "source": [
    "The type of object the metabric dataset is now stored as is called a `DataFrame`. Typically the rows of a data frame correspond to **observations**, and the columns correspond to **variables**. "
   ]
  },
  {
   "cell_type": "markdown",
   "id": "01a1eb3f-f758-4b9d-8fa8-ff5c2edb9dcd",
   "metadata": {},
   "source": [
    "By default, `pandas` will assign each row an index starting from 0, as is standard in Python."
   ]
  },
  {
   "cell_type": "markdown",
   "id": "4f045b5d-e7fa-4ec0-8dc1-82cb9cf4965e",
   "metadata": {},
   "source": [
    "## Exploring Your Data"
   ]
  },
  {
   "cell_type": "markdown",
   "id": "83cdb202-29d0-4db3-bb48-2b65d437ef40",
   "metadata": {},
   "source": [
    "### A Refresher on Objects, Attributes and Methods"
   ]
  },
  {
   "cell_type": "markdown",
   "id": "16611712-2def-46e0-aa81-e954de01724c",
   "metadata": {},
   "source": [
    "Recall that objects in Python have **attributes** and **methods**."
   ]
  },
  {
   "cell_type": "markdown",
   "id": "04d7cee2-7237-4228-8c87-701b19af9628",
   "metadata": {},
   "source": [
    "An **attribute** is simply a property of the object. They can be accessed via the syntax `object.attribute`.\n",
    "\n",
    "For example, the `shape` attribute of a data frame contains information on the number of rows and columns."
   ]
  },
  {
   "cell_type": "code",
   "execution_count": null,
   "id": "1f2f1c85-ae07-4596-9829-ef78ff0d9e34",
   "metadata": {},
   "outputs": [],
   "source": [
    "metabric.shape"
   ]
  },
  {
   "cell_type": "markdown",
   "id": "f6b40c34-9d19-479f-be48-cc16cb59f801",
   "metadata": {},
   "source": [
    "The `columns` attribute gives us a list of the variables in the data frame."
   ]
  },
  {
   "cell_type": "code",
   "execution_count": 5,
   "id": "c98a0e5e-04fc-4726-b283-d16be28e5ac8",
   "metadata": {},
   "outputs": [
    {
     "data": {
      "text/plain": [
       "Index(['Patient_ID', 'Cohort', 'Age_at_diagnosis', 'Survival_time',\n",
       "       'Survival_status', 'Vital_status', 'Chemotherapy', 'Radiotherapy',\n",
       "       'Tumour_size', 'Tumour_stage', 'Neoplasm_histologic_grade',\n",
       "       'Lymph_nodes_examined_positive', 'Lymph_node_status', 'Cancer_type',\n",
       "       'ER_status', 'PR_status', 'HER2_status', 'HER2_status_measured_by_SNP6',\n",
       "       'PAM50', '3-gene_classifier', 'Nottingham_prognostic_index',\n",
       "       'Cellularity', 'Integrative_cluster', 'Mutation_count', 'ESR1', 'ERBB2',\n",
       "       'PGR', 'TP53', 'PIK3CA', 'GATA3', 'FOXA1', 'MLPH'],\n",
       "      dtype='object')"
      ]
     },
     "execution_count": 5,
     "metadata": {},
     "output_type": "execute_result"
    }
   ],
   "source": [
    "metabric.columns"
   ]
  },
  {
   "cell_type": "markdown",
   "id": "4b05bd9d-4fde-4995-89e4-4c8a303faa74",
   "metadata": {},
   "source": [
    "A **method** is a function specfically designed for a certain type of object. They can be called via the syntax `object.method()`. By default the first argument of the method is the object it is called on, any further arguments must be typed inside the brackets.\n",
    "\n",
    "For example, the `head()` method returns the first few rows of the data frame it is called on."
   ]
  },
  {
   "cell_type": "code",
   "execution_count": 9,
   "id": "80935484-3809-4270-8fb8-1d0026ff7c35",
   "metadata": {},
   "outputs": [
    {
     "data": {
      "text/plain": [
       "8       289\n",
       "3       282\n",
       "4ER+    244\n",
       "10      219\n",
       "5       184\n",
       "7       182\n",
       "9       142\n",
       "1       132\n",
       "6        84\n",
       "4ER-     74\n",
       "2        72\n",
       "Name: Integrative_cluster, dtype: int64"
      ]
     },
     "execution_count": 9,
     "metadata": {},
     "output_type": "execute_result"
    }
   ],
   "source": [
    "metabric.head() # Semantically equivalent to head(metabric)"
   ]
  },
  {
   "cell_type": "code",
   "execution_count": null,
   "id": "a299deea-e075-4805-99a9-57f050346880",
   "metadata": {},
   "outputs": [],
   "source": [
    "metabric.head(n=10) # Semantically equivalent to head(metabric, n=10)"
   ]
  },
  {
   "cell_type": "markdown",
   "id": "d9d912bc-d903-4d88-8afb-68e751333399",
   "metadata": {},
   "source": [
    "`describe()` provides summary statistics on all variables."
   ]
  },
  {
   "cell_type": "code",
   "execution_count": null,
   "id": "f84a60d0-ae10-4f84-b971-d63b4559e8db",
   "metadata": {},
   "outputs": [],
   "source": [
    "metabric.describe()"
   ]
  },
  {
   "cell_type": "markdown",
   "id": "b37486d6-bd98-4752-82ab-bb93ecac4eb3",
   "metadata": {},
   "source": [
    "Methods become much nicer to use than functions when you start using more than one of them."
   ]
  },
  {
   "cell_type": "code",
   "execution_count": null,
   "id": "c6380437-e8f5-4492-a89b-2381e13388d1",
   "metadata": {},
   "outputs": [],
   "source": [
    "metabric.head(n=10).describe() # Semantically equivalent to describe( head(metabric) )"
   ]
  },
  {
   "cell_type": "code",
   "execution_count": null,
   "id": "01490d46-0de6-4e9a-bc1e-53f9358e34d3",
   "metadata": {},
   "outputs": [],
   "source": [
    "metabric.info()"
   ]
  },
  {
   "cell_type": "markdown",
   "id": "77e06bc7-9eaf-4344-9f5e-f01987bea15d",
   "metadata": {},
   "source": [
    "### Columns"
   ]
  },
  {
   "cell_type": "markdown",
   "id": "d586e3f2-5fa5-4053-ad61-3b8ecf601a29",
   "metadata": {},
   "source": [
    "One way in which individual columns can be acessed is as follows:"
   ]
  },
  {
   "cell_type": "code",
   "execution_count": null,
   "id": "447915c7-7281-4ec0-9763-bfa84f4bdda0",
   "metadata": {},
   "outputs": [],
   "source": [
    "metabric['Survival_time']"
   ]
  },
  {
   "cell_type": "markdown",
   "id": "f1177fe3-f3d6-495c-a93a-55fda283e77f",
   "metadata": {},
   "source": [
    "Columns are in fact attributes of the data frame, so they can also be accessed via the usual attribute syntax:"
   ]
  },
  {
   "cell_type": "code",
   "execution_count": null,
   "id": "de0736ea-b63c-4058-b657-8aed6fbc5f45",
   "metadata": {},
   "outputs": [],
   "source": [
    "metabric.Survival_time"
   ]
  },
  {
   "cell_type": "markdown",
   "id": "782216fe-e222-4e48-bee4-13ff47ae6379",
   "metadata": {},
   "source": [
    "**Note**: This only works if the column name has no spaces!"
   ]
  },
  {
   "cell_type": "markdown",
   "id": "becf1a6e-4174-473c-8675-af059b41a330",
   "metadata": {},
   "source": [
    "The columns are a seprate type of `pandas` object called a `Series`, which is essentially the `pandas` version of a list. `Series` also have lots of useful attributes and methods, many of which go by the same name as their `DataFrame` counterpart."
   ]
  },
  {
   "cell_type": "code",
   "execution_count": null,
   "id": "7b8c22e0-6861-463f-bc1e-8d26e04e10ab",
   "metadata": {},
   "outputs": [],
   "source": [
    "metabric.Survival_time.shape"
   ]
  },
  {
   "cell_type": "code",
   "execution_count": null,
   "id": "a78aaafc-250d-4a04-ae63-0cb66cd06df4",
   "metadata": {},
   "outputs": [],
   "source": [
    "metabric.Survival_time.describe()"
   ]
  },
  {
   "cell_type": "code",
   "execution_count": null,
   "id": "a8a08764-722f-4d4c-8949-b7400a471e3d",
   "metadata": {},
   "outputs": [],
   "source": [
    "metabric.Survival_time.mean()"
   ]
  },
  {
   "cell_type": "markdown",
   "id": "bbe31d4e-148d-4b7a-887e-23de3b95cd70",
   "metadata": {},
   "source": [
    "In many cases, a method with an obvious functionality for a single variable will simply perform that operation on all columns when called on a data frame."
   ]
  },
  {
   "cell_type": "code",
   "execution_count": null,
   "id": "60ef11c7-2845-4ea2-a626-2a776a56803f",
   "metadata": {},
   "outputs": [],
   "source": [
    "metabric.mean()"
   ]
  },
  {
   "cell_type": "markdown",
   "id": "7bd91c2a-1a8b-4f53-bc41-83908707ef6b",
   "metadata": {},
   "source": [
    "#### Column Creation"
   ]
  },
  {
   "cell_type": "markdown",
   "id": "b0b5d0e3-ecce-4d6c-8ea0-13a9d1d90a61",
   "metadata": {},
   "source": [
    "New columns can be created in a straightforward manner. For example, I can create a column with the current age of the patients as folllows:"
   ]
  },
  {
   "cell_type": "code",
   "execution_count": null,
   "id": "60179dd0-7d29-4a7e-a973-5ff0335d5384",
   "metadata": {},
   "outputs": [],
   "source": [
    "metabric['Age_today'] = metabric['Age_at_diagnosis'] + metabric['Survival_time']/365"
   ]
  },
  {
   "cell_type": "markdown",
   "id": "4d044a98-e214-42d2-9e51-d3a7d00d453a",
   "metadata": {},
   "source": [
    "**Note**: When creating new columns, the new column must be specified using the `dataframe['column_name']` syntax."
   ]
  },
  {
   "cell_type": "markdown",
   "id": "3a7ea18a-4878-4747-8e66-98113561afae",
   "metadata": {},
   "source": [
    "**<span style=\"color:blue\">Exercise</span>**: Create a version of this column that returns the patient's age at their time of death if they have died, and otherwise returns their current age. **<span style=\"color:SeaGreen\">Challenge**: Do this without using a `for` loop."
   ]
  },
  {
   "cell_type": "markdown",
   "id": "b6ddab60-9c3b-4efc-a6fb-3b286320a668",
   "metadata": {},
   "source": [
    "## Data Subsetting"
   ]
  },
  {
   "cell_type": "markdown",
   "id": "e496e9a6-aab5-437d-8252-ffd8ddd346e3",
   "metadata": {},
   "source": [
    "Square brackets `[]` are used to select rows and columns in a data frame. For example, one can select a subset of the rows as follows:"
   ]
  },
  {
   "cell_type": "code",
   "execution_count": null,
   "id": "9f078d4f-5355-4680-8578-624e3340a47e",
   "metadata": {},
   "outputs": [],
   "source": [
    "metabric[:3]"
   ]
  },
  {
   "cell_type": "markdown",
   "id": "962a54a2-3bb6-42b7-9be7-3ea4242934e8",
   "metadata": {},
   "source": [
    "Recall the use of a `:` colon to define a range.\n",
    "\n",
    "This can be combined with column selection as above:"
   ]
  },
  {
   "cell_type": "code",
   "execution_count": null,
   "id": "efda6504-cd01-445e-b902-6f69a9957877",
   "metadata": {},
   "outputs": [],
   "source": [
    "metabric[:3]['Survival_time']"
   ]
  },
  {
   "cell_type": "markdown",
   "id": "8d83832c-47c3-4fe5-a299-371cc512e5ec",
   "metadata": {},
   "source": [
    "However, the two cannot be combined into one pair of indices:"
   ]
  },
  {
   "cell_type": "code",
   "execution_count": null,
   "id": "41cc8a52-d4da-4dd9-bd4a-10c45576dea3",
   "metadata": {},
   "outputs": [],
   "source": [
    "metabric[:3,'Survival_time']"
   ]
  },
  {
   "cell_type": "markdown",
   "id": "cb5a5354-4d0f-4fe2-8dee-80477b08a9ca",
   "metadata": {},
   "source": [
    ":("
   ]
  },
  {
   "cell_type": "markdown",
   "id": "298cbf85-8a88-47b7-8a97-788e08441ac1",
   "metadata": {},
   "source": [
    "Such **label-based** indexing can be done using the `.loc[]` functionality."
   ]
  },
  {
   "cell_type": "code",
   "execution_count": null,
   "id": "25798802-e603-4cce-bafa-7a0fe4b5aa11",
   "metadata": {},
   "outputs": [],
   "source": [
    "metabric.loc[:3,'Survival_time']"
   ]
  },
  {
   "cell_type": "code",
   "execution_count": null,
   "id": "08520a3f-08a3-494c-bb51-1a78c31eab7f",
   "metadata": {},
   "outputs": [],
   "source": [
    "metabric.loc[:,['Survival_time', 'Tumour_size']]"
   ]
  },
  {
   "cell_type": "code",
   "execution_count": null,
   "id": "2c51571d-1b30-41ae-b547-8d08e4659213",
   "metadata": {},
   "outputs": [],
   "source": [
    "metabric.loc[:,'ESR1':'MLPH']"
   ]
  },
  {
   "cell_type": "markdown",
   "id": "dacc8ee8-af10-493b-bca1-a17eb84da59f",
   "metadata": {},
   "source": [
    "Both rows and columns can be specified via **positional** indexing using the `.iloc[]` functionality."
   ]
  },
  {
   "cell_type": "code",
   "execution_count": null,
   "id": "8e65285d-56e6-48c2-8a35-d9a7d1ef1713",
   "metadata": {},
   "outputs": [],
   "source": [
    "metabric.iloc[:10,1:6]"
   ]
  },
  {
   "cell_type": "markdown",
   "id": "b68ca1d5-160f-4080-bf5a-daafd6c03dd6",
   "metadata": {},
   "source": [
    "### Conditional Subsetting"
   ]
  },
  {
   "cell_type": "markdown",
   "id": "2f148f8d-81a9-439a-b0af-7c9aa613818e",
   "metadata": {},
   "source": [
    "You can also subset a data frame using boolean vectors. This allows you to only include data that meets certain conditions."
   ]
  },
  {
   "cell_type": "markdown",
   "id": "077843ee-c9ed-4464-b6bf-05c1184d1649",
   "metadata": {},
   "source": [
    "For example, let's suppose we are interested in patients with a particularly large tumour."
   ]
  },
  {
   "cell_type": "code",
   "execution_count": null,
   "id": "d2de3708-9d8d-4ce5-9370-8aa1eefc0a9b",
   "metadata": {},
   "outputs": [],
   "source": [
    "metabric[metabric.Tumour_size >= 20]"
   ]
  },
  {
   "cell_type": "markdown",
   "id": "db10b3f9-45c1-4c0b-a61b-74ccf39b256a",
   "metadata": {},
   "source": [
    "`metabric.Tumour_size` evaluates to a series of True and False, when put inside the `[]` brackets, pandas selects those rows where the vector equals True. You can put anything inside the square brackets that evaluates to a series of True and False of the same as the number of rows in the data frame."
   ]
  },
  {
   "cell_type": "code",
   "execution_count": null,
   "id": "eb26d320-fbef-4182-ab33-7c19f18d9e35",
   "metadata": {},
   "outputs": [],
   "source": [
    "metabric.Tumour_size >= 20"
   ]
  },
  {
   "cell_type": "markdown",
   "id": "efd80af1-eaa0-4d3f-b64e-d6c5e92a9956",
   "metadata": {},
   "source": [
    "More complicated conditions can be specified using `&` (AND), and `|` (OR).\n",
    "\n",
    "Let's take a look at those who survived a long time despite having a large tumour."
   ]
  },
  {
   "cell_type": "code",
   "execution_count": null,
   "id": "ee2a2c1f-1202-4f54-9f0b-9e7b7cc61f55",
   "metadata": {},
   "outputs": [],
   "source": [
    "metabric[(metabric.Tumour_size >= 20) & (metabric.Survival_time >= 100)]"
   ]
  },
  {
   "cell_type": "markdown",
   "id": "dde2efca-a7e0-4036-84cf-321f64c5925d",
   "metadata": {},
   "source": [
    "Some useful bits of logical snytax:\n",
    "\n",
    "- `==` equal\n",
    "- `!=` not equal\n",
    "- `>` greater than\n",
    "- `>=` greater than or equal to\n",
    "- `<` less than\n",
    "- `<=` less than or equal to"
   ]
  },
  {
   "cell_type": "markdown",
   "id": "1dcfab98-d8ff-4189-b85d-6cdd5bd57b06",
   "metadata": {},
   "source": [
    "- `&` and\n",
    "- `|` or"
   ]
  },
  {
   "cell_type": "markdown",
   "id": "0b6777a8-49ab-4093-a422-d418d7143f23",
   "metadata": {},
   "source": [
    "**<span style=\"color:blue\">Exercise</span>**: Write a query to extract data on only those patients who have had both chemotherapy and radiotherapy. Can you compute the average tumour size for such patients? How does this compare to the tumour size for patients who haven't undergone therapy?"
   ]
  },
  {
   "cell_type": "markdown",
   "id": "b35209d4-012b-46cb-87e2-68f496ce670b",
   "metadata": {},
   "source": [
    "The `.isin()` method can help avoid cumbersome OR statements."
   ]
  },
  {
   "cell_type": "code",
   "execution_count": null,
   "id": "b88e3f77-259f-497e-8e50-baa92b90fbca",
   "metadata": {},
   "outputs": [],
   "source": [
    "metabric[(metabric.Cohort==1) | (metabric.Cohort==4) | (metabric.Cohort==5)]"
   ]
  },
  {
   "cell_type": "code",
   "execution_count": null,
   "id": "e7355b28-ad59-4a95-b602-5312e39d0e90",
   "metadata": {},
   "outputs": [],
   "source": [
    "metabric[metabric.Cohort.isin([1,4,5])]"
   ]
  },
  {
   "cell_type": "markdown",
   "id": "93dafcde-5e1c-49ec-99ed-b7b9a05fc8d5",
   "metadata": {},
   "source": [
    "**<span style=\"color:blue\">(slightly difficult) Exercise</span>**: Write a query to extract data on patients from cohort 1 with either the highest or second highest tumour stage (part of the exercise is to figure out what the top two tumour stages are! A method introduced in the final section of this session might be useful...). "
   ]
  },
  {
   "cell_type": "markdown",
   "id": "da0e0fae-c05d-42ef-a532-de5251d0063e",
   "metadata": {},
   "source": [
    "## Missing Data"
   ]
  },
  {
   "cell_type": "markdown",
   "id": "6fa5195f-bdb5-4f05-82a9-9ad0b66dd7e3",
   "metadata": {},
   "source": [
    "### Identifying Missing Data"
   ]
  },
  {
   "cell_type": "markdown",
   "id": "d514cd03-f965-4ce2-82af-ae864fcbc1d9",
   "metadata": {},
   "source": [
    "A missing value is represented in pandas by `NaN`. Typically calculations in pandas by default skip over `NaN` values."
   ]
  },
  {
   "cell_type": "markdown",
   "id": "e9f72f3d-83e9-4408-a9a2-ff2eed24fa16",
   "metadata": {},
   "source": [
    "Recall the `.info()` method gives you information about the amount of missing data. "
   ]
  },
  {
   "cell_type": "code",
   "execution_count": null,
   "id": "74818268-afa4-401f-b212-8de98f96cac5",
   "metadata": {},
   "outputs": [],
   "source": [
    "metabric.info()"
   ]
  },
  {
   "cell_type": "markdown",
   "id": "7010bd2b-d3a4-43a6-864a-fab4b173d794",
   "metadata": {},
   "source": [
    "The location of the missing data can be found using the `isna()` method."
   ]
  },
  {
   "cell_type": "code",
   "execution_count": null,
   "id": "db4c6a80-df57-44b6-a4c5-a7c7f3101936",
   "metadata": {},
   "outputs": [],
   "source": [
    "metabric.isna()"
   ]
  },
  {
   "cell_type": "markdown",
   "id": "a4859349-5ac5-4063-bcda-1a76681c2142",
   "metadata": {},
   "source": [
    "**<span style=\"color:blue\">Exercise</span>**: Use `.sum()` to get a vector of the amount of missing data for each variable."
   ]
  },
  {
   "cell_type": "code",
   "execution_count": null,
   "id": "a6be72b5-a812-4f36-9825-45e042a98214",
   "metadata": {},
   "outputs": [],
   "source": [
    "metabric.Cohort[metabric.Tumour_size.isna()]"
   ]
  },
  {
   "cell_type": "markdown",
   "id": "fef4d4ff-4a72-4167-9988-639e285ddaeb",
   "metadata": {},
   "source": [
    "### Dealing with Missing Data"
   ]
  },
  {
   "cell_type": "markdown",
   "id": "58b9ffcd-c871-43df-8a7d-8adf2daf3ec2",
   "metadata": {},
   "source": [
    "#### Removal"
   ]
  },
  {
   "cell_type": "markdown",
   "id": "5b4faede-9862-4d28-82d5-26a228bbc8e0",
   "metadata": {},
   "source": [
    "There are many options for dealing with missing data, one of which is to simply remove samples or variables with incomplete information. The method for this is `dropna()`:"
   ]
  },
  {
   "cell_type": "code",
   "execution_count": null,
   "id": "1829ef55-0ba9-4ef1-a035-a7a8f479bea6",
   "metadata": {},
   "outputs": [],
   "source": [
    "metabric.dropna()"
   ]
  },
  {
   "cell_type": "markdown",
   "id": "784db484-ca78-4542-8913-0be1cf44a909",
   "metadata": {},
   "source": [
    "The optional argument `axis` allows you to specify whether to remove rows (the default) or columns (achieved by setting `axis = 1`)."
   ]
  },
  {
   "cell_type": "markdown",
   "id": "b99943d1-e3aa-408c-87c7-a22e9d222933",
   "metadata": {},
   "source": [
    "The optional argument `subset` allows you to select only certain variables to check for missing data in."
   ]
  },
  {
   "cell_type": "code",
   "execution_count": null,
   "id": "45596a53-7271-41fa-a25a-53cd42e88cd2",
   "metadata": {},
   "outputs": [],
   "source": [
    "metabric.dropna(subset=['Tumour_size', 'Tumour_stage'])"
   ]
  },
  {
   "cell_type": "markdown",
   "id": "87bb768f-e8f4-4232-875d-e42098e47eaf",
   "metadata": {},
   "source": [
    "#### Replacement"
   ]
  },
  {
   "cell_type": "markdown",
   "id": "62d78724-e9d1-40b2-8a71-0bce0537fa55",
   "metadata": {},
   "source": [
    "Another option is to fill in the missing data with something sensible. This can be achieved via the method `.fillna()`."
   ]
  },
  {
   "cell_type": "code",
   "execution_count": null,
   "id": "c1a2b60e-19ba-497b-8aa5-bfb2a2be76da",
   "metadata": {},
   "outputs": [],
   "source": [
    "metabric.fillna(value={'Tumour_size':metabric.Tumour_size.mean()})"
   ]
  },
  {
   "cell_type": "markdown",
   "id": "bf224cb6-ead1-4413-8af4-d383043c2a7d",
   "metadata": {},
   "source": [
    "**<span style=\"color:SeaGreen\">For thought</span>**: \n",
    "\n",
    "- What might be the problem with using this method for e.g. Mutation Count?\n",
    "- Can you think of any other ways to fill in missing values?"
   ]
  },
  {
   "cell_type": "markdown",
   "id": "e80c6901-1295-4717-9471-d210240602dc",
   "metadata": {},
   "source": [
    "The process of filling in missing data with sensible guesses is called **Data Imputation**, and is a whole field of data science in it's own right. Whilst it should obviously not be used for things like summary statistics, it can be very powerful when used as a pre-processing step for a ML algorithm, allowing you to extract much more information from your data."
   ]
  },
  {
   "cell_type": "markdown",
   "id": "543b8540-7998-4cf9-a8c1-d35cc55bfdd6",
   "metadata": {},
   "source": [
    "## Grouping"
   ]
  },
  {
   "cell_type": "markdown",
   "id": "77c82491-ee53-4f3a-b9fa-00281c628001",
   "metadata": {},
   "source": [
    "Often a data set will contain natural groups, and you might wish to understand whether these groups display similar or different behaviour in other variables."
   ]
  },
  {
   "cell_type": "code",
   "execution_count": null,
   "id": "7956b093-7d39-43c8-8e48-7bd7dcfd8305",
   "metadata": {},
   "outputs": [],
   "source": [
    "metabric.head()"
   ]
  },
  {
   "cell_type": "code",
   "execution_count": null,
   "id": "2583a23f-5052-4dff-8d96-a465402d4a92",
   "metadata": {},
   "outputs": [],
   "source": [
    "metabric.mean()"
   ]
  },
  {
   "cell_type": "markdown",
   "id": "4cc49046-9921-4386-9549-7a1aed2f3ac2",
   "metadata": {},
   "source": [
    "For example, we might be interested in the average of other variables within each cohort."
   ]
  },
  {
   "cell_type": "code",
   "execution_count": null,
   "id": "ca13e350-022b-4096-abb5-d6d359066650",
   "metadata": {},
   "outputs": [],
   "source": [
    "metabric.groupby('Cohort').mean()"
   ]
  },
  {
   "cell_type": "markdown",
   "id": "94a61236-9713-4f5b-94c4-9103f393285e",
   "metadata": {},
   "source": [
    "This graphic explains what's going on under the hood when you call `groupby(...).mean()`:"
   ]
  },
  {
   "cell_type": "markdown",
   "id": "1c13a317-e54e-45f8-98e5-129700ec73e8",
   "metadata": {},
   "source": [
    "![image.png](03.08-split-apply-combine.png)"
   ]
  },
  {
   "cell_type": "markdown",
   "id": "63fd45de-26ea-41d6-bf9b-b824ecf6ce07",
   "metadata": {},
   "source": [
    "When you call `.groupby('Cohort')`, pandas creates a new data frame for each value of `Cohort`, each consisting exclusively of the data from that cohort.\n",
    "\n",
    "`.mean()` then computes the mean of each variable within each of these data frames, before stacking all the (now 1 row) data frames and returning this to you.\n",
    "\n",
    "You can group by multiple variables:"
   ]
  },
  {
   "cell_type": "code",
   "execution_count": null,
   "id": "dd412440-cf0e-4136-80f6-6f9a8367df52",
   "metadata": {},
   "outputs": [],
   "source": [
    "metabric.groupby(['Cohort', 'Tumour_stage']).mean()"
   ]
  },
  {
   "cell_type": "markdown",
   "id": "a2fd1084-b37d-4aa5-93ae-fec57f6aa646",
   "metadata": {},
   "source": [
    "## Multiple Data Sets"
   ]
  },
  {
   "cell_type": "markdown",
   "id": "04c96338-df78-437d-8529-7630d29321b5",
   "metadata": {},
   "source": [
    "Often the information you need is spread across multiple data sets. Sometimes it is practical to deal with the data sets as seperate data frames, but often it's easier to join them together. Pandas provides lots of useful functionality to help with this."
   ]
  },
  {
   "cell_type": "markdown",
   "id": "b91591b5-fa54-4081-a0c8-a0d43b94afcf",
   "metadata": {},
   "source": [
    "### Merging Data Sets"
   ]
  },
  {
   "cell_type": "markdown",
   "id": "2a274127-73ef-4060-b67d-02dd6f1f16fd",
   "metadata": {},
   "source": [
    "Let's suppose that we have some additional data on the mutation staus of various genes."
   ]
  },
  {
   "cell_type": "code",
   "execution_count": null,
   "id": "22ce3097-0f44-4b68-a9d7-40d4e5edcb44",
   "metadata": {},
   "outputs": [],
   "source": [
    "mutations = pd.read_csv('metabric_mutation_data.csv')"
   ]
  },
  {
   "cell_type": "code",
   "execution_count": null,
   "id": "d573f4a1-1f2b-4893-b68f-a77e40dabe23",
   "metadata": {},
   "outputs": [],
   "source": [
    "mutations.head()"
   ]
  },
  {
   "cell_type": "markdown",
   "id": "4c74394e-23a5-4c58-9bc1-56ccfb778a5e",
   "metadata": {},
   "source": [
    "We might wish to combine this with the other data in metabric. The function for this is `pd.merge()`:"
   ]
  },
  {
   "cell_type": "code",
   "execution_count": null,
   "id": "f6f696ed-14ad-4b46-8f20-c9530f3c1976",
   "metadata": {},
   "outputs": [],
   "source": [
    "pd.merge(metabric, mutations, on='Patient_ID')"
   ]
  },
  {
   "cell_type": "markdown",
   "id": "2e0d2ad8-ab55-4722-a376-0ea765247bbf",
   "metadata": {},
   "source": [
    "This even works if the rows of the different data frames do not match up!"
   ]
  },
  {
   "cell_type": "markdown",
   "id": "a0d98bb1-5119-4c13-8db1-3be91c2e1882",
   "metadata": {},
   "source": [
    "Suppose that the data had been scrambled on it's way to us, such that the rows got randomly permuted."
   ]
  },
  {
   "cell_type": "code",
   "execution_count": null,
   "id": "ce34c722-4eff-44b2-b457-536e1830580b",
   "metadata": {},
   "outputs": [],
   "source": [
    "mutations_scrambled = pd.read_csv('m3t@Brik_MUTat10n_daTA.csv')"
   ]
  },
  {
   "cell_type": "code",
   "execution_count": null,
   "id": "9b8cc23f-0f55-4d65-b0ff-f67a8d123aec",
   "metadata": {},
   "outputs": [],
   "source": [
    "mutations_scrambled.head()"
   ]
  },
  {
   "cell_type": "markdown",
   "id": "3be76554-928b-4d09-a20f-fdf323df23ff",
   "metadata": {},
   "source": [
    "By providing the argument `on = \"Patient_ID\"`, pandas is able to work out which rows correspond to which. "
   ]
  },
  {
   "cell_type": "code",
   "execution_count": null,
   "id": "2987ae75-0e8b-49fc-97ca-db9d0db784ac",
   "metadata": {},
   "outputs": [],
   "source": [
    "pd.merge(metabric, mutations_scrambled, on='Patient_ID')"
   ]
  },
  {
   "cell_type": "markdown",
   "id": "c3d24580-e990-4d1e-894c-87182c38b448",
   "metadata": {},
   "source": [
    "### Concatenating Data Sets"
   ]
  },
  {
   "cell_type": "markdown",
   "id": "db769a52-bd01-4d4e-83f3-6d9d2f2fec13",
   "metadata": {},
   "source": [
    "Suppose that we had originally received the data for each cohort seperately."
   ]
  },
  {
   "cell_type": "code",
   "execution_count": null,
   "id": "2dab12e7-f197-478e-b760-b7b3f76fda8d",
   "metadata": {},
   "outputs": [],
   "source": [
    "metabric_cohort1 = metabric[metabric[\"Cohort\"]==1]\n",
    "metabric_cohort2 = metabric[metabric[\"Cohort\"]==2]\n",
    "metabric_cohort3 = metabric[metabric[\"Cohort\"]==3]\n",
    "metabric_cohort4 = metabric[metabric[\"Cohort\"]==4]\n",
    "metabric_cohort5 = metabric[metabric[\"Cohort\"]==5]"
   ]
  },
  {
   "cell_type": "markdown",
   "id": "a82ec130-345a-4333-95ef-3517ea06a00b",
   "metadata": {},
   "source": [
    "Here the function we want is `pd.concat()`"
   ]
  },
  {
   "cell_type": "code",
   "execution_count": null,
   "id": "4d294e3b-1131-4425-a83e-0efd211ee432",
   "metadata": {},
   "outputs": [],
   "source": [
    "pd.concat([metabric_cohort1, metabric_cohort2, metabric_cohort3, metabric_cohort4, metabric_cohort5])"
   ]
  },
  {
   "cell_type": "markdown",
   "id": "6f6e23f8-7ea2-4ab6-b25a-7cf70c8aaaab",
   "metadata": {},
   "source": [
    "## Replace"
   ]
  },
  {
   "cell_type": "markdown",
   "id": "422018f2-bc1d-4895-85d7-d543c7084b6d",
   "metadata": {},
   "source": [
    "When working with categorical data, one may wish to change the labels used for the different categories. For example, a binary classification algorithm may require that the data come encoded as 0 and 1. The helpful method here is `pd.replace()`."
   ]
  },
  {
   "cell_type": "code",
   "execution_count": null,
   "id": "4ddf83c8-fd27-4ed8-9e22-7a761c610c10",
   "metadata": {},
   "outputs": [],
   "source": [
    "metabric.PR_status"
   ]
  },
  {
   "cell_type": "code",
   "execution_count": null,
   "id": "2f73c696-07f3-493b-bb8f-d57003531be8",
   "metadata": {},
   "outputs": [],
   "source": [
    "metabric.PR_status.replace(to_replace={'Positive':1, 'Negative':0})"
   ]
  },
  {
   "cell_type": "code",
   "execution_count": null,
   "id": "123a71ad-2f1b-42c1-9fef-adb5182c3906",
   "metadata": {},
   "outputs": [],
   "source": [
    "metabric.head()"
   ]
  },
  {
   "cell_type": "markdown",
   "id": "ce0a5f0d-fd1f-4cc0-8104-cbaf1cf9e3ef",
   "metadata": {},
   "source": [
    "This also works on whole data frames! For example, we can replace all instances of YES and NO with 1 and 0 respectively."
   ]
  },
  {
   "cell_type": "code",
   "execution_count": null,
   "id": "9ce5d6d7-f996-4585-82e5-436b59e12c81",
   "metadata": {},
   "outputs": [],
   "source": [
    "metabric.replace(to_replace={'YES':1, 'NO':0})"
   ]
  },
  {
   "cell_type": "code",
   "execution_count": null,
   "id": "60197846-0048-4550-8a21-bf81631fd373",
   "metadata": {},
   "outputs": [],
   "source": [
    "metabric.head()"
   ]
  },
  {
   "cell_type": "markdown",
   "id": "704c50f9-c1fe-4784-b4b5-60dc6c75f103",
   "metadata": {},
   "source": [
    "Antoher thing you might want to do is to combine different categories."
   ]
  },
  {
   "cell_type": "code",
   "execution_count": null,
   "id": "ee7e484b-9826-478e-a019-78c491aa4ab0",
   "metadata": {},
   "outputs": [],
   "source": [
    "metabric.Cancer_type.unique()"
   ]
  },
  {
   "cell_type": "code",
   "execution_count": null,
   "id": "1bfb4bc0-f82a-4445-9dfb-ed40369ba15a",
   "metadata": {},
   "outputs": [],
   "source": [
    "metabric.replace(to_replace={'Breast Invasive Ductal Carcinoma':'Breast Invasive', \n",
    "                             'Breast Invasive Lobular Carcinoma':' Breast Invasive', \n",
    "                             'Breast Invasive Mixed Mucinous Carcinoma':'Breast Invasive'}).Cancer_type"
   ]
  },
  {
   "cell_type": "markdown",
   "id": "532cb02c-fc90-484d-a32a-e509c5805937",
   "metadata": {},
   "source": [
    "### Mutability"
   ]
  },
  {
   "cell_type": "markdown",
   "id": "997cdd58-b5c9-4700-a541-81dad5cf53f4",
   "metadata": {},
   "source": [
    "When we run `metabric.replace(to_replace={'YES':1, 'NO':0})`, this returns a version of `metabric` with all the `YES`s and`NO`s replaced with `1` and `0` respectively."
   ]
  },
  {
   "cell_type": "code",
   "execution_count": null,
   "id": "d4c356eb-72cf-43c5-8e40-793d165d6465",
   "metadata": {},
   "outputs": [],
   "source": [
    "metabric.replace(to_replace={'YES':1, 'NO':0})"
   ]
  },
  {
   "cell_type": "markdown",
   "id": "ecd19fef-c6f3-48da-8faa-83b9d9916cdd",
   "metadata": {},
   "source": [
    "However if we then call `metabric.head()`, we see that `metabric` itself remains unchanged."
   ]
  },
  {
   "cell_type": "code",
   "execution_count": null,
   "id": "2c2b21bb-ea46-4ffa-9c90-1d05b8f20ae8",
   "metadata": {},
   "outputs": [],
   "source": [
    "metabric.head()"
   ]
  },
  {
   "cell_type": "markdown",
   "id": "cbe52496-e528-4816-bbc9-e27e6f40a792",
   "metadata": {},
   "source": [
    "Like most functions in `pandas`, `replace()` does not modify the data frame it is called upon, rather it returns a new data frame that is a modified version of the original one. If you want the change to be made permanent, please remember to re-assign."
   ]
  },
  {
   "cell_type": "code",
   "execution_count": null,
   "id": "c15ace8f-b77c-4b9b-8278-a953ad2fe91a",
   "metadata": {},
   "outputs": [],
   "source": [
    "metabric = metabric.replace(to_replace={'YES':1, 'NO':0})"
   ]
  },
  {
   "cell_type": "code",
   "execution_count": 1,
   "id": "e791fc85-7310-4afe-90f6-3d36e1f04aca",
   "metadata": {},
   "outputs": [
    {
     "ename": "NameError",
     "evalue": "name 'metabric' is not defined",
     "output_type": "error",
     "traceback": [
      "\u001b[0;31m---------------------------------------------------------------------------\u001b[0m",
      "\u001b[0;31mNameError\u001b[0m                                 Traceback (most recent call last)",
      "\u001b[0;32m/scratch/kwkm645/ipykernel_70202/2578346218.py\u001b[0m in \u001b[0;36m<module>\u001b[0;34m\u001b[0m\n\u001b[0;32m----> 1\u001b[0;31m \u001b[0mmetabric\u001b[0m\u001b[0;34m.\u001b[0m\u001b[0mhead\u001b[0m\u001b[0;34m(\u001b[0m\u001b[0;34m)\u001b[0m\u001b[0;34m\u001b[0m\u001b[0;34m\u001b[0m\u001b[0m\n\u001b[0m",
      "\u001b[0;31mNameError\u001b[0m: name 'metabric' is not defined"
     ]
    }
   ],
   "source": [
    "metabric.head()"
   ]
  },
  {
   "cell_type": "markdown",
   "id": "bc272e91-919b-4c7c-92fe-37fe41fb7900",
   "metadata": {},
   "source": [
    "## Summary"
   ]
  },
  {
   "cell_type": "markdown",
   "id": "03b918a4-4267-4fcd-8e0b-4ad4a98c136e",
   "metadata": {},
   "source": [
    "We have learnt the basics of accomplishing the following tasks with `pandas`:\n",
    "\n",
    "- Reading in data as a `DataFrame`.\n",
    "- Selecting a subset of your data.\n",
    "- Creating new columns and modifying existing ones.\n",
    "- Summarising data sets via summary values, including seperating out the summaries by groups within the data.\n",
    "- Handling missing data.\n",
    "- Handling data spread across multiple datasets."
   ]
  },
  {
   "cell_type": "markdown",
   "id": "68c77c7c-46a3-4b1c-88a5-f37e6007af63",
   "metadata": {},
   "source": [
    "## Exercises"
   ]
  },
  {
   "cell_type": "markdown",
   "id": "6643ec39-1efb-4f6d-9ced-60130b1d2776",
   "metadata": {},
   "source": [
    "Have a go at as many of these as you can prior to the excercise recap session on Friday."
   ]
  },
  {
   "cell_type": "markdown",
   "id": "d6318389-2213-4708-a148-c7c2917a0eef",
   "metadata": {},
   "source": [
    "<u>Exercises from the text</u> - These exercises appear in the above notebook (look for the blue **<span style=\"color:blue\">Exercise</span>** prompts). They are best done as you review the material, but I have also colllated them here for your convenience:\n",
    "\n",
    "- Create a new column that returns the patient's age at their time of death if they have died, and otherwise returns their current age. **<span style=\"color:SeaGreen\">Challenge**: Do this without using a `for` loop.\n",
    "- Write a query to extract data on only those patients who have had both chemotherapy and radiotherapy. Can you compute the average tumour size for such patients? How does this compare to the tumour size for patients who haven't undergone therapy?\n",
    "- Write a query to extract data on patients from cohort 1 with either the highest or second highest tumour stage (part of the exercise is to figure out what the top two tumour stages are! A method introduced in the final section of this session might be useful...). \n",
    "- Use `.sum()` to get a vector of the amount of missing data for each variable."
   ]
  },
  {
   "cell_type": "markdown",
   "id": "605f2289-186b-44c6-b33e-e1b77cf7a9c8",
   "metadata": {},
   "source": [
    "<u>New Exercises</u>\n",
    "\n",
    "1. This question requires a little bit of googling: \n",
    "\n",
    "    - What are the different values of the `Integrative Cluster` variable? \n",
    "    - Can you produce a series containing the number of patients in each cluster? (There is a useful method that will help you out with this, but I leave it to you to find out what that is).\n",
    "\n",
    "\n",
    "2. As well as reading in data, pandas also allows you to write pandas data frames to other formats, such as csv files:\n",
    "\n",
    "    - Read the dataset `metabric_clinical_and_expression_data.csv` and store its summary statistics into a new variable called `metabric_summary`.\n",
    "    - Just like the `.read_csv()` method allows reading data from a file, `pandas` provides a `.to_csv()` method to write `DataFrames` to files. Write your summary statistics object into a file called `metabric_summary.csv`. You can use `help(metabric.to_csv)` to get information on how to use this function.\n",
    "    - Use the help information to modify the previous step so that you can generate a Tab Separated Value (TSV) file instead \n",
    "    - Similarly, explore the method `to_excel()` to output an excel spreadsheet containing summary statistics\n",
    "\n",
    "\n",
    "3. Some exercises involving conditional filtering. Write some python code to answer the following questions:\n",
    "\n",
    "    - Calculate the mean tumour size of patients, grouped by vital status and tumour stage.\n",
    "    - In which cohort of patients and tumour stage are the average expression of the genes TP53 and FOXA1 the highest?\n",
    "    - Do patients with greater tumour size live longer? How about patients with higher tumour stage? How about greater Nottingham_prognostic_index?\n",
    "\n",
    "\n",
    "4. Review the section on missing data presented in the lecture. Consulting the [user's guide section dedicated to missing data](https://pandas.pydata.org/pandas-docs/stable/user_guide/missing_data.html) and any other materials as necessary use the functionality provided by pandas to answer the following questions:\n",
    "\n",
    "    - Which variables (columns) of the metabric dataset have missing data? Are any of them missing substantially more data than others?\n",
    "    - Find the patients ids who have missing tumour size and/or missing mutation count data. Which cohorts do they belong to?\n",
    "    - For the patients identified to have missing tumour size data for each cohort, fill this in with the average tumour size of the other patients from the same cohort.\n",
    "\n",
    "\n",
    "5. (Bonus) Try out pandas in a dataset of your own work or from literature/resources you have read/used recently and share with a colleague / rest of the class."
   ]
  },
  {
   "cell_type": "markdown",
   "id": "0ffaf5f7-8e18-42fd-b573-c3d080ed1e32",
   "metadata": {},
   "source": [
    "<u>For Later</u>\n",
    "\n",
    "*Have a look at this exercise once you've completed the session on basic machine learning.*\n",
    "\n",
    "Recall we discussed that one option for imputing missing data is to peform a linear regression with the response variable as the missing variable, and the inputs as some subset of the other variables. Have a go at implementing this. See the \"Missing Data\" section of this notebook for example usage of the `.fillna()` method."
   ]
  }
 ],
 "metadata": {
  "kernelspec": {
   "display_name": "Python-3.9.5-foss-2021a",
   "language": "python",
   "name": "python-3.9.5-foss-2021a"
  },
  "language_info": {
   "codemirror_mode": {
    "name": "ipython",
    "version": 3
   },
   "file_extension": ".py",
   "mimetype": "text/x-python",
   "name": "python",
   "nbconvert_exporter": "python",
   "pygments_lexer": "ipython3",
   "version": "3.9.5"
  }
 },
 "nbformat": 4,
 "nbformat_minor": 5
}
