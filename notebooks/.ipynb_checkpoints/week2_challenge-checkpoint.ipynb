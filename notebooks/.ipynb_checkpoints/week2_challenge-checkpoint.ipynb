{
 "cells": [
  {
   "cell_type": "markdown",
   "metadata": {},
   "source": [
    "# Week 2 - Course challenge\n",
    "\n",
    "The aim of this optional activity is to apply the learnings from the course to a dataset of research interest to the participant or alternatively one of the datasets provided below\n",
    "\n",
    "During the rest of the course, individual partipants or participants working as part of small teams will analyse, visualise and apply modelling concepts to the selected dataset. Partipants are invited to apply the concepts learned throughout the course and developed them through further using the selected dataset. \n",
    "\n",
    "Towards the end of the course (week 7), partipants will be asked to share a short summary of their work with the tutors and those interested will be invited to present their work to the rest of the class\n",
    "\n",
    "The two example datasets were provided by Guillaume Desachy from AZ who took them from the study [Ternès et al. 2016](https://onlinelibrary.wiley.com/doi/10.1002/bimj.201500234), which aims at studying gene expression from 614 breast cancer patients treated with adjuvant chemotherapy. The datasets are:\n",
    "\n",
    "- `clinical.csv`: this is survival data from a breast cancer control trial where the variables are:\n",
    "    - Treatment: coded as 0 (Standard of care) and 1 (Standard of care + Chemotherapy)\n",
    "    - Status: coded as 0 (censoring) and 1 (event)\n",
    "    - Time: time of event or censoring\n",
    "    \n",
    "- `omics.csv`: this is RNA microarray data, centered and scaled, for 1691 gene probes\n",
    "\n",
    "Alternatively, participants can also use the METABRIC dataset presented during the course"
   ]
  }
 ],
 "metadata": {
  "kernelspec": {
   "display_name": "Python 3",
   "language": "python",
   "name": "python3"
  },
  "language_info": {
   "codemirror_mode": {
    "name": "ipython",
    "version": 3
   },
   "file_extension": ".py",
   "mimetype": "text/x-python",
   "name": "python",
   "nbconvert_exporter": "python",
   "pygments_lexer": "ipython3",
   "version": "3.8.2"
  }
 },
 "nbformat": 4,
 "nbformat_minor": 4
}
