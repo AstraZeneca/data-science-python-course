{
 "cells": [
  {
   "cell_type": "markdown",
   "metadata": {},
   "source": [
    "# Week 2 - assignment solution\n",
    "\n",
    "### Exercise 1\n",
    "\n",
    "- Read the dataset `metabric_clinical_and_expression_data.csv` and store its summary statistics into a new variable called `metabric_summary`.\n",
    "- Just like the `.read_csv()` method allows reading data from a file, `pandas` provides a `.to_csv()` method to write `DataFrames` to files. Write your summary statistics object into a file called `metabric_summary.csv`. You can use `help(metabric.to_csv)` to get information on how to use this function.\n",
    "- Use the help information to modify the previous step so that you can generate a Tab Separated Value (TSV) file instead \n",
    "- Similarly, explore the method `to_excel()` to produce an excel spreadsheet containing summary statistics"
   ]
  },
  {
   "cell_type": "code",
   "execution_count": null,
   "metadata": {},
   "outputs": [],
   "source": [
    "# Load library\n",
    "import pandas as pd\n",
    "\n",
    "# Read metabric dataset\n",
    "metabric = pd.read_csv(r\"../data/metabric_clinical_and_expression_data.csv\")\n",
    "\n",
    "# Store summary statistics\n",
    "metabric_summary = metabric.describe()\n",
    "metabric_summary\n",
    "\n",
    "metabric_summary = metabric.describe(include=\"all\")\n",
    "metabric_summary"
   ]
  },
  {
   "cell_type": "code",
   "execution_count": null,
   "metadata": {},
   "outputs": [],
   "source": [
    "# Write summary statistics in csv and tsv\n",
    "\n",
    "help(metabric.to_csv)\n",
    "#metabric_summary.to_csv(\"metabric_summary.csv\")\n",
    "#metabric_summary.to_csv(\"metabric_summary.tsv\", sep = '\\t')\n",
    "#metabric_summary.to_csv(\"metabric_summary.csv\", columns = [\"Cohort\", \"Age_at_diagnosis\"])\n",
    "#metabric_summary.to_csv(\"metabric_summary.csv\", header = False)\n",
    "#metabric_summary.to_csv(\"~/Desktop/metabric_summary.csv\", index = False)"
   ]
  },
  {
   "cell_type": "code",
   "execution_count": null,
   "metadata": {},
   "outputs": [],
   "source": [
    "# Write an excel spreadsheet\n",
    "\n",
    "#help(metabric.to_excel)\n",
    "metabric_summary.to_excel(\"metabric_summary.xlsx\")\n",
    "\n",
    "#If: ModuleNotFoundError: No module named 'openpyxl'\n",
    "#pip3 install openpyxl --user"
   ]
  },
  {
   "cell_type": "markdown",
   "metadata": {},
   "source": [
    "### Exercise 2\n",
    "\n",
    "- Read the dataset `metabric_clinical_and_expression_data.csv` into a variable e.g. `metabric`.\n",
    "- Calculate the mean tumour size of patients grouped by vital status and tumour stage\n",
    "- Find the cohort of patients and tumour stage where the average expression of genes TP53 and FOXA1 is highest\n",
    "- Do patients with greater tumour size live longer? How about patients with greater tumour stage? How about greater Nottingham_prognostic_index?"
   ]
  },
  {
   "cell_type": "code",
   "execution_count": null,
   "metadata": {},
   "outputs": [],
   "source": [
    "# Calculate the mean tumour size of patients grouped by vital status and tumour stage\n",
    "\n",
    "import pandas as pd\n",
    "metabric = pd.read_csv(\"../data/metabric_clinical_and_expression_data.csv\")\n",
    "#help(metabric.groupby)\n",
    "#metabric.groupby(['Vital_status', 'Tumour_stage'])\n",
    "#metabric.groupby(['Vital_status', 'Tumour_stage']).mean()\n",
    "#metabric.groupby(['Vital_status', 'Tumour_stage']).mean()['Tumour_size']\n",
    "#metabric.groupby(['Vital_status', 'Tumour_stage']).size()\n",
    "#metabric.groupby(['Vital_status', 'Tumour_stage']).agg(['mean', 'size'])['Tumour_size']\n",
    "#metabric.groupby(['Vital_status', 'Tumour_stage', 'Radiotherapy'])['Tumour_size'].agg(['mean', 'size'])"
   ]
  },
  {
   "cell_type": "code",
   "execution_count": null,
   "metadata": {},
   "outputs": [],
   "source": [
    "# Find the cohort of patients and tumour stage where the average expression of genes TP53 and FOXA1 is highest\n",
    "\n",
    "#metabric['TP53_FOXA1_mean'] = metabric[['TP53', 'FOXA1']].mean(axis=1)\n",
    "#metabric\n",
    "metabric.groupby(['Cohort', 'Tumour_stage']).agg(['mean', 'size'])['TP53_FOXA1_mean']"
   ]
  },
  {
   "cell_type": "code",
   "execution_count": null,
   "metadata": {},
   "outputs": [],
   "source": [
    "# Do patients with greater tumour size live longer?\n",
    "metabric_dead = metabric[metabric['Vital_status'] == 'Died of Disease']\n",
    "metabric_dead\n",
    "\n",
    "metabric_dead[['Tumour_size', 'Survival_time']]\n",
    "metabric_dead['Tumour_size'].corr(metabric_dead['Survival_time'])\n",
    "help(metabric_dead['Tumour_size'].corr)"
   ]
  },
  {
   "cell_type": "code",
   "execution_count": null,
   "metadata": {},
   "outputs": [],
   "source": [
    "# How about patients with greater tumour stage? \n",
    "\n",
    "#metabric_dead[['Tumour_stage', 'Survival_time']]\n",
    "metabric_dead[['Tumour_stage', 'Survival_time']].groupby('Tumour_stage').agg(['mean', 'std', 'size'])\n",
    "\n",
    "#metabric_dead['Tumour_stage'].corr(metabric_dead['Survival_time'])"
   ]
  },
  {
   "cell_type": "code",
   "execution_count": null,
   "metadata": {},
   "outputs": [],
   "source": [
    "# How about greater Nottingham_prognostic_index?\n",
    "# https://en.wikipedia.org/wiki/Nottingham_Prognostic_Index\n",
    "\n",
    "#metabric_dead[['Nottingham_prognostic_index', 'Survival_time']]\n",
    "metabric_dead['Nottingham_prognostic_index'].corr(metabric_dead['Survival_time'])"
   ]
  },
  {
   "cell_type": "markdown",
   "metadata": {},
   "source": [
    "### Exercise 3 (bonus)\n",
    "\n",
    "Review the section on missing data presented in the lecture. Consulting the [user's guide section dedicated to missing data](https://pandas.pydata.org/pandas-docs/stable/user_guide/missing_data.html) if necessary use the functionality provided by pandas to answer the following questions:\n",
    "\n",
    "- Which variables (columns) of the metabric dataset have missing data?\n",
    "- Find the patients ids who have missing tumour size and/or missing mutation count data. Which cohorts do they belong to?\n",
    "- For the patients identified to have missing tumour size data for each cohort, calculate the average tumour size of the patients with tumour size data available within the same cohort to fill in the missing data"
   ]
  },
  {
   "cell_type": "code",
   "execution_count": null,
   "metadata": {},
   "outputs": [],
   "source": [
    "# Which variables (columns) of the metabric dataset have missing data?\n",
    "metabric.info()"
   ]
  },
  {
   "cell_type": "code",
   "execution_count": null,
   "metadata": {},
   "outputs": [],
   "source": [
    "# Find the patients ids who have missing tumour size and/or missing mutation count data. Which cohorts do they belong to?\n",
    "#metabric[metabric['Tumour_size'].isna()]\n",
    "#metabric[metabric['Tumour_size'].isna()]['Cohort'].unique()\n",
    "\n",
    "#metabric[metabric['Mutation_count'].isna()]\n",
    "#metabric[metabric['Mutation_count'].isna()]['Cohort'].unique()\n",
    "\n",
    "metabric[(metabric['Tumour_size'].isna()) | (metabric['Mutation_count'].isna())]"
   ]
  },
  {
   "cell_type": "code",
   "execution_count": null,
   "metadata": {},
   "outputs": [],
   "source": [
    "# For the patients identified to have missing tumour size data for each cohort, calculate the average tumour size of the patients with tumour size data available within the same cohort to fill in the missing data\n",
    "\n",
    "# Cohort 1\n",
    "metabric_c1 = metabric[metabric['Cohort'] == 1]\n",
    "metabric_c1[metabric_c1['Tumour_size'].isna()]\n",
    "metabric_c1[metabric_c1['Tumour_size'].notna()]\n",
    "metabric_c1[metabric_c1['Tumour_size'].notna()]['Tumour_size'].mean()\n",
    "mean_c1 = round(metabric_c1[metabric_c1['Tumour_size'].notna()]['Tumour_size'].mean(),1)\n",
    "mean_c1\n",
    "metabric_c1 = metabric_c1.fillna(value={'Tumour_size': mean_c1})\n",
    "metabric_c1[metabric_c1['Tumour_size'].isna()]\n",
    "metabric_c1[metabric_c1['Patient_ID'].isin([\"MB-0259\", \"MB-0284\", \"MB-0522\"])]\n",
    "# Validation of the absence of missingness\n",
    "metabric_c1['Tumour_size'].isnull().value_counts()\n",
    "\n",
    "# Cohort 3\n",
    "#metabric_c3 = metabric[metabric['Cohort'] == 3]\n",
    "#metabric_c3[metabric_c3['Tumour_size'].isna()]\n",
    "#mean_c3 = round(metabric_c3[metabric_c3['Tumour_size'].notna()]['Tumour_size'].mean(),1)\n",
    "#metabric_c3 = metabric_c3.fillna(value={'Tumour_size': mean_c3})\n",
    "\n",
    "# Cohort 5\n",
    "#metabric_c5 = metabric[metabric['Cohort'] == 5]\n",
    "#metabric_c5[metabric_c5['Tumour_size'].isna()]\n",
    "#mean_c5 = round(metabric_c5[metabric_c5['Tumour_size'].notna()]['Tumour_size'].mean(),1)\n",
    "#metabric_c5 = metabric_c5.fillna(value={'Tumour_size': mean_c5})\n",
    "\n",
    "\n",
    "### $$$ Bonus $$$ ### \n",
    "# Using what you have learnt in weeks 1 (intro) and 2 (pandas), \n",
    "# Write a function that takes an input dataframe and two columns e.g. \"Cohort\" and \"Tumour_size\"\n",
    "# and returns a new dataframe with the NaNs filled using the logic above"
   ]
  },
  {
   "cell_type": "code",
   "execution_count": null,
   "metadata": {},
   "outputs": [],
   "source": []
  }
 ],
 "metadata": {
  "kernelspec": {
   "display_name": "Python 3",
   "language": "python",
   "name": "python3"
  },
  "language_info": {
   "codemirror_mode": {
    "name": "ipython",
    "version": 3
   },
   "file_extension": ".py",
   "mimetype": "text/x-python",
   "name": "python",
   "nbconvert_exporter": "python",
   "pygments_lexer": "ipython3",
   "version": "3.8.2"
  }
 },
 "nbformat": 4,
 "nbformat_minor": 4
}
