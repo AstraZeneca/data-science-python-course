{
 "cells": [
  {
   "cell_type": "markdown",
   "metadata": {},
   "source": [
    "# Week 2 - Data visualisation"
   ]
  },
  {
   "cell_type": "markdown",
   "metadata": {},
   "source": [
    "## Modules required\n",
    "\n",
    "To visualize data in Python, we will be using the modules [matplotlib](https://matplotlib.org/) and [seaborn](https://seaborn.pydata.org/). To install these, run `pip install seaborn --user` and `pip install matplotlib --user` (or `pip install <seaborn/matplotlib> --proxy \"http://azpzen.astrazeneca.net:9480\"` if you need to use a proxy)  just like you installed pandas and/or numpy in week 1."
   ]
  },
  {
   "cell_type": "markdown",
   "metadata": {},
   "source": [
    "`matplotlib` is a general purpose plotting library that provides the general framework for making plots and figures. `seaborn` sits on top of matplotlib, and provides nicer visuals as well as an easier to use interface. More information about these packages can be found on their web pages:\n",
    "\n",
    "- [matplotlib](https://matplotlib.org/stable/tutorials/introductory/pyplot.html#sphx-glr-tutorials-introductory-pyplot-py) - This links to the `pyplot` tutorial page, which is most relevant to what we will be covering today.\n",
    "- [seaborn](https://seaborn.pydata.org/index.html)"
   ]
  },
  {
   "cell_type": "markdown",
   "metadata": {
    "id": "Tr8Vx9rE9b20"
   },
   "source": [
    "From `matplotlib` we import the submodule `pyplot` with the alias `plt`. `seaborn` is typically imported with the alias `sns`. We also import `pandas` and `numpy` as before."
   ]
  },
  {
   "cell_type": "code",
   "execution_count": null,
   "metadata": {
    "executionInfo": {
     "elapsed": 3303,
     "status": "ok",
     "timestamp": 1612090971576,
     "user": {
      "displayName": "",
      "photoUrl": "",
      "userId": ""
     },
     "user_tz": 0
    },
    "id": "FxOo5Gji9b21"
   },
   "outputs": [],
   "source": [
    "import matplotlib.pyplot as plt\n",
    "import seaborn as sns\n",
    "import numpy as np\n",
    "import pandas as pd"
   ]
  },
  {
   "cell_type": "markdown",
   "metadata": {},
   "source": [
    "If you are working in a notebook environment, you may need to run the following line to ensure that the plots appear beneath the code that generated them."
   ]
  },
  {
   "cell_type": "code",
   "execution_count": null,
   "metadata": {},
   "outputs": [],
   "source": [
    "%matplotlib inline "
   ]
  },
  {
   "cell_type": "markdown",
   "metadata": {},
   "source": [
    "# Basic Visualisation "
   ]
  },
  {
   "cell_type": "markdown",
   "metadata": {},
   "source": [
    "For this tutorial, we shall by using `pyplot`, an interface for `matplotlib` that is designed to be easy to use, at the cost of certain more complicated plots being more difficult to create. More about this in a bonus appendix at the end of the notebook."
   ]
  },
  {
   "cell_type": "markdown",
   "metadata": {},
   "source": [
    "## Creating a Figure"
   ]
  },
  {
   "cell_type": "markdown",
   "metadata": {},
   "source": [
    "The basic setup for creating a plot using `pyplot` is as follows.\n",
    "\n",
    "First we create a figure using `plt.figure()`, then instruct python to show us the plot using `plt.show()`:"
   ]
  },
  {
   "cell_type": "code",
   "execution_count": null,
   "metadata": {},
   "outputs": [],
   "source": [
    "plt.figure()\n",
    "\n",
    "plt.show()"
   ]
  },
  {
   "cell_type": "markdown",
   "metadata": {},
   "source": [
    "**Note**: Depending on what software you are using to run python, and especially if you are not using a notebook based programme, you may not need the `plt.show()` command."
   ]
  },
  {
   "cell_type": "markdown",
   "metadata": {},
   "source": [
    "We can then use the `plt.plot()` function to add a simple line graph."
   ]
  },
  {
   "cell_type": "code",
   "execution_count": null,
   "metadata": {},
   "outputs": [],
   "source": [
    "plt.figure()\n",
    "\n",
    "plt.plot([1,2,3,4], [2,4,8,16]) # The first argument is the x-coordinates, the second argument is the y-coordinates\n",
    "\n",
    "plt.show()"
   ]
  },
  {
   "cell_type": "markdown",
   "metadata": {},
   "source": [
    "We can add extra arguments to `plt.figure()` to customise the whole image, and use further `pyplot` functions to modify individual graphs."
   ]
  },
  {
   "cell_type": "code",
   "execution_count": null,
   "metadata": {},
   "outputs": [],
   "source": [
    "plt.figure(figsize=(10,10)) # figsize controls the size of the image\n",
    "\n",
    "plt.plot([1,2,3,4], [2,4,8,16])\n",
    "\n",
    "plt.xlabel('x', fontsize=20) # plt.xlabel controls the label on the x-axis, fontsize controls the font size of this label\n",
    "plt.ylabel('2^x', fontsize=20)\n",
    "\n",
    "plt.show()"
   ]
  },
  {
   "cell_type": "markdown",
   "metadata": {},
   "source": [
    "## Subplots"
   ]
  },
  {
   "cell_type": "markdown",
   "metadata": {},
   "source": [
    "Working with subplots is slightly more complicated.\n",
    "\n",
    "`pyplot` has a notion of an \"active subplot\". Any commands, e.g. to draw a scatterplot, will act on the active subplot.\n",
    "\n",
    "The active subplot can be specifed via `plt.subplot(i, j, k)`, which sets the active subplot to the `k`th subplot in an `i` by `j` grid.\n",
    "\n",
    "For example, let's suppose we wish to visualise just how much faster the curve `a^x` grows when `a` is larger. We can do this by plotting both `2^x` and `3^x`."
   ]
  },
  {
   "cell_type": "code",
   "execution_count": null,
   "metadata": {},
   "outputs": [],
   "source": [
    "# Create a 1 x 2 grid of subplots\n",
    "plt.subplots(1, 2, figsize=(10,10)) \n",
    "\n",
    "\n",
    "# Specify that we would like to draw on the 1st subplot\n",
    "plt.subplot(1, 2, 1) \n",
    "\n",
    "# Now add a plot of 2^x and approppriate labels\n",
    "plt.plot([1,2,3,4], [2,4,8,16])\n",
    "plt.xlabel(\"x\")\n",
    "plt.ylabel(\"2^x\")\n",
    "\n",
    "\n",
    "# Specify that we would like to draw on the 2nd subplot, and make \n",
    "# a similar plot for 3^x\n",
    "plt.subplot(1, 2, 2) \n",
    "plt.plot([1,2,3,4], [3,9,27,81])\n",
    "plt.xlabel(\"x\")\n",
    "plt.ylabel(\"3^x\")\n",
    "\n",
    "\n",
    "plt.show()"
   ]
  },
  {
   "cell_type": "markdown",
   "metadata": {},
   "source": [
    "This is nice, but the fact that the graphs have different y-axes sort of hides the point. We can force the two graphs to share an axis by setting `sharey=True` when we create the figure. \n",
    "\n",
    "Note that this is an example of an **figure** level function, as it affects the whole image. Another example would be `plt.suptitle()`, which adds a title to the whole image. Typically it doesn't matter where these are placed in your code, as they always affect the whole figure.\n",
    "\n",
    "This in contrast to **axis** level functions, which only affect a single graph. Examples include `plt.plot()` or `plt.xlim()`. When using these functions, one must of course be aware of the active subplot."
   ]
  },
  {
   "cell_type": "code",
   "execution_count": null,
   "metadata": {},
   "outputs": [],
   "source": [
    "plt.subplots(1, 2, sharey=True, figsize=(10,10)) # sharey=True ensure the axes share a y-axis\n",
    "\n",
    "plt.subplot(1, 2, 1) \n",
    "plt.plot([1,2,3,4], [2,4,8,16])\n",
    "plt.xlabel(\"x\")\n",
    "plt.ylabel(\"2^x\")\n",
    "plt.title(\"a = 2\") # plt.title() adds a title to the active subplot\n",
    "\n",
    "plt.subplot(1, 2, 2) \n",
    "plt.plot([1,2,3,4], [3,9,27,81])\n",
    "plt.xlabel(\"x\")\n",
    "plt.ylabel(\"3^x\")\n",
    "plt.title(\"a = 3\")\n",
    "\n",
    "plt.suptitle(\"Different Exponential (a^x) Curves\", fontsize=20) # plt.suptitle() adds a title to the whole figure\n",
    "\n",
    "plt.show()"
   ]
  },
  {
   "cell_type": "markdown",
   "metadata": {},
   "source": [
    "# Seaborn "
   ]
  },
  {
   "cell_type": "markdown",
   "metadata": {},
   "source": [
    "As mentioned above, `seaborn` is a package that sits on top of `matplotlib`. It makes nicer looking plots, and provides an easier to use interface for controlling the fine details of such plots.\n",
    "\n",
    "We first pick a seaborn theme for our plots, this sets defaults for various aesthetic properties like the colours of points or the background. All of these details can be changed manually for any given plot if needed. We are going to use the `\"white\"` theme with the `\"notebook\"` context, but there are many other options, for details see [here](https://seaborn.pydata.org/generated/seaborn.set_theme.html). "
   ]
  },
  {
   "cell_type": "code",
   "execution_count": null,
   "metadata": {},
   "outputs": [],
   "source": [
    "sns.set_theme(context=\"notebook\", style=\"white\")"
   ]
  },
  {
   "cell_type": "markdown",
   "metadata": {},
   "source": [
    "## Scatter Plots"
   ]
  },
  {
   "cell_type": "markdown",
   "metadata": {},
   "source": [
    "The most basic of plots, these are useful for visualising the relationship between a pair of continuous variables."
   ]
  },
  {
   "cell_type": "code",
   "execution_count": null,
   "metadata": {},
   "outputs": [],
   "source": [
    "penguins = sns.load_dataset(\"penguins\")"
   ]
  },
  {
   "cell_type": "code",
   "execution_count": null,
   "metadata": {},
   "outputs": [],
   "source": [
    "penguins.head()"
   ]
  },
  {
   "cell_type": "markdown",
   "metadata": {},
   "source": [
    "Let's make a scatter graph showing the relationship between bill length and flipper length.\n",
    "\n",
    "`seaborn` functions take the place of the `plt.plot()` function in the above. To create a scatter plot, the command we need is `sns.scatterplot()`."
   ]
  },
  {
   "cell_type": "code",
   "execution_count": null,
   "metadata": {},
   "outputs": [],
   "source": [
    "plt.figure()\n",
    "\n",
    "sns.scatterplot(x=penguins.bill_length_mm, y=penguins.flipper_length_mm)\n",
    "\n",
    "plt.show()"
   ]
  },
  {
   "cell_type": "markdown",
   "metadata": {},
   "source": [
    "This graph is fine, but it has a number of issues:\n",
    "\n",
    "* It's too small!\n",
    "* The axis labels are not very readable\n",
    "\n",
    "The size is a property of the figure, so we can control when creating the figure, via the argument `figsize`. \n",
    "\n",
    "The axis labels are proprties of the individual plot, so we control them seperately, in this case using the `plt.xlabel()` and `plt.ylabel()` functions.\n",
    "\n",
    "We can also tidy up the plot creation line. If you provide a data frame to the `data` argument in any seaborn plot creation function, you can refer to variables within that data frame by strings."
   ]
  },
  {
   "cell_type": "code",
   "execution_count": null,
   "metadata": {},
   "outputs": [],
   "source": [
    "plt.figure(figsize=(10,10))\n",
    "\n",
    "sns.scatterplot(data=penguins, x=\"bill_length_mm\", y=\"flipper_length_mm\")\n",
    "plt.xlabel(\"Bill Length (mm)\")\n",
    "plt.ylabel(\"Flipper Length (mm)\")\n",
    "\n",
    "plt.show()"
   ]
  },
  {
   "cell_type": "markdown",
   "metadata": {},
   "source": [
    "This is better, but now the figure is bigger we should probably up the size of the axis labels. The size of the individual points is also a bit small.\n",
    "\n",
    "We can also add some more information to this plot, for example we could colour by the species of each penguin.\n",
    "\n",
    "The point size and colour can be controlled when creating the plot, via providing extra arguments to the `sns.scatterplot()` function. In this case `hue` for the point colour, and `s` for the point size.\n",
    "\n",
    "**Note**: Here we are controlling the size of points via a single number, so we use the `s` argument. If you wanted the points to be individually sized based on some other variable, you would need to provide that to the `size` argument. This reflects a common theme in seaborn, where many aesthetic qualities will have one argument if you wish to control them manually, and another if you wish to control them via a variable. Check the documentation of any seaborn plotting function for details."
   ]
  },
  {
   "cell_type": "code",
   "execution_count": null,
   "metadata": {},
   "outputs": [],
   "source": [
    "plt.figure(figsize=(10,10))\n",
    "\n",
    "sns.scatterplot(data=penguins, x=\"bill_length_mm\", y=\"flipper_length_mm\", hue=\"species\", s=50)\n",
    "plt.xlabel(\"Bill Length (mm)\", fontsize=15)\n",
    "plt.ylabel(\"Flipper Length (mm)\", fontsize=15)\n",
    "\n",
    "plt.show()"
   ]
  },
  {
   "cell_type": "markdown",
   "metadata": {},
   "source": [
    "There are still some issues with this plot:\n",
    "\n",
    "Now we have a legend, it would be nice if the label was capitalised. The legend can be customised using the `plt.legend()` function.\n",
    "\n",
    "More seriously, by default seaborn has opted to use red and green for two of the colours, which are not particuarly easy to distinguish, especially for colourblind people. To rectify this, we need to edit the colours mapped to each value of `species` when we tell seaborn to colour by this variable. This can be done  by providing a dictionary to the argument `pallette`. Colours can specified using strings, or if you want finer control, via hex codes. A useful list of named colours in matplotlib can be found [here](https://matplotlib.org/stable/gallery/color/named_colors.html), and the hex codes for the AstraZeneca colour palette can be found in an appendix. "
   ]
  },
  {
   "cell_type": "code",
   "execution_count": null,
   "metadata": {},
   "outputs": [],
   "source": [
    "plt.figure(figsize=(10,10))\n",
    "\n",
    "sns.scatterplot(data=penguins, x=\"bill_length_mm\", y=\"flipper_length_mm\", \n",
    "                hue=\"species\", palette={\"Adelie\":\"red\", \"Chinstrap\":\"blue\", \"Gentoo\":\"teal\"})\n",
    "plt.xlabel(\"Bill Length (mm)\", fontsize=15)\n",
    "plt.ylabel(\"Flipper Length (mm)\", fontsize=15)\n",
    "plt.legend(title=\"Species\")\n",
    "\n",
    "plt.show()"
   ]
  },
  {
   "cell_type": "markdown",
   "metadata": {},
   "source": [
    "**<span style=\"color:blue\">Exercise</span>**: Create a version of this plot where the points are also sized by the overall mass of the penguin, and see if you can control the range of sizes used. There is clearly a relationship between body mass and both flipper and bill length. Is this plot the most approporiate way to show this?\n",
    "\n",
    "**<span style=\"color:#830051\">Corporate bonus exercise</span>**: Update this plot to use the official AstraZeneca colour palette."
   ]
  },
  {
   "cell_type": "markdown",
   "metadata": {},
   "source": [
    "## Visualising Distributions"
   ]
  },
  {
   "cell_type": "markdown",
   "metadata": {},
   "source": [
    "Often we would like to understand the distribution of variables in our dataset. For this, let's bring back the metabric data set from the previous session."
   ]
  },
  {
   "cell_type": "code",
   "execution_count": null,
   "metadata": {},
   "outputs": [],
   "source": [
    "metabric = pd.read_csv('metabric_clinical_and_expression_data.csv')"
   ]
  },
  {
   "cell_type": "code",
   "execution_count": null,
   "metadata": {},
   "outputs": [],
   "source": [
    "metabric.head()"
   ]
  },
  {
   "cell_type": "markdown",
   "metadata": {},
   "source": [
    "### A Single Variable"
   ]
  },
  {
   "cell_type": "markdown",
   "metadata": {},
   "source": [
    "One thing we might be interested in is the age range of the patients in this data set. \n",
    "\n",
    "As age is a continuous variable, the most appropriate tool to visualise it's distribution is a histogram."
   ]
  },
  {
   "cell_type": "code",
   "execution_count": null,
   "metadata": {},
   "outputs": [],
   "source": [
    "plt.figure()\n",
    "\n",
    "sns.histplot(data=metabric, x=\"Age_at_diagnosis\", color=\"#68D2DF\")\n",
    "plt.xlabel(\"Age at Diagnosis\")\n",
    "plt.ylabel(\"Count\")\n",
    "\n",
    "plt.show()"
   ]
  },
  {
   "cell_type": "markdown",
   "metadata": {},
   "source": [
    "Seems like we have a pretty good range of ages!"
   ]
  },
  {
   "cell_type": "markdown",
   "metadata": {},
   "source": [
    "**<span style=\"color:blue\">Exercise</span>**: Of course if we were trying to visualise the distribution of a discrete variable, a bar chart would be more appropriate. Pick a discrete variable from the metabric data set and use the function `sns.countplot()` to plot a bar chart showing it's distribution. Ensure that all plot properties such as the axis labels are customised to your satisfaction."
   ]
  },
  {
   "cell_type": "markdown",
   "metadata": {},
   "source": [
    "### Multiple Variables"
   ]
  },
  {
   "cell_type": "markdown",
   "metadata": {},
   "source": [
    "Often we want to see how the value of one variable is related to that of another. Depending on the nature of the variables involved, there are many ways to visualise this.\n",
    "\n",
    "When both variables are continuous, a scatter plot is often the way to go."
   ]
  },
  {
   "cell_type": "markdown",
   "metadata": {},
   "source": [
    "### Box Plots"
   ]
  },
  {
   "cell_type": "markdown",
   "metadata": {},
   "source": [
    "When one variable is continous and the other discrete, a commonly used tool is the *Box Plot*.\n",
    "\n",
    "For example, let's suppose we want to check whether the expression of ESR1 is affected by cancer subtype."
   ]
  },
  {
   "cell_type": "code",
   "execution_count": null,
   "metadata": {},
   "outputs": [],
   "source": [
    "metabric.ESR1.max()"
   ]
  },
  {
   "cell_type": "code",
   "execution_count": null,
   "metadata": {},
   "outputs": [],
   "source": [
    "plt.figure(figsize=(8,5))\n",
    "\n",
    "sns.boxplot(data=metabric, x=\"Cancer_type\", y=\"ESR1\")\n",
    "plt.xticks(rotation=45, horizontalalignment=\"right\") # Adjust the orientation of the x ticks for ease of reading\n",
    "plt.xlabel(\"Cancer Type\")\n",
    "plt.ylim(0, metabric.ESR1.max() + 1) # Automatically compute the y limits based on the data \n",
    "\n",
    "plt.show()"
   ]
  },
  {
   "cell_type": "markdown",
   "metadata": {},
   "source": [
    "Note the `plt.xticks()` command. In plotting, the labels attached to individial points an axis are generally called *ticks*. \n",
    "\n",
    "Even with the x ticks rotated, they are a little hard to read. It would make more sense to plot these box plots horizontally. Luckily, `sns.boxplot()` automatically detects which variable is discrete and which is continuous, so this can be achieved via a simple swap of the variables provided to the `x` and `y` arguments (remember to update the axis labels!)."
   ]
  },
  {
   "cell_type": "code",
   "execution_count": null,
   "metadata": {},
   "outputs": [],
   "source": [
    "plt.figure(figsize=(8,8))\n",
    "\n",
    "sns.boxplot(data=metabric, y=\"Cancer_type\", x=\"ESR1\")\n",
    "plt.ylabel(\"Cancer Type\")\n",
    "plt.xlim(0, metabric.ESR1.max() + 1)\n",
    "\n",
    "plt.show()"
   ]
  },
  {
   "cell_type": "markdown",
   "metadata": {},
   "source": [
    "### Beeswarm-Violin Plots"
   ]
  },
  {
   "cell_type": "markdown",
   "metadata": {},
   "source": [
    "Box plots are nice, and are easy to read when your discrete variable has a large number of values. But they obscure quite a lot of information, leaving only the median, quartiles, outliers, and 5th/95th percentiles visible. This can hide more nuanced characteristics of a variable's distribution.\n",
    "\n",
    "An alternative is the *Beeswarm Plot*, in which every data point is plotted, often with a small random pertubation to decrease overlap between points. Beeswarm plots are often combined with a *Violin Plot* to give an overview of each variable's distribution.\n",
    "\n",
    "The command for a beeswarm plot is `sns.swarmplot()`."
   ]
  },
  {
   "cell_type": "code",
   "execution_count": null,
   "metadata": {},
   "outputs": [],
   "source": [
    "plt.figure(figsize=(20, 10))\n",
    "\n",
    "sns.swarmplot(data=metabric, x=\"Cancer_type\", y=\"ESR1\", s=3)\n",
    "\n",
    "plt.xticks(rotation=45, horizontalalignment=\"right\")\n",
    "plt.xlabel(\"Cancer Type\")\n",
    "\n",
    "plt.show()"
   ]
  },
  {
   "cell_type": "markdown",
   "metadata": {},
   "source": [
    "The command for a violin plot is `sns.violinplot()`."
   ]
  },
  {
   "cell_type": "code",
   "execution_count": null,
   "metadata": {},
   "outputs": [],
   "source": [
    "plt.figure(figsize=(20, 10))\n",
    "\n",
    "sns.violinplot(data=metabric, x=\"Cancer_type\", y=\"ESR1\", palette=[\"w\"])\n",
    "sns.swarmplot(data=metabric, x=\"Cancer_type\", y=\"ESR1\", s=3)\n",
    "\n",
    "plt.xticks(rotation=45, horizontalalignment=\"right\")\n",
    "plt.xlabel(\"Cancer Type\")\n",
    "\n",
    "plt.show()"
   ]
  },
  {
   "cell_type": "markdown",
   "metadata": {},
   "source": [
    "Now we can see that the distribution of ESR1 expression in Breast Invasive Ductal Carcinoma is actually bimodal. The beeswarm plot also hammers home just how much more data is available for this subgroup compared to the other cancer types.\n",
    "\n",
    "Note the last plot here is an example of a *layered plot*, in that we have the beeswarm plot layered over the violin plot. When you call a `seaborn` plotting function, it will simply draw the plot over what is already on the axes, whether that is whitespace or another plot."
   ]
  },
  {
   "cell_type": "markdown",
   "metadata": {},
   "source": [
    "**<span style=\"color:blue\">Exercise</span>**: Create plots to answer the following questions:\n",
    "- Does the expression profile of ESR1 differ between patients who have and haven't undergone chemotherapy?\n",
    "- What about radiotherapy?\n",
    "- What about the four different combinations of chemotherapy and radiotherapy?"
   ]
  },
  {
   "cell_type": "markdown",
   "metadata": {
    "id": "xTDhK0aD9b3G"
   },
   "source": [
    "# Homework"
   ]
  },
  {
   "cell_type": "markdown",
   "metadata": {},
   "source": [
    "## Exercises from the Text"
   ]
  },
  {
   "cell_type": "markdown",
   "metadata": {},
   "source": [
    "**<span style=\"color:blue\">Exercise</span>**: From the penguins data set, create a plot of flipper length vs bill length where the points are also sized by the overall mass of the penguin, and see if you can control the range of sizes used. There is clearly a relationship between body mass and both flipper and bill length. Is this plot the most approporiate way to show this? **<span style=\"color:#830051\">Corporate bonus exercise</span>**: Use the official AstraZeneca colour palette."
   ]
  },
  {
   "cell_type": "markdown",
   "metadata": {},
   "source": [
    "**<span style=\"color:blue\">Exercise</span>**: To visualise the distribution of a discrete variable, a bar chart would be appropriate. Pick a discrete variable from the metabric data set and use the function `sns.countplot()` to plot a bar chart showing it's distribution. Ensure that all plot properties such as the axis labels are customised to your satisfaction."
   ]
  },
  {
   "cell_type": "markdown",
   "metadata": {},
   "source": [
    "**<span style=\"color:blue\">Exercise</span>**: Create plots to answer the following questions:\n",
    "- Does the expression profile of ESR1 differ between patients who have and haven't undergone chemotherapy?\n",
    "- What about radiotherapy?\n",
    "- What about the four different combinations of chemotherapy and radiotherapy?"
   ]
  },
  {
   "cell_type": "markdown",
   "metadata": {},
   "source": [
    "## Exercise 1"
   ]
  },
  {
   "cell_type": "markdown",
   "metadata": {},
   "source": [
    "In this exercise, we shall use the `sns.heatmap()` function to look at the correlation between the genes with expression data in metabric.\n",
    "\n",
    "- If you look at the documentation for the heatmap function, you will see that it requires a matrix as input. Use the `.corr()` method for data frames to create a correlation matrix for all the gene expression variables. *Note:* The `.loc` subsetting functionality may also be useful here.\n",
    "- Create a heatmap visualising these correlations. Do you notice anything? Try manually ordering the different variables to best highlight the patterns in the heatmap."
   ]
  },
  {
   "cell_type": "markdown",
   "metadata": {},
   "source": [
    "## Exercise 2"
   ]
  },
  {
   "cell_type": "markdown",
   "metadata": {},
   "source": [
    "Earlier we used the `sns.histplot()` function to visualise the age distribution of the patients in our data set. In this exercise, we look at some options for visualising how this age distribution breaks down across the different cohorts.\n",
    "\n",
    "- One option is to use the `sns.kdeplot()` function, which only plots the density curve, not the actual bars. Use this function to plot five different density curves on a single axis, one for the age distribution of patients within each cohort.\n",
    "- Another option is to use subplots. Create a figure where the histogram for the age distribution within each cohort is on a different set of axes. Creating five different subplots is a bit laborious, so you might want to explore using a `for` loop to save time.\n",
    "\n",
    "Which of these options do you prefer? "
   ]
  },
  {
   "cell_type": "markdown",
   "metadata": {},
   "source": [
    "## Appendix 1 - The AZ Colour Pallette"
   ]
  },
  {
   "cell_type": "markdown",
   "metadata": {},
   "source": [
    "If you want to add some corporate flair to your graphics, the hex codes for the AZ pallette are as follows:\n",
    "\n",
    "- Graphite: `#3F4444`\n",
    "- Platinum: `#9DB0AC`\n",
    "- Navy: `#003865`\n",
    "- Mulberry: `#830051`\n",
    "- Gold: `#F0AB00`\n",
    "- Magenta: `#D0006F`\n",
    "- Purple: `#3C1053`\n",
    "- Lime Green: `#C4D600`\n",
    "- Light Blue: `#68D2DF`\n",
    "\n",
    "These can be used in the same way as colour names. e.g. you would write `\"#3F4444\"` rather than `\"red\"`.\n",
    "\n",
    "More information on the colour palette can be found [here](https://onbrand.astrazeneca.com/portal/doc?query=%7B%22rootIds%22%3A%5B5226%5D%2C%22limit%22%3A1%2C%22nodeIds%22%3A%5B5239%5D%2C%22incXP%22%3Atrue%7D&docId=10474).\n",
    "\n",
    "A useful website for converting between different ways of specifying colours is [here](https://www.w3schools.com/colors/colors_converter.asp)."
   ]
  },
  {
   "cell_type": "markdown",
   "metadata": {},
   "source": [
    "## Appendix 2 - Matplotlib's Explicit Interface"
   ]
  },
  {
   "cell_type": "markdown",
   "metadata": {},
   "source": [
    "The pyplot module we have been using today is also referred to as the *implicit* interface for matplotlib, as when calling plotting commands the subplot on which to apply them is defined implicitly.\n",
    "\n",
    "Another way of creating plots in matplotlib is to use its *explicit* interface. This requires the user to create all figures and axes manually. These are then `Figure` and `Axes` python objects, with methods that can be used to make plots. \n",
    "\n",
    "Let's see how to make a basic plot using this explicit interface:\n",
    "\n",
    "First we create a figure and axes."
   ]
  },
  {
   "cell_type": "code",
   "execution_count": null,
   "metadata": {},
   "outputs": [],
   "source": [
    "fig, axs = plt.subplots()"
   ]
  },
  {
   "cell_type": "markdown",
   "metadata": {},
   "source": [
    "`fig` is a python object of type `Figure`, with various methods that can be used to control properties of the whole figure.\n",
    "\n",
    "`axs` is a python object of type `Axes`, with various methods that can be used to customise a single plot, such as the method `.plot()` that we can use to make a graph."
   ]
  },
  {
   "cell_type": "code",
   "execution_count": null,
   "metadata": {},
   "outputs": [],
   "source": [
    "fig, axs = plt.subplots()\n",
    "\n",
    "axs.plot([1,2,3,4], [2,4,8,16])\n",
    "\n",
    "fig.show()"
   ]
  },
  {
   "cell_type": "markdown",
   "metadata": {},
   "source": [
    "The `Axes` object definition contains many methods to control other aspects of a plot, such as axis labels."
   ]
  },
  {
   "cell_type": "code",
   "execution_count": null,
   "metadata": {},
   "outputs": [],
   "source": [
    "fig, axs = plt.subplots(figsize=(5,5))\n",
    "\n",
    "axs.plot([1,2,3,4], [2,4,8,16])\n",
    "\n",
    "axs.set_xlabel('x', fontsize=20)\n",
    "axs.set_ylabel('2^x', fontsize=20)\n",
    "\n",
    "fig.show()"
   ]
  },
  {
   "cell_type": "markdown",
   "metadata": {},
   "source": [
    "For a single plot this is clearly a lot more work, but the advantage of this approach becomes clear when working with multiple subplots. \n",
    "\n",
    "First we create a figure with mutiple `Axes`:"
   ]
  },
  {
   "cell_type": "code",
   "execution_count": null,
   "metadata": {},
   "outputs": [],
   "source": [
    "fig, axs = plt.subplots(1,2)"
   ]
  },
  {
   "cell_type": "markdown",
   "metadata": {},
   "source": [
    "`axs` is now a list of two `Axes` objects. To perform some plotting action on a particular subplot, we simply call the relevant method on the desired `Axes`.\n",
    "\n",
    "For actions that we want to perform on the whole figure, we can simply call the relevant method on `fig`. "
   ]
  },
  {
   "cell_type": "code",
   "execution_count": null,
   "metadata": {},
   "outputs": [],
   "source": [
    "fig, axs = plt.subplots(1, 2, sharey=True)\n",
    "\n",
    "axs[0].plot([1,2,3,4], [2,4,8,16]) # Calling the method .plot() on axs[0] tells matplotlib exactly which subplot to draw on\n",
    "axs[1].plot([1,2,3,4], [3,9,27,81])\n",
    "\n",
    "axs[0].set_ylabel('2^x')\n",
    "axs[1].set_ylabel('3^x')\n",
    "\n",
    "fig.supxlabel('x') # The .supxlabel() adds an x label to the whole figure, not just an individual subplot\n",
    "fig.suptitle('Differences in Exponential Curves') # Similarly .suptitle() adds a title to the whole figure\n",
    "\n",
    "fig.show()"
   ]
  },
  {
   "cell_type": "markdown",
   "metadata": {},
   "source": [
    "You can now see why this is termed the explicit interface, as in every command we are explicitly telling python which subplot to draw on.\n",
    "\n",
    "You can also see that even with only two subplots, this explicit interface is much less cumbersome than the implicit interface."
   ]
  },
  {
   "cell_type": "markdown",
   "metadata": {},
   "source": [
    "### Seaborn"
   ]
  },
  {
   "cell_type": "markdown",
   "metadata": {},
   "source": [
    "When creating a plot with the explicit interface using seaborn, you can specify which axes to draw on via the argument `ax`.\n",
    "\n",
    "For example, when there is a single pair of axes we can create a scatter plot as follows:"
   ]
  },
  {
   "cell_type": "code",
   "execution_count": null,
   "metadata": {},
   "outputs": [],
   "source": [
    "fig, axs = plt.subplots()\n",
    "\n",
    "sns.scatterplot(data=penguins, x=\"bill_length_mm\", y=\"flipper_length_mm\", ax=axs)\n",
    "\n",
    "fig.show()"
   ]
  },
  {
   "cell_type": "markdown",
   "metadata": {},
   "source": [
    "We could create mutiple scatter plots using seaborn as follows:"
   ]
  },
  {
   "cell_type": "code",
   "execution_count": null,
   "metadata": {},
   "outputs": [],
   "source": [
    "fig, axs = plt.subplots(1,2,sharex=True, figsize=(10,5))\n",
    "\n",
    "sns.scatterplot(data=penguins, x=\"bill_length_mm\", y=\"bill_depth_mm\", ax=axs[0]) # Setting ax=axs[0] tells seaborn to draw the scatter plot on the first subplot\n",
    "sns.scatterplot(data=penguins, x=\"bill_length_mm\", y=\"flipper_length_mm\", ax=axs[1])\n",
    "\n",
    "axs[0].set_xlabel('') # Remove the individual x-axis labels, to replace with a figure x label later\n",
    "axs[1].set_xlabel('')\n",
    "\n",
    "axs[0].set_ylabel('Bill Depth (mm)')\n",
    "axs[1].set_ylabel('Flipper Length (mm)')\n",
    "\n",
    "fig.supxlabel('Bill Length (mm)') \n",
    "fig.suptitle('Relationship Between Bill Length and Other Variables') \n",
    "\n",
    "fig.show()"
   ]
  },
  {
   "cell_type": "markdown",
   "metadata": {},
   "source": [
    "**<span style=\"color:blue\">Exercise</span>**: Create the scatter plot from the end of the scatter plot section in the main text using the explicit interface.\n",
    "\n",
    "**<span style=\"color:blue\">Bonus Exercise</span>**: Try completing some of the other exercises above using the explicit interface, particularly the one involving subplots."
   ]
  }
 ],
 "metadata": {
  "colab": {
   "name": "Copy of week4_lecture.ipynb",
   "provenance": [
    {
     "file_id": "https://github.com/leosouliotis/data-science-python/blob/master/notebooks/week4_lecture.ipynb",
     "timestamp": 1612093333474
    }
   ]
  },
  "kernelspec": {
   "display_name": "MyEnv",
   "language": "python",
   "name": "myenv"
  },
  "language_info": {
   "codemirror_mode": {
    "name": "ipython",
    "version": 3
   },
   "file_extension": ".py",
   "mimetype": "text/x-python",
   "name": "python",
   "nbconvert_exporter": "python",
   "pygments_lexer": "ipython3",
   "version": "3.9.5"
  }
 },
 "nbformat": 4,
 "nbformat_minor": 4
}
