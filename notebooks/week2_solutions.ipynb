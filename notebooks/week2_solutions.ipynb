{
 "cells": [
  {
   "cell_type": "markdown",
   "id": "c57da8ef-8c43-4bbb-9c4c-67d1db7922cf",
   "metadata": {},
   "source": [
    "# Week 2 Solutions"
   ]
  },
  {
   "cell_type": "markdown",
   "id": "dc9392ef-e3e2-44d2-9f48-729747fa0acd",
   "metadata": {},
   "source": [
    "We begin by importing the relevant packages and data sets."
   ]
  },
  {
   "cell_type": "code",
   "execution_count": null,
   "id": "8756e448-a587-4293-92ce-98664e1e5f7b",
   "metadata": {},
   "outputs": [],
   "source": [
    "import matplotlib.pyplot as plt\n",
    "import seaborn as sns\n",
    "import pandas as pd\n",
    "import numpy as np"
   ]
  },
  {
   "cell_type": "code",
   "execution_count": null,
   "id": "9bb99043-3609-4372-8fdc-b8473f0e2cda",
   "metadata": {},
   "outputs": [],
   "source": [
    "penguins = sns.load_dataset(\"penguins\")"
   ]
  },
  {
   "cell_type": "code",
   "execution_count": null,
   "id": "d49dd0fb-b992-44ec-8e0b-6a17251c6794",
   "metadata": {},
   "outputs": [],
   "source": [
    "metabric = pd.read_csv(\"metabric_clinical_and_expression_data.csv\")"
   ]
  },
  {
   "cell_type": "code",
   "execution_count": null,
   "id": "85b62d54-fd89-4e53-ab99-fc2b46231fde",
   "metadata": {},
   "outputs": [],
   "source": [
    "%matplotlib inline"
   ]
  },
  {
   "cell_type": "code",
   "execution_count": null,
   "id": "8fc9bad5-8e90-4071-a8b3-db1ed31c9081",
   "metadata": {},
   "outputs": [],
   "source": [
    "penguins.head()"
   ]
  },
  {
   "cell_type": "code",
   "execution_count": null,
   "id": "04047255-0727-4527-a4cb-0145f19c524f",
   "metadata": {},
   "outputs": [],
   "source": [
    "metabric.head()"
   ]
  },
  {
   "cell_type": "markdown",
   "id": "efba79d7-fcf0-40be-b7c2-b9adcd5262fc",
   "metadata": {},
   "source": [
    "We also set a theme:"
   ]
  },
  {
   "cell_type": "code",
   "execution_count": null,
   "id": "d10b9a84-0328-4037-acb4-3d9cf078346d",
   "metadata": {},
   "outputs": [],
   "source": [
    "sns.set_theme(context=\"notebook\", style=\"white\")"
   ]
  },
  {
   "cell_type": "markdown",
   "id": "c2fc5a5f-03ad-4c05-bd01-1481416805d9",
   "metadata": {},
   "source": [
    "## Exercises from the Text"
   ]
  },
  {
   "cell_type": "markdown",
   "id": "dcffb39d-3da8-43a8-8860-fd0ea53800cc",
   "metadata": {},
   "source": [
    "### A"
   ]
  },
  {
   "cell_type": "markdown",
   "id": "11d05825-9d5a-4e9f-841c-577404ceeb92",
   "metadata": {},
   "source": [
    "**<span style=\"color:blue\">Exercise</span>**: From the penguins data set, create a plot of flipper length vs bill length where the points are also sized by the overall mass of the penguin, and see if you can control the range of sizes used. There is clearly a relationship between body mass and both flipper and bill length. Is this plot the most approporiate way to show this? "
   ]
  },
  {
   "cell_type": "markdown",
   "id": "20e1b7d7-eec7-4e5a-a657-1c839d5e1c2f",
   "metadata": {},
   "source": [
    "The code for the original plot is as follows:"
   ]
  },
  {
   "cell_type": "code",
   "execution_count": null,
   "id": "54ed2bb0-c030-4092-87b5-feac6b8efed9",
   "metadata": {},
   "outputs": [],
   "source": [
    "plt.figure(figsize=(10,10))\n",
    "\n",
    "sns.scatterplot(data=penguins, x=\"bill_length_mm\", y=\"flipper_length_mm\", s=50,\n",
    "                hue=\"species\", palette={\"Adelie\":\"red\", \"Chinstrap\":\"blue\", \"Gentoo\":\"teal\"})\n",
    "\n",
    "plt.xlabel(\"Bill Length (mm)\", fontsize=15, color=\"blue\")\n",
    "plt.ylabel(\"Flipper Length (mm)\", fontsize=15)\n",
    "plt.legend(title=\"Species\")\n",
    "\n",
    "plt.show()"
   ]
  },
  {
   "cell_type": "markdown",
   "id": "b9ad4959-9f8e-450f-a924-7228b681cbdf",
   "metadata": {},
   "source": [
    "To control the point size via a variable, we use the argument `size`. We can control the range of sizes used via the argument `sizes`, to which we provide a tuple with the minimum and maximum size. I experimented a bit and found that a minimum and maximum size of 10 and 100 respectively gave a good visual, but you may decide different parmeters look better."
   ]
  },
  {
   "cell_type": "code",
   "execution_count": null,
   "id": "2b03340c-a0c1-4f84-b51f-5922600ba451",
   "metadata": {},
   "outputs": [],
   "source": [
    "plt.figure(figsize=(10,10))\n",
    "\n",
    "scatter_plot = sns.scatterplot(data=penguins, x=\"bill_length_mm\", y=\"flipper_length_mm\", \n",
    "                size=\"body_mass_g\", sizes=(10,100),\n",
    "                hue=\"species\", palette={\"Adelie\":\"red\", \"Chinstrap\":\"blue\", \"Gentoo\":\"teal\"})\n",
    "\n",
    "plt.xlabel(\"Bill Length (mm)\", fontsize=15)\n",
    "plt.ylabel(\"Flipper Length (mm)\", fontsize=15)\n",
    "\n",
    "plt.show()"
   ]
  },
  {
   "cell_type": "markdown",
   "id": "3a6c6e20-6d39-484e-a82c-3dcd00f6ec85",
   "metadata": {},
   "source": [
    "**<span style=\"color:#830051\">Corporate bonus exercise</span>**: Update this plot to use the official AstraZeneca colour palette.\n",
    "\n",
    "We can achieve this via the use of hex codes."
   ]
  },
  {
   "cell_type": "code",
   "execution_count": null,
   "id": "bd9036f4-0ba8-44ec-95f4-d42952a3e46f",
   "metadata": {},
   "outputs": [],
   "source": [
    "plt.figure(figsize=(10,10))\n",
    "\n",
    "sns.scatterplot(data=penguins, x=\"bill_length_mm\", y=\"flipper_length_mm\", \n",
    "                size=\"body_mass_g\", sizes=(10,100),\n",
    "                hue=\"species\", palette={\"Adelie\":\"#D0006F\", \"Chinstrap\":\"#68D2DF\", \"Gentoo\":\"#3F4444\"})\n",
    "\n",
    "plt.xlabel(\"Bill Length (mm)\", fontsize=15)\n",
    "plt.ylabel(\"Flipper Length (mm)\", fontsize=15)\n",
    "\n",
    "plt.show()"
   ]
  },
  {
   "cell_type": "markdown",
   "id": "84fac22f-1927-4389-b90e-c78fc84d0f87",
   "metadata": {},
   "source": [
    "**Note**: If you wanted to control the legend titles, now there are two of them this is a little more tricky. The best way I could find of doing this was to rename the columns themselves within the `data` argument of the `scatterplot()` function:"
   ]
  },
  {
   "cell_type": "code",
   "execution_count": null,
   "id": "95038cff-3717-4eef-a7cd-8742278b92be",
   "metadata": {},
   "outputs": [],
   "source": [
    "plt.figure(figsize=(10,10))\n",
    "\n",
    "scatter_plot = sns.scatterplot(data=penguins.rename(columns={\"species\":\"Species\", \"body_mass_g\":\"Body Mass (g)\"}), x=\"bill_length_mm\", y=\"flipper_length_mm\", \n",
    "                size=\"Body Mass (g)\", sizes=(10,100),\n",
    "                hue=\"Species\", palette={\"Adelie\":\"red\", \"Chinstrap\":\"blue\", \"Gentoo\":\"teal\"})\n",
    "\n",
    "plt.xlabel(\"Bill Length (mm)\", fontsize=15)\n",
    "plt.ylabel(\"Flipper Length (mm)\", fontsize=15)\n",
    "\n",
    "plt.show()"
   ]
  },
  {
   "cell_type": "markdown",
   "id": "2384eba0-8da6-4110-87ab-53d7628a85b2",
   "metadata": {},
   "source": [
    "### B"
   ]
  },
  {
   "cell_type": "markdown",
   "id": "e957f95f-926c-4eda-80ca-0394ad9d5459",
   "metadata": {},
   "source": [
    "**<span style=\"color:blue\">Exercise</span>**: To visualise the distribution of a discrete variable, a bar chart would be appropriate. Pick a discrete variable from the metabric data set and use the function `sns.countplot()` to plot a bar chart showing it's distribution. Ensure that all plot properties such as the axis labels are customised to your satisfaction."
   ]
  },
  {
   "cell_type": "markdown",
   "id": "b3196ce8-75fd-451e-aaed-b0d349ad53e7",
   "metadata": {},
   "source": [
    "Let's have a look at the distribution of tumour stages in the metabric dataset."
   ]
  },
  {
   "cell_type": "code",
   "execution_count": null,
   "id": "2e4830d6-09b6-4acd-ac74-9a6c50a48f55",
   "metadata": {},
   "outputs": [],
   "source": [
    "plt.figure()\n",
    "\n",
    "sns.countplot(data=metabric, x=\"Tumour_stage\", edgecolor=\"black\") # The argument edgecolor adds a nice outline \n",
    "plt.xlabel(\"Tumour Stage\", fontsize=15)\n",
    "plt.ylabel(\"Count\", fontsize=15)\n",
    "\n",
    "plt.show()"
   ]
  },
  {
   "cell_type": "markdown",
   "id": "6ddc2ed5-f44a-439b-99a4-faa1ff257229",
   "metadata": {},
   "source": [
    "### C"
   ]
  },
  {
   "cell_type": "markdown",
   "id": "c73e4664-c358-47ed-b2bc-3d212423c49d",
   "metadata": {},
   "source": [
    "**<span style=\"color:blue\">Exercise</span>**: Create plots to answer the following questions:\n",
    "- Does the expression profile of ESR1 differ between patients who have and haven't undergone chemotherapy?\n",
    "- What about radiotherapy?\n",
    "- What about the four different combinations of chemotherapy and radiotherapy?"
   ]
  },
  {
   "cell_type": "markdown",
   "id": "7a79af9c-430a-4729-ab6f-5ee806fdae99",
   "metadata": {},
   "source": [
    "The first two parts can be easily answered using beeswarm-violin plots.\n",
    "\n",
    "Let's put both plots in a grid of subplots to make the comparison easier."
   ]
  },
  {
   "cell_type": "code",
   "execution_count": null,
   "id": "858881e7-5e3d-4da9-8459-9c636776ca32",
   "metadata": {},
   "outputs": [],
   "source": [
    "plt.subplots(2, 1, sharex=True, figsize=(10, 10)) # Create a 2 x 1 grid of subplots\n",
    "\n",
    "# Set the first subplot to be active, then draw onto this a beeswarm-violin\n",
    "# plot of ESR1 expression stratified by chemotherapy\n",
    "plt.subplot(2, 1, 1)\n",
    "sns.violinplot(data=metabric, x=\"ESR1\", y=\"Chemotherapy\", palette=[\"w\"])\n",
    "sns.swarmplot(data=metabric, x=\"ESR1\", y=\"Chemotherapy\", s=3)\n",
    "\n",
    "plt.ylabel(\"Chemotherapy\", fontsize=20)\n",
    "plt.xlabel(\"\") # It's cleaner to keep only the label on the bottom plot\n",
    "plt.yticks(fontsize=12.5)\n",
    "\n",
    "# Set the first subplot to be active, then draw onto this a beeswarm-violin\n",
    "# plot of ESR1 expression stratified by radiotherapy\n",
    "plt.subplot(2, 1, 2)\n",
    "sns.violinplot(data=metabric, x=\"ESR1\", y=\"Radiotherapy\", palette=[\"w\"])\n",
    "sns.swarmplot(data=metabric, x=\"ESR1\", y=\"Radiotherapy\", s=3)\n",
    "\n",
    "plt.ylabel(\"Radiotherapy\", fontsize=20)\n",
    "plt.xlabel(\"ESR1\", fontsize=20)\n",
    "plt.yticks(fontsize=12.5)\n",
    "\n",
    "plt.show()"
   ]
  },
  {
   "cell_type": "markdown",
   "id": "0bce3da0-494f-4272-9603-3d75641af258",
   "metadata": {},
   "source": [
    "To look at the different combinations, it is easiest to create a new variable representing the different combinations."
   ]
  },
  {
   "cell_type": "code",
   "execution_count": null,
   "id": "4cff5b21-bcf7-4ea3-a5af-ccea458ae8e5",
   "metadata": {},
   "outputs": [],
   "source": [
    "# First create a column of NAs\n",
    "metabric[\"Therapy_combinations\"] = np.nan\n",
    "\n",
    "# Then use conditional subsetting to fill in this column\n",
    "# Note: This gives a warning message about trying to set a value on a copy of a data frame \n",
    "metabric.Therapy_combinations[(metabric.Chemotherapy==\"YES\") & (metabric.Radiotherapy==\"YES\")] = \"Both\"\n",
    "metabric.Therapy_combinations[(metabric.Chemotherapy==\"YES\") & (metabric.Radiotherapy==\"NO\")] = \"Chemo Only\"\n",
    "metabric.Therapy_combinations[(metabric.Chemotherapy==\"NO\") & (metabric.Radiotherapy==\"YES\")] = \"Radio Only\"\n",
    "metabric.Therapy_combinations[(metabric.Chemotherapy==\"NO\") & (metabric.Radiotherapy==\"NO\")] = \"Neither\""
   ]
  },
  {
   "cell_type": "markdown",
   "id": "49d34de9-44e0-4301-92a2-09610f867186",
   "metadata": {},
   "source": [
    "We can then make the plot fairly simply."
   ]
  },
  {
   "cell_type": "code",
   "execution_count": null,
   "id": "f1bc750d-c9e6-4270-a6b0-ead337639d5f",
   "metadata": {},
   "outputs": [],
   "source": [
    "plt.figure(figsize=(10, 10))\n",
    "\n",
    "# Beeswarm-violin plot creation. The `order` argument is used to more sensibly order the different therapy combinations.  \n",
    "sns.violinplot(data=metabric, x=\"ESR1\", y=\"Therapy_combinations\", palette=[\"w\"], order=[\"Both\", \"Chemo Only\", \"Radio Only\", \"Neither\"])\n",
    "sns.swarmplot(data=metabric, x=\"ESR1\", y=\"Therapy_combinations\", s=3, order=[\"Both\", \"Chemo Only\", \"Radio Only\", \"Neither\"])\n",
    "\n",
    "plt.ylabel(\"Therapy Combination\", fontsize=20)\n",
    "plt.xlabel(\"ESR1 Expression\", fontsize=20)\n",
    "\n",
    "plt.yticks(fontsize=12.5)\n",
    "\n",
    "plt.show()"
   ]
  },
  {
   "cell_type": "markdown",
   "id": "683b4b3e-f90b-49b4-bdb4-90bc08d5d5b8",
   "metadata": {},
   "source": [
    "## Exercise 1"
   ]
  },
  {
   "cell_type": "markdown",
   "id": "4fd88eb0-c9bc-4748-9bf9-3fba08611b8e",
   "metadata": {},
   "source": [
    "In this exercise, we shall use the `sns.heatmap()` function to look at the correlation between the gene expression variables in the metabric data set.\n",
    "\n",
    "- If you look at the documentation for the heatmap function, you will see that it requires a matrix as input. Use the `.corr()` method for data frames to create a correlation matrix for all the gene expression variables. *Note:* The `.loc` subsetting functionality may also be useful here.\n",
    "- Create a heatmap visualising these correlations. Do you notice anything? Try manually ordering the different variables to best highlight the patterns in the heatmap."
   ]
  },
  {
   "cell_type": "markdown",
   "id": "fcf0f6ba-948f-4298-aaa1-ecc13a114e94",
   "metadata": {},
   "source": [
    "We first create a correlation matrix for the different genes with expression data:\n",
    "- Recall we can use the `.loc[]` functionality to use variable names to define a range of columns\n",
    "- The `.corr()` method can be applied to data frames to produce a correlation matrix"
   ]
  },
  {
   "cell_type": "code",
   "execution_count": null,
   "id": "a21d18f8-f6ff-4c99-931f-c1ddaea3f1d5",
   "metadata": {},
   "outputs": [],
   "source": [
    "gene_expression_correlation = metabric.loc[:,\"ESR1\":\"MLPH\"].corr(method=\"spearman\")"
   ]
  },
  {
   "cell_type": "code",
   "execution_count": null,
   "id": "28ef0ef6-dbd8-47cc-a227-4e84a8341bd0",
   "metadata": {},
   "outputs": [],
   "source": [
    "gene_expression_correlation"
   ]
  },
  {
   "cell_type": "code",
   "execution_count": null,
   "id": "8de9271b-59d9-4289-bb8c-8a555ff7e3a2",
   "metadata": {},
   "outputs": [],
   "source": [
    "plt.figure()\n",
    "\n",
    "sns.heatmap(data=gene_expression_correlation)\n",
    "\n",
    "plt.show()"
   ]
  },
  {
   "cell_type": "markdown",
   "id": "fbf0d6cb-9793-4aae-bafc-a75ec5714de8",
   "metadata": {},
   "source": [
    "Note the scale! In this plot it goes up to 1 but down only to -0.2, so there are actually no pairs of genes with a substantial inverse correlation. The arguments `vmin` and `vmax` can be used to manually set the lower and upper limits of the colour range.\n",
    "\n",
    "Annoyingly `sns.heatmap()` does not contain an argument to manually control the order of the variables. Ordering can be done by re-selecting the columns in the input data."
   ]
  },
  {
   "cell_type": "code",
   "execution_count": null,
   "id": "b1964bbd-a660-45ae-a863-51ac92295f30",
   "metadata": {},
   "outputs": [],
   "source": [
    "plt.figure()\n",
    "\n",
    "sns.heatmap(data=gene_expression_correlation.loc[[\"ESR1\", \"GATA3\", \"FOXA1\", \"MLPH\", \"PGR\", \"ERBB2\", \"TP53\", \"PIK3CA\"],\n",
    "                                                 [\"ESR1\", \"GATA3\", \"FOXA1\", \"MLPH\", \"PGR\", \"ERBB2\", \"TP53\", \"PIK3CA\"]])\n",
    "\n",
    "plt.show()"
   ]
  },
  {
   "cell_type": "markdown",
   "id": "94bcee76-0c3e-4410-8d9c-2548d043757f",
   "metadata": {},
   "source": [
    "**<span style=\"color:Seagreen\">For Thought</span>**: Here we were able to manually able to look at the heatmap and pick out an order of genes that best highlighted their correlation structure. If we had many more genes this would not be possible. How might we automatically determine an order for them?"
   ]
  },
  {
   "cell_type": "markdown",
   "id": "3659ccd5-a313-4735-98ad-b68f3be61825",
   "metadata": {},
   "source": [
    "## Exercise 2"
   ]
  },
  {
   "cell_type": "markdown",
   "id": "44b0bc5a-246e-4b90-88fc-8f6e8f8ea983",
   "metadata": {},
   "source": [
    "Earlier we used the `sns.histplot()` function to visualise the age distribution of the patients in our data set. In this exercise, we look at some options for visualising how this age distribution breaks down across the different cohorts.\n",
    "\n",
    "- One option is to use the `sns.kdeplot()` function, which only plots the density curve, not the actual bars. Use this function to plot five different density curves on a single axis, one for the age distribution of patients within each cohort.\n",
    "- Another option is to use subplots. Create a figure where the histogram for the age distribution within each cohort is on a different set of axes. Creating five different subplots is a bit laborious, so you might want to explore using a `for` loop to save time.\n",
    "\n",
    "Which of these options do you prefer? "
   ]
  },
  {
   "cell_type": "markdown",
   "id": "40f3cab5-9cf1-4297-b057-3f726694a1cc",
   "metadata": {},
   "source": [
    "To get multiple plots for different cohorts, one option is to set cohort as a variable to colour by."
   ]
  },
  {
   "cell_type": "code",
   "execution_count": null,
   "id": "4c7bc842-8cbf-4fcc-9ab1-be8fa742d79a",
   "metadata": {},
   "outputs": [],
   "source": [
    "plt.figure()\n",
    "\n",
    "sns.kdeplot(data=metabric, x=\"Age_at_diagnosis\", hue=\"Cohort\")\n",
    "plt.xlabel(\"Age at Diagnosis\")\n",
    "plt.ylabel(\"Count\")\n",
    "\n",
    "plt.show()"
   ]
  },
  {
   "cell_type": "markdown",
   "id": "f47d5677-ddec-4ff1-bd88-137db3de8d12",
   "metadata": {},
   "source": [
    "One option to create subplots is as follows:"
   ]
  },
  {
   "cell_type": "code",
   "execution_count": null,
   "id": "7315b141-319a-49b7-9ae6-a6212bced8e7",
   "metadata": {},
   "outputs": [],
   "source": [
    "plt.subplots(2, 3, sharex=True, figsize=(10,8))\n",
    "\n",
    "plt.subplot(2, 3, 1)\n",
    "sns.histplot(data=metabric[metabric.Cohort==1], x=\"Age_at_diagnosis\")\n",
    "plt.xlabel(\"\")\n",
    "plt.ylabel(\"Count\")\n",
    "plt.title(\"Cohort 1\")\n",
    "\n",
    "plt.subplot(2, 3, 2)\n",
    "sns.histplot(data=metabric[metabric.Cohort==2], x=\"Age_at_diagnosis\")\n",
    "plt.xlabel(\"\")\n",
    "plt.ylabel(\"Count\")\n",
    "plt.title(\"Cohort 2\")\n",
    "\n",
    "plt.subplot(2, 3, 3)\n",
    "sns.histplot(data=metabric[metabric.Cohort==3], x=\"Age_at_diagnosis\")\n",
    "plt.xlabel(\"\")\n",
    "plt.ylabel(\"Count\")\n",
    "plt.title(\"Cohort 3\")\n",
    "\n",
    "plt.subplot(2, 3, 4)\n",
    "sns.histplot(data=metabric[metabric.Cohort==4], x=\"Age_at_diagnosis\")\n",
    "plt.xlabel(\"\")\n",
    "plt.ylabel(\"Count\")\n",
    "plt.title(\"Cohort 4\")\n",
    "\n",
    "plt.subplot(2, 3, 5)\n",
    "sns.histplot(data=metabric[metabric.Cohort==5], x=\"Age_at_diagnosis\")\n",
    "plt.xlabel(\"Age at Diagnosis\", fontsize=20)\n",
    "plt.ylabel(\"Count\")\n",
    "plt.title(\"Cohort 5\")\n",
    "\n",
    "# Turn the axes off on the last subplot, as we are not using it \n",
    "plt.subplot(2, 3, 6)\n",
    "plt.axis(\"off\")\n",
    "\n",
    "# The tight_layout() function ensures no overlap with axis labels and adjacent plots \n",
    "plt.tight_layout()\n",
    "\n",
    "plt.show()"
   ]
  },
  {
   "cell_type": "markdown",
   "id": "c6fd23c9-bcbc-4a94-b22f-09fab46b6ba1",
   "metadata": {},
   "source": [
    "This can be done slightly quicker using a for loop:"
   ]
  },
  {
   "cell_type": "code",
   "execution_count": null,
   "id": "2626eb60-3e2c-4e96-9aaf-3dbd833d97cc",
   "metadata": {},
   "outputs": [],
   "source": [
    "plt.subplots(2, 3, sharex=True, figsize=(10,8))\n",
    "\n",
    "for i in range(5):\n",
    "    plt.subplot(2, 3, i+1)\n",
    "    sns.histplot(data=metabric[metabric.Cohort==i+1], x=\"Age_at_diagnosis\")\n",
    "    plt.xlabel(\"\")\n",
    "    plt.ylabel(\"Count\")\n",
    "    plt.title(\"Cohort \" + str(i+1)) # Recall that strings add like \"a\" + \"b\" = \"ab\"\n",
    "\n",
    "# Add the x-label on the 5th subplot\n",
    "plt.subplot(2, 3, 5)\n",
    "plt.xlabel(\"Age at Diagnosis\", fontsize=20)\n",
    "\n",
    "# Turn axes off on the last subplot \n",
    "plt.subplot(2, 3, 6)\n",
    "plt.axis(\"off\")\n",
    "\n",
    "plt.tight_layout()\n",
    "\n",
    "plt.show()"
   ]
  }
 ],
 "metadata": {
  "kernelspec": {
   "display_name": "MyEnv",
   "language": "python",
   "name": "myenv"
  },
  "language_info": {
   "codemirror_mode": {
    "name": "ipython",
    "version": 3
   },
   "file_extension": ".py",
   "mimetype": "text/x-python",
   "name": "python",
   "nbconvert_exporter": "python",
   "pygments_lexer": "ipython3",
   "version": "3.9.5"
  }
 },
 "nbformat": 4,
 "nbformat_minor": 5
}
