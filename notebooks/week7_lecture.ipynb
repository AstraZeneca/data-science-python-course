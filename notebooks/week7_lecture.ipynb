{
  "nbformat": 4,
  "nbformat_minor": 0,
  "metadata": {
    "colab": {
      "name": "Week 7 - An introduction to Machine Learning (PART 2).ipynb",
      "provenance": [],
      "collapsed_sections": [
        "IScLTLJsagbM"
      ]
    },
    "kernelspec": {
      "name": "python3",
      "display_name": "Python 3"
    },
    "language_info": {
      "name": "python"
    }
  },
  "cells": [
    {
      "cell_type": "markdown",
      "metadata": {
        "id": "c4XmCP95A81A"
      },
      "source": [
        "# Week 7 - An introduction to Machine Learning (PART 2)"
      ]
    },
    {
      "cell_type": "markdown",
      "metadata": {
        "id": "LsWlGPccBBBW"
      },
      "source": [
        "Please write questions on the chat."
      ]
    },
    {
      "cell_type": "markdown",
      "metadata": {
        "id": "Boxth67BBgX_"
      },
      "source": [
        "### Motivation\n",
        "\n",
        "> Continuation of last week's lecture on ML regression techniques to classification: first we'll look at the classic MNIST digit recognition problem, introducing cross validation and hyperparameter search along the way."
      ]
    },
    {
      "cell_type": "markdown",
      "metadata": {
        "id": "NN7318ukCKcZ"
      },
      "source": [
        "### Aims\n",
        "\n",
        "- Exploration of our knowledge about classifiers - Decision Trees and Random Forests based on the [Digits dataset](https://scikit-learn.org/stable/auto_examples/classification/plot_digits_classification.html)\n",
        "    - advantages and disadvantages\n",
        "    - reviewing the basics of how they work\n",
        "- How we can be more systematic about how we pick the final model\n",
        "    - preprocessing\n",
        "    - performance metrics\n",
        "    - hyperparameters\n",
        "    - automation of the best model selection\n",
        "- Introduction to the homework with a hands-on with data based on a [nature machine intelligence](https://www.nature.com/natmachintell/) paper, [\"An interpretable mortality prediction model for COVID-19 patients\"](https://www.nature.com/articles/s42256-020-0180-7).\n",
        "\n",
        "- *If we have enough time - talk about key differences between Machine Learning, Deep Learning and Artificial Intelligence buzzwords"
      ]
    },
    {
      "cell_type": "markdown",
      "metadata": {
        "id": "k0kYziY5CdRO"
      },
      "source": [
        "### **0. Setup**\n",
        "\n",
        "Refer to setup instructions from PART 1."
      ]
    },
    {
      "cell_type": "markdown",
      "metadata": {
        "id": "hpYPle8bD1wm"
      },
      "source": [
        "### **1. CART**"
      ]
    },
    {
      "cell_type": "code",
      "metadata": {
        "colab": {
          "base_uri": "https://localhost:8080/"
        },
        "id": "K6NtSKRXA8M_",
        "outputId": "0e54cb2e-47d5-405b-dc59-a8676509bbf6"
      },
      "source": [
        "# build classifier based on MNIST dataset\n",
        "# target: at least 97% (based on the test set results)\n",
        "\n",
        "from sklearn.datasets import load_digits\n",
        "digits = load_digits()\n",
        "print(digits.data.shape)"
      ],
      "execution_count": 50,
      "outputs": [
        {
          "output_type": "stream",
          "name": "stdout",
          "text": [
            "(1797, 64)\n"
          ]
        }
      ]
    },
    {
      "cell_type": "code",
      "metadata": {
        "colab": {
          "base_uri": "https://localhost:8080/",
          "height": 293
        },
        "id": "i3wEC6QqD6ue",
        "outputId": "12c3562c-0481-4659-935f-dd3ed298fd48"
      },
      "source": [
        "import matplotlib.pyplot as plt \n",
        "plt.gray() \n",
        "plt.matshow(digits.images[0]) \n",
        "plt.show() "
      ],
      "execution_count": 51,
      "outputs": [
        {
          "output_type": "display_data",
          "data": {
            "text/plain": [
              "<Figure size 432x288 with 0 Axes>"
            ]
          },
          "metadata": {}
        },
        {
          "output_type": "display_data",
          "data": {
            "image/png": "[encoded data removed]",
            "text/plain": [
              "<Figure size 288x288 with 1 Axes>"
            ]
          },
          "metadata": {
            "needs_background": "light"
          }
        }
      ]
    },
    {
      "cell_type": "code",
      "metadata": {
        "colab": {
          "base_uri": "https://localhost:8080/"
        },
        "id": "lCxsNyIgD-Je",
        "outputId": "c4976055-a987-4f66-c209-79eb12e279e1"
      },
      "source": [
        "from sklearn.datasets import fetch_openml\n",
        "mnist=fetch_openml('mnist_784', version=1)\n",
        "mnist.keys()"
      ],
      "execution_count": 52,
      "outputs": [
        {
          "output_type": "execute_result",
          "data": {
            "text/plain": [
              "dict_keys(['data', 'target', 'frame', 'categories', 'feature_names', 'target_names', 'DESCR', 'details', 'url'])"
            ]
          },
          "metadata": {},
          "execution_count": 52
        }
      ]
    },
    {
      "cell_type": "code",
      "metadata": {
        "colab": {
          "base_uri": "https://localhost:8080/"
        },
        "id": "dYRZnq94D_pv",
        "outputId": "510aa611-bf5f-4c2b-b9ec-0207690d8092"
      },
      "source": [
        "X, y = mnist['data'], mnist['target']\n",
        "print(X.shape)\n",
        "print(y.shape)"
      ],
      "execution_count": 53,
      "outputs": [
        {
          "output_type": "stream",
          "name": "stdout",
          "text": [
            "(70000, 784)\n",
            "(70000,)\n"
          ]
        }
      ]
    },
    {
      "cell_type": "code",
      "metadata": {
        "colab": {
          "base_uri": "https://localhost:8080/",
          "height": 248
        },
        "id": "H8oWxDIhED5e",
        "outputId": "aa9ccd2f-5960-40c2-e774-fa4c7d3aff25"
      },
      "source": [
        "import matplotlib.pyplot as plt \n",
        "some_digit=X[2]\n",
        "some_digit_image=some_digit.reshape(28,28)\n",
        "\n",
        "plt.imshow(some_digit_image, cmap='binary')\n",
        "plt.axis('off')\n",
        "plt.show()"
      ],
      "execution_count": 54,
      "outputs": [
        {
          "output_type": "display_data",
          "data": {
            "image/png": "[encoded data removed]",
            "text/plain": [
              "<Figure size 432x288 with 1 Axes>"
            ]
          },
          "metadata": {
            "needs_background": "light"
          }
        }
      ]
    },
    {
      "cell_type": "code",
      "metadata": {
        "colab": {
          "base_uri": "https://localhost:8080/",
          "height": 35
        },
        "id": "-Mg69QsKEHe-",
        "outputId": "92f0bd3a-b9da-4eea-bf0c-95929d2c164e"
      },
      "source": [
        "y[2]"
      ],
      "execution_count": 55,
      "outputs": [
        {
          "output_type": "execute_result",
          "data": {
            "application/vnd.google.colaboratory.intrinsic+json": {
              "type": "string"
            },
            "text/plain": [
              "'4'"
            ]
          },
          "metadata": {},
          "execution_count": 55
        }
      ]
    },
    {
      "cell_type": "code",
      "metadata": {
        "id": "OgD09VwdEJ6C"
      },
      "source": [
        "X_train, X_test, y_train, y_test = X[:60000], X[60000:], y[:60000], y[60000:]"
      ],
      "execution_count": 56,
      "outputs": []
    },
    {
      "cell_type": "code",
      "metadata": {
        "colab": {
          "base_uri": "https://localhost:8080/",
          "height": 340
        },
        "id": "aD2er-BgGtik",
        "outputId": "934b0463-edde-4ea8-e8e8-ac49d8de7de2"
      },
      "source": [
        "plt.hist(y_train)"
      ],
      "execution_count": 46,
      "outputs": [
        {
          "output_type": "execute_result",
          "data": {
            "text/plain": [
              "(array([5421., 5923., 5842., 6742., 5949., 5958., 6131., 5918., 6265.,\n",
              "        5851.]),\n",
              " array([0. , 0.9, 1.8, 2.7, 3.6, 4.5, 5.4, 6.3, 7.2, 8.1, 9. ]),\n",
              " <a list of 10 Patch objects>)"
            ]
          },
          "metadata": {},
          "execution_count": 46
        },
        {
          "output_type": "display_data",
          "data": {
            "image/png": "[encoded data removed]",
            "text/plain": [
              "<Figure size 432x288 with 1 Axes>"
            ]
          },
          "metadata": {
            "needs_background": "light"
          }
        }
      ]
    },
    {
      "cell_type": "code",
      "metadata": {
        "id": "MyWGoRotELU4"
      },
      "source": [
        "y_train_4 = (y_train=='4')\n",
        "y_test_4 = (y_test=='4')"
      ],
      "execution_count": 57,
      "outputs": []
    },
    {
      "cell_type": "code",
      "metadata": {
        "colab": {
          "base_uri": "https://localhost:8080/"
        },
        "id": "tDtipTJ8EZwc",
        "outputId": "b1843768-32eb-4eab-98fd-7f974d5ecc7f"
      },
      "source": [
        "from sklearn.tree import DecisionTreeClassifier\n",
        "\n",
        "# https://scikit-learn.org/stable/modules/generated/sklearn.tree.DecisionTreeClassifier.html\n",
        "\n",
        "model = DecisionTreeClassifier(random_state=42)\n",
        "model.fit(X_train, y_train_4)"
      ],
      "execution_count": 58,
      "outputs": [
        {
          "output_type": "execute_result",
          "data": {
            "text/plain": [
              "DecisionTreeClassifier(random_state=42)"
            ]
          },
          "metadata": {},
          "execution_count": 58
        }
      ]
    },
    {
      "cell_type": "code",
      "metadata": {
        "colab": {
          "base_uri": "https://localhost:8080/"
        },
        "id": "VlS-5c0pHy5T",
        "outputId": "dfa98a0e-e807-4789-e3a1-3417531a992b"
      },
      "source": [
        "from sklearn import tree\n",
        "text_representation = tree.export_text(model)\n",
        "print(text_representation)"
      ],
      "execution_count": 49,
      "outputs": [
        {
          "output_type": "stream",
          "name": "stdout",
          "text": [
            "|--- feature_211 <= 0.50\n",
            "|   |--- feature_400 <= 7.50\n",
            "|   |   |--- feature_402 <= 146.50\n",
            "|   |   |   |--- feature_426 <= 203.50\n",
            "|   |   |   |   |--- feature_375 <= 196.50\n",
            "|   |   |   |   |   |--- feature_401 <= 130.00\n",
            "|   |   |   |   |   |   |--- feature_424 <= 217.00\n",
            "|   |   |   |   |   |   |   |--- feature_452 <= 254.50\n",
            "|   |   |   |   |   |   |   |   |--- feature_374 <= 123.50\n",
            "|   |   |   |   |   |   |   |   |   |--- feature_348 <= 134.50\n",
            "|   |   |   |   |   |   |   |   |   |   |--- feature_399 <= 147.50\n",
            "|   |   |   |   |   |   |   |   |   |   |   |--- truncated branch of depth 4\n",
            "|   |   |   |   |   |   |   |   |   |   |--- feature_399 >  147.50\n",
            "|   |   |   |   |   |   |   |   |   |   |   |--- truncated branch of depth 2\n",
            "|   |   |   |   |   |   |   |   |   |--- feature_348 >  134.50\n",
            "|   |   |   |   |   |   |   |   |   |   |--- feature_710 <= 253.50\n",
            "|   |   |   |   |   |   |   |   |   |   |   |--- truncated branch of depth 10\n",
            "|   |   |   |   |   |   |   |   |   |   |--- feature_710 >  253.50\n",
            "|   |   |   |   |   |   |   |   |   |   |   |--- truncated branch of depth 2\n",
            "|   |   |   |   |   |   |   |   |--- feature_374 >  123.50\n",
            "|   |   |   |   |   |   |   |   |   |--- feature_403 <= 153.50\n",
            "|   |   |   |   |   |   |   |   |   |   |--- feature_374 <= 127.50\n",
            "|   |   |   |   |   |   |   |   |   |   |   |--- truncated branch of depth 2\n",
            "|   |   |   |   |   |   |   |   |   |   |--- feature_374 >  127.50\n",
            "|   |   |   |   |   |   |   |   |   |   |   |--- truncated branch of depth 3\n",
            "|   |   |   |   |   |   |   |   |   |--- feature_403 >  153.50\n",
            "|   |   |   |   |   |   |   |   |   |   |--- feature_544 <= 69.50\n",
            "|   |   |   |   |   |   |   |   |   |   |   |--- truncated branch of depth 2\n",
            "|   |   |   |   |   |   |   |   |   |   |--- feature_544 >  69.50\n",
            "|   |   |   |   |   |   |   |   |   |   |   |--- class: False\n",
            "|   |   |   |   |   |   |   |--- feature_452 >  254.50\n",
            "|   |   |   |   |   |   |   |   |--- class: True\n",
            "|   |   |   |   |   |   |--- feature_424 >  217.00\n",
            "|   |   |   |   |   |   |   |--- feature_430 <= 3.00\n",
            "|   |   |   |   |   |   |   |   |--- feature_229 <= 190.00\n",
            "|   |   |   |   |   |   |   |   |   |--- class: False\n",
            "|   |   |   |   |   |   |   |   |--- feature_229 >  190.00\n",
            "|   |   |   |   |   |   |   |   |   |--- class: True\n",
            "|   |   |   |   |   |   |   |--- feature_430 >  3.00\n",
            "|   |   |   |   |   |   |   |   |--- feature_318 <= 35.00\n",
            "|   |   |   |   |   |   |   |   |   |--- class: True\n",
            "|   |   |   |   |   |   |   |   |--- feature_318 >  35.00\n",
            "|   |   |   |   |   |   |   |   |   |--- class: False\n",
            "|   |   |   |   |   |--- feature_401 >  130.00\n",
            "|   |   |   |   |   |   |--- feature_355 <= 2.00\n",
            "|   |   |   |   |   |   |   |--- feature_543 <= 131.00\n",
            "|   |   |   |   |   |   |   |   |--- class: True\n",
            "|   |   |   |   |   |   |   |--- feature_543 >  131.00\n",
            "|   |   |   |   |   |   |   |   |--- class: False\n",
            "|   |   |   |   |   |   |--- feature_355 >  2.00\n",
            "|   |   |   |   |   |   |   |--- class: False\n",
            "|   |   |   |   |--- feature_375 >  196.50\n",
            "|   |   |   |   |   |--- feature_155 <= 9.50\n",
            "|   |   |   |   |   |   |--- feature_352 <= 163.50\n",
            "|   |   |   |   |   |   |   |--- feature_353 <= 129.50\n",
            "|   |   |   |   |   |   |   |   |--- feature_351 <= 254.50\n",
            "|   |   |   |   |   |   |   |   |   |--- feature_184 <= 51.50\n",
            "|   |   |   |   |   |   |   |   |   |   |--- feature_69 <= 244.00\n",
            "|   |   |   |   |   |   |   |   |   |   |   |--- truncated branch of depth 3\n",
            "|   |   |   |   |   |   |   |   |   |   |--- feature_69 >  244.00\n",
            "|   |   |   |   |   |   |   |   |   |   |   |--- truncated branch of depth 2\n",
            "|   |   |   |   |   |   |   |   |   |--- feature_184 >  51.50\n",
            "|   |   |   |   |   |   |   |   |   |   |--- feature_576 <= 14.00\n",
            "|   |   |   |   |   |   |   |   |   |   |   |--- class: True\n",
            "|   |   |   |   |   |   |   |   |   |   |--- feature_576 >  14.00\n",
            "|   |   |   |   |   |   |   |   |   |   |   |--- class: False\n",
            "|   |   |   |   |   |   |   |   |--- feature_351 >  254.50\n",
            "|   |   |   |   |   |   |   |   |   |--- class: True\n",
            "|   |   |   |   |   |   |   |--- feature_353 >  129.50\n",
            "|   |   |   |   |   |   |   |   |--- feature_437 <= 211.00\n",
            "|   |   |   |   |   |   |   |   |   |--- feature_209 <= 195.00\n",
            "|   |   |   |   |   |   |   |   |   |   |--- class: False\n",
            "|   |   |   |   |   |   |   |   |   |--- feature_209 >  195.00\n",
            "|   |   |   |   |   |   |   |   |   |   |--- feature_352 <= 91.00\n",
            "|   |   |   |   |   |   |   |   |   |   |   |--- class: True\n",
            "|   |   |   |   |   |   |   |   |   |   |--- feature_352 >  91.00\n",
            "|   |   |   |   |   |   |   |   |   |   |   |--- class: False\n",
            "|   |   |   |   |   |   |   |   |--- feature_437 >  211.00\n",
            "|   |   |   |   |   |   |   |   |   |--- feature_321 <= 173.50\n",
            "|   |   |   |   |   |   |   |   |   |   |--- class: True\n",
            "|   |   |   |   |   |   |   |   |   |--- feature_321 >  173.50\n",
            "|   |   |   |   |   |   |   |   |   |   |--- class: False\n",
            "|   |   |   |   |   |   |--- feature_352 >  163.50\n",
            "|   |   |   |   |   |   |   |--- feature_408 <= 139.00\n",
            "|   |   |   |   |   |   |   |   |--- feature_354 <= 1.00\n",
            "|   |   |   |   |   |   |   |   |   |--- feature_348 <= 156.00\n",
            "|   |   |   |   |   |   |   |   |   |   |--- feature_319 <= 206.00\n",
            "|   |   |   |   |   |   |   |   |   |   |   |--- class: False\n",
            "|   |   |   |   |   |   |   |   |   |   |--- feature_319 >  206.00\n",
            "|   |   |   |   |   |   |   |   |   |   |   |--- class: True\n",
            "|   |   |   |   |   |   |   |   |   |--- feature_348 >  156.00\n",
            "|   |   |   |   |   |   |   |   |   |   |--- class: True\n",
            "|   |   |   |   |   |   |   |   |--- feature_354 >  1.00\n",
            "|   |   |   |   |   |   |   |   |   |--- feature_691 <= 23.50\n",
            "|   |   |   |   |   |   |   |   |   |   |--- feature_653 <= 207.50\n",
            "|   |   |   |   |   |   |   |   |   |   |   |--- class: False\n",
            "|   |   |   |   |   |   |   |   |   |   |--- feature_653 >  207.50\n",
            "|   |   |   |   |   |   |   |   |   |   |   |--- class: True\n",
            "|   |   |   |   |   |   |   |   |   |--- feature_691 >  23.50\n",
            "|   |   |   |   |   |   |   |   |   |   |--- class: True\n",
            "|   |   |   |   |   |   |   |--- feature_408 >  139.00\n",
            "|   |   |   |   |   |   |   |   |--- feature_266 <= 135.00\n",
            "|   |   |   |   |   |   |   |   |   |--- feature_606 <= 61.50\n",
            "|   |   |   |   |   |   |   |   |   |   |--- feature_404 <= 4.00\n",
            "|   |   |   |   |   |   |   |   |   |   |   |--- truncated branch of depth 2\n",
            "|   |   |   |   |   |   |   |   |   |   |--- feature_404 >  4.00\n",
            "|   |   |   |   |   |   |   |   |   |   |   |--- truncated branch of depth 2\n",
            "|   |   |   |   |   |   |   |   |   |--- feature_606 >  61.50\n",
            "|   |   |   |   |   |   |   |   |   |   |--- feature_260 <= 40.50\n",
            "|   |   |   |   |   |   |   |   |   |   |   |--- class: True\n",
            "|   |   |   |   |   |   |   |   |   |   |--- feature_260 >  40.50\n",
            "|   |   |   |   |   |   |   |   |   |   |   |--- class: False\n",
            "|   |   |   |   |   |   |   |   |--- feature_266 >  135.00\n",
            "|   |   |   |   |   |   |   |   |   |--- class: False\n",
            "|   |   |   |   |   |--- feature_155 >  9.50\n",
            "|   |   |   |   |   |   |--- feature_155 <= 36.50\n",
            "|   |   |   |   |   |   |   |--- feature_379 <= 237.50\n",
            "|   |   |   |   |   |   |   |   |--- class: False\n",
            "|   |   |   |   |   |   |   |--- feature_379 >  237.50\n",
            "|   |   |   |   |   |   |   |   |--- class: True\n",
            "|   |   |   |   |   |   |--- feature_155 >  36.50\n",
            "|   |   |   |   |   |   |   |--- class: False\n",
            "|   |   |   |--- feature_426 >  203.50\n",
            "|   |   |   |   |--- feature_458 <= 48.00\n",
            "|   |   |   |   |   |--- feature_486 <= 226.00\n",
            "|   |   |   |   |   |   |--- feature_638 <= 123.50\n",
            "|   |   |   |   |   |   |   |--- feature_488 <= 254.50\n",
            "|   |   |   |   |   |   |   |   |--- feature_277 <= 35.00\n",
            "|   |   |   |   |   |   |   |   |   |--- feature_191 <= 83.50\n",
            "|   |   |   |   |   |   |   |   |   |   |--- class: False\n",
            "|   |   |   |   |   |   |   |   |   |--- feature_191 >  83.50\n",
            "|   |   |   |   |   |   |   |   |   |   |--- feature_601 <= 19.00\n",
            "|   |   |   |   |   |   |   |   |   |   |   |--- class: True\n",
            "|   |   |   |   |   |   |   |   |   |   |--- feature_601 >  19.00\n",
            "|   |   |   |   |   |   |   |   |   |   |   |--- class: False\n",
            "|   |   |   |   |   |   |   |   |--- feature_277 >  35.00\n",
            "|   |   |   |   |   |   |   |   |   |--- feature_488 <= 124.00\n",
            "|   |   |   |   |   |   |   |   |   |   |--- class: False\n",
            "|   |   |   |   |   |   |   |   |   |--- feature_488 >  124.00\n",
            "|   |   |   |   |   |   |   |   |   |   |--- class: True\n",
            "|   |   |   |   |   |   |   |--- feature_488 >  254.50\n",
            "|   |   |   |   |   |   |   |   |--- class: True\n",
            "|   |   |   |   |   |   |--- feature_638 >  123.50\n",
            "|   |   |   |   |   |   |   |--- class: True\n",
            "|   |   |   |   |   |--- feature_486 >  226.00\n",
            "|   |   |   |   |   |   |--- feature_458 <= 33.00\n",
            "|   |   |   |   |   |   |   |--- class: True\n",
            "|   |   |   |   |   |   |--- feature_458 >  33.00\n",
            "|   |   |   |   |   |   |   |--- class: False\n",
            "|   |   |   |   |--- feature_458 >  48.00\n",
            "|   |   |   |   |   |--- feature_570 <= 4.50\n",
            "|   |   |   |   |   |   |--- feature_264 <= 142.50\n",
            "|   |   |   |   |   |   |   |--- feature_359 <= 221.00\n",
            "|   |   |   |   |   |   |   |   |--- feature_181 <= 251.00\n",
            "|   |   |   |   |   |   |   |   |   |--- class: True\n",
            "|   |   |   |   |   |   |   |   |--- feature_181 >  251.00\n",
            "|   |   |   |   |   |   |   |   |   |--- feature_314 <= 118.50\n",
            "|   |   |   |   |   |   |   |   |   |   |--- class: True\n",
            "|   |   |   |   |   |   |   |   |   |--- feature_314 >  118.50\n",
            "|   |   |   |   |   |   |   |   |   |   |--- class: False\n",
            "|   |   |   |   |   |   |   |--- feature_359 >  221.00\n",
            "|   |   |   |   |   |   |   |   |--- class: False\n",
            "|   |   |   |   |   |   |--- feature_264 >  142.50\n",
            "|   |   |   |   |   |   |   |--- feature_602 <= 212.00\n",
            "|   |   |   |   |   |   |   |   |--- class: False\n",
            "|   |   |   |   |   |   |   |--- feature_602 >  212.00\n",
            "|   |   |   |   |   |   |   |   |--- class: True\n",
            "|   |   |   |   |   |--- feature_570 >  4.50\n",
            "|   |   |   |   |   |   |--- class: False\n",
            "|   |   |--- feature_402 >  146.50\n",
            "|   |   |   |--- feature_571 <= 1.00\n",
            "|   |   |   |   |--- feature_464 <= 96.50\n",
            "|   |   |   |   |   |--- feature_435 <= 226.50\n",
            "|   |   |   |   |   |   |--- feature_493 <= 253.50\n",
            "|   |   |   |   |   |   |   |--- feature_210 <= 200.00\n",
            "|   |   |   |   |   |   |   |   |--- feature_405 <= 254.50\n",
            "|   |   |   |   |   |   |   |   |   |--- feature_212 <= 160.50\n",
            "|   |   |   |   |   |   |   |   |   |   |--- class: False\n",
            "|   |   |   |   |   |   |   |   |   |--- feature_212 >  160.50\n",
            "|   |   |   |   |   |   |   |   |   |   |--- feature_522 <= 64.50\n",
            "|   |   |   |   |   |   |   |   |   |   |   |--- class: True\n",
            "|   |   |   |   |   |   |   |   |   |   |--- feature_522 >  64.50\n",
            "|   |   |   |   |   |   |   |   |   |   |   |--- class: False\n",
            "|   |   |   |   |   |   |   |   |--- feature_405 >  254.50\n",
            "|   |   |   |   |   |   |   |   |   |--- feature_272 <= 58.00\n",
            "|   |   |   |   |   |   |   |   |   |   |--- class: False\n",
            "|   |   |   |   |   |   |   |   |   |--- feature_272 >  58.00\n",
            "|   |   |   |   |   |   |   |   |   |   |--- class: True\n",
            "|   |   |   |   |   |   |   |--- feature_210 >  200.00\n",
            "|   |   |   |   |   |   |   |   |--- feature_298 <= 97.50\n",
            "|   |   |   |   |   |   |   |   |   |--- class: False\n",
            "|   |   |   |   |   |   |   |   |--- feature_298 >  97.50\n",
            "|   |   |   |   |   |   |   |   |   |--- class: True\n",
            "|   |   |   |   |   |   |--- feature_493 >  253.50\n",
            "|   |   |   |   |   |   |   |--- feature_177 <= 159.50\n",
            "|   |   |   |   |   |   |   |   |--- feature_433 <= 240.00\n",
            "|   |   |   |   |   |   |   |   |   |--- class: False\n",
            "|   |   |   |   |   |   |   |   |--- feature_433 >  240.00\n",
            "|   |   |   |   |   |   |   |   |   |--- class: True\n",
            "|   |   |   |   |   |   |   |--- feature_177 >  159.50\n",
            "|   |   |   |   |   |   |   |   |--- class: True\n",
            "|   |   |   |   |   |--- feature_435 >  226.50\n",
            "|   |   |   |   |   |   |--- feature_242 <= 17.50\n",
            "|   |   |   |   |   |   |   |--- feature_660 <= 249.50\n",
            "|   |   |   |   |   |   |   |   |--- feature_185 <= 254.50\n",
            "|   |   |   |   |   |   |   |   |   |--- class: False\n",
            "|   |   |   |   |   |   |   |   |--- feature_185 >  254.50\n",
            "|   |   |   |   |   |   |   |   |   |--- class: True\n",
            "|   |   |   |   |   |   |   |--- feature_660 >  249.50\n",
            "|   |   |   |   |   |   |   |   |--- feature_201 <= 124.00\n",
            "|   |   |   |   |   |   |   |   |   |--- class: True\n",
            "|   |   |   |   |   |   |   |   |--- feature_201 >  124.00\n",
            "|   |   |   |   |   |   |   |   |   |--- class: False\n",
            "|   |   |   |   |   |   |--- feature_242 >  17.50\n",
            "|   |   |   |   |   |   |   |--- feature_350 <= 73.50\n",
            "|   |   |   |   |   |   |   |   |--- feature_295 <= 42.50\n",
            "|   |   |   |   |   |   |   |   |   |--- feature_130 <= 91.00\n",
            "|   |   |   |   |   |   |   |   |   |   |--- class: True\n",
            "|   |   |   |   |   |   |   |   |   |--- feature_130 >  91.00\n",
            "|   |   |   |   |   |   |   |   |   |   |--- class: False\n",
            "|   |   |   |   |   |   |   |   |--- feature_295 >  42.50\n",
            "|   |   |   |   |   |   |   |   |   |--- class: False\n",
            "|   |   |   |   |   |   |   |--- feature_350 >  73.50\n",
            "|   |   |   |   |   |   |   |   |--- class: False\n",
            "|   |   |   |   |--- feature_464 >  96.50\n",
            "|   |   |   |   |   |--- feature_381 <= 22.50\n",
            "|   |   |   |   |   |   |--- feature_490 <= 170.50\n",
            "|   |   |   |   |   |   |   |--- feature_383 <= 252.50\n",
            "|   |   |   |   |   |   |   |   |--- feature_720 <= 161.50\n",
            "|   |   |   |   |   |   |   |   |   |--- feature_380 <= 205.00\n",
            "|   |   |   |   |   |   |   |   |   |   |--- class: False\n",
            "|   |   |   |   |   |   |   |   |   |--- feature_380 >  205.00\n",
            "|   |   |   |   |   |   |   |   |   |   |--- feature_269 <= 189.50\n",
            "|   |   |   |   |   |   |   |   |   |   |   |--- class: False\n",
            "|   |   |   |   |   |   |   |   |   |   |--- feature_269 >  189.50\n",
            "|   |   |   |   |   |   |   |   |   |   |   |--- class: True\n",
            "|   |   |   |   |   |   |   |   |--- feature_720 >  161.50\n",
            "|   |   |   |   |   |   |   |   |   |--- class: True\n",
            "|   |   |   |   |   |   |   |--- feature_383 >  252.50\n",
            "|   |   |   |   |   |   |   |   |--- feature_685 <= 0.50\n",
            "|   |   |   |   |   |   |   |   |   |--- class: True\n",
            "|   |   |   |   |   |   |   |   |--- feature_685 >  0.50\n",
            "|   |   |   |   |   |   |   |   |   |--- class: False\n",
            "|   |   |   |   |   |   |--- feature_490 >  170.50\n",
            "|   |   |   |   |   |   |   |--- feature_376 <= 51.00\n",
            "|   |   |   |   |   |   |   |   |--- feature_154 <= 172.00\n",
            "|   |   |   |   |   |   |   |   |   |--- class: True\n",
            "|   |   |   |   |   |   |   |   |--- feature_154 >  172.00\n",
            "|   |   |   |   |   |   |   |   |   |--- class: False\n",
            "|   |   |   |   |   |   |   |--- feature_376 >  51.00\n",
            "|   |   |   |   |   |   |   |   |--- feature_382 <= 84.50\n",
            "|   |   |   |   |   |   |   |   |   |--- class: False\n",
            "|   |   |   |   |   |   |   |   |--- feature_382 >  84.50\n",
            "|   |   |   |   |   |   |   |   |   |--- class: True\n",
            "|   |   |   |   |   |--- feature_381 >  22.50\n",
            "|   |   |   |   |   |   |--- feature_294 <= 74.50\n",
            "|   |   |   |   |   |   |   |--- feature_127 <= 69.50\n",
            "|   |   |   |   |   |   |   |   |--- feature_552 <= 50.50\n",
            "|   |   |   |   |   |   |   |   |   |--- feature_266 <= 230.00\n",
            "|   |   |   |   |   |   |   |   |   |   |--- feature_70 <= 9.50\n",
            "|   |   |   |   |   |   |   |   |   |   |   |--- truncated branch of depth 4\n",
            "|   |   |   |   |   |   |   |   |   |   |--- feature_70 >  9.50\n",
            "|   |   |   |   |   |   |   |   |   |   |   |--- class: False\n",
            "|   |   |   |   |   |   |   |   |   |--- feature_266 >  230.00\n",
            "|   |   |   |   |   |   |   |   |   |   |--- class: False\n",
            "|   |   |   |   |   |   |   |   |--- feature_552 >  50.50\n",
            "|   |   |   |   |   |   |   |   |   |--- class: False\n",
            "|   |   |   |   |   |   |   |--- feature_127 >  69.50\n",
            "|   |   |   |   |   |   |   |   |--- feature_237 <= 248.50\n",
            "|   |   |   |   |   |   |   |   |   |--- class: False\n",
            "|   |   |   |   |   |   |   |   |--- feature_237 >  248.50\n",
            "|   |   |   |   |   |   |   |   |   |--- class: True\n",
            "|   |   |   |   |   |   |--- feature_294 >  74.50\n",
            "|   |   |   |   |   |   |   |--- feature_296 <= 24.50\n",
            "|   |   |   |   |   |   |   |   |--- class: True\n",
            "|   |   |   |   |   |   |   |--- feature_296 >  24.50\n",
            "|   |   |   |   |   |   |   |   |--- feature_149 <= 84.00\n",
            "|   |   |   |   |   |   |   |   |   |--- class: False\n",
            "|   |   |   |   |   |   |   |   |--- feature_149 >  84.00\n",
            "|   |   |   |   |   |   |   |   |   |--- class: True\n",
            "|   |   |   |--- feature_571 >  1.00\n",
            "|   |   |   |   |--- feature_682 <= 4.50\n",
            "|   |   |   |   |   |--- feature_133 <= 33.00\n",
            "|   |   |   |   |   |   |--- feature_680 <= 153.00\n",
            "|   |   |   |   |   |   |   |--- feature_683 <= 30.00\n",
            "|   |   |   |   |   |   |   |   |--- feature_165 <= 27.00\n",
            "|   |   |   |   |   |   |   |   |   |--- feature_692 <= 233.00\n",
            "|   |   |   |   |   |   |   |   |   |   |--- feature_661 <= 253.50\n",
            "|   |   |   |   |   |   |   |   |   |   |   |--- truncated branch of depth 9\n",
            "|   |   |   |   |   |   |   |   |   |   |--- feature_661 >  253.50\n",
            "|   |   |   |   |   |   |   |   |   |   |   |--- truncated branch of depth 2\n",
            "|   |   |   |   |   |   |   |   |   |--- feature_692 >  233.00\n",
            "|   |   |   |   |   |   |   |   |   |   |--- class: True\n",
            "|   |   |   |   |   |   |   |   |--- feature_165 >  27.00\n",
            "|   |   |   |   |   |   |   |   |   |--- feature_429 <= 203.50\n",
            "|   |   |   |   |   |   |   |   |   |   |--- class: False\n",
            "|   |   |   |   |   |   |   |   |   |--- feature_429 >  203.50\n",
            "|   |   |   |   |   |   |   |   |   |   |--- class: True\n",
            "|   |   |   |   |   |   |   |--- feature_683 >  30.00\n",
            "|   |   |   |   |   |   |   |   |--- feature_578 <= 11.00\n",
            "|   |   |   |   |   |   |   |   |   |--- feature_441 <= 57.50\n",
            "|   |   |   |   |   |   |   |   |   |   |--- class: True\n",
            "|   |   |   |   |   |   |   |   |   |--- feature_441 >  57.50\n",
            "|   |   |   |   |   |   |   |   |   |   |--- class: False\n",
            "|   |   |   |   |   |   |   |   |--- feature_578 >  11.00\n",
            "|   |   |   |   |   |   |   |   |   |--- class: False\n",
            "|   |   |   |   |   |   |--- feature_680 >  153.00\n",
            "|   |   |   |   |   |   |   |--- feature_571 <= 123.50\n",
            "|   |   |   |   |   |   |   |   |--- class: False\n",
            "|   |   |   |   |   |   |   |--- feature_571 >  123.50\n",
            "|   |   |   |   |   |   |   |   |--- class: True\n",
            "|   |   |   |   |   |--- feature_133 >  33.00\n",
            "|   |   |   |   |   |   |--- feature_568 <= 5.00\n",
            "|   |   |   |   |   |   |   |--- feature_602 <= 119.00\n",
            "|   |   |   |   |   |   |   |   |--- class: True\n",
            "|   |   |   |   |   |   |   |--- feature_602 >  119.00\n",
            "|   |   |   |   |   |   |   |   |--- feature_518 <= 253.50\n",
            "|   |   |   |   |   |   |   |   |   |--- class: False\n",
            "|   |   |   |   |   |   |   |   |--- feature_518 >  253.50\n",
            "|   |   |   |   |   |   |   |   |   |--- class: True\n",
            "|   |   |   |   |   |   |--- feature_568 >  5.00\n",
            "|   |   |   |   |   |   |   |--- class: False\n",
            "|   |   |   |   |--- feature_682 >  4.50\n",
            "|   |   |   |   |   |--- feature_267 <= 56.50\n",
            "|   |   |   |   |   |   |--- feature_572 <= 117.00\n",
            "|   |   |   |   |   |   |   |--- class: False\n",
            "|   |   |   |   |   |   |--- feature_572 >  117.00\n",
            "|   |   |   |   |   |   |   |--- feature_486 <= 245.00\n",
            "|   |   |   |   |   |   |   |   |--- class: True\n",
            "|   |   |   |   |   |   |   |--- feature_486 >  245.00\n",
            "|   |   |   |   |   |   |   |   |--- class: False\n",
            "|   |   |   |   |   |--- feature_267 >  56.50\n",
            "|   |   |   |   |   |   |--- feature_428 <= 23.50\n",
            "|   |   |   |   |   |   |   |--- class: False\n",
            "|   |   |   |   |   |   |--- feature_428 >  23.50\n",
            "|   |   |   |   |   |   |   |--- class: True\n",
            "|   |--- feature_400 >  7.50\n",
            "|   |   |--- feature_570 <= 0.50\n",
            "|   |   |   |--- feature_294 <= 12.50\n",
            "|   |   |   |   |--- feature_155 <= 71.50\n",
            "|   |   |   |   |   |--- feature_96 <= 7.00\n",
            "|   |   |   |   |   |   |--- feature_93 <= 2.00\n",
            "|   |   |   |   |   |   |   |--- feature_239 <= 101.00\n",
            "|   |   |   |   |   |   |   |   |--- feature_322 <= 111.00\n",
            "|   |   |   |   |   |   |   |   |   |--- feature_597 <= 76.50\n",
            "|   |   |   |   |   |   |   |   |   |   |--- feature_97 <= 11.50\n",
            "|   |   |   |   |   |   |   |   |   |   |   |--- truncated branch of depth 29\n",
            "|   |   |   |   |   |   |   |   |   |   |--- feature_97 >  11.50\n",
            "|   |   |   |   |   |   |   |   |   |   |   |--- truncated branch of depth 2\n",
            "|   |   |   |   |   |   |   |   |   |--- feature_597 >  76.50\n",
            "|   |   |   |   |   |   |   |   |   |   |--- class: False\n",
            "|   |   |   |   |   |   |   |   |--- feature_322 >  111.00\n",
            "|   |   |   |   |   |   |   |   |   |--- feature_408 <= 129.50\n",
            "|   |   |   |   |   |   |   |   |   |   |--- feature_402 <= 253.50\n",
            "|   |   |   |   |   |   |   |   |   |   |   |--- class: False\n",
            "|   |   |   |   |   |   |   |   |   |   |--- feature_402 >  253.50\n",
            "|   |   |   |   |   |   |   |   |   |   |   |--- class: True\n",
            "|   |   |   |   |   |   |   |   |   |--- feature_408 >  129.50\n",
            "|   |   |   |   |   |   |   |   |   |   |--- feature_328 <= 87.00\n",
            "|   |   |   |   |   |   |   |   |   |   |   |--- truncated branch of depth 2\n",
            "|   |   |   |   |   |   |   |   |   |   |--- feature_328 >  87.00\n",
            "|   |   |   |   |   |   |   |   |   |   |   |--- class: True\n",
            "|   |   |   |   |   |   |   |--- feature_239 >  101.00\n",
            "|   |   |   |   |   |   |   |   |--- class: False\n",
            "|   |   |   |   |   |   |--- feature_93 >  2.00\n",
            "|   |   |   |   |   |   |   |--- feature_574 <= 8.50\n",
            "|   |   |   |   |   |   |   |   |--- class: True\n",
            "|   |   |   |   |   |   |   |--- feature_574 >  8.50\n",
            "|   |   |   |   |   |   |   |   |--- class: False\n",
            "|   |   |   |   |   |--- feature_96 >  7.00\n",
            "|   |   |   |   |   |   |--- feature_545 <= 21.00\n",
            "|   |   |   |   |   |   |   |--- feature_375 <= 65.50\n",
            "|   |   |   |   |   |   |   |   |--- class: True\n",
            "|   |   |   |   |   |   |   |--- feature_375 >  65.50\n",
            "|   |   |   |   |   |   |   |   |--- class: False\n",
            "|   |   |   |   |   |   |--- feature_545 >  21.00\n",
            "|   |   |   |   |   |   |   |--- feature_132 <= 112.50\n",
            "|   |   |   |   |   |   |   |   |--- feature_600 <= 244.00\n",
            "|   |   |   |   |   |   |   |   |   |--- class: False\n",
            "|   |   |   |   |   |   |   |   |--- feature_600 >  244.00\n",
            "|   |   |   |   |   |   |   |   |   |--- feature_300 <= 65.50\n",
            "|   |   |   |   |   |   |   |   |   |   |--- class: False\n",
            "|   |   |   |   |   |   |   |   |   |--- feature_300 >  65.50\n",
            "|   |   |   |   |   |   |   |   |   |   |--- class: True\n",
            "|   |   |   |   |   |   |   |--- feature_132 >  112.50\n",
            "|   |   |   |   |   |   |   |   |--- class: True\n",
            "|   |   |   |   |--- feature_155 >  71.50\n",
            "|   |   |   |   |   |--- feature_156 <= 16.00\n",
            "|   |   |   |   |   |   |--- feature_99 <= 156.50\n",
            "|   |   |   |   |   |   |   |--- feature_206 <= 231.00\n",
            "|   |   |   |   |   |   |   |   |--- feature_406 <= 196.00\n",
            "|   |   |   |   |   |   |   |   |   |--- class: True\n",
            "|   |   |   |   |   |   |   |   |--- feature_406 >  196.00\n",
            "|   |   |   |   |   |   |   |   |   |--- feature_183 <= 123.00\n",
            "|   |   |   |   |   |   |   |   |   |   |--- class: False\n",
            "|   |   |   |   |   |   |   |   |   |--- feature_183 >  123.00\n",
            "|   |   |   |   |   |   |   |   |   |   |--- class: True\n",
            "|   |   |   |   |   |   |   |--- feature_206 >  231.00\n",
            "|   |   |   |   |   |   |   |   |--- class: False\n",
            "|   |   |   |   |   |   |--- feature_99 >  156.50\n",
            "|   |   |   |   |   |   |   |--- class: False\n",
            "|   |   |   |   |   |--- feature_156 >  16.00\n",
            "|   |   |   |   |   |   |--- feature_240 <= 213.50\n",
            "|   |   |   |   |   |   |   |--- class: False\n",
            "|   |   |   |   |   |   |--- feature_240 >  213.50\n",
            "|   |   |   |   |   |   |   |--- class: True\n",
            "|   |   |   |--- feature_294 >  12.50\n",
            "|   |   |   |   |--- feature_295 <= 1.00\n",
            "|   |   |   |   |   |--- feature_491 <= 1.50\n",
            "|   |   |   |   |   |   |--- class: False\n",
            "|   |   |   |   |   |--- feature_491 >  1.50\n",
            "|   |   |   |   |   |   |--- feature_239 <= 156.50\n",
            "|   |   |   |   |   |   |   |--- feature_233 <= 172.50\n",
            "|   |   |   |   |   |   |   |   |--- feature_311 <= 27.50\n",
            "|   |   |   |   |   |   |   |   |   |--- class: True\n",
            "|   |   |   |   |   |   |   |   |--- feature_311 >  27.50\n",
            "|   |   |   |   |   |   |   |   |   |--- class: False\n",
            "|   |   |   |   |   |   |   |--- feature_233 >  172.50\n",
            "|   |   |   |   |   |   |   |   |--- feature_271 <= 47.50\n",
            "|   |   |   |   |   |   |   |   |   |--- class: False\n",
            "|   |   |   |   |   |   |   |   |--- feature_271 >  47.50\n",
            "|   |   |   |   |   |   |   |   |   |--- class: True\n",
            "|   |   |   |   |   |   |--- feature_239 >  156.50\n",
            "|   |   |   |   |   |   |   |--- class: False\n",
            "|   |   |   |   |--- feature_295 >  1.00\n",
            "|   |   |   |   |   |--- feature_186 <= 7.50\n",
            "|   |   |   |   |   |   |--- feature_265 <= 0.50\n",
            "|   |   |   |   |   |   |   |--- feature_408 <= 142.00\n",
            "|   |   |   |   |   |   |   |   |--- feature_439 <= 254.50\n",
            "|   |   |   |   |   |   |   |   |   |--- class: False\n",
            "|   |   |   |   |   |   |   |   |--- feature_439 >  254.50\n",
            "|   |   |   |   |   |   |   |   |   |--- feature_207 <= 82.00\n",
            "|   |   |   |   |   |   |   |   |   |   |--- class: False\n",
            "|   |   |   |   |   |   |   |   |   |--- feature_207 >  82.00\n",
            "|   |   |   |   |   |   |   |   |   |   |--- class: True\n",
            "|   |   |   |   |   |   |   |--- feature_408 >  142.00\n",
            "|   |   |   |   |   |   |   |   |--- feature_427 <= 1.00\n",
            "|   |   |   |   |   |   |   |   |   |--- feature_297 <= 252.50\n",
            "|   |   |   |   |   |   |   |   |   |   |--- class: False\n",
            "|   |   |   |   |   |   |   |   |   |--- feature_297 >  252.50\n",
            "|   |   |   |   |   |   |   |   |   |   |--- class: True\n",
            "|   |   |   |   |   |   |   |   |--- feature_427 >  1.00\n",
            "|   |   |   |   |   |   |   |   |   |--- feature_236 <= 93.50\n",
            "|   |   |   |   |   |   |   |   |   |   |--- class: True\n",
            "|   |   |   |   |   |   |   |   |   |--- feature_236 >  93.50\n",
            "|   |   |   |   |   |   |   |   |   |   |--- feature_413 <= 116.50\n",
            "|   |   |   |   |   |   |   |   |   |   |   |--- class: False\n",
            "|   |   |   |   |   |   |   |   |   |   |--- feature_413 >  116.50\n",
            "|   |   |   |   |   |   |   |   |   |   |   |--- class: True\n",
            "|   |   |   |   |   |   |--- feature_265 >  0.50\n",
            "|   |   |   |   |   |   |   |--- feature_159 <= 7.00\n",
            "|   |   |   |   |   |   |   |   |--- feature_268 <= 0.50\n",
            "|   |   |   |   |   |   |   |   |   |--- feature_217 <= 18.50\n",
            "|   |   |   |   |   |   |   |   |   |   |--- feature_694 <= 156.00\n",
            "|   |   |   |   |   |   |   |   |   |   |   |--- class: False\n",
            "|   |   |   |   |   |   |   |   |   |   |--- feature_694 >  156.00\n",
            "|   |   |   |   |   |   |   |   |   |   |   |--- class: True\n",
            "|   |   |   |   |   |   |   |   |   |--- feature_217 >  18.50\n",
            "|   |   |   |   |   |   |   |   |   |   |--- feature_399 <= 241.50\n",
            "|   |   |   |   |   |   |   |   |   |   |   |--- class: True\n",
            "|   |   |   |   |   |   |   |   |   |   |--- feature_399 >  241.50\n",
            "|   |   |   |   |   |   |   |   |   |   |   |--- class: False\n",
            "|   |   |   |   |   |   |   |   |--- feature_268 >  0.50\n",
            "|   |   |   |   |   |   |   |   |   |--- feature_213 <= 248.50\n",
            "|   |   |   |   |   |   |   |   |   |   |--- feature_445 <= 41.00\n",
            "|   |   |   |   |   |   |   |   |   |   |   |--- truncated branch of depth 4\n",
            "|   |   |   |   |   |   |   |   |   |   |--- feature_445 >  41.00\n",
            "|   |   |   |   |   |   |   |   |   |   |   |--- truncated branch of depth 2\n",
            "|   |   |   |   |   |   |   |   |   |--- feature_213 >  248.50\n",
            "|   |   |   |   |   |   |   |   |   |   |--- feature_549 <= 192.00\n",
            "|   |   |   |   |   |   |   |   |   |   |   |--- class: True\n",
            "|   |   |   |   |   |   |   |   |   |   |--- feature_549 >  192.00\n",
            "|   |   |   |   |   |   |   |   |   |   |   |--- class: False\n",
            "|   |   |   |   |   |   |   |--- feature_159 >  7.00\n",
            "|   |   |   |   |   |   |   |   |--- class: True\n",
            "|   |   |   |   |   |--- feature_186 >  7.50\n",
            "|   |   |   |   |   |   |--- feature_436 <= 235.00\n",
            "|   |   |   |   |   |   |   |--- feature_460 <= 253.50\n",
            "|   |   |   |   |   |   |   |   |--- feature_415 <= 168.50\n",
            "|   |   |   |   |   |   |   |   |   |--- feature_546 <= 253.50\n",
            "|   |   |   |   |   |   |   |   |   |   |--- class: False\n",
            "|   |   |   |   |   |   |   |   |   |--- feature_546 >  253.50\n",
            "|   |   |   |   |   |   |   |   |   |   |--- feature_631 <= 58.50\n",
            "|   |   |   |   |   |   |   |   |   |   |   |--- class: True\n",
            "|   |   |   |   |   |   |   |   |   |   |--- feature_631 >  58.50\n",
            "|   |   |   |   |   |   |   |   |   |   |   |--- class: False\n",
            "|   |   |   |   |   |   |   |   |--- feature_415 >  168.50\n",
            "|   |   |   |   |   |   |   |   |   |--- class: True\n",
            "|   |   |   |   |   |   |   |--- feature_460 >  253.50\n",
            "|   |   |   |   |   |   |   |   |--- class: True\n",
            "|   |   |   |   |   |   |--- feature_436 >  235.00\n",
            "|   |   |   |   |   |   |   |--- feature_459 <= 9.00\n",
            "|   |   |   |   |   |   |   |   |--- feature_320 <= 240.50\n",
            "|   |   |   |   |   |   |   |   |   |--- feature_206 <= 120.00\n",
            "|   |   |   |   |   |   |   |   |   |   |--- class: False\n",
            "|   |   |   |   |   |   |   |   |   |--- feature_206 >  120.00\n",
            "|   |   |   |   |   |   |   |   |   |   |--- class: True\n",
            "|   |   |   |   |   |   |   |   |--- feature_320 >  240.50\n",
            "|   |   |   |   |   |   |   |   |   |--- class: True\n",
            "|   |   |   |   |   |   |   |--- feature_459 >  9.00\n",
            "|   |   |   |   |   |   |   |   |--- feature_596 <= 70.50\n",
            "|   |   |   |   |   |   |   |   |   |--- class: True\n",
            "|   |   |   |   |   |   |   |   |--- feature_596 >  70.50\n",
            "|   |   |   |   |   |   |   |   |   |--- class: False\n",
            "|   |   |--- feature_570 >  0.50\n",
            "|   |   |   |--- feature_162 <= 7.00\n",
            "|   |   |   |   |--- feature_191 <= 15.50\n",
            "|   |   |   |   |   |--- feature_682 <= 13.50\n",
            "|   |   |   |   |   |   |--- feature_133 <= 42.00\n",
            "|   |   |   |   |   |   |   |--- feature_689 <= 0.50\n",
            "|   |   |   |   |   |   |   |   |--- feature_602 <= 0.50\n",
            "|   |   |   |   |   |   |   |   |   |--- feature_654 <= 106.00\n",
            "|   |   |   |   |   |   |   |   |   |   |--- feature_663 <= 253.50\n",
            "|   |   |   |   |   |   |   |   |   |   |   |--- truncated branch of depth 12\n",
            "|   |   |   |   |   |   |   |   |   |   |--- feature_663 >  253.50\n",
            "|   |   |   |   |   |   |   |   |   |   |   |--- class: True\n",
            "|   |   |   |   |   |   |   |   |   |--- feature_654 >  106.00\n",
            "|   |   |   |   |   |   |   |   |   |   |--- feature_434 <= 223.50\n",
            "|   |   |   |   |   |   |   |   |   |   |   |--- class: False\n",
            "|   |   |   |   |   |   |   |   |   |   |--- feature_434 >  223.50\n",
            "|   |   |   |   |   |   |   |   |   |   |   |--- truncated branch of depth 2\n",
            "|   |   |   |   |   |   |   |   |--- feature_602 >  0.50\n",
            "|   |   |   |   |   |   |   |   |   |--- feature_686 <= 47.50\n",
            "|   |   |   |   |   |   |   |   |   |   |--- feature_683 <= 53.00\n",
            "|   |   |   |   |   |   |   |   |   |   |   |--- truncated branch of depth 8\n",
            "|   |   |   |   |   |   |   |   |   |   |--- feature_683 >  53.00\n",
            "|   |   |   |   |   |   |   |   |   |   |   |--- class: True\n",
            "|   |   |   |   |   |   |   |   |   |--- feature_686 >  47.50\n",
            "|   |   |   |   |   |   |   |   |   |   |--- class: True\n",
            "|   |   |   |   |   |   |   |--- feature_689 >  0.50\n",
            "|   |   |   |   |   |   |   |   |--- feature_657 <= 104.00\n",
            "|   |   |   |   |   |   |   |   |   |--- feature_183 <= 143.50\n",
            "|   |   |   |   |   |   |   |   |   |   |--- class: True\n",
            "|   |   |   |   |   |   |   |   |   |--- feature_183 >  143.50\n",
            "|   |   |   |   |   |   |   |   |   |   |--- class: False\n",
            "|   |   |   |   |   |   |   |   |--- feature_657 >  104.00\n",
            "|   |   |   |   |   |   |   |   |   |--- class: False\n",
            "|   |   |   |   |   |   |--- feature_133 >  42.00\n",
            "|   |   |   |   |   |   |   |--- feature_215 <= 194.50\n",
            "|   |   |   |   |   |   |   |   |--- feature_121 <= 98.50\n",
            "|   |   |   |   |   |   |   |   |   |--- class: False\n",
            "|   |   |   |   |   |   |   |   |--- feature_121 >  98.50\n",
            "|   |   |   |   |   |   |   |   |   |--- class: True\n",
            "|   |   |   |   |   |   |   |--- feature_215 >  194.50\n",
            "|   |   |   |   |   |   |   |   |--- feature_517 <= 176.00\n",
            "|   |   |   |   |   |   |   |   |   |--- class: False\n",
            "|   |   |   |   |   |   |   |   |--- feature_517 >  176.00\n",
            "|   |   |   |   |   |   |   |   |   |--- class: True\n",
            "|   |   |   |   |   |--- feature_682 >  13.50\n",
            "|   |   |   |   |   |   |--- feature_294 <= 73.00\n",
            "|   |   |   |   |   |   |   |--- feature_435 <= 196.50\n",
            "|   |   |   |   |   |   |   |   |--- feature_345 <= 253.50\n",
            "|   |   |   |   |   |   |   |   |   |--- class: False\n",
            "|   |   |   |   |   |   |   |   |--- feature_345 >  253.50\n",
            "|   |   |   |   |   |   |   |   |   |--- class: True\n",
            "|   |   |   |   |   |   |   |--- feature_435 >  196.50\n",
            "|   |   |   |   |   |   |   |   |--- feature_380 <= 10.00\n",
            "|   |   |   |   |   |   |   |   |   |--- class: False\n",
            "|   |   |   |   |   |   |   |   |--- feature_380 >  10.00\n",
            "|   |   |   |   |   |   |   |   |   |--- class: True\n",
            "|   |   |   |   |   |   |--- feature_294 >  73.00\n",
            "|   |   |   |   |   |   |   |--- feature_406 <= 253.50\n",
            "|   |   |   |   |   |   |   |   |--- class: False\n",
            "|   |   |   |   |   |   |   |--- feature_406 >  253.50\n",
            "|   |   |   |   |   |   |   |   |--- feature_738 <= 12.50\n",
            "|   |   |   |   |   |   |   |   |   |--- class: True\n",
            "|   |   |   |   |   |   |   |   |--- feature_738 >  12.50\n",
            "|   |   |   |   |   |   |   |   |   |--- class: False\n",
            "|   |   |   |   |--- feature_191 >  15.50\n",
            "|   |   |   |   |   |--- feature_268 <= 4.50\n",
            "|   |   |   |   |   |   |--- feature_300 <= 13.50\n",
            "|   |   |   |   |   |   |   |--- feature_326 <= 173.50\n",
            "|   |   |   |   |   |   |   |   |--- class: False\n",
            "|   |   |   |   |   |   |   |--- feature_326 >  173.50\n",
            "|   |   |   |   |   |   |   |   |--- class: True\n",
            "|   |   |   |   |   |   |--- feature_300 >  13.50\n",
            "|   |   |   |   |   |   |   |--- feature_276 <= 246.50\n",
            "|   |   |   |   |   |   |   |   |--- feature_608 <= 29.50\n",
            "|   |   |   |   |   |   |   |   |   |--- class: True\n",
            "|   |   |   |   |   |   |   |   |--- feature_608 >  29.50\n",
            "|   |   |   |   |   |   |   |   |   |--- class: False\n",
            "|   |   |   |   |   |   |   |--- feature_276 >  246.50\n",
            "|   |   |   |   |   |   |   |   |--- class: False\n",
            "|   |   |   |   |   |--- feature_268 >  4.50\n",
            "|   |   |   |   |   |   |--- feature_206 <= 42.00\n",
            "|   |   |   |   |   |   |   |--- feature_173 <= 4.00\n",
            "|   |   |   |   |   |   |   |   |--- class: False\n",
            "|   |   |   |   |   |   |   |--- feature_173 >  4.00\n",
            "|   |   |   |   |   |   |   |   |--- class: True\n",
            "|   |   |   |   |   |   |--- feature_206 >  42.00\n",
            "|   |   |   |   |   |   |   |--- feature_265 <= 199.00\n",
            "|   |   |   |   |   |   |   |   |--- class: True\n",
            "|   |   |   |   |   |   |   |--- feature_265 >  199.00\n",
            "|   |   |   |   |   |   |   |   |--- class: False\n",
            "|   |   |   |--- feature_162 >  7.00\n",
            "|   |   |   |   |--- feature_566 <= 50.50\n",
            "|   |   |   |   |   |--- feature_326 <= 6.50\n",
            "|   |   |   |   |   |   |--- feature_601 <= 30.50\n",
            "|   |   |   |   |   |   |   |--- feature_633 <= 171.00\n",
            "|   |   |   |   |   |   |   |   |--- class: True\n",
            "|   |   |   |   |   |   |   |--- feature_633 >  171.00\n",
            "|   |   |   |   |   |   |   |   |--- class: False\n",
            "|   |   |   |   |   |   |--- feature_601 >  30.50\n",
            "|   |   |   |   |   |   |   |--- class: False\n",
            "|   |   |   |   |   |--- feature_326 >  6.50\n",
            "|   |   |   |   |   |   |--- feature_184 <= 4.50\n",
            "|   |   |   |   |   |   |   |--- feature_221 <= 138.00\n",
            "|   |   |   |   |   |   |   |   |--- feature_428 <= 17.50\n",
            "|   |   |   |   |   |   |   |   |   |--- feature_603 <= 18.50\n",
            "|   |   |   |   |   |   |   |   |   |   |--- feature_497 <= 6.00\n",
            "|   |   |   |   |   |   |   |   |   |   |   |--- class: True\n",
            "|   |   |   |   |   |   |   |   |   |   |--- feature_497 >  6.00\n",
            "|   |   |   |   |   |   |   |   |   |   |   |--- class: False\n",
            "|   |   |   |   |   |   |   |   |   |--- feature_603 >  18.50\n",
            "|   |   |   |   |   |   |   |   |   |   |--- class: False\n",
            "|   |   |   |   |   |   |   |   |--- feature_428 >  17.50\n",
            "|   |   |   |   |   |   |   |   |   |--- class: True\n",
            "|   |   |   |   |   |   |   |--- feature_221 >  138.00\n",
            "|   |   |   |   |   |   |   |   |--- class: False\n",
            "|   |   |   |   |   |   |--- feature_184 >  4.50\n",
            "|   |   |   |   |   |   |   |--- class: False\n",
            "|   |   |   |   |--- feature_566 >  50.50\n",
            "|   |   |   |   |   |--- feature_598 <= 66.50\n",
            "|   |   |   |   |   |   |--- feature_404 <= 55.50\n",
            "|   |   |   |   |   |   |   |--- class: True\n",
            "|   |   |   |   |   |   |--- feature_404 >  55.50\n",
            "|   |   |   |   |   |   |   |--- class: False\n",
            "|   |   |   |   |   |--- feature_598 >  66.50\n",
            "|   |   |   |   |   |   |--- class: False\n",
            "|--- feature_211 >  0.50\n",
            "|   |--- feature_401 <= 113.50\n",
            "|   |   |--- feature_628 <= 0.50\n",
            "|   |   |   |--- feature_210 <= 1.50\n",
            "|   |   |   |   |--- feature_570 <= 1.50\n",
            "|   |   |   |   |   |--- feature_266 <= 26.50\n",
            "|   |   |   |   |   |   |--- feature_182 <= 36.50\n",
            "|   |   |   |   |   |   |   |--- feature_600 <= 9.00\n",
            "|   |   |   |   |   |   |   |   |--- feature_543 <= 247.00\n",
            "|   |   |   |   |   |   |   |   |   |--- feature_350 <= 237.00\n",
            "|   |   |   |   |   |   |   |   |   |   |--- class: True\n",
            "|   |   |   |   |   |   |   |   |   |--- feature_350 >  237.00\n",
            "|   |   |   |   |   |   |   |   |   |   |--- feature_291 <= 125.50\n",
            "|   |   |   |   |   |   |   |   |   |   |   |--- class: False\n",
            "|   |   |   |   |   |   |   |   |   |   |--- feature_291 >  125.50\n",
            "|   |   |   |   |   |   |   |   |   |   |   |--- class: True\n",
            "|   |   |   |   |   |   |   |   |--- feature_543 >  247.00\n",
            "|   |   |   |   |   |   |   |   |   |--- class: False\n",
            "|   |   |   |   |   |   |   |--- feature_600 >  9.00\n",
            "|   |   |   |   |   |   |   |   |--- class: False\n",
            "|   |   |   |   |   |   |--- feature_182 >  36.50\n",
            "|   |   |   |   |   |   |   |--- feature_455 <= 221.00\n",
            "|   |   |   |   |   |   |   |   |--- class: False\n",
            "|   |   |   |   |   |   |   |--- feature_455 >  221.00\n",
            "|   |   |   |   |   |   |   |   |--- class: True\n",
            "|   |   |   |   |   |--- feature_266 >  26.50\n",
            "|   |   |   |   |   |   |--- feature_376 <= 183.50\n",
            "|   |   |   |   |   |   |   |--- feature_425 <= 252.50\n",
            "|   |   |   |   |   |   |   |   |--- class: False\n",
            "|   |   |   |   |   |   |   |--- feature_425 >  252.50\n",
            "|   |   |   |   |   |   |   |   |--- class: True\n",
            "|   |   |   |   |   |   |--- feature_376 >  183.50\n",
            "|   |   |   |   |   |   |   |--- feature_402 <= 88.00\n",
            "|   |   |   |   |   |   |   |   |--- feature_405 <= 45.50\n",
            "|   |   |   |   |   |   |   |   |   |--- class: True\n",
            "|   |   |   |   |   |   |   |   |--- feature_405 >  45.50\n",
            "|   |   |   |   |   |   |   |   |   |--- class: False\n",
            "|   |   |   |   |   |   |   |--- feature_402 >  88.00\n",
            "|   |   |   |   |   |   |   |   |--- feature_401 <= 39.50\n",
            "|   |   |   |   |   |   |   |   |   |--- class: True\n",
            "|   |   |   |   |   |   |   |   |--- feature_401 >  39.50\n",
            "|   |   |   |   |   |   |   |   |   |--- class: False\n",
            "|   |   |   |   |--- feature_570 >  1.50\n",
            "|   |   |   |   |   |--- feature_236 <= 253.50\n",
            "|   |   |   |   |   |   |--- feature_570 <= 28.50\n",
            "|   |   |   |   |   |   |   |--- feature_241 <= 167.50\n",
            "|   |   |   |   |   |   |   |   |--- class: True\n",
            "|   |   |   |   |   |   |   |--- feature_241 >  167.50\n",
            "|   |   |   |   |   |   |   |   |--- class: False\n",
            "|   |   |   |   |   |   |--- feature_570 >  28.50\n",
            "|   |   |   |   |   |   |   |--- class: False\n",
            "|   |   |   |   |   |--- feature_236 >  253.50\n",
            "|   |   |   |   |   |   |--- class: True\n",
            "|   |   |   |--- feature_210 >  1.50\n",
            "|   |   |   |   |--- feature_374 <= 8.50\n",
            "|   |   |   |   |   |--- feature_398 <= 12.50\n",
            "|   |   |   |   |   |   |--- feature_376 <= 245.50\n",
            "|   |   |   |   |   |   |   |--- feature_399 <= 233.50\n",
            "|   |   |   |   |   |   |   |   |--- class: False\n",
            "|   |   |   |   |   |   |   |--- feature_399 >  233.50\n",
            "|   |   |   |   |   |   |   |   |--- feature_400 <= 174.00\n",
            "|   |   |   |   |   |   |   |   |   |--- class: True\n",
            "|   |   |   |   |   |   |   |   |--- feature_400 >  174.00\n",
            "|   |   |   |   |   |   |   |   |   |--- class: False\n",
            "|   |   |   |   |   |   |--- feature_376 >  245.50\n",
            "|   |   |   |   |   |   |   |--- feature_492 <= 251.50\n",
            "|   |   |   |   |   |   |   |   |--- feature_296 <= 254.50\n",
            "|   |   |   |   |   |   |   |   |   |--- class: False\n",
            "|   |   |   |   |   |   |   |   |--- feature_296 >  254.50\n",
            "|   |   |   |   |   |   |   |   |   |--- feature_660 <= 95.50\n",
            "|   |   |   |   |   |   |   |   |   |   |--- class: True\n",
            "|   |   |   |   |   |   |   |   |   |--- feature_660 >  95.50\n",
            "|   |   |   |   |   |   |   |   |   |   |--- class: False\n",
            "|   |   |   |   |   |   |   |--- feature_492 >  251.50\n",
            "|   |   |   |   |   |   |   |   |--- feature_405 <= 78.50\n",
            "|   |   |   |   |   |   |   |   |   |--- feature_501 <= 126.50\n",
            "|   |   |   |   |   |   |   |   |   |   |--- class: True\n",
            "|   |   |   |   |   |   |   |   |   |--- feature_501 >  126.50\n",
            "|   |   |   |   |   |   |   |   |   |   |--- class: False\n",
            "|   |   |   |   |   |   |   |   |--- feature_405 >  78.50\n",
            "|   |   |   |   |   |   |   |   |   |--- feature_211 <= 19.50\n",
            "|   |   |   |   |   |   |   |   |   |   |--- class: True\n",
            "|   |   |   |   |   |   |   |   |   |--- feature_211 >  19.50\n",
            "|   |   |   |   |   |   |   |   |   |   |--- feature_621 <= 20.00\n",
            "|   |   |   |   |   |   |   |   |   |   |   |--- truncated branch of depth 2\n",
            "|   |   |   |   |   |   |   |   |   |   |--- feature_621 >  20.00\n",
            "|   |   |   |   |   |   |   |   |   |   |   |--- class: True\n",
            "|   |   |   |   |   |--- feature_398 >  12.50\n",
            "|   |   |   |   |   |   |--- feature_208 <= 0.50\n",
            "|   |   |   |   |   |   |   |--- feature_324 <= 135.50\n",
            "|   |   |   |   |   |   |   |   |--- feature_325 <= 253.50\n",
            "|   |   |   |   |   |   |   |   |   |--- feature_220 <= 205.00\n",
            "|   |   |   |   |   |   |   |   |   |   |--- feature_551 <= 253.50\n",
            "|   |   |   |   |   |   |   |   |   |   |   |--- truncated branch of depth 2\n",
            "|   |   |   |   |   |   |   |   |   |   |--- feature_551 >  253.50\n",
            "|   |   |   |   |   |   |   |   |   |   |   |--- class: True\n",
            "|   |   |   |   |   |   |   |   |   |--- feature_220 >  205.00\n",
            "|   |   |   |   |   |   |   |   |   |   |--- class: True\n",
            "|   |   |   |   |   |   |   |   |--- feature_325 >  253.50\n",
            "|   |   |   |   |   |   |   |   |   |--- class: True\n",
            "|   |   |   |   |   |   |   |--- feature_324 >  135.50\n",
            "|   |   |   |   |   |   |   |   |--- feature_326 <= 176.50\n",
            "|   |   |   |   |   |   |   |   |   |--- class: True\n",
            "|   |   |   |   |   |   |   |   |--- feature_326 >  176.50\n",
            "|   |   |   |   |   |   |   |   |   |--- feature_609 <= 99.50\n",
            "|   |   |   |   |   |   |   |   |   |   |--- class: False\n",
            "|   |   |   |   |   |   |   |   |   |--- feature_609 >  99.50\n",
            "|   |   |   |   |   |   |   |   |   |   |--- class: True\n",
            "|   |   |   |   |   |   |--- feature_208 >  0.50\n",
            "|   |   |   |   |   |   |   |--- feature_303 <= 254.50\n",
            "|   |   |   |   |   |   |   |   |--- feature_452 <= 254.50\n",
            "|   |   |   |   |   |   |   |   |   |--- feature_188 <= 253.50\n",
            "|   |   |   |   |   |   |   |   |   |   |--- feature_295 <= 254.50\n",
            "|   |   |   |   |   |   |   |   |   |   |   |--- truncated branch of depth 4\n",
            "|   |   |   |   |   |   |   |   |   |   |--- feature_295 >  254.50\n",
            "|   |   |   |   |   |   |   |   |   |   |   |--- truncated branch of depth 2\n",
            "|   |   |   |   |   |   |   |   |   |--- feature_188 >  253.50\n",
            "|   |   |   |   |   |   |   |   |   |   |--- feature_214 <= 30.00\n",
            "|   |   |   |   |   |   |   |   |   |   |   |--- class: True\n",
            "|   |   |   |   |   |   |   |   |   |   |--- feature_214 >  30.00\n",
            "|   |   |   |   |   |   |   |   |   |   |   |--- class: False\n",
            "|   |   |   |   |   |   |   |   |--- feature_452 >  254.50\n",
            "|   |   |   |   |   |   |   |   |   |--- feature_328 <= 126.00\n",
            "|   |   |   |   |   |   |   |   |   |   |--- class: False\n",
            "|   |   |   |   |   |   |   |   |   |--- feature_328 >  126.00\n",
            "|   |   |   |   |   |   |   |   |   |   |--- class: True\n",
            "|   |   |   |   |   |   |   |--- feature_303 >  254.50\n",
            "|   |   |   |   |   |   |   |   |--- class: True\n",
            "|   |   |   |   |--- feature_374 >  8.50\n",
            "|   |   |   |   |   |--- feature_456 <= 186.00\n",
            "|   |   |   |   |   |   |--- feature_207 <= 5.50\n",
            "|   |   |   |   |   |   |   |--- feature_232 <= 207.50\n",
            "|   |   |   |   |   |   |   |   |--- feature_572 <= 28.50\n",
            "|   |   |   |   |   |   |   |   |   |--- feature_154 <= 1.00\n",
            "|   |   |   |   |   |   |   |   |   |   |--- feature_237 <= 6.00\n",
            "|   |   |   |   |   |   |   |   |   |   |   |--- truncated branch of depth 3\n",
            "|   |   |   |   |   |   |   |   |   |   |--- feature_237 >  6.00\n",
            "|   |   |   |   |   |   |   |   |   |   |   |--- truncated branch of depth 7\n",
            "|   |   |   |   |   |   |   |   |   |--- feature_154 >  1.00\n",
            "|   |   |   |   |   |   |   |   |   |   |--- feature_465 <= 164.50\n",
            "|   |   |   |   |   |   |   |   |   |   |   |--- truncated branch of depth 3\n",
            "|   |   |   |   |   |   |   |   |   |   |--- feature_465 >  164.50\n",
            "|   |   |   |   |   |   |   |   |   |   |   |--- truncated branch of depth 3\n",
            "|   |   |   |   |   |   |   |   |--- feature_572 >  28.50\n",
            "|   |   |   |   |   |   |   |   |   |--- feature_710 <= 112.00\n",
            "|   |   |   |   |   |   |   |   |   |   |--- feature_627 <= 253.50\n",
            "|   |   |   |   |   |   |   |   |   |   |   |--- truncated branch of depth 4\n",
            "|   |   |   |   |   |   |   |   |   |   |--- feature_627 >  253.50\n",
            "|   |   |   |   |   |   |   |   |   |   |   |--- class: True\n",
            "|   |   |   |   |   |   |   |   |   |--- feature_710 >  112.00\n",
            "|   |   |   |   |   |   |   |   |   |   |--- class: True\n",
            "|   |   |   |   |   |   |   |--- feature_232 >  207.50\n",
            "|   |   |   |   |   |   |   |   |--- class: True\n",
            "|   |   |   |   |   |   |--- feature_207 >  5.50\n",
            "|   |   |   |   |   |   |   |--- feature_208 <= 1.50\n",
            "|   |   |   |   |   |   |   |   |--- feature_464 <= 239.00\n",
            "|   |   |   |   |   |   |   |   |   |--- class: False\n",
            "|   |   |   |   |   |   |   |   |--- feature_464 >  239.00\n",
            "|   |   |   |   |   |   |   |   |   |--- feature_575 <= 181.50\n",
            "|   |   |   |   |   |   |   |   |   |   |--- class: True\n",
            "|   |   |   |   |   |   |   |   |   |--- feature_575 >  181.50\n",
            "|   |   |   |   |   |   |   |   |   |   |--- class: False\n",
            "|   |   |   |   |   |   |   |--- feature_208 >  1.50\n",
            "|   |   |   |   |   |   |   |   |--- feature_429 <= 213.50\n",
            "|   |   |   |   |   |   |   |   |   |--- feature_575 <= 254.50\n",
            "|   |   |   |   |   |   |   |   |   |   |--- feature_576 <= 254.50\n",
            "|   |   |   |   |   |   |   |   |   |   |   |--- class: False\n",
            "|   |   |   |   |   |   |   |   |   |   |--- feature_576 >  254.50\n",
            "|   |   |   |   |   |   |   |   |   |   |   |--- truncated branch of depth 2\n",
            "|   |   |   |   |   |   |   |   |   |--- feature_575 >  254.50\n",
            "|   |   |   |   |   |   |   |   |   |   |--- feature_234 <= 32.00\n",
            "|   |   |   |   |   |   |   |   |   |   |   |--- class: True\n",
            "|   |   |   |   |   |   |   |   |   |   |--- feature_234 >  32.00\n",
            "|   |   |   |   |   |   |   |   |   |   |   |--- class: False\n",
            "|   |   |   |   |   |   |   |   |--- feature_429 >  213.50\n",
            "|   |   |   |   |   |   |   |   |   |--- feature_318 <= 176.00\n",
            "|   |   |   |   |   |   |   |   |   |   |--- class: False\n",
            "|   |   |   |   |   |   |   |   |   |--- feature_318 >  176.00\n",
            "|   |   |   |   |   |   |   |   |   |   |--- class: True\n",
            "|   |   |   |   |   |--- feature_456 >  186.00\n",
            "|   |   |   |   |   |   |--- feature_629 <= 97.50\n",
            "|   |   |   |   |   |   |   |--- feature_406 <= 98.50\n",
            "|   |   |   |   |   |   |   |   |--- feature_234 <= 38.00\n",
            "|   |   |   |   |   |   |   |   |   |--- feature_570 <= 79.00\n",
            "|   |   |   |   |   |   |   |   |   |   |--- feature_437 <= 123.50\n",
            "|   |   |   |   |   |   |   |   |   |   |   |--- class: False\n",
            "|   |   |   |   |   |   |   |   |   |   |--- feature_437 >  123.50\n",
            "|   |   |   |   |   |   |   |   |   |   |   |--- class: True\n",
            "|   |   |   |   |   |   |   |   |   |--- feature_570 >  79.00\n",
            "|   |   |   |   |   |   |   |   |   |   |--- class: False\n",
            "|   |   |   |   |   |   |   |   |--- feature_234 >  38.00\n",
            "|   |   |   |   |   |   |   |   |   |--- class: False\n",
            "|   |   |   |   |   |   |   |--- feature_406 >  98.50\n",
            "|   |   |   |   |   |   |   |   |--- feature_627 <= 86.00\n",
            "|   |   |   |   |   |   |   |   |   |--- class: False\n",
            "|   |   |   |   |   |   |   |   |--- feature_627 >  86.00\n",
            "|   |   |   |   |   |   |   |   |   |--- class: True\n",
            "|   |   |   |   |   |   |--- feature_629 >  97.50\n",
            "|   |   |   |   |   |   |   |--- feature_577 <= 191.50\n",
            "|   |   |   |   |   |   |   |   |--- class: True\n",
            "|   |   |   |   |   |   |   |--- feature_577 >  191.50\n",
            "|   |   |   |   |   |   |   |   |--- class: False\n",
            "|   |   |--- feature_628 >  0.50\n",
            "|   |   |   |--- feature_212 <= 4.50\n",
            "|   |   |   |   |--- feature_429 <= 253.50\n",
            "|   |   |   |   |   |--- feature_402 <= 59.50\n",
            "|   |   |   |   |   |   |--- feature_456 <= 233.00\n",
            "|   |   |   |   |   |   |   |--- feature_328 <= 254.50\n",
            "|   |   |   |   |   |   |   |   |--- feature_323 <= 254.50\n",
            "|   |   |   |   |   |   |   |   |   |--- feature_436 <= 254.50\n",
            "|   |   |   |   |   |   |   |   |   |   |--- class: False\n",
            "|   |   |   |   |   |   |   |   |   |--- feature_436 >  254.50\n",
            "|   |   |   |   |   |   |   |   |   |   |--- feature_412 <= 169.00\n",
            "|   |   |   |   |   |   |   |   |   |   |   |--- class: False\n",
            "|   |   |   |   |   |   |   |   |   |   |--- feature_412 >  169.00\n",
            "|   |   |   |   |   |   |   |   |   |   |   |--- class: True\n",
            "|   |   |   |   |   |   |   |   |--- feature_323 >  254.50\n",
            "|   |   |   |   |   |   |   |   |   |--- feature_211 <= 18.50\n",
            "|   |   |   |   |   |   |   |   |   |   |--- class: True\n",
            "|   |   |   |   |   |   |   |   |   |--- feature_211 >  18.50\n",
            "|   |   |   |   |   |   |   |   |   |   |--- class: False\n",
            "|   |   |   |   |   |   |   |--- feature_328 >  254.50\n",
            "|   |   |   |   |   |   |   |   |--- feature_405 <= 10.50\n",
            "|   |   |   |   |   |   |   |   |   |--- class: False\n",
            "|   |   |   |   |   |   |   |   |--- feature_405 >  10.50\n",
            "|   |   |   |   |   |   |   |   |   |--- class: True\n",
            "|   |   |   |   |   |   |--- feature_456 >  233.00\n",
            "|   |   |   |   |   |   |   |--- feature_578 <= 1.00\n",
            "|   |   |   |   |   |   |   |   |--- class: True\n",
            "|   |   |   |   |   |   |   |--- feature_578 >  1.00\n",
            "|   |   |   |   |   |   |   |   |--- class: False\n",
            "|   |   |   |   |   |--- feature_402 >  59.50\n",
            "|   |   |   |   |   |   |--- feature_604 <= 6.00\n",
            "|   |   |   |   |   |   |   |--- feature_408 <= 251.50\n",
            "|   |   |   |   |   |   |   |   |--- feature_490 <= 251.50\n",
            "|   |   |   |   |   |   |   |   |   |--- class: False\n",
            "|   |   |   |   |   |   |   |   |--- feature_490 >  251.50\n",
            "|   |   |   |   |   |   |   |   |   |--- feature_514 <= 18.00\n",
            "|   |   |   |   |   |   |   |   |   |   |--- feature_579 <= 19.00\n",
            "|   |   |   |   |   |   |   |   |   |   |   |--- class: True\n",
            "|   |   |   |   |   |   |   |   |   |   |--- feature_579 >  19.00\n",
            "|   |   |   |   |   |   |   |   |   |   |   |--- class: False\n",
            "|   |   |   |   |   |   |   |   |   |--- feature_514 >  18.00\n",
            "|   |   |   |   |   |   |   |   |   |   |--- class: False\n",
            "|   |   |   |   |   |   |   |--- feature_408 >  251.50\n",
            "|   |   |   |   |   |   |   |   |--- feature_157 <= 126.00\n",
            "|   |   |   |   |   |   |   |   |   |--- feature_240 <= 70.50\n",
            "|   |   |   |   |   |   |   |   |   |   |--- class: True\n",
            "|   |   |   |   |   |   |   |   |   |--- feature_240 >  70.50\n",
            "|   |   |   |   |   |   |   |   |   |   |--- class: False\n",
            "|   |   |   |   |   |   |   |   |--- feature_157 >  126.00\n",
            "|   |   |   |   |   |   |   |   |   |--- class: False\n",
            "|   |   |   |   |   |   |--- feature_604 >  6.00\n",
            "|   |   |   |   |   |   |   |--- class: False\n",
            "|   |   |   |   |--- feature_429 >  253.50\n",
            "|   |   |   |   |   |--- feature_182 <= 136.50\n",
            "|   |   |   |   |   |   |--- class: True\n",
            "|   |   |   |   |   |--- feature_182 >  136.50\n",
            "|   |   |   |   |   |   |--- class: False\n",
            "|   |   |   |--- feature_212 >  4.50\n",
            "|   |   |   |   |--- feature_732 <= 58.50\n",
            "|   |   |   |   |   |--- feature_373 <= 69.50\n",
            "|   |   |   |   |   |   |--- feature_360 <= 253.50\n",
            "|   |   |   |   |   |   |   |--- feature_136 <= 223.00\n",
            "|   |   |   |   |   |   |   |   |--- feature_375 <= 205.50\n",
            "|   |   |   |   |   |   |   |   |   |--- feature_320 <= 253.50\n",
            "|   |   |   |   |   |   |   |   |   |   |--- class: False\n",
            "|   |   |   |   |   |   |   |   |   |--- feature_320 >  253.50\n",
            "|   |   |   |   |   |   |   |   |   |   |--- feature_712 <= 40.00\n",
            "|   |   |   |   |   |   |   |   |   |   |   |--- class: False\n",
            "|   |   |   |   |   |   |   |   |   |   |--- feature_712 >  40.00\n",
            "|   |   |   |   |   |   |   |   |   |   |   |--- truncated branch of depth 2\n",
            "|   |   |   |   |   |   |   |   |--- feature_375 >  205.50\n",
            "|   |   |   |   |   |   |   |   |   |--- feature_376 <= 18.50\n",
            "|   |   |   |   |   |   |   |   |   |   |--- feature_323 <= 224.50\n",
            "|   |   |   |   |   |   |   |   |   |   |   |--- class: False\n",
            "|   |   |   |   |   |   |   |   |   |   |--- feature_323 >  224.50\n",
            "|   |   |   |   |   |   |   |   |   |   |   |--- truncated branch of depth 2\n",
            "|   |   |   |   |   |   |   |   |   |--- feature_376 >  18.50\n",
            "|   |   |   |   |   |   |   |   |   |   |--- feature_628 <= 2.50\n",
            "|   |   |   |   |   |   |   |   |   |   |   |--- truncated branch of depth 2\n",
            "|   |   |   |   |   |   |   |   |   |   |--- feature_628 >  2.50\n",
            "|   |   |   |   |   |   |   |   |   |   |   |--- truncated branch of depth 9\n",
            "|   |   |   |   |   |   |   |--- feature_136 >  223.00\n",
            "|   |   |   |   |   |   |   |   |--- feature_134 <= 11.00\n",
            "|   |   |   |   |   |   |   |   |   |--- class: True\n",
            "|   |   |   |   |   |   |   |   |--- feature_134 >  11.00\n",
            "|   |   |   |   |   |   |   |   |   |--- class: False\n",
            "|   |   |   |   |   |   |--- feature_360 >  253.50\n",
            "|   |   |   |   |   |   |   |--- feature_490 <= 222.50\n",
            "|   |   |   |   |   |   |   |   |--- class: False\n",
            "|   |   |   |   |   |   |   |--- feature_490 >  222.50\n",
            "|   |   |   |   |   |   |   |   |--- class: True\n",
            "|   |   |   |   |   |--- feature_373 >  69.50\n",
            "|   |   |   |   |   |   |--- feature_213 <= 0.50\n",
            "|   |   |   |   |   |   |   |--- feature_457 <= 251.50\n",
            "|   |   |   |   |   |   |   |   |--- feature_682 <= 163.50\n",
            "|   |   |   |   |   |   |   |   |   |--- feature_292 <= 254.50\n",
            "|   |   |   |   |   |   |   |   |   |   |--- class: False\n",
            "|   |   |   |   |   |   |   |   |   |--- feature_292 >  254.50\n",
            "|   |   |   |   |   |   |   |   |   |   |--- feature_347 <= 254.50\n",
            "|   |   |   |   |   |   |   |   |   |   |   |--- class: True\n",
            "|   |   |   |   |   |   |   |   |   |   |--- feature_347 >  254.50\n",
            "|   |   |   |   |   |   |   |   |   |   |   |--- class: False\n",
            "|   |   |   |   |   |   |   |   |--- feature_682 >  163.50\n",
            "|   |   |   |   |   |   |   |   |   |--- feature_377 <= 225.00\n",
            "|   |   |   |   |   |   |   |   |   |   |--- class: False\n",
            "|   |   |   |   |   |   |   |   |   |--- feature_377 >  225.00\n",
            "|   |   |   |   |   |   |   |   |   |   |--- feature_382 <= 254.00\n",
            "|   |   |   |   |   |   |   |   |   |   |   |--- class: True\n",
            "|   |   |   |   |   |   |   |   |   |   |--- feature_382 >  254.00\n",
            "|   |   |   |   |   |   |   |   |   |   |   |--- class: False\n",
            "|   |   |   |   |   |   |   |--- feature_457 >  251.50\n",
            "|   |   |   |   |   |   |   |   |--- feature_181 <= 100.00\n",
            "|   |   |   |   |   |   |   |   |   |--- class: True\n",
            "|   |   |   |   |   |   |   |   |--- feature_181 >  100.00\n",
            "|   |   |   |   |   |   |   |   |   |--- class: False\n",
            "|   |   |   |   |   |   |--- feature_213 >  0.50\n",
            "|   |   |   |   |   |   |   |--- feature_429 <= 253.50\n",
            "|   |   |   |   |   |   |   |   |--- feature_491 <= 253.50\n",
            "|   |   |   |   |   |   |   |   |   |--- feature_709 <= 253.50\n",
            "|   |   |   |   |   |   |   |   |   |   |--- feature_485 <= 251.50\n",
            "|   |   |   |   |   |   |   |   |   |   |   |--- class: False\n",
            "|   |   |   |   |   |   |   |   |   |   |--- feature_485 >  251.50\n",
            "|   |   |   |   |   |   |   |   |   |   |   |--- truncated branch of depth 4\n",
            "|   |   |   |   |   |   |   |   |   |--- feature_709 >  253.50\n",
            "|   |   |   |   |   |   |   |   |   |   |--- feature_190 <= 229.00\n",
            "|   |   |   |   |   |   |   |   |   |   |   |--- class: False\n",
            "|   |   |   |   |   |   |   |   |   |   |--- feature_190 >  229.00\n",
            "|   |   |   |   |   |   |   |   |   |   |   |--- class: True\n",
            "|   |   |   |   |   |   |   |   |--- feature_491 >  253.50\n",
            "|   |   |   |   |   |   |   |   |   |--- feature_160 <= 254.50\n",
            "|   |   |   |   |   |   |   |   |   |   |--- feature_210 <= 2.50\n",
            "|   |   |   |   |   |   |   |   |   |   |   |--- truncated branch of depth 2\n",
            "|   |   |   |   |   |   |   |   |   |   |--- feature_210 >  2.50\n",
            "|   |   |   |   |   |   |   |   |   |   |   |--- truncated branch of depth 4\n",
            "|   |   |   |   |   |   |   |   |   |--- feature_160 >  254.50\n",
            "|   |   |   |   |   |   |   |   |   |   |--- class: True\n",
            "|   |   |   |   |   |   |   |--- feature_429 >  253.50\n",
            "|   |   |   |   |   |   |   |   |--- feature_301 <= 6.50\n",
            "|   |   |   |   |   |   |   |   |   |--- class: True\n",
            "|   |   |   |   |   |   |   |   |--- feature_301 >  6.50\n",
            "|   |   |   |   |   |   |   |   |   |--- class: False\n",
            "|   |   |   |   |--- feature_732 >  58.50\n",
            "|   |   |   |   |   |--- class: True\n",
            "|   |--- feature_401 >  113.50\n",
            "|   |   |--- feature_209 <= 2.50\n",
            "|   |   |   |--- feature_600 <= 1.50\n",
            "|   |   |   |   |--- feature_324 <= 109.00\n",
            "|   |   |   |   |   |--- feature_326 <= 118.50\n",
            "|   |   |   |   |   |   |--- feature_463 <= 253.50\n",
            "|   |   |   |   |   |   |   |--- feature_473 <= 28.50\n",
            "|   |   |   |   |   |   |   |   |--- feature_397 <= 254.50\n",
            "|   |   |   |   |   |   |   |   |   |--- feature_541 <= 254.50\n",
            "|   |   |   |   |   |   |   |   |   |   |--- feature_209 <= 0.50\n",
            "|   |   |   |   |   |   |   |   |   |   |   |--- class: False\n",
            "|   |   |   |   |   |   |   |   |   |   |--- feature_209 >  0.50\n",
            "|   |   |   |   |   |   |   |   |   |   |   |--- truncated branch of depth 2\n",
            "|   |   |   |   |   |   |   |   |   |--- feature_541 >  254.50\n",
            "|   |   |   |   |   |   |   |   |   |   |--- class: True\n",
            "|   |   |   |   |   |   |   |   |--- feature_397 >  254.50\n",
            "|   |   |   |   |   |   |   |   |   |--- class: True\n",
            "|   |   |   |   |   |   |   |--- feature_473 >  28.50\n",
            "|   |   |   |   |   |   |   |   |--- class: True\n",
            "|   |   |   |   |   |   |--- feature_463 >  253.50\n",
            "|   |   |   |   |   |   |   |--- feature_294 <= 15.00\n",
            "|   |   |   |   |   |   |   |   |--- class: False\n",
            "|   |   |   |   |   |   |   |--- feature_294 >  15.00\n",
            "|   |   |   |   |   |   |   |   |--- feature_219 <= 246.50\n",
            "|   |   |   |   |   |   |   |   |   |--- class: True\n",
            "|   |   |   |   |   |   |   |   |--- feature_219 >  246.50\n",
            "|   |   |   |   |   |   |   |   |   |--- class: False\n",
            "|   |   |   |   |   |--- feature_326 >  118.50\n",
            "|   |   |   |   |   |   |--- feature_348 <= 103.50\n",
            "|   |   |   |   |   |   |   |--- feature_466 <= 248.00\n",
            "|   |   |   |   |   |   |   |   |--- feature_427 <= 253.50\n",
            "|   |   |   |   |   |   |   |   |   |--- feature_661 <= 251.00\n",
            "|   |   |   |   |   |   |   |   |   |   |--- feature_715 <= 253.50\n",
            "|   |   |   |   |   |   |   |   |   |   |   |--- class: False\n",
            "|   |   |   |   |   |   |   |   |   |   |--- feature_715 >  253.50\n",
            "|   |   |   |   |   |   |   |   |   |   |   |--- class: True\n",
            "|   |   |   |   |   |   |   |   |   |--- feature_661 >  251.00\n",
            "|   |   |   |   |   |   |   |   |   |   |--- class: True\n",
            "|   |   |   |   |   |   |   |   |--- feature_427 >  253.50\n",
            "|   |   |   |   |   |   |   |   |   |--- feature_320 <= 104.00\n",
            "|   |   |   |   |   |   |   |   |   |   |--- class: False\n",
            "|   |   |   |   |   |   |   |   |   |--- feature_320 >  104.00\n",
            "|   |   |   |   |   |   |   |   |   |   |--- class: True\n",
            "|   |   |   |   |   |   |   |--- feature_466 >  248.00\n",
            "|   |   |   |   |   |   |   |   |--- feature_185 <= 48.00\n",
            "|   |   |   |   |   |   |   |   |   |--- feature_371 <= 252.50\n",
            "|   |   |   |   |   |   |   |   |   |   |--- class: False\n",
            "|   |   |   |   |   |   |   |   |   |--- feature_371 >  252.50\n",
            "|   |   |   |   |   |   |   |   |   |   |--- class: True\n",
            "|   |   |   |   |   |   |   |   |--- feature_185 >  48.00\n",
            "|   |   |   |   |   |   |   |   |   |--- class: True\n",
            "|   |   |   |   |   |   |--- feature_348 >  103.50\n",
            "|   |   |   |   |   |   |   |--- feature_376 <= 246.00\n",
            "|   |   |   |   |   |   |   |   |--- feature_290 <= 80.50\n",
            "|   |   |   |   |   |   |   |   |   |--- feature_303 <= 72.00\n",
            "|   |   |   |   |   |   |   |   |   |   |--- class: True\n",
            "|   |   |   |   |   |   |   |   |   |--- feature_303 >  72.00\n",
            "|   |   |   |   |   |   |   |   |   |   |--- class: False\n",
            "|   |   |   |   |   |   |   |   |--- feature_290 >  80.50\n",
            "|   |   |   |   |   |   |   |   |   |--- class: False\n",
            "|   |   |   |   |   |   |   |--- feature_376 >  246.00\n",
            "|   |   |   |   |   |   |   |   |--- class: False\n",
            "|   |   |   |   |--- feature_324 >  109.00\n",
            "|   |   |   |   |   |--- feature_153 <= 29.50\n",
            "|   |   |   |   |   |   |--- feature_264 <= 204.50\n",
            "|   |   |   |   |   |   |   |--- feature_539 <= 121.00\n",
            "|   |   |   |   |   |   |   |   |--- feature_743 <= 14.50\n",
            "|   |   |   |   |   |   |   |   |   |--- feature_626 <= 21.00\n",
            "|   |   |   |   |   |   |   |   |   |   |--- feature_713 <= 253.50\n",
            "|   |   |   |   |   |   |   |   |   |   |   |--- truncated branch of depth 9\n",
            "|   |   |   |   |   |   |   |   |   |   |--- feature_713 >  253.50\n",
            "|   |   |   |   |   |   |   |   |   |   |   |--- class: False\n",
            "|   |   |   |   |   |   |   |   |   |--- feature_626 >  21.00\n",
            "|   |   |   |   |   |   |   |   |   |   |--- class: False\n",
            "|   |   |   |   |   |   |   |   |--- feature_743 >  14.50\n",
            "|   |   |   |   |   |   |   |   |   |--- feature_398 <= 6.00\n",
            "|   |   |   |   |   |   |   |   |   |   |--- class: False\n",
            "|   |   |   |   |   |   |   |   |   |--- feature_398 >  6.00\n",
            "|   |   |   |   |   |   |   |   |   |   |--- class: True\n",
            "|   |   |   |   |   |   |   |--- feature_539 >  121.00\n",
            "|   |   |   |   |   |   |   |   |--- feature_497 <= 92.00\n",
            "|   |   |   |   |   |   |   |   |   |--- feature_238 <= 251.50\n",
            "|   |   |   |   |   |   |   |   |   |   |--- class: False\n",
            "|   |   |   |   |   |   |   |   |   |--- feature_238 >  251.50\n",
            "|   |   |   |   |   |   |   |   |   |   |--- class: True\n",
            "|   |   |   |   |   |   |   |   |--- feature_497 >  92.00\n",
            "|   |   |   |   |   |   |   |   |   |--- feature_525 <= 211.50\n",
            "|   |   |   |   |   |   |   |   |   |   |--- class: True\n",
            "|   |   |   |   |   |   |   |   |   |--- feature_525 >  211.50\n",
            "|   |   |   |   |   |   |   |   |   |   |--- class: False\n",
            "|   |   |   |   |   |   |--- feature_264 >  204.50\n",
            "|   |   |   |   |   |   |   |--- feature_265 <= 219.00\n",
            "|   |   |   |   |   |   |   |   |--- feature_320 <= 192.00\n",
            "|   |   |   |   |   |   |   |   |   |--- class: True\n",
            "|   |   |   |   |   |   |   |   |--- feature_320 >  192.00\n",
            "|   |   |   |   |   |   |   |   |   |--- class: False\n",
            "|   |   |   |   |   |   |   |--- feature_265 >  219.00\n",
            "|   |   |   |   |   |   |   |   |--- feature_370 <= 253.50\n",
            "|   |   |   |   |   |   |   |   |   |--- class: False\n",
            "|   |   |   |   |   |   |   |   |--- feature_370 >  253.50\n",
            "|   |   |   |   |   |   |   |   |   |--- class: True\n",
            "|   |   |   |   |   |--- feature_153 >  29.50\n",
            "|   |   |   |   |   |   |--- feature_460 <= 253.50\n",
            "|   |   |   |   |   |   |   |--- class: False\n",
            "|   |   |   |   |   |   |--- feature_460 >  253.50\n",
            "|   |   |   |   |   |   |   |--- class: True\n",
            "|   |   |   |--- feature_600 >  1.50\n",
            "|   |   |   |   |--- feature_463 <= 225.50\n",
            "|   |   |   |   |   |--- feature_417 <= 183.00\n",
            "|   |   |   |   |   |   |--- feature_601 <= 11.50\n",
            "|   |   |   |   |   |   |   |--- feature_599 <= 247.00\n",
            "|   |   |   |   |   |   |   |   |--- feature_164 <= 9.50\n",
            "|   |   |   |   |   |   |   |   |   |--- class: False\n",
            "|   |   |   |   |   |   |   |   |--- feature_164 >  9.50\n",
            "|   |   |   |   |   |   |   |   |   |--- class: True\n",
            "|   |   |   |   |   |   |   |--- feature_599 >  247.00\n",
            "|   |   |   |   |   |   |   |   |--- feature_542 <= 28.50\n",
            "|   |   |   |   |   |   |   |   |   |--- class: True\n",
            "|   |   |   |   |   |   |   |   |--- feature_542 >  28.50\n",
            "|   |   |   |   |   |   |   |   |   |--- class: False\n",
            "|   |   |   |   |   |   |--- feature_601 >  11.50\n",
            "|   |   |   |   |   |   |   |--- feature_713 <= 193.00\n",
            "|   |   |   |   |   |   |   |   |--- feature_683 <= 212.00\n",
            "|   |   |   |   |   |   |   |   |   |--- class: False\n",
            "|   |   |   |   |   |   |   |   |--- feature_683 >  212.00\n",
            "|   |   |   |   |   |   |   |   |   |--- feature_656 <= 165.00\n",
            "|   |   |   |   |   |   |   |   |   |   |--- class: True\n",
            "|   |   |   |   |   |   |   |   |   |--- feature_656 >  165.00\n",
            "|   |   |   |   |   |   |   |   |   |   |--- class: False\n",
            "|   |   |   |   |   |   |   |--- feature_713 >  193.00\n",
            "|   |   |   |   |   |   |   |   |--- feature_293 <= 73.50\n",
            "|   |   |   |   |   |   |   |   |   |--- class: True\n",
            "|   |   |   |   |   |   |   |   |--- feature_293 >  73.50\n",
            "|   |   |   |   |   |   |   |   |   |--- class: False\n",
            "|   |   |   |   |   |--- feature_417 >  183.00\n",
            "|   |   |   |   |   |   |--- class: True\n",
            "|   |   |   |   |--- feature_463 >  225.50\n",
            "|   |   |   |   |   |--- feature_415 <= 5.50\n",
            "|   |   |   |   |   |   |--- feature_213 <= 36.50\n",
            "|   |   |   |   |   |   |   |--- feature_547 <= 75.00\n",
            "|   |   |   |   |   |   |   |   |--- feature_409 <= 119.00\n",
            "|   |   |   |   |   |   |   |   |   |--- feature_237 <= 116.00\n",
            "|   |   |   |   |   |   |   |   |   |   |--- class: False\n",
            "|   |   |   |   |   |   |   |   |   |--- feature_237 >  116.00\n",
            "|   |   |   |   |   |   |   |   |   |   |--- class: True\n",
            "|   |   |   |   |   |   |   |   |--- feature_409 >  119.00\n",
            "|   |   |   |   |   |   |   |   |   |--- class: True\n",
            "|   |   |   |   |   |   |   |--- feature_547 >  75.00\n",
            "|   |   |   |   |   |   |   |   |--- feature_456 <= 251.50\n",
            "|   |   |   |   |   |   |   |   |   |--- class: False\n",
            "|   |   |   |   |   |   |   |   |--- feature_456 >  251.50\n",
            "|   |   |   |   |   |   |   |   |   |--- feature_301 <= 0.50\n",
            "|   |   |   |   |   |   |   |   |   |   |--- class: False\n",
            "|   |   |   |   |   |   |   |   |   |--- feature_301 >  0.50\n",
            "|   |   |   |   |   |   |   |   |   |   |--- class: True\n",
            "|   |   |   |   |   |   |--- feature_213 >  36.50\n",
            "|   |   |   |   |   |   |   |--- feature_657 <= 84.00\n",
            "|   |   |   |   |   |   |   |   |--- feature_371 <= 245.50\n",
            "|   |   |   |   |   |   |   |   |   |--- feature_473 <= 37.50\n",
            "|   |   |   |   |   |   |   |   |   |   |--- feature_459 <= 253.50\n",
            "|   |   |   |   |   |   |   |   |   |   |   |--- truncated branch of depth 5\n",
            "|   |   |   |   |   |   |   |   |   |   |--- feature_459 >  253.50\n",
            "|   |   |   |   |   |   |   |   |   |   |   |--- truncated branch of depth 3\n",
            "|   |   |   |   |   |   |   |   |   |--- feature_473 >  37.50\n",
            "|   |   |   |   |   |   |   |   |   |   |--- class: True\n",
            "|   |   |   |   |   |   |   |   |--- feature_371 >  245.50\n",
            "|   |   |   |   |   |   |   |   |   |--- feature_320 <= 221.50\n",
            "|   |   |   |   |   |   |   |   |   |   |--- class: False\n",
            "|   |   |   |   |   |   |   |   |   |--- feature_320 >  221.50\n",
            "|   |   |   |   |   |   |   |   |   |   |--- feature_403 <= 33.00\n",
            "|   |   |   |   |   |   |   |   |   |   |   |--- class: False\n",
            "|   |   |   |   |   |   |   |   |   |   |--- feature_403 >  33.00\n",
            "|   |   |   |   |   |   |   |   |   |   |   |--- class: True\n",
            "|   |   |   |   |   |   |   |--- feature_657 >  84.00\n",
            "|   |   |   |   |   |   |   |   |--- feature_440 <= 4.00\n",
            "|   |   |   |   |   |   |   |   |   |--- feature_157 <= 245.00\n",
            "|   |   |   |   |   |   |   |   |   |   |--- feature_628 <= 82.00\n",
            "|   |   |   |   |   |   |   |   |   |   |   |--- truncated branch of depth 2\n",
            "|   |   |   |   |   |   |   |   |   |   |--- feature_628 >  82.00\n",
            "|   |   |   |   |   |   |   |   |   |   |   |--- truncated branch of depth 2\n",
            "|   |   |   |   |   |   |   |   |   |--- feature_157 >  245.00\n",
            "|   |   |   |   |   |   |   |   |   |   |--- feature_180 <= 25.00\n",
            "|   |   |   |   |   |   |   |   |   |   |   |--- class: True\n",
            "|   |   |   |   |   |   |   |   |   |   |--- feature_180 >  25.00\n",
            "|   |   |   |   |   |   |   |   |   |   |   |--- class: False\n",
            "|   |   |   |   |   |   |   |   |--- feature_440 >  4.00\n",
            "|   |   |   |   |   |   |   |   |   |--- feature_274 <= 13.50\n",
            "|   |   |   |   |   |   |   |   |   |   |--- class: True\n",
            "|   |   |   |   |   |   |   |   |   |--- feature_274 >  13.50\n",
            "|   |   |   |   |   |   |   |   |   |   |--- class: False\n",
            "|   |   |   |   |   |--- feature_415 >  5.50\n",
            "|   |   |   |   |   |   |--- feature_596 <= 114.50\n",
            "|   |   |   |   |   |   |   |--- class: True\n",
            "|   |   |   |   |   |   |--- feature_596 >  114.50\n",
            "|   |   |   |   |   |   |   |--- class: False\n",
            "|   |   |--- feature_209 >  2.50\n",
            "|   |   |   |--- feature_212 <= 2.50\n",
            "|   |   |   |   |--- feature_128 <= 1.50\n",
            "|   |   |   |   |   |--- feature_206 <= 8.50\n",
            "|   |   |   |   |   |   |--- feature_268 <= 115.00\n",
            "|   |   |   |   |   |   |   |--- feature_463 <= 51.00\n",
            "|   |   |   |   |   |   |   |   |--- feature_437 <= 103.00\n",
            "|   |   |   |   |   |   |   |   |   |--- class: False\n",
            "|   |   |   |   |   |   |   |   |--- feature_437 >  103.00\n",
            "|   |   |   |   |   |   |   |   |   |--- feature_347 <= 132.00\n",
            "|   |   |   |   |   |   |   |   |   |   |--- class: False\n",
            "|   |   |   |   |   |   |   |   |   |--- feature_347 >  132.00\n",
            "|   |   |   |   |   |   |   |   |   |   |--- class: True\n",
            "|   |   |   |   |   |   |   |--- feature_463 >  51.00\n",
            "|   |   |   |   |   |   |   |   |--- feature_346 <= 7.50\n",
            "|   |   |   |   |   |   |   |   |   |--- class: False\n",
            "|   |   |   |   |   |   |   |   |--- feature_346 >  7.50\n",
            "|   |   |   |   |   |   |   |   |   |--- feature_97 <= 67.00\n",
            "|   |   |   |   |   |   |   |   |   |   |--- feature_322 <= 194.00\n",
            "|   |   |   |   |   |   |   |   |   |   |   |--- truncated branch of depth 3\n",
            "|   |   |   |   |   |   |   |   |   |   |--- feature_322 >  194.00\n",
            "|   |   |   |   |   |   |   |   |   |   |   |--- truncated branch of depth 3\n",
            "|   |   |   |   |   |   |   |   |   |--- feature_97 >  67.00\n",
            "|   |   |   |   |   |   |   |   |   |   |--- class: False\n",
            "|   |   |   |   |   |   |--- feature_268 >  115.00\n",
            "|   |   |   |   |   |   |   |--- feature_386 <= 28.50\n",
            "|   |   |   |   |   |   |   |   |--- feature_287 <= 185.00\n",
            "|   |   |   |   |   |   |   |   |   |--- feature_213 <= 142.50\n",
            "|   |   |   |   |   |   |   |   |   |   |--- class: False\n",
            "|   |   |   |   |   |   |   |   |   |--- feature_213 >  142.50\n",
            "|   |   |   |   |   |   |   |   |   |   |--- class: True\n",
            "|   |   |   |   |   |   |   |   |--- feature_287 >  185.00\n",
            "|   |   |   |   |   |   |   |   |   |--- class: True\n",
            "|   |   |   |   |   |   |   |--- feature_386 >  28.50\n",
            "|   |   |   |   |   |   |   |   |--- class: True\n",
            "|   |   |   |   |   |--- feature_206 >  8.50\n",
            "|   |   |   |   |   |   |--- feature_273 <= 158.00\n",
            "|   |   |   |   |   |   |   |--- feature_206 <= 31.00\n",
            "|   |   |   |   |   |   |   |   |--- feature_324 <= 4.00\n",
            "|   |   |   |   |   |   |   |   |   |--- feature_429 <= 222.50\n",
            "|   |   |   |   |   |   |   |   |   |   |--- class: False\n",
            "|   |   |   |   |   |   |   |   |   |--- feature_429 >  222.50\n",
            "|   |   |   |   |   |   |   |   |   |   |--- class: True\n",
            "|   |   |   |   |   |   |   |   |--- feature_324 >  4.00\n",
            "|   |   |   |   |   |   |   |   |   |--- feature_398 <= 150.00\n",
            "|   |   |   |   |   |   |   |   |   |   |--- class: False\n",
            "|   |   |   |   |   |   |   |   |   |--- feature_398 >  150.00\n",
            "|   |   |   |   |   |   |   |   |   |   |--- class: True\n",
            "|   |   |   |   |   |   |   |--- feature_206 >  31.00\n",
            "|   |   |   |   |   |   |   |   |--- feature_272 <= 253.50\n",
            "|   |   |   |   |   |   |   |   |   |--- feature_654 <= 252.50\n",
            "|   |   |   |   |   |   |   |   |   |   |--- class: False\n",
            "|   |   |   |   |   |   |   |   |   |--- feature_654 >  252.50\n",
            "|   |   |   |   |   |   |   |   |   |   |--- feature_461 <= 188.00\n",
            "|   |   |   |   |   |   |   |   |   |   |   |--- class: False\n",
            "|   |   |   |   |   |   |   |   |   |   |--- feature_461 >  188.00\n",
            "|   |   |   |   |   |   |   |   |   |   |   |--- class: True\n",
            "|   |   |   |   |   |   |   |   |--- feature_272 >  253.50\n",
            "|   |   |   |   |   |   |   |   |   |--- feature_571 <= 1.00\n",
            "|   |   |   |   |   |   |   |   |   |   |--- class: True\n",
            "|   |   |   |   |   |   |   |   |   |--- feature_571 >  1.00\n",
            "|   |   |   |   |   |   |   |   |   |   |--- class: False\n",
            "|   |   |   |   |   |   |--- feature_273 >  158.00\n",
            "|   |   |   |   |   |   |   |--- feature_382 <= 211.50\n",
            "|   |   |   |   |   |   |   |   |--- class: False\n",
            "|   |   |   |   |   |   |   |--- feature_382 >  211.50\n",
            "|   |   |   |   |   |   |   |   |--- feature_465 <= 234.00\n",
            "|   |   |   |   |   |   |   |   |   |--- class: False\n",
            "|   |   |   |   |   |   |   |   |--- feature_465 >  234.00\n",
            "|   |   |   |   |   |   |   |   |   |--- class: True\n",
            "|   |   |   |   |--- feature_128 >  1.50\n",
            "|   |   |   |   |   |--- feature_401 <= 117.50\n",
            "|   |   |   |   |   |   |--- feature_601 <= 245.00\n",
            "|   |   |   |   |   |   |   |--- class: True\n",
            "|   |   |   |   |   |   |--- feature_601 >  245.00\n",
            "|   |   |   |   |   |   |   |--- class: False\n",
            "|   |   |   |   |   |--- feature_401 >  117.50\n",
            "|   |   |   |   |   |   |--- feature_570 <= 2.00\n",
            "|   |   |   |   |   |   |   |--- feature_181 <= 106.50\n",
            "|   |   |   |   |   |   |   |   |--- feature_381 <= 105.50\n",
            "|   |   |   |   |   |   |   |   |   |--- class: False\n",
            "|   |   |   |   |   |   |   |   |--- feature_381 >  105.50\n",
            "|   |   |   |   |   |   |   |   |   |--- class: True\n",
            "|   |   |   |   |   |   |   |--- feature_181 >  106.50\n",
            "|   |   |   |   |   |   |   |   |--- feature_662 <= 174.50\n",
            "|   |   |   |   |   |   |   |   |   |--- class: False\n",
            "|   |   |   |   |   |   |   |   |--- feature_662 >  174.50\n",
            "|   |   |   |   |   |   |   |   |   |--- feature_541 <= 79.00\n",
            "|   |   |   |   |   |   |   |   |   |   |--- class: True\n",
            "|   |   |   |   |   |   |   |   |   |--- feature_541 >  79.00\n",
            "|   |   |   |   |   |   |   |   |   |   |--- class: False\n",
            "|   |   |   |   |   |   |--- feature_570 >  2.00\n",
            "|   |   |   |   |   |   |   |--- feature_107 <= 33.00\n",
            "|   |   |   |   |   |   |   |   |--- class: False\n",
            "|   |   |   |   |   |   |   |--- feature_107 >  33.00\n",
            "|   |   |   |   |   |   |   |   |--- feature_435 <= 236.50\n",
            "|   |   |   |   |   |   |   |   |   |--- class: False\n",
            "|   |   |   |   |   |   |   |   |--- feature_435 >  236.50\n",
            "|   |   |   |   |   |   |   |   |   |--- class: True\n",
            "|   |   |   |--- feature_212 >  2.50\n",
            "|   |   |   |   |--- feature_463 <= 227.50\n",
            "|   |   |   |   |   |--- feature_490 <= 253.50\n",
            "|   |   |   |   |   |   |--- feature_464 <= 221.50\n",
            "|   |   |   |   |   |   |   |--- feature_696 <= 2.00\n",
            "|   |   |   |   |   |   |   |   |--- feature_191 <= 254.50\n",
            "|   |   |   |   |   |   |   |   |   |--- feature_368 <= 196.00\n",
            "|   |   |   |   |   |   |   |   |   |   |--- feature_208 <= 29.50\n",
            "|   |   |   |   |   |   |   |   |   |   |   |--- truncated branch of depth 6\n",
            "|   |   |   |   |   |   |   |   |   |   |--- feature_208 >  29.50\n",
            "|   |   |   |   |   |   |   |   |   |   |   |--- class: False\n",
            "|   |   |   |   |   |   |   |   |   |--- feature_368 >  196.00\n",
            "|   |   |   |   |   |   |   |   |   |   |--- feature_717 <= 197.50\n",
            "|   |   |   |   |   |   |   |   |   |   |   |--- class: False\n",
            "|   |   |   |   |   |   |   |   |   |   |--- feature_717 >  197.50\n",
            "|   |   |   |   |   |   |   |   |   |   |   |--- class: True\n",
            "|   |   |   |   |   |   |   |   |--- feature_191 >  254.50\n",
            "|   |   |   |   |   |   |   |   |   |--- feature_189 <= 52.50\n",
            "|   |   |   |   |   |   |   |   |   |   |--- class: True\n",
            "|   |   |   |   |   |   |   |   |   |--- feature_189 >  52.50\n",
            "|   |   |   |   |   |   |   |   |   |   |--- class: False\n",
            "|   |   |   |   |   |   |   |--- feature_696 >  2.00\n",
            "|   |   |   |   |   |   |   |   |--- feature_491 <= 9.00\n",
            "|   |   |   |   |   |   |   |   |   |--- class: False\n",
            "|   |   |   |   |   |   |   |   |--- feature_491 >  9.00\n",
            "|   |   |   |   |   |   |   |   |   |--- class: True\n",
            "|   |   |   |   |   |   |--- feature_464 >  221.50\n",
            "|   |   |   |   |   |   |   |--- feature_454 <= 17.00\n",
            "|   |   |   |   |   |   |   |   |--- feature_414 <= 248.50\n",
            "|   |   |   |   |   |   |   |   |   |--- feature_720 <= 253.50\n",
            "|   |   |   |   |   |   |   |   |   |   |--- feature_213 <= 7.50\n",
            "|   |   |   |   |   |   |   |   |   |   |   |--- truncated branch of depth 6\n",
            "|   |   |   |   |   |   |   |   |   |   |--- feature_213 >  7.50\n",
            "|   |   |   |   |   |   |   |   |   |   |   |--- truncated branch of depth 5\n",
            "|   |   |   |   |   |   |   |   |   |--- feature_720 >  253.50\n",
            "|   |   |   |   |   |   |   |   |   |   |--- class: True\n",
            "|   |   |   |   |   |   |   |   |--- feature_414 >  248.50\n",
            "|   |   |   |   |   |   |   |   |   |--- class: True\n",
            "|   |   |   |   |   |   |   |--- feature_454 >  17.00\n",
            "|   |   |   |   |   |   |   |   |--- feature_570 <= 1.00\n",
            "|   |   |   |   |   |   |   |   |   |--- feature_263 <= 140.50\n",
            "|   |   |   |   |   |   |   |   |   |   |--- feature_203 <= 19.50\n",
            "|   |   |   |   |   |   |   |   |   |   |   |--- truncated branch of depth 2\n",
            "|   |   |   |   |   |   |   |   |   |   |--- feature_203 >  19.50\n",
            "|   |   |   |   |   |   |   |   |   |   |   |--- class: False\n",
            "|   |   |   |   |   |   |   |   |   |--- feature_263 >  140.50\n",
            "|   |   |   |   |   |   |   |   |   |   |--- feature_238 <= 110.00\n",
            "|   |   |   |   |   |   |   |   |   |   |   |--- class: True\n",
            "|   |   |   |   |   |   |   |   |   |   |--- feature_238 >  110.00\n",
            "|   |   |   |   |   |   |   |   |   |   |   |--- truncated branch of depth 2\n",
            "|   |   |   |   |   |   |   |   |--- feature_570 >  1.00\n",
            "|   |   |   |   |   |   |   |   |   |--- feature_454 <= 23.00\n",
            "|   |   |   |   |   |   |   |   |   |   |--- feature_378 <= 28.50\n",
            "|   |   |   |   |   |   |   |   |   |   |   |--- class: True\n",
            "|   |   |   |   |   |   |   |   |   |   |--- feature_378 >  28.50\n",
            "|   |   |   |   |   |   |   |   |   |   |   |--- class: False\n",
            "|   |   |   |   |   |   |   |   |   |--- feature_454 >  23.00\n",
            "|   |   |   |   |   |   |   |   |   |   |--- class: False\n",
            "|   |   |   |   |   |--- feature_490 >  253.50\n",
            "|   |   |   |   |   |   |--- feature_464 <= 227.50\n",
            "|   |   |   |   |   |   |   |--- feature_212 <= 9.00\n",
            "|   |   |   |   |   |   |   |   |--- class: True\n",
            "|   |   |   |   |   |   |   |--- feature_212 >  9.00\n",
            "|   |   |   |   |   |   |   |   |--- feature_430 <= 9.50\n",
            "|   |   |   |   |   |   |   |   |   |--- feature_330 <= 127.00\n",
            "|   |   |   |   |   |   |   |   |   |   |--- class: True\n",
            "|   |   |   |   |   |   |   |   |   |--- feature_330 >  127.00\n",
            "|   |   |   |   |   |   |   |   |   |   |--- class: False\n",
            "|   |   |   |   |   |   |   |   |--- feature_430 >  9.50\n",
            "|   |   |   |   |   |   |   |   |   |--- class: False\n",
            "|   |   |   |   |   |   |--- feature_464 >  227.50\n",
            "|   |   |   |   |   |   |   |--- feature_463 <= 175.00\n",
            "|   |   |   |   |   |   |   |   |--- feature_550 <= 22.50\n",
            "|   |   |   |   |   |   |   |   |   |--- feature_403 <= 125.50\n",
            "|   |   |   |   |   |   |   |   |   |   |--- class: False\n",
            "|   |   |   |   |   |   |   |   |   |--- feature_403 >  125.50\n",
            "|   |   |   |   |   |   |   |   |   |   |--- class: True\n",
            "|   |   |   |   |   |   |   |   |--- feature_550 >  22.50\n",
            "|   |   |   |   |   |   |   |   |   |--- class: True\n",
            "|   |   |   |   |   |   |   |--- feature_463 >  175.00\n",
            "|   |   |   |   |   |   |   |   |--- class: False\n",
            "|   |   |   |   |--- feature_463 >  227.50\n",
            "|   |   |   |   |   |--- feature_235 <= 43.50\n",
            "|   |   |   |   |   |   |--- feature_569 <= 9.00\n",
            "|   |   |   |   |   |   |   |--- feature_441 <= 1.00\n",
            "|   |   |   |   |   |   |   |   |--- feature_214 <= 10.00\n",
            "|   |   |   |   |   |   |   |   |   |--- feature_428 <= 204.00\n",
            "|   |   |   |   |   |   |   |   |   |   |--- feature_208 <= 0.50\n",
            "|   |   |   |   |   |   |   |   |   |   |   |--- truncated branch of depth 5\n",
            "|   |   |   |   |   |   |   |   |   |   |--- feature_208 >  0.50\n",
            "|   |   |   |   |   |   |   |   |   |   |   |--- truncated branch of depth 3\n",
            "|   |   |   |   |   |   |   |   |   |--- feature_428 >  204.00\n",
            "|   |   |   |   |   |   |   |   |   |   |--- feature_347 <= 138.50\n",
            "|   |   |   |   |   |   |   |   |   |   |   |--- truncated branch of depth 3\n",
            "|   |   |   |   |   |   |   |   |   |   |--- feature_347 >  138.50\n",
            "|   |   |   |   |   |   |   |   |   |   |   |--- truncated branch of depth 3\n",
            "|   |   |   |   |   |   |   |   |--- feature_214 >  10.00\n",
            "|   |   |   |   |   |   |   |   |   |--- feature_213 <= 27.00\n",
            "|   |   |   |   |   |   |   |   |   |   |--- feature_293 <= 106.50\n",
            "|   |   |   |   |   |   |   |   |   |   |   |--- class: False\n",
            "|   |   |   |   |   |   |   |   |   |   |--- feature_293 >  106.50\n",
            "|   |   |   |   |   |   |   |   |   |   |   |--- class: True\n",
            "|   |   |   |   |   |   |   |   |   |--- feature_213 >  27.00\n",
            "|   |   |   |   |   |   |   |   |   |   |--- feature_661 <= 253.50\n",
            "|   |   |   |   |   |   |   |   |   |   |   |--- truncated branch of depth 10\n",
            "|   |   |   |   |   |   |   |   |   |   |--- feature_661 >  253.50\n",
            "|   |   |   |   |   |   |   |   |   |   |   |--- truncated branch of depth 2\n",
            "|   |   |   |   |   |   |   |--- feature_441 >  1.00\n",
            "|   |   |   |   |   |   |   |   |--- feature_523 <= 214.00\n",
            "|   |   |   |   |   |   |   |   |   |--- feature_180 <= 131.50\n",
            "|   |   |   |   |   |   |   |   |   |   |--- feature_385 <= 243.00\n",
            "|   |   |   |   |   |   |   |   |   |   |   |--- truncated branch of depth 2\n",
            "|   |   |   |   |   |   |   |   |   |   |--- feature_385 >  243.00\n",
            "|   |   |   |   |   |   |   |   |   |   |   |--- class: False\n",
            "|   |   |   |   |   |   |   |   |   |--- feature_180 >  131.50\n",
            "|   |   |   |   |   |   |   |   |   |   |--- class: False\n",
            "|   |   |   |   |   |   |   |   |--- feature_523 >  214.00\n",
            "|   |   |   |   |   |   |   |   |   |--- feature_353 <= 212.50\n",
            "|   |   |   |   |   |   |   |   |   |   |--- class: False\n",
            "|   |   |   |   |   |   |   |   |   |--- feature_353 >  212.50\n",
            "|   |   |   |   |   |   |   |   |   |   |--- class: True\n",
            "|   |   |   |   |   |   |--- feature_569 >  9.00\n",
            "|   |   |   |   |   |   |   |--- feature_679 <= 129.50\n",
            "|   |   |   |   |   |   |   |   |--- feature_135 <= 254.50\n",
            "|   |   |   |   |   |   |   |   |   |--- feature_273 <= 254.50\n",
            "|   |   |   |   |   |   |   |   |   |   |--- feature_249 <= 241.50\n",
            "|   |   |   |   |   |   |   |   |   |   |   |--- class: False\n",
            "|   |   |   |   |   |   |   |   |   |   |--- feature_249 >  241.50\n",
            "|   |   |   |   |   |   |   |   |   |   |   |--- truncated branch of depth 2\n",
            "|   |   |   |   |   |   |   |   |   |--- feature_273 >  254.50\n",
            "|   |   |   |   |   |   |   |   |   |   |--- feature_346 <= 253.50\n",
            "|   |   |   |   |   |   |   |   |   |   |   |--- class: True\n",
            "|   |   |   |   |   |   |   |   |   |   |--- feature_346 >  253.50\n",
            "|   |   |   |   |   |   |   |   |   |   |   |--- class: False\n",
            "|   |   |   |   |   |   |   |   |--- feature_135 >  254.50\n",
            "|   |   |   |   |   |   |   |   |   |--- feature_208 <= 12.50\n",
            "|   |   |   |   |   |   |   |   |   |   |--- class: False\n",
            "|   |   |   |   |   |   |   |   |   |--- feature_208 >  12.50\n",
            "|   |   |   |   |   |   |   |   |   |   |--- class: True\n",
            "|   |   |   |   |   |   |   |--- feature_679 >  129.50\n",
            "|   |   |   |   |   |   |   |   |--- feature_244 <= 90.00\n",
            "|   |   |   |   |   |   |   |   |   |--- class: True\n",
            "|   |   |   |   |   |   |   |   |--- feature_244 >  90.00\n",
            "|   |   |   |   |   |   |   |   |   |--- class: False\n",
            "|   |   |   |   |   |--- feature_235 >  43.50\n",
            "|   |   |   |   |   |   |--- feature_210 <= 0.50\n",
            "|   |   |   |   |   |   |   |--- feature_324 <= 152.00\n",
            "|   |   |   |   |   |   |   |   |--- class: False\n",
            "|   |   |   |   |   |   |   |--- feature_324 >  152.00\n",
            "|   |   |   |   |   |   |   |   |--- feature_397 <= 81.50\n",
            "|   |   |   |   |   |   |   |   |   |--- class: True\n",
            "|   |   |   |   |   |   |   |   |--- feature_397 >  81.50\n",
            "|   |   |   |   |   |   |   |   |   |--- class: False\n",
            "|   |   |   |   |   |   |--- feature_210 >  0.50\n",
            "|   |   |   |   |   |   |   |--- feature_472 <= 55.50\n",
            "|   |   |   |   |   |   |   |   |--- feature_214 <= 16.50\n",
            "|   |   |   |   |   |   |   |   |   |--- feature_425 <= 252.50\n",
            "|   |   |   |   |   |   |   |   |   |   |--- feature_680 <= 10.00\n",
            "|   |   |   |   |   |   |   |   |   |   |   |--- truncated branch of depth 15\n",
            "|   |   |   |   |   |   |   |   |   |   |--- feature_680 >  10.00\n",
            "|   |   |   |   |   |   |   |   |   |   |   |--- truncated branch of depth 3\n",
            "|   |   |   |   |   |   |   |   |   |--- feature_425 >  252.50\n",
            "|   |   |   |   |   |   |   |   |   |   |--- class: True\n",
            "|   |   |   |   |   |   |   |   |--- feature_214 >  16.50\n",
            "|   |   |   |   |   |   |   |   |   |--- feature_211 <= 62.50\n",
            "|   |   |   |   |   |   |   |   |   |   |--- feature_486 <= 252.50\n",
            "|   |   |   |   |   |   |   |   |   |   |   |--- class: False\n",
            "|   |   |   |   |   |   |   |   |   |   |--- feature_486 >  252.50\n",
            "|   |   |   |   |   |   |   |   |   |   |   |--- truncated branch of depth 2\n",
            "|   |   |   |   |   |   |   |   |   |--- feature_211 >  62.50\n",
            "|   |   |   |   |   |   |   |   |   |   |--- feature_416 <= 250.00\n",
            "|   |   |   |   |   |   |   |   |   |   |   |--- truncated branch of depth 8\n",
            "|   |   |   |   |   |   |   |   |   |   |--- feature_416 >  250.00\n",
            "|   |   |   |   |   |   |   |   |   |   |   |--- truncated branch of depth 2\n",
            "|   |   |   |   |   |   |   |--- feature_472 >  55.50\n",
            "|   |   |   |   |   |   |   |   |--- feature_540 <= 37.50\n",
            "|   |   |   |   |   |   |   |   |   |--- feature_261 <= 150.00\n",
            "|   |   |   |   |   |   |   |   |   |   |--- class: True\n",
            "|   |   |   |   |   |   |   |   |   |--- feature_261 >  150.00\n",
            "|   |   |   |   |   |   |   |   |   |   |--- class: False\n",
            "|   |   |   |   |   |   |   |   |--- feature_540 >  37.50\n",
            "|   |   |   |   |   |   |   |   |   |--- feature_453 <= 253.50\n",
            "|   |   |   |   |   |   |   |   |   |   |--- class: False\n",
            "|   |   |   |   |   |   |   |   |   |--- feature_453 >  253.50\n",
            "|   |   |   |   |   |   |   |   |   |   |--- feature_626 <= 126.50\n",
            "|   |   |   |   |   |   |   |   |   |   |   |--- class: True\n",
            "|   |   |   |   |   |   |   |   |   |   |--- feature_626 >  126.50\n",
            "|   |   |   |   |   |   |   |   |   |   |   |--- class: False\n",
            "\n"
          ]
        }
      ]
    },
    {
      "cell_type": "code",
      "metadata": {
        "colab": {
          "base_uri": "https://localhost:8080/"
        },
        "id": "y6rRESnVEixC",
        "outputId": "1aabf089-d7c4-4899-eff1-69141d8d3ace"
      },
      "source": [
        "model.predict([some_digit])"
      ],
      "execution_count": 50,
      "outputs": [
        {
          "output_type": "execute_result",
          "data": {
            "text/plain": [
              "array([ True])"
            ]
          },
          "metadata": {},
          "execution_count": 50
        }
      ]
    },
    {
      "cell_type": "code",
      "metadata": {
        "colab": {
          "base_uri": "https://localhost:8080/"
        },
        "id": "RjU3-RLTFRxP",
        "outputId": "e1eb9b6a-061d-4a42-b1fa-20ff9e64103e"
      },
      "source": [
        "from sklearn.model_selection import cross_val_score\n",
        "\n",
        "cross_val_score(model, X_train, y_train_4, cv=3, scoring='accuracy')"
      ],
      "execution_count": 51,
      "outputs": [
        {
          "output_type": "execute_result",
          "data": {
            "text/plain": [
              "array([0.9684 , 0.96805, 0.97145])"
            ]
          },
          "metadata": {},
          "execution_count": 51
        }
      ]
    },
    {
      "cell_type": "code",
      "metadata": {
        "colab": {
          "base_uri": "https://localhost:8080/"
        },
        "id": "A3jOMBl5Fc2H",
        "outputId": "e260386c-469a-4dd0-cddd-2a4144f9d966"
      },
      "source": [
        "from sklearn.model_selection import StratifiedKFold\n",
        "from sklearn.base import clone\n",
        "\n",
        "skfolds = StratifiedKFold(n_splits=3, random_state=42, shuffle=True)\n",
        "\n",
        "for train_index, test_index in skfolds.split(X_train, y_train_4):\n",
        "  clone_clf = clone(model)\n",
        "  X_train_folds = X_train[train_index]\n",
        "  y_train_folds = y_train_4[train_index]\n",
        "  X_test_fold = X_train[test_index]\n",
        "  y_test_fold = y_train_4[test_index]\n",
        "\n",
        "  clone_clf.fit(X_train_folds, y_train_folds)\n",
        "  y_pred = clone_clf.predict(X_test_fold)\n",
        "  n_correct = sum(y_pred == y_test_fold)\n",
        "  print(n_correct / len(y_pred))"
      ],
      "execution_count": 63,
      "outputs": [
        {
          "output_type": "stream",
          "name": "stdout",
          "text": [
            "0.9693\n",
            "0.96945\n",
            "0.96905\n"
          ]
        }
      ]
    },
    {
      "cell_type": "code",
      "metadata": {
        "colab": {
          "base_uri": "https://localhost:8080/"
        },
        "id": "ktwWxceLGSZA",
        "outputId": "e4df1376-78f9-4eb1-c685-fee73a973cf0"
      },
      "source": [
        "from sklearn.model_selection import cross_val_predict\n",
        "\n",
        "y_train_pred = cross_val_predict(model, X_train, y_train_4, cv=3)\n",
        "\n",
        "from sklearn.metrics import confusion_matrix\n",
        "\n",
        "confusion_matrix(y_train_4, y_train_pred)"
      ],
      "execution_count": 62,
      "outputs": [
        {
          "output_type": "execute_result",
          "data": {
            "text/plain": [
              "array([[53210,   948],\n",
              "       [  894,  4948]])"
            ]
          },
          "metadata": {},
          "execution_count": 62
        }
      ]
    },
    {
      "cell_type": "code",
      "metadata": {
        "colab": {
          "base_uri": "https://localhost:8080/"
        },
        "id": "O_0LgBv_GedM",
        "outputId": "5c2f1ce4-951a-4fda-cec6-ed11639cb14a"
      },
      "source": [
        "y_train_perfect_predictions = y_train_4\n",
        "\n",
        "confusion_matrix(y_train_4, y_train_perfect_predictions)"
      ],
      "execution_count": 56,
      "outputs": [
        {
          "output_type": "execute_result",
          "data": {
            "text/plain": [
              "array([[54158,     0],\n",
              "       [    0,  5842]])"
            ]
          },
          "metadata": {},
          "execution_count": 56
        }
      ]
    },
    {
      "cell_type": "code",
      "metadata": {
        "id": "BKVEQ3oZPc_e"
      },
      "source": [
        "res = model.predict(X_test)"
      ],
      "execution_count": 59,
      "outputs": []
    },
    {
      "cell_type": "code",
      "metadata": {
        "colab": {
          "base_uri": "https://localhost:8080/"
        },
        "id": "aH-mMUW6QvO_",
        "outputId": "b1fa5bab-a3e4-48f6-ff97-754b64134975"
      },
      "source": [
        "len(y_test_4)"
      ],
      "execution_count": 69,
      "outputs": [
        {
          "output_type": "execute_result",
          "data": {
            "text/plain": [
              "10000"
            ]
          },
          "metadata": {},
          "execution_count": 69
        }
      ]
    },
    {
      "cell_type": "code",
      "metadata": {
        "colab": {
          "base_uri": "https://localhost:8080/"
        },
        "id": "IuRO1a7pQfjq",
        "outputId": "275119d7-ed6e-4f06-e90c-f76cdb3fc889"
      },
      "source": [
        "sum(y_test_4)"
      ],
      "execution_count": 66,
      "outputs": [
        {
          "output_type": "execute_result",
          "data": {
            "text/plain": [
              "982"
            ]
          },
          "metadata": {},
          "execution_count": 66
        }
      ]
    },
    {
      "cell_type": "code",
      "metadata": {
        "colab": {
          "base_uri": "https://localhost:8080/"
        },
        "id": "ULKrTEJGQqhj",
        "outputId": "d0416cc8-d6f6-4d1b-9f6a-5c9fff1f2ab5"
      },
      "source": [
        "len(res)"
      ],
      "execution_count": 68,
      "outputs": [
        {
          "output_type": "execute_result",
          "data": {
            "text/plain": [
              "10000"
            ]
          },
          "metadata": {},
          "execution_count": 68
        }
      ]
    },
    {
      "cell_type": "code",
      "metadata": {
        "colab": {
          "base_uri": "https://localhost:8080/"
        },
        "id": "Yg2TFiKJQIta",
        "outputId": "51b9b17a-262e-42a4-9491-7997b2f6ffe5"
      },
      "source": [
        "sum(res == y_test_4)/len(res)"
      ],
      "execution_count": 70,
      "outputs": [
        {
          "output_type": "execute_result",
          "data": {
            "text/plain": [
              "0.976"
            ]
          },
          "metadata": {},
          "execution_count": 70
        }
      ]
    },
    {
      "cell_type": "code",
      "metadata": {
        "colab": {
          "base_uri": "https://localhost:8080/"
        },
        "id": "BLJoqBUeHO0q",
        "outputId": "4e903790-5057-497d-ea19-db009be4c4da"
      },
      "source": [
        "from sklearn.model_selection import GridSearchCV\n",
        "\n",
        "params = [{'criterion':['gini', 'entropy'], \n",
        "           'max_depth':[5,10,20,25,30]}]\n",
        "\n",
        "model = DecisionTreeClassifier(random_state=42)\n",
        "\n",
        "dt = GridSearchCV(model,\n",
        "                   params,\n",
        "                   cv=3,\n",
        "                   scoring=\"accuracy\", \n",
        "                   return_train_score=True)\n",
        "\n",
        "dt.fit(X_train, y_train_4)\n",
        "\n"
      ],
      "execution_count": 71,
      "outputs": [
        {
          "output_type": "execute_result",
          "data": {
            "text/plain": [
              "GridSearchCV(cv=3, error_score=nan,\n",
              "             estimator=DecisionTreeClassifier(ccp_alpha=0.0, class_weight=None,\n",
              "                                              criterion='gini', max_depth=None,\n",
              "                                              max_features=None,\n",
              "                                              max_leaf_nodes=None,\n",
              "                                              min_impurity_decrease=0.0,\n",
              "                                              min_impurity_split=None,\n",
              "                                              min_samples_leaf=1,\n",
              "                                              min_samples_split=2,\n",
              "                                              min_weight_fraction_leaf=0.0,\n",
              "                                              presort='deprecated',\n",
              "                                              random_state=42,\n",
              "                                              splitter='best'),\n",
              "             iid='deprecated', n_jobs=None,\n",
              "             param_grid=[{'criterion': ['gini', 'entropy'],\n",
              "                          'max_depth': [5, 10, 20, 25, 30]}],\n",
              "             pre_dispatch='2*n_jobs', refit=True, return_train_score=True,\n",
              "             scoring='accuracy', verbose=0)"
            ]
          },
          "metadata": {},
          "execution_count": 71
        }
      ]
    },
    {
      "cell_type": "code",
      "metadata": {
        "colab": {
          "base_uri": "https://localhost:8080/"
        },
        "id": "8bKcwoNVImXe",
        "outputId": "9da4b25e-13ed-4530-c94b-7b3a79eeb33f"
      },
      "source": [
        "dt.best_params_"
      ],
      "execution_count": 72,
      "outputs": [
        {
          "output_type": "execute_result",
          "data": {
            "text/plain": [
              "{'criterion': 'entropy', 'max_depth': 20}"
            ]
          },
          "metadata": {},
          "execution_count": 72
        }
      ]
    },
    {
      "cell_type": "code",
      "metadata": {
        "colab": {
          "base_uri": "https://localhost:8080/"
        },
        "id": "Xl3Mg2haJgLG",
        "outputId": "78d4fd81-0d4a-4a3e-e610-4e430e9b83f0"
      },
      "source": [
        "scores = cross_val_score(dt,\n",
        "                         X_train, y_train_4,\n",
        "                         scoring=\"accuracy\",\n",
        "                         cv=3)\n",
        "scores"
      ],
      "execution_count": 73,
      "outputs": [
        {
          "output_type": "execute_result",
          "data": {
            "text/plain": [
              "array([0.9746, 0.9764, 0.9735])"
            ]
          },
          "metadata": {},
          "execution_count": 73
        }
      ]
    },
    {
      "cell_type": "code",
      "metadata": {
        "id": "yw2iXCLzM5Qp"
      },
      "source": [
        "#https://scikit-learn.org/stable/modules/model_evaluation.html#scoring-parameter"
      ],
      "execution_count": null,
      "outputs": []
    },
    {
      "cell_type": "code",
      "metadata": {
        "colab": {
          "base_uri": "https://localhost:8080/"
        },
        "id": "98a__H31PONN",
        "outputId": "888358be-8f6f-47af-e539-3910586c94ab"
      },
      "source": [
        "res = dt.predict(X_test)\n",
        "sum(res == y_test_4)/len(res)"
      ],
      "execution_count": 75,
      "outputs": [
        {
          "output_type": "execute_result",
          "data": {
            "text/plain": [
              "0.9809"
            ]
          },
          "metadata": {},
          "execution_count": 75
        }
      ]
    },
    {
      "cell_type": "code",
      "metadata": {
        "colab": {
          "base_uri": "https://localhost:8080/"
        },
        "id": "-XOUelFVRmM2",
        "outputId": "ef067ba5-453a-42b2-c018-c35398868428"
      },
      "source": [
        "from sklearn.model_selection import RandomizedSearchCV\n",
        "from sklearn import ensemble\n",
        "\n",
        "# https://scikit-learn.org/stable/modules/generated/sklearn.ensemble.RandomForestClassifier.html\n",
        "\n",
        "params = [{'criterion':['entropy'], \n",
        "           'max_depth':[20],\n",
        "           'n_estimators':[100,150,200,250]}]\n",
        "\n",
        "model = ensemble.RandomForestClassifier(random_state=42)\n",
        "\n",
        "dt = RandomizedSearchCV(model,\n",
        "                   params,\n",
        "                   cv=3,\n",
        "                   scoring=\"accuracy\", \n",
        "                   return_train_score=True)\n",
        "\n",
        "dt.fit(X_train, y_train_4)\n",
        "\n",
        "dt.best_params_"
      ],
      "execution_count": 76,
      "outputs": [
        {
          "output_type": "stream",
          "name": "stderr",
          "text": [
            "/usr/local/lib/python3.7/dist-packages/sklearn/model_selection/_search.py:281: UserWarning: The total space of parameters 4 is smaller than n_iter=10. Running 4 iterations. For exhaustive searches, use GridSearchCV.\n",
            "  % (grid_size, self.n_iter, grid_size), UserWarning)\n"
          ]
        },
        {
          "output_type": "execute_result",
          "data": {
            "text/plain": [
              "{'criterion': 'entropy', 'max_depth': 20, 'n_estimators': 200}"
            ]
          },
          "metadata": {},
          "execution_count": 76
        }
      ]
    },
    {
      "cell_type": "code",
      "metadata": {
        "colab": {
          "base_uri": "https://localhost:8080/"
        },
        "id": "JYiezqw-SiPN",
        "outputId": "451ee634-0929-4be8-d838-a4d70652e671"
      },
      "source": [
        "dt.cv_results_"
      ],
      "execution_count": 77,
      "outputs": [
        {
          "output_type": "execute_result",
          "data": {
            "text/plain": [
              "{'mean_fit_time': array([ 9.0590051 , 17.92524489, 26.7779355 , 35.73843972]),\n",
              " 'mean_score_time': array([0.26195256, 0.48944783, 0.71003628, 0.94554202]),\n",
              " 'mean_test_score': array([0.98803333, 0.98855   , 0.9889    , 0.98898333]),\n",
              " 'mean_train_score': array([0.99999167, 1.        , 1.        , 1.        ]),\n",
              " 'param_criterion': masked_array(data=['entropy', 'entropy', 'entropy', 'entropy'],\n",
              "              mask=[False, False, False, False],\n",
              "        fill_value='?',\n",
              "             dtype=object),\n",
              " 'param_max_depth': masked_array(data=[20, 20, 20, 20],\n",
              "              mask=[False, False, False, False],\n",
              "        fill_value='?',\n",
              "             dtype=object),\n",
              " 'param_n_estimators': masked_array(data=[50, 100, 150, 200],\n",
              "              mask=[False, False, False, False],\n",
              "        fill_value='?',\n",
              "             dtype=object),\n",
              " 'params': [{'criterion': 'entropy', 'max_depth': 20, 'n_estimators': 50},\n",
              "  {'criterion': 'entropy', 'max_depth': 20, 'n_estimators': 100},\n",
              "  {'criterion': 'entropy', 'max_depth': 20, 'n_estimators': 150},\n",
              "  {'criterion': 'entropy', 'max_depth': 20, 'n_estimators': 200}],\n",
              " 'rank_test_score': array([4, 3, 2, 1], dtype=int32),\n",
              " 'split0_test_score': array([0.9888 , 0.9891 , 0.99005, 0.9901 ]),\n",
              " 'split0_train_score': array([1., 1., 1., 1.]),\n",
              " 'split1_test_score': array([0.9874 , 0.98755, 0.9878 , 0.98825]),\n",
              " 'split1_train_score': array([0.999975, 1.      , 1.      , 1.      ]),\n",
              " 'split2_test_score': array([0.9879 , 0.989  , 0.98885, 0.9886 ]),\n",
              " 'split2_train_score': array([1., 1., 1., 1.]),\n",
              " 'std_fit_time': array([0.07330646, 0.05272853, 0.05139709, 0.15371764]),\n",
              " 'std_score_time': array([0.00536395, 0.00715706, 0.00477158, 0.01282287]),\n",
              " 'std_test_score': array([0.00057927, 0.00070828, 0.00091924, 0.00080243]),\n",
              " 'std_train_score': array([1.1785113e-05, 0.0000000e+00, 0.0000000e+00, 0.0000000e+00])}"
            ]
          },
          "metadata": {},
          "execution_count": 77
        }
      ]
    },
    {
      "cell_type": "code",
      "metadata": {
        "colab": {
          "base_uri": "https://localhost:8080/"
        },
        "id": "mDuVMltlR5yh",
        "outputId": "504f7ba6-8bbd-48ad-9ec0-ffd50becea97"
      },
      "source": [
        "scores = cross_val_score(dt,\n",
        "                         X_train, y_train_4,\n",
        "                         scoring=\"accuracy\",\n",
        "                         cv=3)\n",
        "scores"
      ],
      "execution_count": 80,
      "outputs": [
        {
          "output_type": "stream",
          "name": "stderr",
          "text": [
            "/usr/local/lib/python3.7/dist-packages/sklearn/model_selection/_search.py:281: UserWarning: The total space of parameters 4 is smaller than n_iter=10. Running 4 iterations. For exhaustive searches, use GridSearchCV.\n",
            "  % (grid_size, self.n_iter, grid_size), UserWarning)\n",
            "/usr/local/lib/python3.7/dist-packages/sklearn/model_selection/_search.py:281: UserWarning: The total space of parameters 4 is smaller than n_iter=10. Running 4 iterations. For exhaustive searches, use GridSearchCV.\n",
            "  % (grid_size, self.n_iter, grid_size), UserWarning)\n",
            "/usr/local/lib/python3.7/dist-packages/sklearn/model_selection/_search.py:281: UserWarning: The total space of parameters 4 is smaller than n_iter=10. Running 4 iterations. For exhaustive searches, use GridSearchCV.\n",
            "  % (grid_size, self.n_iter, grid_size), UserWarning)\n"
          ]
        },
        {
          "output_type": "execute_result",
          "data": {
            "text/plain": [
              "array([0.9901 , 0.98825, 0.98885])"
            ]
          },
          "metadata": {},
          "execution_count": 80
        }
      ]
    },
    {
      "cell_type": "code",
      "metadata": {
        "colab": {
          "base_uri": "https://localhost:8080/"
        },
        "id": "G2e1iBTAR7Ji",
        "outputId": "9fd67865-4ada-4ee3-c510-fc61dc7afbf1"
      },
      "source": [
        "res = dt.predict(X_test)\n",
        "sum(res == y_test_4)/len(res)"
      ],
      "execution_count": 79,
      "outputs": [
        {
          "output_type": "execute_result",
          "data": {
            "text/plain": [
              "0.9893"
            ]
          },
          "metadata": {},
          "execution_count": 79
        }
      ]
    },
    {
      "cell_type": "code",
      "metadata": {
        "colab": {
          "base_uri": "https://localhost:8080/"
        },
        "id": "SEaFIaUDX046",
        "outputId": "b21e2206-d07d-4863-cf52-cb5fadb74358"
      },
      "source": [
        "from sklearn import metrics\n",
        "\n",
        "print(f\"Classification report for classifier {dt}:\\n\"\n",
        "      f\"{metrics.classification_report(y_test_4, res)}\\n\")"
      ],
      "execution_count": 83,
      "outputs": [
        {
          "output_type": "stream",
          "name": "stdout",
          "text": [
            "Classification report for classifier RandomizedSearchCV(cv=3, error_score=nan,\n",
            "                   estimator=RandomForestClassifier(bootstrap=True,\n",
            "                                                    ccp_alpha=0.0,\n",
            "                                                    class_weight=None,\n",
            "                                                    criterion='gini',\n",
            "                                                    max_depth=None,\n",
            "                                                    max_features='auto',\n",
            "                                                    max_leaf_nodes=None,\n",
            "                                                    max_samples=None,\n",
            "                                                    min_impurity_decrease=0.0,\n",
            "                                                    min_impurity_split=None,\n",
            "                                                    min_samples_leaf=1,\n",
            "                                                    min_samples_split=2,\n",
            "                                                    min_weight_fraction_leaf=0.0,\n",
            "                                                    n_estimators=100,\n",
            "                                                    n_jobs=None,\n",
            "                                                    oob_score=False,\n",
            "                                                    random_state=42, verbose=0,\n",
            "                                                    warm_start=False),\n",
            "                   iid='deprecated', n_iter=10, n_jobs=None,\n",
            "                   param_distributions=[{'criterion': ['entropy'],\n",
            "                                         'max_depth': [20],\n",
            "                                         'n_estimators': [50, 100, 150, 200]}],\n",
            "                   pre_dispatch='2*n_jobs', random_state=None, refit=True,\n",
            "                   return_train_score=True, scoring='accuracy', verbose=0):\n",
            "              precision    recall  f1-score   support\n",
            "\n",
            "       False       0.99      1.00      0.99      9018\n",
            "        True       1.00      0.90      0.94       982\n",
            "\n",
            "    accuracy                           0.99     10000\n",
            "   macro avg       0.99      0.95      0.97     10000\n",
            "weighted avg       0.99      0.99      0.99     10000\n",
            "\n",
            "\n"
          ]
        }
      ]
    },
    {
      "cell_type": "markdown",
      "metadata": {
        "id": "X7uKe-NLbEFA"
      },
      "source": [
        "### **2. Tuning of previous models**"
      ]
    },
    {
      "cell_type": "code",
      "metadata": {
        "id": "J8JOEueeZtIx"
      },
      "source": [
        "import pandas as pd\n",
        "import numpy as np\n",
        "metabric = pd.read_csv(\"https://raw.githubusercontent.com/semacu/202105-data-science-python/main/data/metabric_clinical_and_expression_data.csv\").dropna() # NA drop\n",
        "from sklearn.linear_model import LinearRegression, Ridge, Lasso, ElasticNet\n",
        "from sklearn.model_selection import train_test_split\n",
        "from sklearn.metrics import mean_squared_error\n",
        "import math\n",
        "from sklearn.model_selection import GridSearchCV\n",
        "\n",
        "lin_reg = LinearRegression()\n",
        "\n",
        "X_train, X_test, y_train, y_test = train_test_split(metabric[\"Tumour_size\"],\n",
        "                                                    metabric[\"Survival_time\"], \n",
        "                                                    test_size=.2, \n",
        "                                                    random_state=42)\n",
        "\n",
        "lin_reg.fit(X_train.to_numpy().reshape(-1,1), y_train.to_numpy().reshape(-1,1))\n",
        "\n",
        "y_predicted = lin_reg.predict(X_test.to_numpy().reshape(-1,1))\n",
        "\n",
        "lin_reg_l1 = Ridge()\n",
        "lin_reg_l2 = Lasso()\n",
        "lin_reg_l1_l2 = ElasticNet()\n",
        "\n",
        "params = [{'alpha':[0.0001, 0.5, 0.75, 1, 10]}]\n",
        "\n",
        "model_lin_reg_l1 = GridSearchCV(lin_reg_l1,\n",
        "                   params,\n",
        "                   cv=3,\n",
        "                   scoring=\"r2\", \n",
        "                   return_train_score=True)\n",
        "\n",
        "model_lin_reg_l2 = GridSearchCV(lin_reg_l1,\n",
        "                   params,\n",
        "                   cv=3,\n",
        "                   scoring=\"r2\", \n",
        "                   return_train_score=True)\n",
        "\n",
        "model_lin_reg_l1_l2 = GridSearchCV(lin_reg_l1,\n",
        "                   params,\n",
        "                   cv=3,\n",
        "                   scoring=\"r2\", \n",
        "                   return_train_score=True)\n",
        "\n",
        "model_lin_reg_l1.fit(X_train.to_numpy().reshape(-1,1), y_train.to_numpy().reshape(-1,1))\n",
        "\n",
        "model_lin_reg_l2.fit(X_train.to_numpy().reshape(-1,1), y_train.to_numpy().reshape(-1,1))\n",
        "\n",
        "model_lin_reg_l1_l2.fit(X_train.to_numpy().reshape(-1,1), y_train.to_numpy().reshape(-1,1))\n",
        "\n",
        "res_model_lin_reg_l1 = model_lin_reg_l1.predict(X_test.to_numpy().reshape(-1,1))\n",
        "\n",
        "res_model_lin_reg_l2 = model_lin_reg_l2.predict(X_test.to_numpy().reshape(-1,1))\n",
        "\n",
        "res_model_lin_reg_l1_l2 = model_lin_reg_l1_l2.predict(X_test.to_numpy().reshape(-1,1))"
      ],
      "execution_count": 19,
      "outputs": []
    },
    {
      "cell_type": "code",
      "metadata": {
        "colab": {
          "base_uri": "https://localhost:8080/"
        },
        "id": "qIF2bYqGfJG3",
        "outputId": "d2135f0a-0af0-48a5-8b65-6d3cfa997b33"
      },
      "source": [
        "print(\"MSE:\", mean_squared_error(y_test, res_model_lin_reg_l1))\n",
        "print(\"SQUARE ROOT MSE: \", math.sqrt(mean_squared_error(y_test, res_model_lin_reg_l1)))"
      ],
      "execution_count": 20,
      "outputs": [
        {
          "output_type": "stream",
          "name": "stdout",
          "text": [
            "MSE: 5507.969464073485\n",
            "SQUARE ROOT MSE:  74.215695537221\n"
          ]
        }
      ]
    },
    {
      "cell_type": "code",
      "metadata": {
        "colab": {
          "base_uri": "https://localhost:8080/"
        },
        "id": "2btdTZEGfWMm",
        "outputId": "3858f12c-8388-4abb-cd42-940fc9069c17"
      },
      "source": [
        "print(\"MSE:\", mean_squared_error(y_test, res_model_lin_reg_l2))\n",
        "print(\"SQUARE ROOT MSE: \", math.sqrt(mean_squared_error(y_test, res_model_lin_reg_l2)))"
      ],
      "execution_count": 21,
      "outputs": [
        {
          "output_type": "stream",
          "name": "stdout",
          "text": [
            "MSE: 5507.969464073485\n",
            "SQUARE ROOT MSE:  74.215695537221\n"
          ]
        }
      ]
    },
    {
      "cell_type": "code",
      "metadata": {
        "colab": {
          "base_uri": "https://localhost:8080/"
        },
        "id": "up23ffj6fWaj",
        "outputId": "51440501-a3c6-4080-b9c2-209a6fe93559"
      },
      "source": [
        "print(\"MSE:\", mean_squared_error(y_test, res_model_lin_reg_l1_l2))\n",
        "print(\"SQUARE ROOT MSE: \", math.sqrt(mean_squared_error(y_test, res_model_lin_reg_l1_l2)))"
      ],
      "execution_count": 22,
      "outputs": [
        {
          "output_type": "stream",
          "name": "stdout",
          "text": [
            "MSE: 5507.969464073485\n",
            "SQUARE ROOT MSE:  74.215695537221\n"
          ]
        }
      ]
    },
    {
      "cell_type": "code",
      "metadata": {
        "id": "-NiJ9ErPftwR"
      },
      "source": [
        "from sklearn.preprocessing import OneHotEncoder\n",
        "from sklearn.compose import ColumnTransformer\n",
        "from sklearn.pipeline import Pipeline"
      ],
      "execution_count": 49,
      "outputs": []
    },
    {
      "cell_type": "code",
      "metadata": {
        "colab": {
          "base_uri": "https://localhost:8080/"
        },
        "id": "qwK9HKplfxEu",
        "outputId": "561a1dcc-cd9b-4e78-f838-7321e938cba7"
      },
      "source": [
        "import sklearn; sklearn.show_versions()"
      ],
      "execution_count": 7,
      "outputs": [
        {
          "output_type": "stream",
          "name": "stdout",
          "text": [
            "\n",
            "System:\n",
            "    python: 3.7.12 (default, Sep 10 2021, 00:21:48)  [GCC 7.5.0]\n",
            "executable: /usr/bin/python3\n",
            "   machine: Linux-5.4.104+-x86_64-with-Ubuntu-18.04-bionic\n",
            "\n",
            "Python dependencies:\n",
            "       pip: 21.1.3\n",
            "setuptools: 57.4.0\n",
            "   sklearn: 0.23.0\n",
            "     numpy: 1.19.5\n",
            "     scipy: 1.4.1\n",
            "    Cython: 0.29.24\n",
            "    pandas: 1.1.5\n",
            "matplotlib: 3.2.2\n",
            "    joblib: 1.1.0\n",
            "\n",
            "Built with OpenMP: True\n"
          ]
        }
      ]
    },
    {
      "cell_type": "code",
      "metadata": {
        "colab": {
          "base_uri": "https://localhost:8080/",
          "height": 361
        },
        "id": "f8XRJtT-fzCD",
        "outputId": "e4b8f928-7107-4c3f-e2d0-479eee48fffd"
      },
      "source": [
        "!pip install 'scikit-learn==0.23'"
      ],
      "execution_count": 99,
      "outputs": [
        {
          "output_type": "stream",
          "name": "stdout",
          "text": [
            "Collecting scikit-learn==0.23\n",
            "  Downloading scikit_learn-0.23.0-cp37-cp37m-manylinux1_x86_64.whl (7.3 MB)\n",
            "\u001b[K     |████████████████████████████████| 7.3 MB 4.4 MB/s \n",
            "\u001b[?25hRequirement already satisfied: numpy>=1.13.3 in /usr/local/lib/python3.7/dist-packages (from scikit-learn==0.23) (1.19.5)\n",
            "Requirement already satisfied: joblib>=0.11 in /usr/local/lib/python3.7/dist-packages (from scikit-learn==0.23) (1.1.0)\n",
            "Requirement already satisfied: scipy>=0.19.1 in /usr/local/lib/python3.7/dist-packages (from scikit-learn==0.23) (1.4.1)\n",
            "Collecting threadpoolctl>=2.0.0\n",
            "  Downloading threadpoolctl-3.0.0-py3-none-any.whl (14 kB)\n",
            "Installing collected packages: threadpoolctl, scikit-learn\n",
            "  Attempting uninstall: scikit-learn\n",
            "    Found existing installation: scikit-learn 0.22.2.post1\n",
            "    Uninstalling scikit-learn-0.22.2.post1:\n",
            "      Successfully uninstalled scikit-learn-0.22.2.post1\n",
            "Successfully installed scikit-learn-0.23.0 threadpoolctl-3.0.0\n"
          ]
        },
        {
          "output_type": "display_data",
          "data": {
            "application/vnd.colab-display-data+json": {
              "pip_warning": {
                "packages": [
                  "sklearn"
                ]
              }
            }
          },
          "metadata": {}
        }
      ]
    },
    {
      "cell_type": "code",
      "metadata": {
        "colab": {
          "base_uri": "https://localhost:8080/"
        },
        "id": "B660HFJEfvaw",
        "outputId": "2426be4f-3944-45bd-a4ca-50f53669d323"
      },
      "source": [
        "X = metabric.loc[:, [\"ER_status\", \"Cancer_type\", \"Tumour_size\"]]\n",
        "y = metabric[\"Survival_time\"]\n",
        "\n",
        "label_transformer = OneHotEncoder(drop='if_binary')\n",
        "\n",
        "preprocessor = ColumnTransformer(transformers=[('labels', \n",
        "                                                label_transformer, \n",
        "                                                ['ER_status', \n",
        "                                                 'Cancer_type']),],\n",
        "                                 remainder='passthrough')\n",
        "\n",
        "preprocessor.fit_transform(X)\n",
        "\n",
        "X_train, X_test, y_train, y_test = train_test_split(X,\n",
        "                                                    y, \n",
        "                                                    test_size=.2, \n",
        "                                                    random_state=42)\n",
        "\n",
        "params = [{'alpha':[0.0001, 0.5, 0.75, 1, 10]}]\n",
        "\n",
        "model_lin_reg_l1 = GridSearchCV(lin_reg_l1,\n",
        "                   params,\n",
        "                   cv=3,\n",
        "                   scoring=\"r2\", \n",
        "                   return_train_score=True)\n",
        "\n",
        "model_lin_reg_l2 = GridSearchCV(lin_reg_l2,\n",
        "                   params,\n",
        "                   cv=3,\n",
        "                   scoring=\"r2\", \n",
        "                   return_train_score=True)\n",
        "\n",
        "model_lin_reg_l1_l2 = GridSearchCV(lin_reg_l1_l2,\n",
        "                   params,\n",
        "                   cv=3,\n",
        "                   scoring=\"r2\", \n",
        "                   return_train_score=True)\n",
        "\n",
        "pipeline_l1 = Pipeline(steps=[('preprocessor', \n",
        "                            preprocessor), \n",
        "                           ('model', \n",
        "                            model_lin_reg_l1)])\n",
        "\n",
        "pipeline_l2 = Pipeline(steps=[('preprocessor', \n",
        "                            preprocessor), \n",
        "                           ('model', \n",
        "                            model_lin_reg_l2)])\n",
        "\n",
        "pipeline_l1_l2 = Pipeline(steps=[('preprocessor', \n",
        "                            preprocessor), \n",
        "                           ('model', \n",
        "                            model_lin_reg_l1_l2)])\n",
        "\n",
        "pipeline_l1.fit(X_train, y_train)\n",
        "pipeline_l2.fit(X_train, y_train)\n",
        "pipeline_l1_l2.fit(X_train, y_train)\n",
        "\n",
        "res_model_lin_reg_l1 = pipeline_l1.predict(X_test)\n",
        "res_model_lin_reg_l2 = pipeline_l2.predict(X_test)\n",
        "res_model_lin_reg_l1_l2 = pipeline_l1_l2.predict(X_test)"
      ],
      "execution_count": 23,
      "outputs": [
        {
          "output_type": "stream",
          "name": "stderr",
          "text": [
            "/usr/local/lib/python3.7/dist-packages/sklearn/linear_model/_coordinate_descent.py:529: ConvergenceWarning: Objective did not converge. You might want to increase the number of iterations. Duality gap: 5435.756817178801, tolerance: 348.47512509140046\n",
            "  positive)\n",
            "/usr/local/lib/python3.7/dist-packages/sklearn/linear_model/_coordinate_descent.py:529: ConvergenceWarning: Objective did not converge. You might want to increase the number of iterations. Duality gap: 1450315.6028378108, tolerance: 358.21011321309277\n",
            "  positive)\n",
            "/usr/local/lib/python3.7/dist-packages/sklearn/linear_model/_coordinate_descent.py:529: ConvergenceWarning: Objective did not converge. You might want to increase the number of iterations. Duality gap: 1398636.4001931918, tolerance: 348.47512509140046\n",
            "  positive)\n",
            "/usr/local/lib/python3.7/dist-packages/sklearn/linear_model/_coordinate_descent.py:529: ConvergenceWarning: Objective did not converge. You might want to increase the number of iterations. Duality gap: 684952.8525070925, tolerance: 358.3694636207002\n",
            "  positive)\n",
            "/usr/local/lib/python3.7/dist-packages/sklearn/linear_model/_coordinate_descent.py:529: ConvergenceWarning: Objective did not converge. You might want to increase the number of iterations. Duality gap: 1960499.3132869354, tolerance: 532.7641751921283\n",
            "  positive)\n"
          ]
        }
      ]
    },
    {
      "cell_type": "code",
      "metadata": {
        "colab": {
          "base_uri": "https://localhost:8080/"
        },
        "id": "-pyAIC-Xhmn-",
        "outputId": "1f2d4842-a35c-4f1d-9ea5-0d06cd913aee"
      },
      "source": [
        "print(\"MSE:\", mean_squared_error(y_test, res_model_lin_reg_l1))\n",
        "print(\"SQUARE ROOT MSE: \", math.sqrt(mean_squared_error(y_test, res_model_lin_reg_l1)))"
      ],
      "execution_count": 24,
      "outputs": [
        {
          "output_type": "stream",
          "name": "stdout",
          "text": [
            "MSE: 5432.85898074978\n",
            "SQUARE ROOT MSE:  73.7079302432905\n"
          ]
        }
      ]
    },
    {
      "cell_type": "code",
      "metadata": {
        "colab": {
          "base_uri": "https://localhost:8080/"
        },
        "id": "Vd6op_qOhnA0",
        "outputId": "e83b26d0-5d75-432f-bff6-843135d0da17"
      },
      "source": [
        "print(\"MSE:\", mean_squared_error(y_test, res_model_lin_reg_l2))\n",
        "print(\"SQUARE ROOT MSE: \", math.sqrt(mean_squared_error(y_test, res_model_lin_reg_l2)))"
      ],
      "execution_count": 25,
      "outputs": [
        {
          "output_type": "stream",
          "name": "stdout",
          "text": [
            "MSE: 5447.94064957882\n",
            "SQUARE ROOT MSE:  73.81016630233819\n"
          ]
        }
      ]
    },
    {
      "cell_type": "code",
      "metadata": {
        "colab": {
          "base_uri": "https://localhost:8080/"
        },
        "id": "jZjFv2hvhi3m",
        "outputId": "a623fd3e-5097-40a2-f350-b65a947a1332"
      },
      "source": [
        "print(\"MSE:\", mean_squared_error(y_test, res_model_lin_reg_l1_l2))\n",
        "print(\"SQUARE ROOT MSE: \", math.sqrt(mean_squared_error(y_test, res_model_lin_reg_l1_l2)))"
      ],
      "execution_count": 26,
      "outputs": [
        {
          "output_type": "stream",
          "name": "stdout",
          "text": [
            "MSE: 5426.975786195076\n",
            "SQUARE ROOT MSE:  73.66801060294132\n"
          ]
        }
      ]
    },
    {
      "cell_type": "code",
      "metadata": {
        "colab": {
          "base_uri": "https://localhost:8080/"
        },
        "id": "Hb831RlNiJ1-",
        "outputId": "1277431c-13c0-4a0c-bb81-a088be4ddda9"
      },
      "source": [
        "names = [\"ER_status_binary\",\n",
        "                     \"Cancer_type_Breast Invasive Ductal Carcinoma\",\n",
        "                     \"Cancer_type_Breast Mixed Ductal and Lobular Carcinoma\",\n",
        "                     \"Cancer_type_Breast Invasive Lobular Carcinoma\",\n",
        "                     \"Cancer_type_Breast Invasive Mixed Mucinous Carcinoma\",\n",
        "                     \"Cancer_type_Breast\",  \n",
        "                     \"Tumour_size\"]"
      ],
      "execution_count": 33,
      "outputs": [
        {
          "output_type": "execute_result",
          "data": {
            "text/plain": [
              "['ER_status_binary',\n",
              " 'Cancer_type_Breast Invasive Ductal Carcinoma',\n",
              " 'Cancer_type_Breast Mixed Ductal and Lobular Carcinoma',\n",
              " 'Cancer_type_Breast Invasive Lobular Carcinoma',\n",
              " 'Cancer_type_Breast Invasive Mixed Mucinous Carcinoma',\n",
              " 'Cancer_type_Breast',\n",
              " 'Tumour_size']"
            ]
          },
          "metadata": {},
          "execution_count": 33
        }
      ]
    },
    {
      "cell_type": "code",
      "metadata": {
        "colab": {
          "base_uri": "https://localhost:8080/"
        },
        "id": "kxrZmArnddh0",
        "outputId": "637e6b36-e32f-4c78-ce2e-bcfb46e51499"
      },
      "source": [
        "model_lin_reg_l1.best_estimator_.coef_"
      ],
      "execution_count": 46,
      "outputs": [
        {
          "output_type": "execute_result",
          "data": {
            "text/plain": [
              "array([13.48070072, 10.42976214, -5.54107336,  3.05422825, -4.61338965,\n",
              "       -3.32952738, -1.07715052])"
            ]
          },
          "metadata": {},
          "execution_count": 46
        }
      ]
    },
    {
      "cell_type": "code",
      "metadata": {
        "colab": {
          "base_uri": "https://localhost:8080/"
        },
        "id": "UNl00h4kjF0i",
        "outputId": "429cb307-52e0-40b6-a748-ae77c52d8faa"
      },
      "source": [
        "model_lin_reg_l2.best_estimator_.coef_"
      ],
      "execution_count": 47,
      "outputs": [
        {
          "output_type": "execute_result",
          "data": {
            "text/plain": [
              "array([11.75935124,  0.        , -2.16450049,  0.        , -0.        ,\n",
              "       -0.        , -1.06639997])"
            ]
          },
          "metadata": {},
          "execution_count": 47
        }
      ]
    },
    {
      "cell_type": "code",
      "metadata": {
        "colab": {
          "base_uri": "https://localhost:8080/"
        },
        "id": "YOQodOOYjGB5",
        "outputId": "d9037058-f4a3-4aac-c81d-da454dfa85cc"
      },
      "source": [
        "model_lin_reg_l1_l2.best_estimator_.coef_"
      ],
      "execution_count": 48,
      "outputs": [
        {
          "output_type": "execute_result",
          "data": {
            "text/plain": [
              "array([ 14.30544428,  40.62962802,  -9.35274671,  -0.31196142,\n",
              "       -12.35373031,  -7.510094  ,  -1.07697904])"
            ]
          },
          "metadata": {},
          "execution_count": 48
        }
      ]
    },
    {
      "cell_type": "markdown",
      "metadata": {
        "id": "IScLTLJsagbM"
      },
      "source": [
        "### **3. Exercises**"
      ]
    },
    {
      "cell_type": "markdown",
      "metadata": {
        "id": "uf3iRIcCqtAd"
      },
      "source": [
        "Data based on a [nature machine intelligence](https://www.nature.com/natmachintell/) paper, [\"An interpretable mortality prediction model for COVID-19 patients\"](https://www.nature.com/articles/s42256-020-0180-7).\n",
        "\n",
        "1. Split data into training and test sets.\n",
        "2. Fit a RandomForestClassifier on the training set.\n",
        "3. Evaluate the classifier performance by calculating the confusion matrix and the F1 score on the test set. ( https://scikit-learn.org/stable/modules/model_evaluation.html#scoring-parameter )\n",
        "4. Plot the feature importances of the fitted classifier (this is basically the main finding of the Nature paper).\n",
        "5. Try running a different type of classifier (i.e. Support Vector Machines) and/or see how well you can do on the test set by tuning hyperparameters using cross-validation, grid search or otherwise."
      ]
    }
  ]
}