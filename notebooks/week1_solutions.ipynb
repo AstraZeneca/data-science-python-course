{
 "cells": [
  {
   "cell_type": "markdown",
   "metadata": {},
   "source": [
    "# Week 1 - Exercise solutions"
   ]
  },
  {
   "cell_type": "markdown",
   "metadata": {},
   "source": [
    "For all these solutions, we assume you have imported `pandas` and the metabric dataset."
   ]
  },
  {
   "cell_type": "code",
   "execution_count": null,
   "metadata": {},
   "outputs": [],
   "source": [
    "import pandas as pd\n",
    "\n",
    "metabric = pd.read_csv('metabric_clinical_and_expression_data.csv')"
   ]
  },
  {
   "cell_type": "code",
   "execution_count": null,
   "metadata": {},
   "outputs": [],
   "source": [
    "metabric.head()"
   ]
  },
  {
   "cell_type": "markdown",
   "metadata": {},
   "source": [
    "### Exercises from the Text"
   ]
  },
  {
   "cell_type": "markdown",
   "metadata": {},
   "source": [
    "**A)** Create a new column that gives the average expression of all the genes with expression data in metabric."
   ]
  },
  {
   "cell_type": "markdown",
   "metadata": {},
   "source": [
    "The \"obvious\" way to do this is rather cumbersome:"
   ]
  },
  {
   "cell_type": "code",
   "execution_count": null,
   "metadata": {},
   "outputs": [],
   "source": [
    "metabric['average_expression']  = (metabric.ESR1 + metabric.ERBB2 + metabric.PGR + metabric.TP53 + metabric.PIK3CA + metabric.GATA3 + metabric.FOXA1 + metabric.MLPH) / 8"
   ]
  },
  {
   "cell_type": "markdown",
   "metadata": {},
   "source": [
    "A more sophisticated way to do this can be achieved using the subsetting conveniently discussed just after this exercise was posed:"
   ]
  },
  {
   "cell_type": "code",
   "execution_count": null,
   "metadata": {},
   "outputs": [],
   "source": [
    "metabric['average_expression'] = metabric.loc[:,'ESR1':'MLPH'].mean(axis=1) # axis=1 ensures the mean is calculated across the columns"
   ]
  },
  {
   "cell_type": "markdown",
   "metadata": {},
   "source": [
    "** **"
   ]
  },
  {
   "cell_type": "markdown",
   "metadata": {},
   "source": [
    "**B)** Write a query to extract data on only those patients who have had both chemotherapy and radiotherapy. Can you compute the average tumour size for such patients? How does this compare to the tumour size for patients who haven't undergone therapy?"
   ]
  },
  {
   "cell_type": "markdown",
   "metadata": {},
   "source": [
    "Extracting the patients who have undergone chemotherapy and radiotherapy:"
   ]
  },
  {
   "cell_type": "code",
   "execution_count": null,
   "metadata": {},
   "outputs": [],
   "source": [
    "metabric[(metabric.Chemotherapy == \"YES\") & (metabric.Radiotherapy == \"YES\")]"
   ]
  },
  {
   "cell_type": "markdown",
   "metadata": {},
   "source": [
    "Compute the average tumour size for these patients."
   ]
  },
  {
   "cell_type": "code",
   "execution_count": null,
   "metadata": {},
   "outputs": [],
   "source": [
    "metabric[(metabric.Chemotherapy == \"YES\") & (metabric.Radiotherapy == \"YES\")].Tumour_size.mean()"
   ]
  },
  {
   "cell_type": "markdown",
   "metadata": {},
   "source": [
    "An alternative method would be to extract the tumour size column first, and then subset by therapy status:"
   ]
  },
  {
   "cell_type": "code",
   "execution_count": null,
   "metadata": {},
   "outputs": [],
   "source": [
    "metabric.Tumour_size[(metabric.Chemotherapy == \"YES\") & (metabric.Radiotherapy == \"YES\")].mean()"
   ]
  },
  {
   "cell_type": "markdown",
   "metadata": {},
   "source": [
    "Can you think why this approach might be advantageous?\n",
    "\n",
    "The final part of this exercise can be done via a simple modification to the conditions."
   ]
  },
  {
   "cell_type": "code",
   "execution_count": null,
   "metadata": {},
   "outputs": [],
   "source": [
    "metabric.Tumour_size[(metabric.Chemotherapy == \"NO\") & (metabric.Radiotherapy == \"NO\")].mean()"
   ]
  },
  {
   "cell_type": "markdown",
   "metadata": {},
   "source": [
    "** ** \n",
    "\n",
    "**C)** Write a query to extract data on patients from cohort 1 with either the highest or second highest tumour stage (part of the exercise is to figure out what the top two tumour stages are!). A method introduced in the final section of this session might be useful..."
   ]
  },
  {
   "cell_type": "markdown",
   "metadata": {},
   "source": [
    "The first step is to figure out what the two largest tumour stages are. The range of values for tumour stage can be obtained using `.unique()`, from which we see the top two stages are 3 and 4."
   ]
  },
  {
   "cell_type": "code",
   "execution_count": null,
   "metadata": {},
   "outputs": [],
   "source": [
    "metabric.Tumour_stage.unique()"
   ]
  },
  {
   "cell_type": "markdown",
   "metadata": {},
   "source": [
    "Extracting the data is then a relatively simple task."
   ]
  },
  {
   "cell_type": "code",
   "execution_count": null,
   "metadata": {},
   "outputs": [],
   "source": [
    "metabric[(metabric.Tumour_stage.isin([3, 4])) & (metabric.Cohort==1)]"
   ]
  },
  {
   "cell_type": "markdown",
   "metadata": {},
   "source": [
    "This can actually be achieved more succintly using the `.nlargest()` method. I wasn't aware of this method until writing this solution, so big congrats to anyone who managed to obtain this solution!"
   ]
  },
  {
   "cell_type": "code",
   "execution_count": null,
   "metadata": {},
   "outputs": [],
   "source": [
    "metabric[(metabric.Tumour_stage.isin( pd.Series(metabric.Tumour_stage.unique()).nlargest(n=2) )) & (metabric.Cohort==1)]"
   ]
  },
  {
   "cell_type": "markdown",
   "metadata": {},
   "source": [
    "** **\n",
    "\n",
    "**D)** Use `.sum()` to get a vector of the amount of missing data for each variable.\n",
    "\n",
    "Recall the `.sum()` method computes the sum of a Series, or the sum for each column when called on a DataFrame."
   ]
  },
  {
   "cell_type": "code",
   "execution_count": null,
   "metadata": {},
   "outputs": [],
   "source": [
    "metabric.isna().sum()"
   ]
  },
  {
   "cell_type": "markdown",
   "metadata": {},
   "source": [
    "### Exercise 1"
   ]
  },
  {
   "cell_type": "markdown",
   "metadata": {},
   "source": [
    "- What are the different values of the `Integrative Cluster` variable? \n",
    "- Can you produce a series containing the number of patients in each cluster? (There is a useful method that will help you out with this, but I leave it to you to find out what that is)."
   ]
  },
  {
   "cell_type": "markdown",
   "metadata": {},
   "source": [
    "The different values of the integrative cluster variable can be found using the `.unique()` method."
   ]
  },
  {
   "cell_type": "code",
   "execution_count": null,
   "metadata": {},
   "outputs": [],
   "source": [
    "metabric.Integrative_cluster.unique()"
   ]
  },
  {
   "cell_type": "markdown",
   "metadata": {},
   "source": [
    "With some googling, you may have found the method `.value_counts()`, that returns the count for each unqie variable in a Series."
   ]
  },
  {
   "cell_type": "code",
   "execution_count": null,
   "metadata": {},
   "outputs": [],
   "source": [
    "metabric.Integrative_cluster.value_counts()"
   ]
  },
  {
   "cell_type": "markdown",
   "metadata": {},
   "source": [
    "### Exercise 2 \n",
    "\n",
    "- Read the dataset `metabric_clinical_and_expression_data.csv` and store its summary statistics into a new variable called `metabric_summary`.\n",
    "- Just like the `.read_csv()` method allows reading data from a file, `pandas` provides a `.to_csv()` method to write `DataFrames` to files. Write your summary statistics object into a file called `metabric_summary.csv`. You can use `help(metabric.to_csv)` to get information on how to use this function.\n",
    "- Use the help information to modify the previous step so that you can generate a Tab Separated Value (TSV) file instead \n",
    "- Similarly, explore the method `to_excel()` to produce an excel spreadsheet containing summary statistics"
   ]
  },
  {
   "cell_type": "code",
   "execution_count": null,
   "metadata": {},
   "outputs": [],
   "source": [
    "# Store summary statistics\n",
    "metabric_summary = metabric.describe(include=\"all\")\n",
    "metabric_summary"
   ]
  },
  {
   "cell_type": "code",
   "execution_count": null,
   "metadata": {},
   "outputs": [],
   "source": [
    "help(metabric.to_csv)"
   ]
  },
  {
   "cell_type": "markdown",
   "metadata": {},
   "source": [
    "This is the basic syntax for writing a data frame to a csv file:"
   ]
  },
  {
   "cell_type": "code",
   "execution_count": null,
   "metadata": {},
   "outputs": [],
   "source": [
    "metabric_summary.to_csv(\"metabric_summary.csv\")"
   ]
  },
  {
   "cell_type": "markdown",
   "metadata": {},
   "source": [
    "The following lines show examples of modifications that can be made to this function:"
   ]
  },
  {
   "cell_type": "code",
   "execution_count": null,
   "metadata": {},
   "outputs": [],
   "source": [
    "metabric_summary.to_csv(\"metabric_summary.tsv\", sep = '\\t') # Creates a tsv (tab seperated values)"
   ]
  },
  {
   "cell_type": "code",
   "execution_count": null,
   "metadata": {},
   "outputs": [],
   "source": [
    "metabric_summary.to_csv(\"metabric_summary.csv\", columns = [\"Cohort\", \"Age_at_diagnosis\"]) # Selects only certain columns to write"
   ]
  },
  {
   "cell_type": "code",
   "execution_count": null,
   "metadata": {},
   "outputs": [],
   "source": [
    "metabric_summary.to_csv(\"~/Desktop/metabric_summary.csv\", index = False) # More detail on where to write the file to"
   ]
  },
  {
   "cell_type": "code",
   "execution_count": null,
   "metadata": {},
   "outputs": [],
   "source": [
    "# Write an excel spreadsheet\n",
    "\n",
    "#help(metabric.to_excel)\n",
    "metabric_summary.to_excel(\"metabric_summary.xlsx\")\n",
    "\n",
    "#If: ModuleNotFoundError: No module named 'openpyxl'\n",
    "#pip3 install openpyxl --user"
   ]
  },
  {
   "cell_type": "markdown",
   "metadata": {},
   "source": [
    "### Exercise 3\n",
    "\n",
    "- Read the dataset `metabric_clinical_and_expression_data.csv` into a variable e.g. `metabric`.\n",
    "- Calculate the mean tumour size of patients grouped by vital status and tumour stage\n",
    "- Find the cohort of patients and tumour stage where the average expression of genes TP53 and FOXA1 is highest\n",
    "- Do patients with greater tumour size live longer? How about patients with greater tumour stage? How about greater Nottingham_prognostic_index?"
   ]
  },
  {
   "cell_type": "markdown",
   "metadata": {},
   "source": [
    "This exercise can be done using the `groupby` function."
   ]
  },
  {
   "cell_type": "code",
   "execution_count": null,
   "metadata": {},
   "outputs": [],
   "source": [
    "# Calculate the mean tumour size of patients grouped by vital status and tumour stage\n",
    "metabric.groupby(['Vital_status', 'Tumour_stage']).mean()"
   ]
  },
  {
   "cell_type": "markdown",
   "metadata": {},
   "source": [
    "It's a bit neater to only display the columns we need information on."
   ]
  },
  {
   "cell_type": "code",
   "execution_count": null,
   "metadata": {},
   "outputs": [],
   "source": [
    "metabric.groupby(['Vital_status', 'Tumour_stage']).mean()['Tumour_size']"
   ]
  },
  {
   "cell_type": "code",
   "execution_count": null,
   "metadata": {},
   "outputs": [],
   "source": [
    "# Find the cohort of patients and tumour stage where the average expression of genes TP53 and FOXA1 is highest\n",
    "\n",
    "metabric.groupby(['Cohort', 'Tumour_stage']).mean()[['TP53', 'FOXA1']]"
   ]
  },
  {
   "cell_type": "markdown",
   "metadata": {},
   "source": [
    "To answer problems about survival times, let's restrict ourselves to those patients where we know the survival times."
   ]
  },
  {
   "cell_type": "code",
   "execution_count": null,
   "metadata": {},
   "outputs": [],
   "source": [
    "metabric_deceased = metabric[metabric.Vital_status == 'Died of Disease']"
   ]
  },
  {
   "cell_type": "markdown",
   "metadata": {},
   "source": [
    "**Note**: This strategy of only looking at already deceased patients does introduce bias, as we are excluding those who survive long enough not to be deceased yet. The question of how best to incoporate survival data on still alive patients (where you only know their survival time is >= what is recorded) is essentially the whole reason *Survival Analysis* is it's own field of statistics."
   ]
  },
  {
   "cell_type": "markdown",
   "metadata": {},
   "source": [
    "Tumour Size is a continuous variable, so to answer the question of whether it has an effect on survival times, we are better off looking at correlation."
   ]
  },
  {
   "cell_type": "code",
   "execution_count": null,
   "metadata": {},
   "outputs": [],
   "source": [
    "metabric_deceased.Tumour_size.corr(metabric.Survival_time, method='spearman')"
   ]
  },
  {
   "cell_type": "markdown",
   "metadata": {},
   "source": [
    "For tumour stage, we can return to the group by function we know and love(?)."
   ]
  },
  {
   "cell_type": "code",
   "execution_count": null,
   "metadata": {},
   "outputs": [],
   "source": [
    "metabric_deceased.groupby('Tumour_stage').mean()['Survival_time']"
   ]
  },
  {
   "cell_type": "markdown",
   "metadata": {},
   "source": [
    "When computing grouped averages, it is good practice to display the size of each group."
   ]
  },
  {
   "cell_type": "code",
   "execution_count": null,
   "metadata": {},
   "outputs": [],
   "source": [
    "metabric_deceased.groupby('Tumour_stage').agg(['mean', 'size'])['Survival_time']"
   ]
  },
  {
   "cell_type": "markdown",
   "metadata": {},
   "source": [
    "Nottingham prognostic index is a continuous variable, so we are back to computing correlations."
   ]
  },
  {
   "cell_type": "code",
   "execution_count": null,
   "metadata": {},
   "outputs": [],
   "source": [
    "metabric_deceased['Nottingham_prognostic_index'].corr(metabric_deceased['Survival_time'])"
   ]
  },
  {
   "cell_type": "markdown",
   "metadata": {},
   "source": [
    "### Exercise 4\n",
    "\n",
    "Review the section on missing data presented in the lecture. Consulting the [user's guide section dedicated to missing data](https://pandas.pydata.org/pandas-docs/stable/user_guide/missing_data.html) if necessary use the functionality provided by pandas to answer the following questions:\n",
    "\n",
    "- Which variables (columns) of the metabric dataset have missing data?\n",
    "- Find the patients ids who have missing tumour size and/or missing mutation count data. Which cohorts do they belong to?\n",
    "- For the patients identified to have missing tumour size data for each cohort, calculate the average tumour size of the patients with tumour size data available within the same cohort to fill in the missing data"
   ]
  },
  {
   "cell_type": "code",
   "execution_count": null,
   "metadata": {},
   "outputs": [],
   "source": [
    "# Which variables (columns) of the metabric dataset have missing data?\n",
    "metabric.info()"
   ]
  },
  {
   "cell_type": "markdown",
   "metadata": {},
   "source": [
    "Find the IDs and cohorts for patients with missing data in either tumour size or mutation count:"
   ]
  },
  {
   "cell_type": "code",
   "execution_count": null,
   "metadata": {},
   "outputs": [],
   "source": [
    "metabric.Patient_ID[(metabric.Tumour_size.isna()) | (metabric.Mutation_count.isna())]"
   ]
  },
  {
   "cell_type": "code",
   "execution_count": null,
   "metadata": {},
   "outputs": [],
   "source": [
    "metabric[['Patient_ID', 'Cohort']][(metabric.Tumour_size.isna()) | (metabric.Mutation_count.isna())]"
   ]
  },
  {
   "cell_type": "markdown",
   "metadata": {},
   "source": [
    "It's worth seeing the number of patients in each cohort with missing data, as well as the proportions:"
   ]
  },
  {
   "cell_type": "code",
   "execution_count": null,
   "metadata": {},
   "outputs": [],
   "source": [
    "metabric.Cohort[(metabric.Tumour_size.isna()) | (metabric.Mutation_count.isna())].value_counts()"
   ]
  },
  {
   "cell_type": "code",
   "execution_count": null,
   "metadata": {},
   "outputs": [],
   "source": [
    "# normalize=True enable us to compute the proportion of patients within each cohort that are missing data\n",
    "metabric.Cohort[(metabric.Tumour_size.isna()) | (metabric.Mutation_count.isna())].value_counts(normalize=True)"
   ]
  },
  {
   "cell_type": "markdown",
   "metadata": {},
   "source": [
    "For the patients identified to have missing tumour size data for each cohort, \n",
    "calculate the average tumour size of the patients with tumour size data available within the same cohort to fill in the missing data"
   ]
  },
  {
   "cell_type": "code",
   "execution_count": null,
   "metadata": {},
   "outputs": [],
   "source": [
    "# Compute average tumour sizes for each cohort\n",
    "avg_tsize_1 = round(metabric.Tumour_size[metabric.Cohort==1].mean(), 1)\n",
    "avg_tsize_2 = round(metabric.Tumour_size[metabric.Cohort==2].mean(), 1)\n",
    "avg_tsize_3 = round(metabric.Tumour_size[metabric.Cohort==3].mean(), 1)\n",
    "avg_tsize_5 = round(metabric.Tumour_size[metabric.Cohort==5].mean(), 1)\n",
    "\n",
    "# Fill in missing values\n",
    "metabric[metabric.Cohort==1] = metabric[metabric.Cohort==1].fillna(value={'Tumour_size':avg_tsize_1})\n",
    "metabric[metabric.Cohort==2] = metabric[metabric.Cohort==1].fillna(value={'Tumour_size':avg_tsize_2})\n",
    "metabric[metabric.Cohort==3] = metabric[metabric.Cohort==1].fillna(value={'Tumour_size':avg_tsize_3})\n",
    "metabric[metabric.Cohort==5] = metabric[metabric.Cohort==1].fillna(value={'Tumour_size':avg_tsize_5})"
   ]
  },
  {
   "cell_type": "markdown",
   "metadata": {},
   "source": [
    "**Bonus Exercise**:\n",
    "\n",
    "- The above bit of code is begging to be put into a `for` loop. Have a go at this.\n",
    "- See if you can write a function that takes in a data frame with columns \"Cohort\" and \"Tumour_size\", and returns a new data frame with the missing values of tumour size filled in as above."
   ]
  },
  {
   "cell_type": "code",
   "execution_count": null,
   "metadata": {},
   "outputs": [],
   "source": []
  }
 ],
 "metadata": {
  "kernelspec": {
   "display_name": "Python-3.9.5-foss-2021a",
   "language": "python",
   "name": "python-3.9.5-foss-2021a"
  },
  "language_info": {
   "codemirror_mode": {
    "name": "ipython",
    "version": 3
   },
   "file_extension": ".py",
   "mimetype": "text/x-python",
   "name": "python",
   "nbconvert_exporter": "python",
   "pygments_lexer": "ipython3",
   "version": "3.9.5"
  }
 },
 "nbformat": 4,
 "nbformat_minor": 4
}
