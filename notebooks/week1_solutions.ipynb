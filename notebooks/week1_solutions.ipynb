{
 "cells": [
  {
   "cell_type": "markdown",
   "metadata": {},
   "source": [
    "# Week 1 - Exercise solutions"
   ]
  },
  {
   "cell_type": "markdown",
   "metadata": {},
   "source": [
    "For all these solutions, we assume you have imported `pandas` and the metabric dataset."
   ]
  },
  {
   "cell_type": "code",
   "execution_count": 3,
   "metadata": {},
   "outputs": [],
   "source": [
    "import pandas as pd\n",
    "\n",
    "metabric = pd.read_csv('metabric_clinical_and_expression_data.csv')"
   ]
  },
  {
   "cell_type": "code",
   "execution_count": 2,
   "metadata": {},
   "outputs": [
    {
     "data": {
      "text/html": [
       "<div>\n",
       "<style scoped>\n",
       "    .dataframe tbody tr th:only-of-type {\n",
       "        vertical-align: middle;\n",
       "    }\n",
       "\n",
       "    .dataframe tbody tr th {\n",
       "        vertical-align: top;\n",
       "    }\n",
       "\n",
       "    .dataframe thead th {\n",
       "        text-align: right;\n",
       "    }\n",
       "</style>\n",
       "<table border=\"1\" class=\"dataframe\">\n",
       "  <thead>\n",
       "    <tr style=\"text-align: right;\">\n",
       "      <th></th>\n",
       "      <th>Patient_ID</th>\n",
       "      <th>Cohort</th>\n",
       "      <th>Age_at_diagnosis</th>\n",
       "      <th>Survival_time</th>\n",
       "      <th>Survival_status</th>\n",
       "      <th>Vital_status</th>\n",
       "      <th>Chemotherapy</th>\n",
       "      <th>Radiotherapy</th>\n",
       "      <th>Tumour_size</th>\n",
       "      <th>Tumour_stage</th>\n",
       "      <th>...</th>\n",
       "      <th>Integrative_cluster</th>\n",
       "      <th>Mutation_count</th>\n",
       "      <th>ESR1</th>\n",
       "      <th>ERBB2</th>\n",
       "      <th>PGR</th>\n",
       "      <th>TP53</th>\n",
       "      <th>PIK3CA</th>\n",
       "      <th>GATA3</th>\n",
       "      <th>FOXA1</th>\n",
       "      <th>MLPH</th>\n",
       "    </tr>\n",
       "  </thead>\n",
       "  <tbody>\n",
       "    <tr>\n",
       "      <th>0</th>\n",
       "      <td>MB-0000</td>\n",
       "      <td>1</td>\n",
       "      <td>75.65</td>\n",
       "      <td>140.500000</td>\n",
       "      <td>LIVING</td>\n",
       "      <td>Living</td>\n",
       "      <td>NO</td>\n",
       "      <td>YES</td>\n",
       "      <td>22.0</td>\n",
       "      <td>2.0</td>\n",
       "      <td>...</td>\n",
       "      <td>4ER+</td>\n",
       "      <td>NaN</td>\n",
       "      <td>8.929817</td>\n",
       "      <td>9.333972</td>\n",
       "      <td>5.680501</td>\n",
       "      <td>6.338739</td>\n",
       "      <td>5.704157</td>\n",
       "      <td>6.932146</td>\n",
       "      <td>7.953794</td>\n",
       "      <td>9.729728</td>\n",
       "    </tr>\n",
       "    <tr>\n",
       "      <th>1</th>\n",
       "      <td>MB-0002</td>\n",
       "      <td>1</td>\n",
       "      <td>43.19</td>\n",
       "      <td>84.633333</td>\n",
       "      <td>LIVING</td>\n",
       "      <td>Living</td>\n",
       "      <td>NO</td>\n",
       "      <td>YES</td>\n",
       "      <td>10.0</td>\n",
       "      <td>1.0</td>\n",
       "      <td>...</td>\n",
       "      <td>4ER+</td>\n",
       "      <td>2.0</td>\n",
       "      <td>10.047059</td>\n",
       "      <td>9.729606</td>\n",
       "      <td>7.505424</td>\n",
       "      <td>6.192507</td>\n",
       "      <td>5.757727</td>\n",
       "      <td>11.251197</td>\n",
       "      <td>11.843989</td>\n",
       "      <td>12.536570</td>\n",
       "    </tr>\n",
       "    <tr>\n",
       "      <th>2</th>\n",
       "      <td>MB-0005</td>\n",
       "      <td>1</td>\n",
       "      <td>48.87</td>\n",
       "      <td>163.700000</td>\n",
       "      <td>DECEASED</td>\n",
       "      <td>Died of Disease</td>\n",
       "      <td>YES</td>\n",
       "      <td>NO</td>\n",
       "      <td>15.0</td>\n",
       "      <td>2.0</td>\n",
       "      <td>...</td>\n",
       "      <td>3</td>\n",
       "      <td>2.0</td>\n",
       "      <td>10.041281</td>\n",
       "      <td>9.725825</td>\n",
       "      <td>7.376123</td>\n",
       "      <td>6.404516</td>\n",
       "      <td>6.751566</td>\n",
       "      <td>9.289758</td>\n",
       "      <td>11.698169</td>\n",
       "      <td>10.306115</td>\n",
       "    </tr>\n",
       "    <tr>\n",
       "      <th>3</th>\n",
       "      <td>MB-0006</td>\n",
       "      <td>1</td>\n",
       "      <td>47.68</td>\n",
       "      <td>164.933333</td>\n",
       "      <td>LIVING</td>\n",
       "      <td>Living</td>\n",
       "      <td>YES</td>\n",
       "      <td>YES</td>\n",
       "      <td>25.0</td>\n",
       "      <td>2.0</td>\n",
       "      <td>...</td>\n",
       "      <td>9</td>\n",
       "      <td>1.0</td>\n",
       "      <td>10.404685</td>\n",
       "      <td>10.334979</td>\n",
       "      <td>6.815637</td>\n",
       "      <td>6.869241</td>\n",
       "      <td>7.219187</td>\n",
       "      <td>8.667723</td>\n",
       "      <td>11.863379</td>\n",
       "      <td>10.472181</td>\n",
       "    </tr>\n",
       "    <tr>\n",
       "      <th>4</th>\n",
       "      <td>MB-0008</td>\n",
       "      <td>1</td>\n",
       "      <td>76.97</td>\n",
       "      <td>41.366667</td>\n",
       "      <td>DECEASED</td>\n",
       "      <td>Died of Disease</td>\n",
       "      <td>YES</td>\n",
       "      <td>YES</td>\n",
       "      <td>40.0</td>\n",
       "      <td>2.0</td>\n",
       "      <td>...</td>\n",
       "      <td>9</td>\n",
       "      <td>2.0</td>\n",
       "      <td>11.276581</td>\n",
       "      <td>9.956267</td>\n",
       "      <td>7.331223</td>\n",
       "      <td>6.337951</td>\n",
       "      <td>5.817818</td>\n",
       "      <td>9.719781</td>\n",
       "      <td>11.625006</td>\n",
       "      <td>12.161961</td>\n",
       "    </tr>\n",
       "  </tbody>\n",
       "</table>\n",
       "<p>5 rows × 32 columns</p>\n",
       "</div>"
      ],
      "text/plain": [
       "  Patient_ID  Cohort  Age_at_diagnosis  Survival_time Survival_status  \\\n",
       "0    MB-0000       1             75.65     140.500000          LIVING   \n",
       "1    MB-0002       1             43.19      84.633333          LIVING   \n",
       "2    MB-0005       1             48.87     163.700000        DECEASED   \n",
       "3    MB-0006       1             47.68     164.933333          LIVING   \n",
       "4    MB-0008       1             76.97      41.366667        DECEASED   \n",
       "\n",
       "      Vital_status Chemotherapy Radiotherapy  Tumour_size  Tumour_stage  ...  \\\n",
       "0           Living           NO          YES         22.0           2.0  ...   \n",
       "1           Living           NO          YES         10.0           1.0  ...   \n",
       "2  Died of Disease          YES           NO         15.0           2.0  ...   \n",
       "3           Living          YES          YES         25.0           2.0  ...   \n",
       "4  Died of Disease          YES          YES         40.0           2.0  ...   \n",
       "\n",
       "   Integrative_cluster  Mutation_count       ESR1      ERBB2       PGR  \\\n",
       "0                 4ER+             NaN   8.929817   9.333972  5.680501   \n",
       "1                 4ER+             2.0  10.047059   9.729606  7.505424   \n",
       "2                    3             2.0  10.041281   9.725825  7.376123   \n",
       "3                    9             1.0  10.404685  10.334979  6.815637   \n",
       "4                    9             2.0  11.276581   9.956267  7.331223   \n",
       "\n",
       "       TP53    PIK3CA      GATA3      FOXA1       MLPH  \n",
       "0  6.338739  5.704157   6.932146   7.953794   9.729728  \n",
       "1  6.192507  5.757727  11.251197  11.843989  12.536570  \n",
       "2  6.404516  6.751566   9.289758  11.698169  10.306115  \n",
       "3  6.869241  7.219187   8.667723  11.863379  10.472181  \n",
       "4  6.337951  5.817818   9.719781  11.625006  12.161961  \n",
       "\n",
       "[5 rows x 32 columns]"
      ]
     },
     "execution_count": 2,
     "metadata": {},
     "output_type": "execute_result"
    }
   ],
   "source": [
    "metabric.head()"
   ]
  },
  {
   "cell_type": "markdown",
   "metadata": {},
   "source": [
    "### Exercises from the Text"
   ]
  },
  {
   "cell_type": "markdown",
   "metadata": {},
   "source": [
    "**A)** Create a new column that gives the average expression of all the genes with expression data in metabric."
   ]
  },
  {
   "cell_type": "markdown",
   "metadata": {},
   "source": [
    "The \"obvious\" way to do this is rather cumbersome:"
   ]
  },
  {
   "cell_type": "code",
   "execution_count": null,
   "metadata": {},
   "outputs": [],
   "source": [
    "metabric['average_expression']  = (metabric.ESR1 + metabric.ERBB2 + metabric.PGR + metabric.TP53 + metabric.PIK3CA + metabric.GATA3 + metabric.FOXA1 + metabric.MLPH) / 8"
   ]
  },
  {
   "cell_type": "markdown",
   "metadata": {},
   "source": [
    "A more sophisticated way to do this can be achieved using the subsetting conveniently discussed just after this exercise was posed:"
   ]
  },
  {
   "cell_type": "code",
   "execution_count": 7,
   "metadata": {},
   "outputs": [
    {
     "data": {
      "text/plain": [
       "0       7.575357\n",
       "1       9.358010\n",
       "2       8.949169\n",
       "3       9.080877\n",
       "4       9.278323\n",
       "          ...   \n",
       "1899    9.046193\n",
       "1900    9.257834\n",
       "1901    9.171025\n",
       "1902    9.568569\n",
       "1903    8.663974\n",
       "Length: 1904, dtype: float64"
      ]
     },
     "execution_count": 7,
     "metadata": {},
     "output_type": "execute_result"
    }
   ],
   "source": [
    "metabric.loc[:,].mean(axis=1)"
   ]
  },
  {
   "cell_type": "code",
   "execution_count": null,
   "metadata": {},
   "outputs": [],
   "source": [
    "metabric['average_expression'] = metabric.loc[:,'ESR1':'MLPH'].mean(axis=1) # axis=1 ensures the mean is calculated across the columns"
   ]
  },
  {
   "cell_type": "code",
   "execution_count": 8,
   "metadata": {},
   "outputs": [
    {
     "data": {
      "text/html": [
       "<div>\n",
       "<style scoped>\n",
       "    .dataframe tbody tr th:only-of-type {\n",
       "        vertical-align: middle;\n",
       "    }\n",
       "\n",
       "    .dataframe tbody tr th {\n",
       "        vertical-align: top;\n",
       "    }\n",
       "\n",
       "    .dataframe thead th {\n",
       "        text-align: right;\n",
       "    }\n",
       "</style>\n",
       "<table border=\"1\" class=\"dataframe\">\n",
       "  <thead>\n",
       "    <tr style=\"text-align: right;\">\n",
       "      <th></th>\n",
       "      <th>Patient_ID</th>\n",
       "      <th>Cohort</th>\n",
       "      <th>Age_at_diagnosis</th>\n",
       "      <th>Survival_time</th>\n",
       "      <th>Survival_status</th>\n",
       "      <th>Vital_status</th>\n",
       "      <th>Chemotherapy</th>\n",
       "      <th>Radiotherapy</th>\n",
       "      <th>Tumour_size</th>\n",
       "      <th>Tumour_stage</th>\n",
       "      <th>...</th>\n",
       "      <th>Integrative_cluster</th>\n",
       "      <th>Mutation_count</th>\n",
       "      <th>ESR1</th>\n",
       "      <th>ERBB2</th>\n",
       "      <th>PGR</th>\n",
       "      <th>TP53</th>\n",
       "      <th>PIK3CA</th>\n",
       "      <th>GATA3</th>\n",
       "      <th>FOXA1</th>\n",
       "      <th>MLPH</th>\n",
       "    </tr>\n",
       "  </thead>\n",
       "  <tbody>\n",
       "    <tr>\n",
       "      <th>0</th>\n",
       "      <td>MB-0000</td>\n",
       "      <td>1</td>\n",
       "      <td>75.65</td>\n",
       "      <td>140.500000</td>\n",
       "      <td>LIVING</td>\n",
       "      <td>Living</td>\n",
       "      <td>NO</td>\n",
       "      <td>YES</td>\n",
       "      <td>22.0</td>\n",
       "      <td>2.0</td>\n",
       "      <td>...</td>\n",
       "      <td>4ER+</td>\n",
       "      <td>NaN</td>\n",
       "      <td>8.929817</td>\n",
       "      <td>9.333972</td>\n",
       "      <td>5.680501</td>\n",
       "      <td>6.338739</td>\n",
       "      <td>5.704157</td>\n",
       "      <td>6.932146</td>\n",
       "      <td>7.953794</td>\n",
       "      <td>9.729728</td>\n",
       "    </tr>\n",
       "    <tr>\n",
       "      <th>1</th>\n",
       "      <td>MB-0002</td>\n",
       "      <td>1</td>\n",
       "      <td>43.19</td>\n",
       "      <td>84.633333</td>\n",
       "      <td>LIVING</td>\n",
       "      <td>Living</td>\n",
       "      <td>NO</td>\n",
       "      <td>YES</td>\n",
       "      <td>10.0</td>\n",
       "      <td>1.0</td>\n",
       "      <td>...</td>\n",
       "      <td>4ER+</td>\n",
       "      <td>2.0</td>\n",
       "      <td>10.047059</td>\n",
       "      <td>9.729606</td>\n",
       "      <td>7.505424</td>\n",
       "      <td>6.192507</td>\n",
       "      <td>5.757727</td>\n",
       "      <td>11.251197</td>\n",
       "      <td>11.843989</td>\n",
       "      <td>12.536570</td>\n",
       "    </tr>\n",
       "    <tr>\n",
       "      <th>2</th>\n",
       "      <td>MB-0005</td>\n",
       "      <td>1</td>\n",
       "      <td>48.87</td>\n",
       "      <td>163.700000</td>\n",
       "      <td>DECEASED</td>\n",
       "      <td>Died of Disease</td>\n",
       "      <td>YES</td>\n",
       "      <td>NO</td>\n",
       "      <td>15.0</td>\n",
       "      <td>2.0</td>\n",
       "      <td>...</td>\n",
       "      <td>3</td>\n",
       "      <td>2.0</td>\n",
       "      <td>10.041281</td>\n",
       "      <td>9.725825</td>\n",
       "      <td>7.376123</td>\n",
       "      <td>6.404516</td>\n",
       "      <td>6.751566</td>\n",
       "      <td>9.289758</td>\n",
       "      <td>11.698169</td>\n",
       "      <td>10.306115</td>\n",
       "    </tr>\n",
       "    <tr>\n",
       "      <th>3</th>\n",
       "      <td>MB-0006</td>\n",
       "      <td>1</td>\n",
       "      <td>47.68</td>\n",
       "      <td>164.933333</td>\n",
       "      <td>LIVING</td>\n",
       "      <td>Living</td>\n",
       "      <td>YES</td>\n",
       "      <td>YES</td>\n",
       "      <td>25.0</td>\n",
       "      <td>2.0</td>\n",
       "      <td>...</td>\n",
       "      <td>9</td>\n",
       "      <td>1.0</td>\n",
       "      <td>10.404685</td>\n",
       "      <td>10.334979</td>\n",
       "      <td>6.815637</td>\n",
       "      <td>6.869241</td>\n",
       "      <td>7.219187</td>\n",
       "      <td>8.667723</td>\n",
       "      <td>11.863379</td>\n",
       "      <td>10.472181</td>\n",
       "    </tr>\n",
       "    <tr>\n",
       "      <th>4</th>\n",
       "      <td>MB-0008</td>\n",
       "      <td>1</td>\n",
       "      <td>76.97</td>\n",
       "      <td>41.366667</td>\n",
       "      <td>DECEASED</td>\n",
       "      <td>Died of Disease</td>\n",
       "      <td>YES</td>\n",
       "      <td>YES</td>\n",
       "      <td>40.0</td>\n",
       "      <td>2.0</td>\n",
       "      <td>...</td>\n",
       "      <td>9</td>\n",
       "      <td>2.0</td>\n",
       "      <td>11.276581</td>\n",
       "      <td>9.956267</td>\n",
       "      <td>7.331223</td>\n",
       "      <td>6.337951</td>\n",
       "      <td>5.817818</td>\n",
       "      <td>9.719781</td>\n",
       "      <td>11.625006</td>\n",
       "      <td>12.161961</td>\n",
       "    </tr>\n",
       "  </tbody>\n",
       "</table>\n",
       "<p>5 rows × 32 columns</p>\n",
       "</div>"
      ],
      "text/plain": [
       "  Patient_ID  Cohort  Age_at_diagnosis  Survival_time Survival_status  \\\n",
       "0    MB-0000       1             75.65     140.500000          LIVING   \n",
       "1    MB-0002       1             43.19      84.633333          LIVING   \n",
       "2    MB-0005       1             48.87     163.700000        DECEASED   \n",
       "3    MB-0006       1             47.68     164.933333          LIVING   \n",
       "4    MB-0008       1             76.97      41.366667        DECEASED   \n",
       "\n",
       "      Vital_status Chemotherapy Radiotherapy  Tumour_size  Tumour_stage  ...  \\\n",
       "0           Living           NO          YES         22.0           2.0  ...   \n",
       "1           Living           NO          YES         10.0           1.0  ...   \n",
       "2  Died of Disease          YES           NO         15.0           2.0  ...   \n",
       "3           Living          YES          YES         25.0           2.0  ...   \n",
       "4  Died of Disease          YES          YES         40.0           2.0  ...   \n",
       "\n",
       "   Integrative_cluster  Mutation_count       ESR1      ERBB2       PGR  \\\n",
       "0                 4ER+             NaN   8.929817   9.333972  5.680501   \n",
       "1                 4ER+             2.0  10.047059   9.729606  7.505424   \n",
       "2                    3             2.0  10.041281   9.725825  7.376123   \n",
       "3                    9             1.0  10.404685  10.334979  6.815637   \n",
       "4                    9             2.0  11.276581   9.956267  7.331223   \n",
       "\n",
       "       TP53    PIK3CA      GATA3      FOXA1       MLPH  \n",
       "0  6.338739  5.704157   6.932146   7.953794   9.729728  \n",
       "1  6.192507  5.757727  11.251197  11.843989  12.536570  \n",
       "2  6.404516  6.751566   9.289758  11.698169  10.306115  \n",
       "3  6.869241  7.219187   8.667723  11.863379  10.472181  \n",
       "4  6.337951  5.817818   9.719781  11.625006  12.161961  \n",
       "\n",
       "[5 rows x 32 columns]"
      ]
     },
     "execution_count": 8,
     "metadata": {},
     "output_type": "execute_result"
    }
   ],
   "source": [
    "metabric.head()"
   ]
  },
  {
   "cell_type": "markdown",
   "metadata": {},
   "source": [
    "** **"
   ]
  },
  {
   "cell_type": "markdown",
   "metadata": {},
   "source": [
    "**B)** Write a query to extract data on only those patients who have had both chemotherapy and radiotherapy. Can you compute the average tumour size for such patients? How does this compare to the tumour size for patients who haven't undergone therapy?"
   ]
  },
  {
   "cell_type": "markdown",
   "metadata": {},
   "source": [
    "Extracting the patients who have undergone chemotherapy and radiotherapy:"
   ]
  },
  {
   "cell_type": "code",
   "execution_count": 9,
   "metadata": {},
   "outputs": [
    {
     "data": {
      "text/html": [
       "<div>\n",
       "<style scoped>\n",
       "    .dataframe tbody tr th:only-of-type {\n",
       "        vertical-align: middle;\n",
       "    }\n",
       "\n",
       "    .dataframe tbody tr th {\n",
       "        vertical-align: top;\n",
       "    }\n",
       "\n",
       "    .dataframe thead th {\n",
       "        text-align: right;\n",
       "    }\n",
       "</style>\n",
       "<table border=\"1\" class=\"dataframe\">\n",
       "  <thead>\n",
       "    <tr style=\"text-align: right;\">\n",
       "      <th></th>\n",
       "      <th>Patient_ID</th>\n",
       "      <th>Cohort</th>\n",
       "      <th>Age_at_diagnosis</th>\n",
       "      <th>Survival_time</th>\n",
       "      <th>Survival_status</th>\n",
       "      <th>Vital_status</th>\n",
       "      <th>Chemotherapy</th>\n",
       "      <th>Radiotherapy</th>\n",
       "      <th>Tumour_size</th>\n",
       "      <th>Tumour_stage</th>\n",
       "      <th>...</th>\n",
       "      <th>Integrative_cluster</th>\n",
       "      <th>Mutation_count</th>\n",
       "      <th>ESR1</th>\n",
       "      <th>ERBB2</th>\n",
       "      <th>PGR</th>\n",
       "      <th>TP53</th>\n",
       "      <th>PIK3CA</th>\n",
       "      <th>GATA3</th>\n",
       "      <th>FOXA1</th>\n",
       "      <th>MLPH</th>\n",
       "    </tr>\n",
       "  </thead>\n",
       "  <tbody>\n",
       "    <tr>\n",
       "      <th>3</th>\n",
       "      <td>MB-0006</td>\n",
       "      <td>1</td>\n",
       "      <td>47.68</td>\n",
       "      <td>164.933333</td>\n",
       "      <td>LIVING</td>\n",
       "      <td>Living</td>\n",
       "      <td>YES</td>\n",
       "      <td>YES</td>\n",
       "      <td>25.0</td>\n",
       "      <td>2.0</td>\n",
       "      <td>...</td>\n",
       "      <td>9</td>\n",
       "      <td>1.0</td>\n",
       "      <td>10.404685</td>\n",
       "      <td>10.334979</td>\n",
       "      <td>6.815637</td>\n",
       "      <td>6.869241</td>\n",
       "      <td>7.219187</td>\n",
       "      <td>8.667723</td>\n",
       "      <td>11.863379</td>\n",
       "      <td>10.472181</td>\n",
       "    </tr>\n",
       "    <tr>\n",
       "      <th>4</th>\n",
       "      <td>MB-0008</td>\n",
       "      <td>1</td>\n",
       "      <td>76.97</td>\n",
       "      <td>41.366667</td>\n",
       "      <td>DECEASED</td>\n",
       "      <td>Died of Disease</td>\n",
       "      <td>YES</td>\n",
       "      <td>YES</td>\n",
       "      <td>40.0</td>\n",
       "      <td>2.0</td>\n",
       "      <td>...</td>\n",
       "      <td>9</td>\n",
       "      <td>2.0</td>\n",
       "      <td>11.276581</td>\n",
       "      <td>9.956267</td>\n",
       "      <td>7.331223</td>\n",
       "      <td>6.337951</td>\n",
       "      <td>5.817818</td>\n",
       "      <td>9.719781</td>\n",
       "      <td>11.625006</td>\n",
       "      <td>12.161961</td>\n",
       "    </tr>\n",
       "    <tr>\n",
       "      <th>6</th>\n",
       "      <td>MB-0014</td>\n",
       "      <td>1</td>\n",
       "      <td>56.45</td>\n",
       "      <td>164.333333</td>\n",
       "      <td>LIVING</td>\n",
       "      <td>Living</td>\n",
       "      <td>YES</td>\n",
       "      <td>YES</td>\n",
       "      <td>10.0</td>\n",
       "      <td>2.0</td>\n",
       "      <td>...</td>\n",
       "      <td>3</td>\n",
       "      <td>4.0</td>\n",
       "      <td>10.793832</td>\n",
       "      <td>9.276507</td>\n",
       "      <td>7.720952</td>\n",
       "      <td>5.992706</td>\n",
       "      <td>7.481835</td>\n",
       "      <td>8.365527</td>\n",
       "      <td>11.482627</td>\n",
       "      <td>10.755199</td>\n",
       "    </tr>\n",
       "    <tr>\n",
       "      <th>12</th>\n",
       "      <td>MB-0045</td>\n",
       "      <td>1</td>\n",
       "      <td>45.27</td>\n",
       "      <td>164.900000</td>\n",
       "      <td>LIVING</td>\n",
       "      <td>Living</td>\n",
       "      <td>YES</td>\n",
       "      <td>YES</td>\n",
       "      <td>19.0</td>\n",
       "      <td>2.0</td>\n",
       "      <td>...</td>\n",
       "      <td>4ER-</td>\n",
       "      <td>NaN</td>\n",
       "      <td>6.367051</td>\n",
       "      <td>9.618424</td>\n",
       "      <td>5.828490</td>\n",
       "      <td>6.328115</td>\n",
       "      <td>6.005518</td>\n",
       "      <td>7.360639</td>\n",
       "      <td>7.912785</td>\n",
       "      <td>8.870536</td>\n",
       "    </tr>\n",
       "    <tr>\n",
       "      <th>14</th>\n",
       "      <td>MB-0048</td>\n",
       "      <td>1</td>\n",
       "      <td>51.46</td>\n",
       "      <td>103.833333</td>\n",
       "      <td>LIVING</td>\n",
       "      <td>Living</td>\n",
       "      <td>YES</td>\n",
       "      <td>YES</td>\n",
       "      <td>25.0</td>\n",
       "      <td>2.0</td>\n",
       "      <td>...</td>\n",
       "      <td>4ER+</td>\n",
       "      <td>NaN</td>\n",
       "      <td>8.101955</td>\n",
       "      <td>12.847992</td>\n",
       "      <td>6.114007</td>\n",
       "      <td>6.397985</td>\n",
       "      <td>7.779824</td>\n",
       "      <td>7.294771</td>\n",
       "      <td>10.963978</td>\n",
       "      <td>9.063062</td>\n",
       "    </tr>\n",
       "    <tr>\n",
       "      <th>...</th>\n",
       "      <td>...</td>\n",
       "      <td>...</td>\n",
       "      <td>...</td>\n",
       "      <td>...</td>\n",
       "      <td>...</td>\n",
       "      <td>...</td>\n",
       "      <td>...</td>\n",
       "      <td>...</td>\n",
       "      <td>...</td>\n",
       "      <td>...</td>\n",
       "      <td>...</td>\n",
       "      <td>...</td>\n",
       "      <td>...</td>\n",
       "      <td>...</td>\n",
       "      <td>...</td>\n",
       "      <td>...</td>\n",
       "      <td>...</td>\n",
       "      <td>...</td>\n",
       "      <td>...</td>\n",
       "      <td>...</td>\n",
       "      <td>...</td>\n",
       "    </tr>\n",
       "    <tr>\n",
       "      <th>1876</th>\n",
       "      <td>MB-7267</td>\n",
       "      <td>4</td>\n",
       "      <td>28.37</td>\n",
       "      <td>195.366667</td>\n",
       "      <td>DECEASED</td>\n",
       "      <td>Died of Other Causes</td>\n",
       "      <td>YES</td>\n",
       "      <td>YES</td>\n",
       "      <td>20.5</td>\n",
       "      <td>NaN</td>\n",
       "      <td>...</td>\n",
       "      <td>10</td>\n",
       "      <td>7.0</td>\n",
       "      <td>5.623988</td>\n",
       "      <td>9.413817</td>\n",
       "      <td>5.535405</td>\n",
       "      <td>5.547733</td>\n",
       "      <td>5.571594</td>\n",
       "      <td>6.643888</td>\n",
       "      <td>5.969946</td>\n",
       "      <td>6.427479</td>\n",
       "    </tr>\n",
       "    <tr>\n",
       "      <th>1878</th>\n",
       "      <td>MB-7269</td>\n",
       "      <td>4</td>\n",
       "      <td>36.60</td>\n",
       "      <td>21.166667</td>\n",
       "      <td>DECEASED</td>\n",
       "      <td>Died of Disease</td>\n",
       "      <td>YES</td>\n",
       "      <td>YES</td>\n",
       "      <td>25.0</td>\n",
       "      <td>NaN</td>\n",
       "      <td>...</td>\n",
       "      <td>10</td>\n",
       "      <td>4.0</td>\n",
       "      <td>7.121643</td>\n",
       "      <td>11.532133</td>\n",
       "      <td>5.230989</td>\n",
       "      <td>5.768024</td>\n",
       "      <td>6.230033</td>\n",
       "      <td>6.148473</td>\n",
       "      <td>6.905075</td>\n",
       "      <td>6.717019</td>\n",
       "    </tr>\n",
       "    <tr>\n",
       "      <th>1880</th>\n",
       "      <td>MB-7273</td>\n",
       "      <td>4</td>\n",
       "      <td>47.47</td>\n",
       "      <td>208.200000</td>\n",
       "      <td>LIVING</td>\n",
       "      <td>Living</td>\n",
       "      <td>YES</td>\n",
       "      <td>YES</td>\n",
       "      <td>20.0</td>\n",
       "      <td>NaN</td>\n",
       "      <td>...</td>\n",
       "      <td>5</td>\n",
       "      <td>5.0</td>\n",
       "      <td>5.815046</td>\n",
       "      <td>13.401624</td>\n",
       "      <td>5.283706</td>\n",
       "      <td>6.647040</td>\n",
       "      <td>5.738257</td>\n",
       "      <td>7.893301</td>\n",
       "      <td>11.119795</td>\n",
       "      <td>11.532189</td>\n",
       "    </tr>\n",
       "    <tr>\n",
       "      <th>1887</th>\n",
       "      <td>MB-7281</td>\n",
       "      <td>4</td>\n",
       "      <td>51.22</td>\n",
       "      <td>49.533333</td>\n",
       "      <td>DECEASED</td>\n",
       "      <td>Died of Disease</td>\n",
       "      <td>YES</td>\n",
       "      <td>YES</td>\n",
       "      <td>16.0</td>\n",
       "      <td>NaN</td>\n",
       "      <td>...</td>\n",
       "      <td>5</td>\n",
       "      <td>3.0</td>\n",
       "      <td>6.074817</td>\n",
       "      <td>12.545156</td>\n",
       "      <td>5.218277</td>\n",
       "      <td>6.423540</td>\n",
       "      <td>5.856297</td>\n",
       "      <td>7.084129</td>\n",
       "      <td>11.029630</td>\n",
       "      <td>10.737725</td>\n",
       "    </tr>\n",
       "    <tr>\n",
       "      <th>1888</th>\n",
       "      <td>MB-7283</td>\n",
       "      <td>4</td>\n",
       "      <td>54.42</td>\n",
       "      <td>28.866667</td>\n",
       "      <td>DECEASED</td>\n",
       "      <td>Died of Disease</td>\n",
       "      <td>YES</td>\n",
       "      <td>YES</td>\n",
       "      <td>30.0</td>\n",
       "      <td>NaN</td>\n",
       "      <td>...</td>\n",
       "      <td>6</td>\n",
       "      <td>10.0</td>\n",
       "      <td>11.424278</td>\n",
       "      <td>10.864729</td>\n",
       "      <td>5.372667</td>\n",
       "      <td>5.964566</td>\n",
       "      <td>5.700589</td>\n",
       "      <td>11.230719</td>\n",
       "      <td>12.106893</td>\n",
       "      <td>12.197105</td>\n",
       "    </tr>\n",
       "  </tbody>\n",
       "</table>\n",
       "<p>323 rows × 32 columns</p>\n",
       "</div>"
      ],
      "text/plain": [
       "     Patient_ID  Cohort  Age_at_diagnosis  Survival_time Survival_status  \\\n",
       "3       MB-0006       1             47.68     164.933333          LIVING   \n",
       "4       MB-0008       1             76.97      41.366667        DECEASED   \n",
       "6       MB-0014       1             56.45     164.333333          LIVING   \n",
       "12      MB-0045       1             45.27     164.900000          LIVING   \n",
       "14      MB-0048       1             51.46     103.833333          LIVING   \n",
       "...         ...     ...               ...            ...             ...   \n",
       "1876    MB-7267       4             28.37     195.366667        DECEASED   \n",
       "1878    MB-7269       4             36.60      21.166667        DECEASED   \n",
       "1880    MB-7273       4             47.47     208.200000          LIVING   \n",
       "1887    MB-7281       4             51.22      49.533333        DECEASED   \n",
       "1888    MB-7283       4             54.42      28.866667        DECEASED   \n",
       "\n",
       "              Vital_status Chemotherapy Radiotherapy  Tumour_size  \\\n",
       "3                   Living          YES          YES         25.0   \n",
       "4          Died of Disease          YES          YES         40.0   \n",
       "6                   Living          YES          YES         10.0   \n",
       "12                  Living          YES          YES         19.0   \n",
       "14                  Living          YES          YES         25.0   \n",
       "...                    ...          ...          ...          ...   \n",
       "1876  Died of Other Causes          YES          YES         20.5   \n",
       "1878       Died of Disease          YES          YES         25.0   \n",
       "1880                Living          YES          YES         20.0   \n",
       "1887       Died of Disease          YES          YES         16.0   \n",
       "1888       Died of Disease          YES          YES         30.0   \n",
       "\n",
       "      Tumour_stage  ...  Integrative_cluster  Mutation_count       ESR1  \\\n",
       "3              2.0  ...                    9             1.0  10.404685   \n",
       "4              2.0  ...                    9             2.0  11.276581   \n",
       "6              2.0  ...                    3             4.0  10.793832   \n",
       "12             2.0  ...                 4ER-             NaN   6.367051   \n",
       "14             2.0  ...                 4ER+             NaN   8.101955   \n",
       "...            ...  ...                  ...             ...        ...   \n",
       "1876           NaN  ...                   10             7.0   5.623988   \n",
       "1878           NaN  ...                   10             4.0   7.121643   \n",
       "1880           NaN  ...                    5             5.0   5.815046   \n",
       "1887           NaN  ...                    5             3.0   6.074817   \n",
       "1888           NaN  ...                    6            10.0  11.424278   \n",
       "\n",
       "          ERBB2       PGR      TP53    PIK3CA      GATA3      FOXA1       MLPH  \n",
       "3     10.334979  6.815637  6.869241  7.219187   8.667723  11.863379  10.472181  \n",
       "4      9.956267  7.331223  6.337951  5.817818   9.719781  11.625006  12.161961  \n",
       "6      9.276507  7.720952  5.992706  7.481835   8.365527  11.482627  10.755199  \n",
       "12     9.618424  5.828490  6.328115  6.005518   7.360639   7.912785   8.870536  \n",
       "14    12.847992  6.114007  6.397985  7.779824   7.294771  10.963978   9.063062  \n",
       "...         ...       ...       ...       ...        ...        ...        ...  \n",
       "1876   9.413817  5.535405  5.547733  5.571594   6.643888   5.969946   6.427479  \n",
       "1878  11.532133  5.230989  5.768024  6.230033   6.148473   6.905075   6.717019  \n",
       "1880  13.401624  5.283706  6.647040  5.738257   7.893301  11.119795  11.532189  \n",
       "1887  12.545156  5.218277  6.423540  5.856297   7.084129  11.029630  10.737725  \n",
       "1888  10.864729  5.372667  5.964566  5.700589  11.230719  12.106893  12.197105  \n",
       "\n",
       "[323 rows x 32 columns]"
      ]
     },
     "execution_count": 9,
     "metadata": {},
     "output_type": "execute_result"
    }
   ],
   "source": [
    "metabric[(metabric.Chemotherapy == \"YES\") & (metabric.Radiotherapy == \"YES\")]"
   ]
  },
  {
   "cell_type": "markdown",
   "metadata": {},
   "source": [
    "Compute the average tumour size for these patients."
   ]
  },
  {
   "cell_type": "code",
   "execution_count": 11,
   "metadata": {},
   "outputs": [
    {
     "data": {
      "text/plain": [
       "32.320093457943926"
      ]
     },
     "execution_count": 11,
     "metadata": {},
     "output_type": "execute_result"
    }
   ],
   "source": [
    "metabric[(metabric.Chemotherapy == \"YES\") & (metabric.Radiotherapy == \"YES\")].Tumour_size.mean()"
   ]
  },
  {
   "cell_type": "markdown",
   "metadata": {},
   "source": [
    "An alternative method would be to extract the tumour size column first, and then subset by therapy status:"
   ]
  },
  {
   "cell_type": "code",
   "execution_count": null,
   "metadata": {},
   "outputs": [],
   "source": [
    "metabric.Tumour_size[(metabric.Chemotherapy == \"YES\") & (metabric.Radiotherapy == \"YES\")].mean()"
   ]
  },
  {
   "cell_type": "markdown",
   "metadata": {},
   "source": [
    "Can you think why this approach might be advantageous?\n",
    "\n",
    "The final part of this exercise can be done via a simple modification to the conditions."
   ]
  },
  {
   "cell_type": "code",
   "execution_count": 12,
   "metadata": {},
   "outputs": [
    {
     "data": {
      "text/plain": [
       "25.582390029325506"
      ]
     },
     "execution_count": 12,
     "metadata": {},
     "output_type": "execute_result"
    }
   ],
   "source": [
    "metabric.Tumour_size[(metabric.Chemotherapy == \"NO\") & (metabric.Radiotherapy == \"NO\")].mean()"
   ]
  },
  {
   "cell_type": "markdown",
   "metadata": {},
   "source": [
    "** ** \n",
    "\n",
    "**C)** Write a query to extract data on patients from cohort 1 with either the highest or second highest tumour stage (part of the exercise is to figure out what the top two tumour stages are!). A method introduced in the final section of this session might be useful..."
   ]
  },
  {
   "cell_type": "markdown",
   "metadata": {},
   "source": [
    "The first step is to figure out what the two largest tumour stages are. The range of values for tumour stage can be obtained using `.unique()`, from which we see the top two stages are 3 and 4."
   ]
  },
  {
   "cell_type": "code",
   "execution_count": 13,
   "metadata": {},
   "outputs": [
    {
     "data": {
      "text/plain": [
       "array([ 2.,  1.,  4.,  3., nan,  0.])"
      ]
     },
     "execution_count": 13,
     "metadata": {},
     "output_type": "execute_result"
    }
   ],
   "source": [
    "metabric.Tumour_stage.unique()"
   ]
  },
  {
   "cell_type": "markdown",
   "metadata": {},
   "source": [
    "Extracting the data is then a relatively simple task."
   ]
  },
  {
   "cell_type": "code",
   "execution_count": null,
   "metadata": {},
   "outputs": [],
   "source": [
    "metabric[(metabric.Tumour_stage.isin([3, 4])) & (metabric.Cohort==1)]"
   ]
  },
  {
   "cell_type": "markdown",
   "metadata": {},
   "source": [
    "This can actually be achieved more succintly using the `.nlargest()` method. I wasn't aware of this method until writing this solution, so big congrats to anyone who managed to obtain this solution!"
   ]
  },
  {
   "cell_type": "code",
   "execution_count": null,
   "metadata": {},
   "outputs": [],
   "source": [
    "metabric[(metabric.Tumour_stage.isin( pd.Series(metabric.Tumour_stage.unique()).nlargest(n=2) )) & (metabric.Cohort==1)]"
   ]
  },
  {
   "cell_type": "markdown",
   "metadata": {},
   "source": [
    "** **\n",
    "\n",
    "**D)** Use `.sum()` to get a vector of the amount of missing data for each variable.\n",
    "\n",
    "Recall the `.sum()` method computes the sum of a Series, or the sum for each column when called on a DataFrame."
   ]
  },
  {
   "cell_type": "code",
   "execution_count": 19,
   "metadata": {},
   "outputs": [
    {
     "data": {
      "text/plain": [
       "1904"
      ]
     },
     "execution_count": 19,
     "metadata": {},
     "output_type": "execute_result"
    }
   ],
   "source": [
    "metabric.isna().sum()"
   ]
  },
  {
   "cell_type": "markdown",
   "metadata": {},
   "source": [
    "** **\n",
    "\n",
    "**E)** There is a method that does the opposite of `.isna()` - i.e. it returns `True` when data is present and `False` where there is an `NaN`. Can you find out (or guess) what it is?\n",
    "\n",
    "The method is called `.notna()`, and works exactly how you would expect it to."
   ]
  },
  {
   "cell_type": "code",
   "execution_count": null,
   "metadata": {},
   "outputs": [],
   "source": [
    "metabric.notna()"
   ]
  },
  {
   "cell_type": "code",
   "execution_count": null,
   "metadata": {},
   "outputs": [],
   "source": [
    "metabric.isna().sum()"
   ]
  },
  {
   "cell_type": "markdown",
   "metadata": {},
   "source": [
    "### Exercise 1"
   ]
  },
  {
   "cell_type": "markdown",
   "metadata": {},
   "source": [
    "- What are the different values of the `Integrative Cluster` variable? \n",
    "- Can you produce a series containing the number of patients in each cluster? (There is a useful method that will help you out with this, but I leave it to you to find out what that is)."
   ]
  },
  {
   "cell_type": "markdown",
   "metadata": {},
   "source": [
    "The different values of the integrative cluster variable can be found using the `.unique()` method."
   ]
  },
  {
   "cell_type": "code",
   "execution_count": 20,
   "metadata": {},
   "outputs": [
    {
     "data": {
      "text/plain": [
       "array(['4ER+', '3', '9', '7', '4ER-', '5', '8', '10', '1', '2', '6'],\n",
       "      dtype=object)"
      ]
     },
     "execution_count": 20,
     "metadata": {},
     "output_type": "execute_result"
    }
   ],
   "source": [
    "metabric.Integrative_cluster.unique()"
   ]
  },
  {
   "cell_type": "markdown",
   "metadata": {},
   "source": [
    "With some googling, you may have found the method `.value_counts()`, that returns the count for each unqie variable in a Series."
   ]
  },
  {
   "cell_type": "code",
   "execution_count": 22,
   "metadata": {},
   "outputs": [
    {
     "data": {
      "text/plain": [
       "8       0.151786\n",
       "3       0.148109\n",
       "4ER+    0.128151\n",
       "10      0.115021\n",
       "5       0.096639\n",
       "7       0.095588\n",
       "9       0.074580\n",
       "1       0.069328\n",
       "6       0.044118\n",
       "4ER-    0.038866\n",
       "2       0.037815\n",
       "Name: Integrative_cluster, dtype: float64"
      ]
     },
     "execution_count": 22,
     "metadata": {},
     "output_type": "execute_result"
    }
   ],
   "source": [
    "metabric.Integrative_cluster.value_counts(normalize=True)"
   ]
  },
  {
   "cell_type": "markdown",
   "metadata": {},
   "source": [
    "### Exercise 2 \n",
    "\n",
    "- Read the dataset `metabric_clinical_and_expression_data.csv` and store its summary statistics into a new variable called `metabric_summary`.\n",
    "- Just like the `.read_csv()` method allows reading data from a file, `pandas` provides a `.to_csv()` method to write `DataFrames` to files. Write your summary statistics object into a file called `metabric_summary.csv`. You can use `help(metabric.to_csv)` to get information on how to use this function.\n",
    "- Use the help information to modify the previous step so that you can generate a Tab Separated Value (TSV) file instead \n",
    "- Similarly, explore the method `to_excel()` to produce an excel spreadsheet containing summary statistics"
   ]
  },
  {
   "cell_type": "code",
   "execution_count": 24,
   "metadata": {},
   "outputs": [
    {
     "data": {
      "text/html": [
       "<div>\n",
       "<style scoped>\n",
       "    .dataframe tbody tr th:only-of-type {\n",
       "        vertical-align: middle;\n",
       "    }\n",
       "\n",
       "    .dataframe tbody tr th {\n",
       "        vertical-align: top;\n",
       "    }\n",
       "\n",
       "    .dataframe thead th {\n",
       "        text-align: right;\n",
       "    }\n",
       "</style>\n",
       "<table border=\"1\" class=\"dataframe\">\n",
       "  <thead>\n",
       "    <tr style=\"text-align: right;\">\n",
       "      <th></th>\n",
       "      <th>Patient_ID</th>\n",
       "      <th>Cohort</th>\n",
       "      <th>Age_at_diagnosis</th>\n",
       "      <th>Survival_time</th>\n",
       "      <th>Survival_status</th>\n",
       "      <th>Vital_status</th>\n",
       "      <th>Chemotherapy</th>\n",
       "      <th>Radiotherapy</th>\n",
       "      <th>Tumour_size</th>\n",
       "      <th>Tumour_stage</th>\n",
       "      <th>...</th>\n",
       "      <th>Integrative_cluster</th>\n",
       "      <th>Mutation_count</th>\n",
       "      <th>ESR1</th>\n",
       "      <th>ERBB2</th>\n",
       "      <th>PGR</th>\n",
       "      <th>TP53</th>\n",
       "      <th>PIK3CA</th>\n",
       "      <th>GATA3</th>\n",
       "      <th>FOXA1</th>\n",
       "      <th>MLPH</th>\n",
       "    </tr>\n",
       "  </thead>\n",
       "  <tbody>\n",
       "    <tr>\n",
       "      <th>count</th>\n",
       "      <td>1904</td>\n",
       "      <td>1904.000000</td>\n",
       "      <td>1904.000000</td>\n",
       "      <td>1904.000000</td>\n",
       "      <td>1904</td>\n",
       "      <td>1903</td>\n",
       "      <td>1904</td>\n",
       "      <td>1904</td>\n",
       "      <td>1884.000000</td>\n",
       "      <td>1403.000000</td>\n",
       "      <td>...</td>\n",
       "      <td>1904</td>\n",
       "      <td>1859.000000</td>\n",
       "      <td>1904.000000</td>\n",
       "      <td>1904.000000</td>\n",
       "      <td>1904.000000</td>\n",
       "      <td>1904.000000</td>\n",
       "      <td>1904.000000</td>\n",
       "      <td>1904.000000</td>\n",
       "      <td>1904.000000</td>\n",
       "      <td>1904.000000</td>\n",
       "    </tr>\n",
       "    <tr>\n",
       "      <th>unique</th>\n",
       "      <td>1904</td>\n",
       "      <td>NaN</td>\n",
       "      <td>NaN</td>\n",
       "      <td>NaN</td>\n",
       "      <td>2</td>\n",
       "      <td>3</td>\n",
       "      <td>2</td>\n",
       "      <td>2</td>\n",
       "      <td>NaN</td>\n",
       "      <td>NaN</td>\n",
       "      <td>...</td>\n",
       "      <td>11</td>\n",
       "      <td>NaN</td>\n",
       "      <td>NaN</td>\n",
       "      <td>NaN</td>\n",
       "      <td>NaN</td>\n",
       "      <td>NaN</td>\n",
       "      <td>NaN</td>\n",
       "      <td>NaN</td>\n",
       "      <td>NaN</td>\n",
       "      <td>NaN</td>\n",
       "    </tr>\n",
       "    <tr>\n",
       "      <th>top</th>\n",
       "      <td>MB-3046</td>\n",
       "      <td>NaN</td>\n",
       "      <td>NaN</td>\n",
       "      <td>NaN</td>\n",
       "      <td>DECEASED</td>\n",
       "      <td>Living</td>\n",
       "      <td>NO</td>\n",
       "      <td>YES</td>\n",
       "      <td>NaN</td>\n",
       "      <td>NaN</td>\n",
       "      <td>...</td>\n",
       "      <td>8</td>\n",
       "      <td>NaN</td>\n",
       "      <td>NaN</td>\n",
       "      <td>NaN</td>\n",
       "      <td>NaN</td>\n",
       "      <td>NaN</td>\n",
       "      <td>NaN</td>\n",
       "      <td>NaN</td>\n",
       "      <td>NaN</td>\n",
       "      <td>NaN</td>\n",
       "    </tr>\n",
       "    <tr>\n",
       "      <th>freq</th>\n",
       "      <td>1</td>\n",
       "      <td>NaN</td>\n",
       "      <td>NaN</td>\n",
       "      <td>NaN</td>\n",
       "      <td>1103</td>\n",
       "      <td>801</td>\n",
       "      <td>1508</td>\n",
       "      <td>1137</td>\n",
       "      <td>NaN</td>\n",
       "      <td>NaN</td>\n",
       "      <td>...</td>\n",
       "      <td>289</td>\n",
       "      <td>NaN</td>\n",
       "      <td>NaN</td>\n",
       "      <td>NaN</td>\n",
       "      <td>NaN</td>\n",
       "      <td>NaN</td>\n",
       "      <td>NaN</td>\n",
       "      <td>NaN</td>\n",
       "      <td>NaN</td>\n",
       "      <td>NaN</td>\n",
       "    </tr>\n",
       "    <tr>\n",
       "      <th>mean</th>\n",
       "      <td>NaN</td>\n",
       "      <td>2.643908</td>\n",
       "      <td>61.087054</td>\n",
       "      <td>125.121324</td>\n",
       "      <td>NaN</td>\n",
       "      <td>NaN</td>\n",
       "      <td>NaN</td>\n",
       "      <td>NaN</td>\n",
       "      <td>26.238726</td>\n",
       "      <td>1.750535</td>\n",
       "      <td>...</td>\n",
       "      <td>NaN</td>\n",
       "      <td>5.697687</td>\n",
       "      <td>9.607824</td>\n",
       "      <td>10.765364</td>\n",
       "      <td>6.237203</td>\n",
       "      <td>6.197967</td>\n",
       "      <td>5.970097</td>\n",
       "      <td>9.502910</td>\n",
       "      <td>10.800526</td>\n",
       "      <td>11.362384</td>\n",
       "    </tr>\n",
       "    <tr>\n",
       "      <th>std</th>\n",
       "      <td>NaN</td>\n",
       "      <td>1.228615</td>\n",
       "      <td>12.978711</td>\n",
       "      <td>76.334148</td>\n",
       "      <td>NaN</td>\n",
       "      <td>NaN</td>\n",
       "      <td>NaN</td>\n",
       "      <td>NaN</td>\n",
       "      <td>15.160976</td>\n",
       "      <td>0.628999</td>\n",
       "      <td>...</td>\n",
       "      <td>NaN</td>\n",
       "      <td>4.058778</td>\n",
       "      <td>2.133827</td>\n",
       "      <td>1.357359</td>\n",
       "      <td>1.020871</td>\n",
       "      <td>0.401864</td>\n",
       "      <td>0.352549</td>\n",
       "      <td>1.502636</td>\n",
       "      <td>1.754282</td>\n",
       "      <td>1.687555</td>\n",
       "    </tr>\n",
       "    <tr>\n",
       "      <th>min</th>\n",
       "      <td>NaN</td>\n",
       "      <td>1.000000</td>\n",
       "      <td>21.930000</td>\n",
       "      <td>0.000000</td>\n",
       "      <td>NaN</td>\n",
       "      <td>NaN</td>\n",
       "      <td>NaN</td>\n",
       "      <td>NaN</td>\n",
       "      <td>1.000000</td>\n",
       "      <td>0.000000</td>\n",
       "      <td>...</td>\n",
       "      <td>NaN</td>\n",
       "      <td>1.000000</td>\n",
       "      <td>5.217238</td>\n",
       "      <td>6.372949</td>\n",
       "      <td>4.860645</td>\n",
       "      <td>5.201128</td>\n",
       "      <td>5.158697</td>\n",
       "      <td>5.277722</td>\n",
       "      <td>5.184945</td>\n",
       "      <td>5.323652</td>\n",
       "    </tr>\n",
       "    <tr>\n",
       "      <th>25%</th>\n",
       "      <td>NaN</td>\n",
       "      <td>1.000000</td>\n",
       "      <td>51.375000</td>\n",
       "      <td>60.825000</td>\n",
       "      <td>NaN</td>\n",
       "      <td>NaN</td>\n",
       "      <td>NaN</td>\n",
       "      <td>NaN</td>\n",
       "      <td>17.000000</td>\n",
       "      <td>1.000000</td>\n",
       "      <td>...</td>\n",
       "      <td>NaN</td>\n",
       "      <td>3.000000</td>\n",
       "      <td>8.092992</td>\n",
       "      <td>9.969681</td>\n",
       "      <td>5.408728</td>\n",
       "      <td>5.930335</td>\n",
       "      <td>5.735007</td>\n",
       "      <td>8.767954</td>\n",
       "      <td>10.829777</td>\n",
       "      <td>11.042871</td>\n",
       "    </tr>\n",
       "    <tr>\n",
       "      <th>50%</th>\n",
       "      <td>NaN</td>\n",
       "      <td>3.000000</td>\n",
       "      <td>61.770000</td>\n",
       "      <td>115.616667</td>\n",
       "      <td>NaN</td>\n",
       "      <td>NaN</td>\n",
       "      <td>NaN</td>\n",
       "      <td>NaN</td>\n",
       "      <td>23.000000</td>\n",
       "      <td>2.000000</td>\n",
       "      <td>...</td>\n",
       "      <td>NaN</td>\n",
       "      <td>5.000000</td>\n",
       "      <td>10.252166</td>\n",
       "      <td>10.530301</td>\n",
       "      <td>5.877591</td>\n",
       "      <td>6.185873</td>\n",
       "      <td>5.938094</td>\n",
       "      <td>9.911805</td>\n",
       "      <td>11.367947</td>\n",
       "      <td>11.873967</td>\n",
       "    </tr>\n",
       "    <tr>\n",
       "      <th>75%</th>\n",
       "      <td>NaN</td>\n",
       "      <td>3.000000</td>\n",
       "      <td>70.592500</td>\n",
       "      <td>184.716667</td>\n",
       "      <td>NaN</td>\n",
       "      <td>NaN</td>\n",
       "      <td>NaN</td>\n",
       "      <td>NaN</td>\n",
       "      <td>30.000000</td>\n",
       "      <td>2.000000</td>\n",
       "      <td>...</td>\n",
       "      <td>NaN</td>\n",
       "      <td>7.000000</td>\n",
       "      <td>11.268331</td>\n",
       "      <td>11.159306</td>\n",
       "      <td>6.899220</td>\n",
       "      <td>6.456987</td>\n",
       "      <td>6.148720</td>\n",
       "      <td>10.560220</td>\n",
       "      <td>11.779545</td>\n",
       "      <td>12.396317</td>\n",
       "    </tr>\n",
       "    <tr>\n",
       "      <th>max</th>\n",
       "      <td>NaN</td>\n",
       "      <td>5.000000</td>\n",
       "      <td>96.290000</td>\n",
       "      <td>355.200000</td>\n",
       "      <td>NaN</td>\n",
       "      <td>NaN</td>\n",
       "      <td>NaN</td>\n",
       "      <td>NaN</td>\n",
       "      <td>182.000000</td>\n",
       "      <td>4.000000</td>\n",
       "      <td>...</td>\n",
       "      <td>NaN</td>\n",
       "      <td>80.000000</td>\n",
       "      <td>13.265184</td>\n",
       "      <td>14.643900</td>\n",
       "      <td>9.932115</td>\n",
       "      <td>7.921411</td>\n",
       "      <td>8.708396</td>\n",
       "      <td>12.812082</td>\n",
       "      <td>13.127682</td>\n",
       "      <td>14.432001</td>\n",
       "    </tr>\n",
       "  </tbody>\n",
       "</table>\n",
       "<p>11 rows × 32 columns</p>\n",
       "</div>"
      ],
      "text/plain": [
       "       Patient_ID       Cohort  Age_at_diagnosis  Survival_time  \\\n",
       "count        1904  1904.000000       1904.000000    1904.000000   \n",
       "unique       1904          NaN               NaN            NaN   \n",
       "top       MB-3046          NaN               NaN            NaN   \n",
       "freq            1          NaN               NaN            NaN   \n",
       "mean          NaN     2.643908         61.087054     125.121324   \n",
       "std           NaN     1.228615         12.978711      76.334148   \n",
       "min           NaN     1.000000         21.930000       0.000000   \n",
       "25%           NaN     1.000000         51.375000      60.825000   \n",
       "50%           NaN     3.000000         61.770000     115.616667   \n",
       "75%           NaN     3.000000         70.592500     184.716667   \n",
       "max           NaN     5.000000         96.290000     355.200000   \n",
       "\n",
       "       Survival_status Vital_status Chemotherapy Radiotherapy  Tumour_size  \\\n",
       "count             1904         1903         1904         1904  1884.000000   \n",
       "unique               2            3            2            2          NaN   \n",
       "top           DECEASED       Living           NO          YES          NaN   \n",
       "freq              1103          801         1508         1137          NaN   \n",
       "mean               NaN          NaN          NaN          NaN    26.238726   \n",
       "std                NaN          NaN          NaN          NaN    15.160976   \n",
       "min                NaN          NaN          NaN          NaN     1.000000   \n",
       "25%                NaN          NaN          NaN          NaN    17.000000   \n",
       "50%                NaN          NaN          NaN          NaN    23.000000   \n",
       "75%                NaN          NaN          NaN          NaN    30.000000   \n",
       "max                NaN          NaN          NaN          NaN   182.000000   \n",
       "\n",
       "        Tumour_stage  ...  Integrative_cluster  Mutation_count         ESR1  \\\n",
       "count    1403.000000  ...                 1904     1859.000000  1904.000000   \n",
       "unique           NaN  ...                   11             NaN          NaN   \n",
       "top              NaN  ...                    8             NaN          NaN   \n",
       "freq             NaN  ...                  289             NaN          NaN   \n",
       "mean        1.750535  ...                  NaN        5.697687     9.607824   \n",
       "std         0.628999  ...                  NaN        4.058778     2.133827   \n",
       "min         0.000000  ...                  NaN        1.000000     5.217238   \n",
       "25%         1.000000  ...                  NaN        3.000000     8.092992   \n",
       "50%         2.000000  ...                  NaN        5.000000    10.252166   \n",
       "75%         2.000000  ...                  NaN        7.000000    11.268331   \n",
       "max         4.000000  ...                  NaN       80.000000    13.265184   \n",
       "\n",
       "              ERBB2          PGR         TP53       PIK3CA        GATA3  \\\n",
       "count   1904.000000  1904.000000  1904.000000  1904.000000  1904.000000   \n",
       "unique          NaN          NaN          NaN          NaN          NaN   \n",
       "top             NaN          NaN          NaN          NaN          NaN   \n",
       "freq            NaN          NaN          NaN          NaN          NaN   \n",
       "mean      10.765364     6.237203     6.197967     5.970097     9.502910   \n",
       "std        1.357359     1.020871     0.401864     0.352549     1.502636   \n",
       "min        6.372949     4.860645     5.201128     5.158697     5.277722   \n",
       "25%        9.969681     5.408728     5.930335     5.735007     8.767954   \n",
       "50%       10.530301     5.877591     6.185873     5.938094     9.911805   \n",
       "75%       11.159306     6.899220     6.456987     6.148720    10.560220   \n",
       "max       14.643900     9.932115     7.921411     8.708396    12.812082   \n",
       "\n",
       "              FOXA1         MLPH  \n",
       "count   1904.000000  1904.000000  \n",
       "unique          NaN          NaN  \n",
       "top             NaN          NaN  \n",
       "freq            NaN          NaN  \n",
       "mean      10.800526    11.362384  \n",
       "std        1.754282     1.687555  \n",
       "min        5.184945     5.323652  \n",
       "25%       10.829777    11.042871  \n",
       "50%       11.367947    11.873967  \n",
       "75%       11.779545    12.396317  \n",
       "max       13.127682    14.432001  \n",
       "\n",
       "[11 rows x 32 columns]"
      ]
     },
     "execution_count": 24,
     "metadata": {},
     "output_type": "execute_result"
    }
   ],
   "source": [
    "# Store summary statistics\n",
    "metabric_summary = metabric.describe(include=\"all\")\n",
    "metabric_summary"
   ]
  },
  {
   "cell_type": "code",
   "execution_count": null,
   "metadata": {},
   "outputs": [],
   "source": [
    "help(metabric.to_csv)"
   ]
  },
  {
   "cell_type": "markdown",
   "metadata": {},
   "source": [
    "This is the basic syntax for writing a data frame to a csv file:"
   ]
  },
  {
   "cell_type": "code",
   "execution_count": 26,
   "metadata": {},
   "outputs": [],
   "source": [
    "metabric_summary.to_csv(\"metabric_summary.csv\")"
   ]
  },
  {
   "cell_type": "markdown",
   "metadata": {},
   "source": [
    "The following lines show examples of modifications that can be made to this function:"
   ]
  },
  {
   "cell_type": "code",
   "execution_count": null,
   "metadata": {},
   "outputs": [],
   "source": [
    "metabric_summary.to_csv(\"metabric_summary.tsv\", sep = '\\t') # Creates a tsv (tab seperated values)"
   ]
  },
  {
   "cell_type": "code",
   "execution_count": null,
   "metadata": {},
   "outputs": [],
   "source": [
    "metabric_summary.to_csv(\"metabric_summary.csv\", columns = [\"Cohort\", \"Age_at_diagnosis\"]) # Selects only certain columns to write"
   ]
  },
  {
   "cell_type": "code",
   "execution_count": null,
   "metadata": {},
   "outputs": [],
   "source": [
    "metabric_summary.to_csv(\"~/Desktop/metabric_summary.csv\", index = False) # More detail on where to write the file to"
   ]
  },
  {
   "cell_type": "code",
   "execution_count": null,
   "metadata": {},
   "outputs": [],
   "source": [
    "# Write an excel spreadsheet\n",
    "\n",
    "#help(metabric.to_excel)\n",
    "metabric_summary.to_excel(\"metabric_summary.xlsx\")\n",
    "\n",
    "#If: ModuleNotFoundError: No module named 'openpyxl'\n",
    "#pip3 install openpyxl --user"
   ]
  },
  {
   "cell_type": "markdown",
   "metadata": {},
   "source": [
    "### Exercise 3\n",
    "\n",
    "- Read the dataset `metabric_clinical_and_expression_data.csv` into a variable e.g. `metabric`.\n",
    "- Calculate the mean tumour size of patients grouped by vital status and tumour stage\n",
    "- Find the cohort of patients and tumour stage where the average expression of genes TP53 and FOXA1 is highest\n",
    "- Do patients with greater tumour size live longer? How about patients with greater tumour stage? How about greater Nottingham_prognostic_index?"
   ]
  },
  {
   "cell_type": "markdown",
   "metadata": {},
   "source": [
    "This exercise can be done using the `groupby` function."
   ]
  },
  {
   "cell_type": "code",
   "execution_count": 29,
   "metadata": {},
   "outputs": [
    {
     "data": {
      "text/plain": [
       "Vital_status          Tumour_stage\n",
       "Died of Disease       1.0             18.851852\n",
       "                      2.0             29.604895\n",
       "                      3.0             48.227273\n",
       "                      4.0             34.375000\n",
       "Died of Other Causes  0.0             65.000000\n",
       "                      1.0             17.924528\n",
       "                      2.0             28.071429\n",
       "                      3.0             49.611111\n",
       "Living                0.0             23.000000\n",
       "                      1.0             16.588462\n",
       "                      2.0             25.435535\n",
       "                      3.0             47.379310\n",
       "                      4.0             35.000000\n",
       "Name: Tumour_size, dtype: float64"
      ]
     },
     "execution_count": 29,
     "metadata": {},
     "output_type": "execute_result"
    }
   ],
   "source": [
    "# Calculate the mean tumour size of patients grouped by vital status and tumour stage\n",
    "metabric.groupby(['Vital_status', 'Tumour_stage']).mean().Tumour_size"
   ]
  },
  {
   "cell_type": "markdown",
   "metadata": {},
   "source": [
    "It's a bit neater to only display the columns we need information on."
   ]
  },
  {
   "cell_type": "code",
   "execution_count": null,
   "metadata": {},
   "outputs": [],
   "source": [
    "metabric.groupby(['Vital_status', 'Tumour_stage']).mean()['Tumour_size']"
   ]
  },
  {
   "cell_type": "code",
   "execution_count": 30,
   "metadata": {},
   "outputs": [
    {
     "data": {
      "text/html": [
       "<div>\n",
       "<style scoped>\n",
       "    .dataframe tbody tr th:only-of-type {\n",
       "        vertical-align: middle;\n",
       "    }\n",
       "\n",
       "    .dataframe tbody tr th {\n",
       "        vertical-align: top;\n",
       "    }\n",
       "\n",
       "    .dataframe thead th {\n",
       "        text-align: right;\n",
       "    }\n",
       "</style>\n",
       "<table border=\"1\" class=\"dataframe\">\n",
       "  <thead>\n",
       "    <tr style=\"text-align: right;\">\n",
       "      <th></th>\n",
       "      <th></th>\n",
       "      <th>TP53</th>\n",
       "      <th>FOXA1</th>\n",
       "    </tr>\n",
       "    <tr>\n",
       "      <th>Cohort</th>\n",
       "      <th>Tumour_stage</th>\n",
       "      <th></th>\n",
       "      <th></th>\n",
       "    </tr>\n",
       "  </thead>\n",
       "  <tbody>\n",
       "    <tr>\n",
       "      <th rowspan=\"5\" valign=\"top\">1</th>\n",
       "      <th>0.0</th>\n",
       "      <td>6.188952</td>\n",
       "      <td>11.673359</td>\n",
       "    </tr>\n",
       "    <tr>\n",
       "      <th>1.0</th>\n",
       "      <td>6.220457</td>\n",
       "      <td>10.691623</td>\n",
       "    </tr>\n",
       "    <tr>\n",
       "      <th>2.0</th>\n",
       "      <td>6.228292</td>\n",
       "      <td>10.785180</td>\n",
       "    </tr>\n",
       "    <tr>\n",
       "      <th>3.0</th>\n",
       "      <td>6.186591</td>\n",
       "      <td>10.510511</td>\n",
       "    </tr>\n",
       "    <tr>\n",
       "      <th>4.0</th>\n",
       "      <td>6.157500</td>\n",
       "      <td>11.599434</td>\n",
       "    </tr>\n",
       "    <tr>\n",
       "      <th rowspan=\"3\" valign=\"top\">2</th>\n",
       "      <th>1.0</th>\n",
       "      <td>6.055063</td>\n",
       "      <td>10.877447</td>\n",
       "    </tr>\n",
       "    <tr>\n",
       "      <th>2.0</th>\n",
       "      <td>6.054182</td>\n",
       "      <td>10.256763</td>\n",
       "    </tr>\n",
       "    <tr>\n",
       "      <th>3.0</th>\n",
       "      <td>5.913632</td>\n",
       "      <td>10.212963</td>\n",
       "    </tr>\n",
       "    <tr>\n",
       "      <th rowspan=\"3\" valign=\"top\">3</th>\n",
       "      <th>1.0</th>\n",
       "      <td>6.217709</td>\n",
       "      <td>11.020944</td>\n",
       "    </tr>\n",
       "    <tr>\n",
       "      <th>2.0</th>\n",
       "      <td>6.213454</td>\n",
       "      <td>10.832707</td>\n",
       "    </tr>\n",
       "    <tr>\n",
       "      <th>3.0</th>\n",
       "      <td>6.203268</td>\n",
       "      <td>10.676141</td>\n",
       "    </tr>\n",
       "    <tr>\n",
       "      <th rowspan=\"3\" valign=\"top\">5</th>\n",
       "      <th>1.0</th>\n",
       "      <td>6.257859</td>\n",
       "      <td>10.964222</td>\n",
       "    </tr>\n",
       "    <tr>\n",
       "      <th>2.0</th>\n",
       "      <td>6.135436</td>\n",
       "      <td>10.696157</td>\n",
       "    </tr>\n",
       "    <tr>\n",
       "      <th>3.0</th>\n",
       "      <td>5.765103</td>\n",
       "      <td>10.794154</td>\n",
       "    </tr>\n",
       "  </tbody>\n",
       "</table>\n",
       "</div>"
      ],
      "text/plain": [
       "                         TP53      FOXA1\n",
       "Cohort Tumour_stage                     \n",
       "1      0.0           6.188952  11.673359\n",
       "       1.0           6.220457  10.691623\n",
       "       2.0           6.228292  10.785180\n",
       "       3.0           6.186591  10.510511\n",
       "       4.0           6.157500  11.599434\n",
       "2      1.0           6.055063  10.877447\n",
       "       2.0           6.054182  10.256763\n",
       "       3.0           5.913632  10.212963\n",
       "3      1.0           6.217709  11.020944\n",
       "       2.0           6.213454  10.832707\n",
       "       3.0           6.203268  10.676141\n",
       "5      1.0           6.257859  10.964222\n",
       "       2.0           6.135436  10.696157\n",
       "       3.0           5.765103  10.794154"
      ]
     },
     "execution_count": 30,
     "metadata": {},
     "output_type": "execute_result"
    }
   ],
   "source": [
    "# Find the cohort of patients and tumour stage where the average expression of genes TP53 and FOXA1 is highest\n",
    "\n",
    "metabric.groupby(['Cohort', 'Tumour_stage']).mean()[['TP53', 'FOXA1']]"
   ]
  },
  {
   "cell_type": "markdown",
   "metadata": {},
   "source": [
    "To answer problems about survival times, let's restrict ourselves to those patients where we know the survival times."
   ]
  },
  {
   "cell_type": "code",
   "execution_count": 31,
   "metadata": {},
   "outputs": [],
   "source": [
    "metabric_deceased = metabric[metabric.Vital_status == 'Died of Disease']"
   ]
  },
  {
   "cell_type": "markdown",
   "metadata": {},
   "source": [
    "**Note**: This strategy of only looking at already deceased patients does introduce bias, as we are excluding those who survive long enough not to be deceased yet. The question of how best to incoporate survival data on still alive patients (where you only know their survival time is >= what is recorded) is essentially the whole reason *Survival Analysis* is it's own field of statistics."
   ]
  },
  {
   "cell_type": "markdown",
   "metadata": {},
   "source": [
    "Tumour Size is a continuous variable, so to answer the question of whether it has an effect on survival times, we are better off looking at correlation."
   ]
  },
  {
   "cell_type": "code",
   "execution_count": 33,
   "metadata": {},
   "outputs": [
    {
     "data": {
      "text/plain": [
       "-0.20938381529171657"
      ]
     },
     "execution_count": 33,
     "metadata": {},
     "output_type": "execute_result"
    }
   ],
   "source": [
    "metabric_deceased.Tumour_size.corr(metabric_deceased.Survival_time, method='spearman')"
   ]
  },
  {
   "cell_type": "markdown",
   "metadata": {},
   "source": [
    "For tumour stage, we can return to the group by function we know and love(?)."
   ]
  },
  {
   "cell_type": "code",
   "execution_count": 34,
   "metadata": {},
   "outputs": [
    {
     "data": {
      "text/plain": [
       "Tumour_stage\n",
       "1.0    104.349383\n",
       "2.0     76.688112\n",
       "3.0     48.878109\n",
       "4.0     51.179167\n",
       "Name: Survival_time, dtype: float64"
      ]
     },
     "execution_count": 34,
     "metadata": {},
     "output_type": "execute_result"
    }
   ],
   "source": [
    "metabric_deceased.groupby('Tumour_stage').mean()['Survival_time']"
   ]
  },
  {
   "cell_type": "markdown",
   "metadata": {},
   "source": [
    "When computing grouped averages, it is good practice to display the size of each group."
   ]
  },
  {
   "cell_type": "code",
   "execution_count": 35,
   "metadata": {},
   "outputs": [
    {
     "data": {
      "text/html": [
       "<div>\n",
       "<style scoped>\n",
       "    .dataframe tbody tr th:only-of-type {\n",
       "        vertical-align: middle;\n",
       "    }\n",
       "\n",
       "    .dataframe tbody tr th {\n",
       "        vertical-align: top;\n",
       "    }\n",
       "\n",
       "    .dataframe thead th {\n",
       "        text-align: right;\n",
       "    }\n",
       "</style>\n",
       "<table border=\"1\" class=\"dataframe\">\n",
       "  <thead>\n",
       "    <tr style=\"text-align: right;\">\n",
       "      <th></th>\n",
       "      <th>mean</th>\n",
       "      <th>size</th>\n",
       "    </tr>\n",
       "    <tr>\n",
       "      <th>Tumour_stage</th>\n",
       "      <th></th>\n",
       "      <th></th>\n",
       "    </tr>\n",
       "  </thead>\n",
       "  <tbody>\n",
       "    <tr>\n",
       "      <th>1.0</th>\n",
       "      <td>104.349383</td>\n",
       "      <td>108</td>\n",
       "    </tr>\n",
       "    <tr>\n",
       "      <th>2.0</th>\n",
       "      <td>76.688112</td>\n",
       "      <td>286</td>\n",
       "    </tr>\n",
       "    <tr>\n",
       "      <th>3.0</th>\n",
       "      <td>48.878109</td>\n",
       "      <td>67</td>\n",
       "    </tr>\n",
       "    <tr>\n",
       "      <th>4.0</th>\n",
       "      <td>51.179167</td>\n",
       "      <td>8</td>\n",
       "    </tr>\n",
       "  </tbody>\n",
       "</table>\n",
       "</div>"
      ],
      "text/plain": [
       "                    mean  size\n",
       "Tumour_stage                  \n",
       "1.0           104.349383   108\n",
       "2.0            76.688112   286\n",
       "3.0            48.878109    67\n",
       "4.0            51.179167     8"
      ]
     },
     "execution_count": 35,
     "metadata": {},
     "output_type": "execute_result"
    }
   ],
   "source": [
    "metabric_deceased.groupby('Tumour_stage').agg(['mean', 'size'])['Survival_time']"
   ]
  },
  {
   "cell_type": "markdown",
   "metadata": {},
   "source": [
    "Nottingham prognostic index is a continuous variable, so we are back to computing correlations."
   ]
  },
  {
   "cell_type": "code",
   "execution_count": 36,
   "metadata": {},
   "outputs": [
    {
     "data": {
      "text/plain": [
       "-0.26785785548328533"
      ]
     },
     "execution_count": 36,
     "metadata": {},
     "output_type": "execute_result"
    }
   ],
   "source": [
    "metabric_deceased['Nottingham_prognostic_index'].corr(metabric_deceased['Survival_time'])"
   ]
  },
  {
   "cell_type": "markdown",
   "metadata": {},
   "source": [
    "### Exercise 4\n",
    "\n",
    "Review the section on missing data presented in the lecture. Consulting the [user's guide section dedicated to missing data](https://pandas.pydata.org/pandas-docs/stable/user_guide/missing_data.html) if necessary use the functionality provided by pandas to answer the following questions:\n",
    "\n",
    "- Which variables (columns) of the metabric dataset have missing data?\n",
    "- Find the patients ids who have missing tumour size and/or missing mutation count data. Which cohorts do they belong to?\n",
    "- For the patients identified to have missing tumour size data for each cohort, calculate the average tumour size of the patients with tumour size data available within the same cohort to fill in the missing data"
   ]
  },
  {
   "cell_type": "code",
   "execution_count": 37,
   "metadata": {},
   "outputs": [
    {
     "name": "stdout",
     "output_type": "stream",
     "text": [
      "<class 'pandas.core.frame.DataFrame'>\n",
      "RangeIndex: 1904 entries, 0 to 1903\n",
      "Data columns (total 32 columns):\n",
      " #   Column                         Non-Null Count  Dtype  \n",
      "---  ------                         --------------  -----  \n",
      " 0   Patient_ID                     1904 non-null   object \n",
      " 1   Cohort                         1904 non-null   int64  \n",
      " 2   Age_at_diagnosis               1904 non-null   float64\n",
      " 3   Survival_time                  1904 non-null   float64\n",
      " 4   Survival_status                1904 non-null   object \n",
      " 5   Vital_status                   1903 non-null   object \n",
      " 6   Chemotherapy                   1904 non-null   object \n",
      " 7   Radiotherapy                   1904 non-null   object \n",
      " 8   Tumour_size                    1884 non-null   float64\n",
      " 9   Tumour_stage                   1403 non-null   float64\n",
      " 10  Neoplasm_histologic_grade      1832 non-null   float64\n",
      " 11  Lymph_nodes_examined_positive  1904 non-null   int64  \n",
      " 12  Lymph_node_status              1904 non-null   int64  \n",
      " 13  Cancer_type                    1889 non-null   object \n",
      " 14  ER_status                      1904 non-null   object \n",
      " 15  PR_status                      1904 non-null   object \n",
      " 16  HER2_status                    1904 non-null   object \n",
      " 17  HER2_status_measured_by_SNP6   1904 non-null   object \n",
      " 18  PAM50                          1904 non-null   object \n",
      " 19  3-gene_classifier              1700 non-null   object \n",
      " 20  Nottingham_prognostic_index    1904 non-null   float64\n",
      " 21  Cellularity                    1850 non-null   object \n",
      " 22  Integrative_cluster            1904 non-null   object \n",
      " 23  Mutation_count                 1859 non-null   float64\n",
      " 24  ESR1                           1904 non-null   float64\n",
      " 25  ERBB2                          1904 non-null   float64\n",
      " 26  PGR                            1904 non-null   float64\n",
      " 27  TP53                           1904 non-null   float64\n",
      " 28  PIK3CA                         1904 non-null   float64\n",
      " 29  GATA3                          1904 non-null   float64\n",
      " 30  FOXA1                          1904 non-null   float64\n",
      " 31  MLPH                           1904 non-null   float64\n",
      "dtypes: float64(15), int64(3), object(14)\n",
      "memory usage: 476.1+ KB\n"
     ]
    }
   ],
   "source": [
    "# Which variables (columns) of the metabric dataset have missing data?\n",
    "metabric.info()"
   ]
  },
  {
   "cell_type": "markdown",
   "metadata": {},
   "source": [
    "Find the IDs and cohorts for patients with missing data in either tumour size or mutation count:"
   ]
  },
  {
   "cell_type": "code",
   "execution_count": 44,
   "metadata": {},
   "outputs": [
    {
     "data": {
      "text/plain": [
       "0       1\n",
       "12      1\n",
       "14      1\n",
       "15      1\n",
       "16      1\n",
       "       ..\n",
       "1568    5\n",
       "1580    5\n",
       "1609    5\n",
       "1620    5\n",
       "1635    5\n",
       "Name: Cohort, Length: 65, dtype: int64"
      ]
     },
     "execution_count": 44,
     "metadata": {},
     "output_type": "execute_result"
    }
   ],
   "source": [
    "metabric.Cohort[(metabric.Tumour_size.isna()) | (metabric.Mutation_count.isna())]"
   ]
  },
  {
   "cell_type": "code",
   "execution_count": null,
   "metadata": {},
   "outputs": [],
   "source": [
    "metabric[['Patient_ID', 'Cohort']][(metabric.Tumour_size.isna()) | (metabric.Mutation_count.isna())]"
   ]
  },
  {
   "cell_type": "markdown",
   "metadata": {},
   "source": [
    "It's worth seeing the number of patients in each cohort with missing data, as well as the proportions:"
   ]
  },
  {
   "cell_type": "code",
   "execution_count": 45,
   "metadata": {},
   "outputs": [
    {
     "data": {
      "text/plain": [
       "1    46\n",
       "5    10\n",
       "3     8\n",
       "2     1\n",
       "Name: Cohort, dtype: int64"
      ]
     },
     "execution_count": 45,
     "metadata": {},
     "output_type": "execute_result"
    }
   ],
   "source": [
    "metabric.Cohort[(metabric.Tumour_size.isna()) | (metabric.Mutation_count.isna())].value_counts()"
   ]
  },
  {
   "cell_type": "code",
   "execution_count": 46,
   "metadata": {},
   "outputs": [
    {
     "data": {
      "text/plain": [
       "1    0.707692\n",
       "5    0.153846\n",
       "3    0.123077\n",
       "2    0.015385\n",
       "Name: Cohort, dtype: float64"
      ]
     },
     "execution_count": 46,
     "metadata": {},
     "output_type": "execute_result"
    }
   ],
   "source": [
    "# normalize=True enable us to compute the proportion of patients within each cohort that are missing data\n",
    "metabric.Cohort[(metabric.Tumour_size.isna()) | (metabric.Mutation_count.isna())].value_counts(normalize=True)"
   ]
  },
  {
   "cell_type": "code",
   "execution_count": 47,
   "metadata": {},
   "outputs": [
    {
     "data": {
      "text/plain": [
       "0       22.0\n",
       "1       10.0\n",
       "2       15.0\n",
       "3       25.0\n",
       "4       40.0\n",
       "        ... \n",
       "1899    25.0\n",
       "1900    20.0\n",
       "1901    25.0\n",
       "1902    25.0\n",
       "1903    20.0\n",
       "Name: Tumour_size, Length: 1904, dtype: float64"
      ]
     },
     "execution_count": 47,
     "metadata": {},
     "output_type": "execute_result"
    }
   ],
   "source": [
    "metabric.Tumour_size"
   ]
  },
  {
   "cell_type": "markdown",
   "metadata": {},
   "source": [
    "For the patients identified to have missing tumour size data for each cohort, \n",
    "calculate the average tumour size of the patients with tumour size data available within the same cohort to fill in the missing data"
   ]
  },
  {
   "cell_type": "code",
   "execution_count": 48,
   "metadata": {},
   "outputs": [],
   "source": [
    "# Compute average tumour sizes for each cohort\n",
    "avg_tsize_1 = round(metabric.Tumour_size[metabric.Cohort==1].mean(), 1)\n",
    "avg_tsize_2 = round(metabric.Tumour_size[metabric.Cohort==2].mean(), 1)\n",
    "avg_tsize_3 = round(metabric.Tumour_size[metabric.Cohort==3].mean(), 1)\n",
    "avg_tsize_5 = round(metabric.Tumour_size[metabric.Cohort==5].mean(), 1)\n",
    "\n",
    "# Fill in missing values\n",
    "metabric[metabric.Cohort==1] = metabric[metabric.Cohort==1].fillna(value={'Tumour_size':avg_tsize_1})\n",
    "metabric[metabric.Cohort==2] = metabric[metabric.Cohort==2].fillna(value={'Tumour_size':avg_tsize_2})\n",
    "metabric[metabric.Cohort==3] = metabric[metabric.Cohort==3].fillna(value={'Tumour_size':avg_tsize_3})\n",
    "metabric[metabric.Cohort==5] = metabric[metabric.Cohort==5].fillna(value={'Tumour_size':avg_tsize_5})"
   ]
  },
  {
   "cell_type": "markdown",
   "metadata": {},
   "source": [
    "**Bonus Exercise**:\n",
    "\n",
    "- The above bit of code is begging to be put into a `for` loop. Have a go at this.\n",
    "- See if you can write a function that takes in a data frame with columns \"Cohort\" and \"Tumour_size\", and returns a new data frame with the missing values of tumour size filled in as above."
   ]
  },
  {
   "cell_type": "code",
   "execution_count": null,
   "metadata": {},
   "outputs": [],
   "source": []
  }
 ],
 "metadata": {
  "kernelspec": {
   "display_name": "Python-3.9.5-foss-2021a",
   "language": "python",
   "name": "python-3.9.5-foss-2021a"
  },
  "language_info": {
   "codemirror_mode": {
    "name": "ipython",
    "version": 3
   },
   "file_extension": ".py",
   "mimetype": "text/x-python",
   "name": "python",
   "nbconvert_exporter": "python",
   "pygments_lexer": "ipython3",
   "version": "3.9.5"
  }
 },
 "nbformat": 4,
 "nbformat_minor": 4
}
