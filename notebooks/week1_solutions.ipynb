{
 "cells": [
  {
   "cell_type": "markdown",
   "metadata": {},
   "source": [
    "## Assignment\n",
    "\n",
    "1. Look at the METABRIC data file `metabric_clinical_and_expression_data.csv` on breast cancer referred above. Answer the following questions:\n",
    "\n",
    "    - For how many unique patients we have data available?\n",
    "    - How many patients were older than 75 when diagnosed with breast cancer? \n",
    "    - What were the earliest and oldest ages of diagnosis?\n",
    "    - How many patients were treated with Chemotherapy and Radiotherapy?\n",
    "    - How many patients had less than three mutations in the genes investigated?"
   ]
  },
  {
   "cell_type": "code",
   "execution_count": 11,
   "metadata": {},
   "outputs": [
    {
     "name": "stdout",
     "output_type": "stream",
     "text": [
      "The number of unique patients is 1903\n"
     ]
    }
   ],
   "source": [
    "# For how many unique patients we have data available?\n",
    "unique_patients = set()\n",
    "\n",
    "with open(\"../data/metabric_clinical_and_expression_data.csv\") as f:\n",
    "    next(f)\n",
    "    next(f)\n",
    "    for line in f:\n",
    "        fields = line.split(\",\")\n",
    "        patient_id = fields[0]\n",
    "        unique_patients.add(patient_id)\n",
    "            \n",
    "print(\"The number of unique patients is\", len(unique_patients))"
   ]
  },
  {
   "cell_type": "code",
   "execution_count": 13,
   "metadata": {},
   "outputs": [
    {
     "data": {
      "text/plain": [
       "'MB-0000,1,75.65,140.5,LIVING,Living,NO,YES,22,2,3,10,3,Breast Invasive Ductal Carcinoma,Positive,Negative,Negative,NEUTRAL,claudin-low,ER-/HER2-,6.044,NA,4ER+,NA,8.929816863,9.333972426,5.680500785,6.338738946,5.704156759,6.932145792,7.953793655,9.729728231\\n'"
      ]
     },
     "execution_count": 13,
     "metadata": {},
     "output_type": "execute_result"
    }
   ],
   "source": [
    "ifile = open(\"../data/metabric_clinical_and_expression_data.csv\")\n",
    "ilines = ifile.readlines()\n",
    "ifile.close()\n",
    "\n",
    "ilines[1]"
   ]
  },
  {
   "cell_type": "code",
   "execution_count": 14,
   "metadata": {},
   "outputs": [
    {
     "name": "stdout",
     "output_type": "stream",
     "text": [
      "The number of unique patients older than 75 diagnosed is 284\n"
     ]
    }
   ],
   "source": [
    "# How many patients were older than 75 when diagnosed with breast cancer?\n",
    "unique_patients_older75 = set()\n",
    "\n",
    "with open(\"../data/metabric_clinical_and_expression_data.csv\") as f:\n",
    "    next(f)\n",
    "    for line in f:\n",
    "        fields = line.split(\",\")\n",
    "        patient_id = fields[0]\n",
    "        age_diagnosis = float(fields[2])\n",
    "        if age_diagnosis > 75:\n",
    "            unique_patients_older75.add(patient_id)\n",
    "\n",
    "print(\"The number of unique patients older than 75 diagnosed is\", len(unique_patients_older75))"
   ]
  },
  {
   "cell_type": "code",
   "execution_count": 15,
   "metadata": {},
   "outputs": [
    {
     "name": "stdout",
     "output_type": "stream",
     "text": [
      "The earliest age of diagnosis is 21.93\n",
      "The latest age of diagnosis is 96.29\n"
     ]
    }
   ],
   "source": [
    "# What were the earliest and oldest ages of diagnosis?\n",
    "age_diagnosis_set = set()\n",
    "\n",
    "with open(\"../data/metabric_clinical_and_expression_data.csv\") as f:\n",
    "    next(f)\n",
    "    for line in f:\n",
    "        fields = line.split(\",\")\n",
    "        age_diagnosis = float(fields[2])\n",
    "        age_diagnosis_set.add(age_diagnosis)\n",
    "\n",
    "print(\"The earliest age of diagnosis is\", min(age_diagnosis_set))\n",
    "print(\"The latest age of diagnosis is\", max(age_diagnosis_set))"
   ]
  },
  {
   "cell_type": "code",
   "execution_count": 16,
   "metadata": {},
   "outputs": [
    {
     "name": "stdout",
     "output_type": "stream",
     "text": [
      "The number of unique patients treated with Chemotherapy and Radiotherapy is 323\n",
      "The number of unique patients with less than 3 mutations in the genes investigated is 300\n"
     ]
    }
   ],
   "source": [
    "# How many patients were treated with Chemotherapy and Radiotherapy\n",
    "# How many patients had less than three mutations in the genes investigated\n",
    "\n",
    "unique_patients_chem_radio = set()\n",
    "unique_patients_less3mut = set()\n",
    "\n",
    "with open(\"../data/metabric_clinical_and_expression_data.csv\") as f:\n",
    "    next(f)\n",
    "    for line in f:\n",
    "        fields = line.split(\",\")\n",
    "        patient_id = fields[0]\n",
    "        chem = fields[6]\n",
    "        radio = fields[7]\n",
    "        if chem == \"YES\" and radio == \"YES\":\n",
    "            unique_patients_chem_radio.add(patient_id)\n",
    "        mutation_count = fields[23]\n",
    "        if mutation_count != \"NA\":\n",
    "            if int(mutation_count) < 3:\n",
    "                unique_patients_less3mut.add(patient_id)\n",
    "            \n",
    "print(\"The number of unique patients treated with Chemotherapy and Radiotherapy is\", len(unique_patients_chem_radio))\n",
    "print(\"The number of unique patients with less than 3 mutations in the genes investigated is\", len(unique_patients_less3mut))"
   ]
  },
  {
   "cell_type": "code",
   "execution_count": 17,
   "metadata": {},
   "outputs": [
    {
     "name": "stdout",
     "output_type": "stream",
     "text": [
      "['Number of patients', 'Mutation count', 'Expresion of gene']\n"
     ]
    }
   ],
   "source": [
    "word=\"Number of patients,Mutation count,Expresion of gene\"\n",
    "fields=word.split(',')\n",
    "print(fields)"
   ]
  },
  {
   "cell_type": "markdown",
   "metadata": {},
   "source": [
    "2. Below there is a list of 5 protein sequences, specified in the single amino acid code where one letter corresponds to one amino acid. Write a function that finds the most abundant amino acid in a given protein sequence, but prints a warning message if the protein sequence is shorter than 10 amino acids. Run your function on each of the proteins in the list."
   ]
  },
  {
   "cell_type": "code",
   "execution_count": 25,
   "metadata": {},
   "outputs": [
    {
     "name": "stdout",
     "output_type": "stream",
     "text": [
      "Processing protein MEAGPSGAAAGAYLPPLQQ\n",
      "{'M': 1, 'E': 1, 'A': 5, 'G': 3, 'P': 3, 'S': 1, 'Y': 1, 'L': 2, 'Q': 2}\n",
      "The most abundant amino acid is A\n",
      "----------------------------------------------------\n",
      "Processing protein VFQAPRRPGIGTVGKPIKLLANYFEVDIPK\n",
      "{'V': 3, 'F': 2, 'Q': 1, 'A': 2, 'P': 4, 'R': 2, 'G': 3, 'I': 3, 'T': 1, 'K': 3, 'L': 2, 'N': 1, 'Y': 1, 'E': 1, 'D': 1}\n",
      "The most abundant amino acid is P\n",
      "----------------------------------------------------\n",
      "Processing protein IDVYHY\n",
      "WARNING: protein is <10 aa long\n",
      "{'I': 1, 'D': 1, 'V': 1, 'Y': 2, 'H': 1}\n",
      "The most abundant amino acid is Y\n",
      "----------------------------------------------------\n",
      "Processing protein EVDIKPDKCPRRVNREVV\n",
      "{'E': 2, 'V': 4, 'D': 2, 'I': 1, 'K': 2, 'P': 2, 'C': 1, 'R': 3, 'N': 1}\n",
      "The most abundant amino acid is V\n",
      "----------------------------------------------------\n",
      "Processing protein EYMVQHFKPQIFGDRKPVYDGKKNIYTVTALPIGNER\n",
      "{'E': 2, 'Y': 3, 'M': 1, 'V': 3, 'Q': 2, 'H': 1, 'F': 2, 'K': 4, 'P': 3, 'I': 3, 'G': 3, 'D': 2, 'R': 2, 'N': 2, 'T': 2, 'A': 1, 'L': 1}\n",
      "The most abundant amino acid is K\n",
      "----------------------------------------------------\n"
     ]
    }
   ],
   "source": [
    "proteins = [\n",
    "    \"MEAGPSGAAAGAYLPPLQQ\",\n",
    "    \"VFQAPRRPGIGTVGKPIKLLANYFEVDIPK\",\n",
    "    \"IDVYHY\",\n",
    "    \"EVDIKPDKCPRRVNREVV\",\n",
    "    \"EYMVQHFKPQIFGDRKPVYDGKKNIYTVTALPIGNER\"\n",
    "]\n",
    "\n",
    "def find_abundant_aa(protein):\n",
    "    # check the length of the protein and print a warning if <10 amino acids\n",
    "    if len(protein) < 10:\n",
    "        print(\"WARNING: protein is <10 aa long\")\n",
    "    # count the number of times each amino acid occurs\n",
    "    aa_abundances = {}\n",
    "    for i in protein:\n",
    "        if i in aa_abundances:\n",
    "            aa_abundances[i] += 1\n",
    "        else:\n",
    "            aa_abundances[i] = 1\n",
    "    # empty string for most abundant aa\n",
    "    abundant_aa = \"\"\n",
    "    # counter to keep track of abundance of the most-abundant aa\n",
    "    abundance = 0\n",
    "    for i in aa_abundances: \n",
    "        if aa_abundances[i] > abundance:\n",
    "            abundant_aa = i\n",
    "            abundance = aa_abundances[i]\n",
    "    # print out the abundances of all amino acids, to allow a manual check that our counts are correct\n",
    "    print(aa_abundances)\n",
    "    return(abundant_aa)\n",
    "\n",
    "# print out the most abundant amino acid in each protein\n",
    "for i in proteins:\n",
    "    print(\"Processing protein\", i)\n",
    "    print(\"The most abundant amino acid is\", find_abundant_aa(i))\n",
    "    print(\"----------------------------------------------------\")"
   ]
  },
  {
   "cell_type": "markdown",
   "metadata": {},
   "source": [
    "3. The code below is intended to specify a function which looks up the capital city of a given country, and calls this function on a list of two countries. However, it currently has a bug which stops it from running. There are three possibilities for the nature of this bug:\n",
    "\n",
    "    - Its arguments are in the wrong order\n",
    "    - It uses a variable that is out of scope\n",
    "    - It is missing the return statement\n",
    "\n",
    "What is the bug?"
   ]
  },
  {
   "cell_type": "code",
   "execution_count": 24,
   "metadata": {},
   "outputs": [
    {
     "name": "stdout",
     "output_type": "stream",
     "text": [
      "Capital city located\n",
      "Washington DC\n",
      "Capital city located\n",
      "London\n",
      "Capital city located\n",
      "Stockholm\n",
      "CAPITAL CITY NOT FOUND\n"
     ]
    }
   ],
   "source": [
    "# this version of the function doesn't work because of the argument order\n",
    "\n",
    "capital_cities = {\n",
    "    \"Sweden\": \"Stockholm\",\n",
    "    \"UK\": \"London\",\n",
    "    \"USA\": \"Washington DC\"\n",
    "}\n",
    "\n",
    "def find_capital_city(country, verbose=True):\n",
    "    if country in capital_cities:\n",
    "        capital_city = capital_cities[country]\n",
    "        if verbose:\n",
    "            print(\"Capital city located\")\n",
    "    else:\n",
    "        capital_city = \"CAPITAL CITY NOT FOUND\"\n",
    "    return(capital_city)\n",
    "\n",
    "countries = [\"USA\", \"UK\", \"Sweden\", \"Belgium\"]\n",
    "for i in countries:\n",
    "     print(find_capital_city(i))\n"
   ]
  },
  {
   "cell_type": "code",
   "execution_count": null,
   "metadata": {},
   "outputs": [],
   "source": [
    "# this version of the function does work, as the argument with a default value is at the end\n",
    "def find_capital_city(country, verbose = True):\n",
    "    if country in capital_cities:\n",
    "        capital_city = capital_cities[country]\n",
    "        if verbose:\n",
    "            print(\"Capital city located\")\n",
    "    else:\n",
    "        capital_city = \"CAPITAL CITY NOT FOUND\"\n",
    "    return(capital_city)\n",
    "\n",
    "countries = [\"USA\", \"UK\", \"Sweden\", \"Belgium\"]\n",
    "for i in countries:\n",
    "     print(find_capital_city(i))"
   ]
  },
  {
   "cell_type": "markdown",
   "metadata": {},
   "source": [
    "4. (Bonus) In the data folder, you will find a file \"imagine_lyrics.txt\", which contains the lyrics to the song Imagine by John Lennon. Your task is to find out which word is used most frequently in the lyrics. There are many ways to approach this, but however you solve it, remember to break up your code into functions! Some words aren't very interesting e.g. \"the\", \"a\", \"and\" so we might want to exclude these from consideration when finding the most frequent word in a set of lyrics. Include an option to exclude a custom list of words, and test how the results change when excluding \"the\", \"a\" & \"and\"."
   ]
  },
  {
   "cell_type": "code",
   "execution_count": null,
   "metadata": {},
   "outputs": [],
   "source": [
    "# a function to take a text file of lyrics, and return a list of all words in the lyrics\n",
    "def get_words(lyric_file):\n",
    "    words = []\n",
    "    with open(lyric_file) as lyrics:\n",
    "        for i in lyrics:\n",
    "            # remove the new line and split the line into words\n",
    "            for j in i.strip(\"\\n\").split(\" \"):\n",
    "                # remove commas from any words and convert to lowercase\n",
    "                words.append(j.strip(\",\").lower())\n",
    "    return(words)\n",
    "\n",
    "# a function to take a list of words, and return a dictionary of counts per word\n",
    "def count_words(word_list):\n",
    "    word_counts = {}\n",
    "    for i in word_list:\n",
    "        if i in word_counts:\n",
    "            word_counts[i] += 1\n",
    "        else:\n",
    "            word_counts[i] = 1\n",
    "    return(word_counts)\n",
    "\n",
    "# a function to remove words from a list of words\n",
    "def remove_words(word_list, words_to_remove):\n",
    "    cleaned_words = []\n",
    "    for i in word_list:\n",
    "        if i not in words_to_remove:\n",
    "            cleaned_words.append(i)\n",
    "    return(cleaned_words)\n",
    "\n",
    "# a function to take a text file of lyrics, and return the most frequent word\n",
    "def find_most_frequent_word(lyric_file, words_to_remove = []):\n",
    "    # read the words\n",
    "    words = get_words(lyric_file)\n",
    "    # exclude words if specified\n",
    "    if len(words_to_remove)>0:\n",
    "        words = remove_words(words, words_to_remove)\n",
    "    # count the words\n",
    "    counts = count_words(words)\n",
    "    # find most frequent word\n",
    "    most_frequent_word = \"\"\n",
    "    highest_count = 0\n",
    "    for i in counts:\n",
    "        if counts[i] > highest_count:\n",
    "            most_frequent_word = i\n",
    "            highest_count = counts[i]\n",
    "    return(most_frequent_word)\n",
    "\n",
    "print(\"Without word filtering, the most frequent word is '{}'\".format(find_most_frequent_word(\"../data/imagine_lyrics.txt\")))\n",
    "print(\"After filtering out 'the', 'a' & 'and', the most frequent word is '{}'\".format(find_most_frequent_word(\"../data/imagine_lyrics.txt\", [\"the\", \"a\", \"and\"])))"
   ]
  },
  {
   "cell_type": "code",
   "execution_count": null,
   "metadata": {},
   "outputs": [],
   "source": []
  }
 ],
 "metadata": {
  "kernelspec": {
   "display_name": "Python 3",
   "language": "python",
   "name": "python3"
  },
  "language_info": {
   "codemirror_mode": {
    "name": "ipython",
    "version": 3
   },
   "file_extension": ".py",
   "mimetype": "text/x-python",
   "name": "python",
   "nbconvert_exporter": "python",
   "pygments_lexer": "ipython3",
   "version": "3.8.2"
  }
 },
 "nbformat": 4,
 "nbformat_minor": 4
}
